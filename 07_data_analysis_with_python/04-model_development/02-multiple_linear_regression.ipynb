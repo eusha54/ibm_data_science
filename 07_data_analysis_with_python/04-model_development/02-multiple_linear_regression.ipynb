{
 "cells": [
  {
   "cell_type": "markdown",
   "id": "39189a88",
   "metadata": {},
   "source": [
    "# Linear Regression (Single and Multiple)"
   ]
  },
  {
   "cell_type": "markdown",
   "id": "f75fe5d7",
   "metadata": {},
   "source": [
    "## Formula"
   ]
  },
  {
   "cell_type": "markdown",
   "id": "56e73572",
   "metadata": {},
   "source": [
    "$$\n",
    "\\theta = (X^T \\times X)^{-1} \\times X^T \\times y \n",
    "$$\n",
    "\n",
    "Here  \n",
    "X is the feature matrix, where each column is a feature, starting from $X_1, X_2, ... , X_n$  \n",
    "y is the variable to be predicted  \n",
    "$\\theta$ is the coefficients of each feature starting from $b_0, b_1, b_2,..., b_n$"
   ]
  },
  {
   "cell_type": "markdown",
   "id": "5971cfe1",
   "metadata": {},
   "source": [
    "And the regression model is  \n",
    "$$\n",
    "\\hat{y} = b_0 + b_1X_1 + b_2X_2 + ... + b_nX_n \n",
    "$$"
   ]
  },
  {
   "cell_type": "code",
   "execution_count": 23,
   "id": "9191d57b",
   "metadata": {},
   "outputs": [],
   "source": [
    "import numpy as np"
   ]
  },
  {
   "cell_type": "code",
   "execution_count": 35,
   "id": "afe5801d",
   "metadata": {},
   "outputs": [],
   "source": [
    "X = np.matrix([[1,1],\n",
    "               [1,2],\n",
    "               [1,3]])\n",
    "        # each child array is matrix row\n",
    "\n",
    "y = [1,2,3]"
   ]
  },
  {
   "cell_type": "code",
   "execution_count": 25,
   "id": "9e8a2708",
   "metadata": {},
   "outputs": [
    {
     "data": {
      "text/plain": [
       "(3, 2)"
      ]
     },
     "execution_count": 25,
     "metadata": {},
     "output_type": "execute_result"
    }
   ],
   "source": [
    "X.shape"
   ]
  },
  {
   "cell_type": "code",
   "execution_count": 26,
   "id": "d72fe363",
   "metadata": {},
   "outputs": [
    {
     "data": {
      "text/plain": [
       "matrix([[0, 1, 2],\n",
       "        [1, 2, 3]])"
      ]
     },
     "execution_count": 26,
     "metadata": {},
     "output_type": "execute_result"
    }
   ],
   "source": [
    "X.T"
   ]
  },
  {
   "cell_type": "code",
   "execution_count": 27,
   "id": "e646c2d7",
   "metadata": {},
   "outputs": [
    {
     "data": {
      "text/plain": [
       "matrix([[ 5,  8],\n",
       "        [ 8, 14]])"
      ]
     },
     "execution_count": 27,
     "metadata": {},
     "output_type": "execute_result"
    }
   ],
   "source": [
    "xt_x_mul = np.matmul(X.T,X)\n",
    "xt_x_mul"
   ]
  },
  {
   "cell_type": "code",
   "execution_count": 28,
   "id": "0a218816",
   "metadata": {},
   "outputs": [
    {
     "data": {
      "text/plain": [
       "matrix([[ 2.33333333, -1.33333333],\n",
       "        [-1.33333333,  0.83333333]])"
      ]
     },
     "execution_count": 28,
     "metadata": {},
     "output_type": "execute_result"
    }
   ],
   "source": [
    "xt_x_inv = np.linalg.inv(xt_x_mul)\n",
    "xt_x_inv"
   ]
  },
  {
   "cell_type": "code",
   "execution_count": 29,
   "id": "834e1b34",
   "metadata": {},
   "outputs": [
    {
     "data": {
      "text/plain": [
       "matrix([[-1.33333333, -0.33333333,  0.66666667],\n",
       "        [ 0.83333333,  0.33333333, -0.16666667]])"
      ]
     },
     "execution_count": 29,
     "metadata": {},
     "output_type": "execute_result"
    }
   ],
   "source": [
    "inv_xt_mul = np.matmul(xt_x_inv, X.T)\n",
    "inv_xt_mul"
   ]
  },
  {
   "cell_type": "code",
   "execution_count": 30,
   "id": "a67b40e2",
   "metadata": {},
   "outputs": [
    {
     "data": {
      "text/plain": [
       "matrix([[-0.,  1.]])"
      ]
     },
     "execution_count": 30,
     "metadata": {},
     "output_type": "execute_result"
    }
   ],
   "source": [
    "theta = np.matmul(inv_xt_mul, y)\n",
    "np.round(theta, 0)"
   ]
  },
  {
   "cell_type": "markdown",
   "id": "5cff1a2e",
   "metadata": {},
   "source": [
    "## Final Code"
   ]
  },
  {
   "cell_type": "code",
   "execution_count": 31,
   "id": "ecc4948a",
   "metadata": {},
   "outputs": [],
   "source": [
    "def linear_regression_normal_equation(X: list[list[float]], y: list[float]) -> list[float]:\n",
    "    # Your code here, make sure to round\n",
    "    X = np.array(X)\n",
    "    y = np.array(y)\n",
    "\n",
    "    # Process\n",
    "    xt_x_mul = np.matmul(X.T,X)\n",
    "    xt_x_inv = np.linalg.inv(xt_x_mul)\n",
    "    inv_xt_mul = np.matmul(xt_x_inv, X.T)\n",
    "    theta = np.matmul(inv_xt_mul, y)\n",
    "    \n",
    "    return np.round(theta, 2)"
   ]
  },
  {
   "cell_type": "code",
   "execution_count": 37,
   "id": "5f83ae63",
   "metadata": {},
   "outputs": [
    {
     "name": "stdout",
     "output_type": "stream",
     "text": [
      "[-0.  1.]\n"
     ]
    }
   ],
   "source": [
    "print(linear_regression_normal_equation(X,y))"
   ]
  },
  {
   "cell_type": "code",
   "execution_count": 38,
   "id": "6eb3de8c",
   "metadata": {},
   "outputs": [
    {
     "name": "stdout",
     "output_type": "stream",
     "text": [
      "[ 4. -1. -0.]\n"
     ]
    }
   ],
   "source": [
    "print(linear_regression_normal_equation([[1, 3, 4], [1, 2, 5], [1, 3, 2]], [1, 2, 1]))"
   ]
  }
 ],
 "metadata": {
  "kernelspec": {
   "display_name": "Python 3",
   "language": "python",
   "name": "python3"
  },
  "language_info": {
   "codemirror_mode": {
    "name": "ipython",
    "version": 3
   },
   "file_extension": ".py",
   "mimetype": "text/x-python",
   "name": "python",
   "nbconvert_exporter": "python",
   "pygments_lexer": "ipython3",
   "version": "3.10.11"
  }
 },
 "nbformat": 4,
 "nbformat_minor": 5
}
