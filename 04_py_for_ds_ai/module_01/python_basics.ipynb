{
 "cells": [
  {
   "cell_type": "markdown",
   "metadata": {},
   "source": [
    "# Getting Started with Python"
   ]
  },
  {
   "cell_type": "markdown",
   "metadata": {
    "vscode": {
     "languageId": "plaintext"
    }
   },
   "source": [
    "## 01. Introduction to Python"
   ]
  },
  {
   "cell_type": "markdown",
   "metadata": {},
   "source": [
    "Python is a powerful and widely used programming language, especially in data science. It is known for its clear and readable syntax, making it useful for both beginners and experienced programmers.\n",
    "<br><br>\n",
    "\n",
    "**Who Uses Python?**  \n",
    "- **Beginners**\\\n",
    "Easy to learn due to its simple syntax and large global community with extensive documentation.\n",
    "\n",
    "- **Experienced Programmers**\\\n",
    "Can develop applications with less code compared to other languages.  \n",
    "\n",
    "- **Industries & Organizations**\\\n",
    "Used in data science, AI, web development, and IoT by companies like IBM, Google, NASA, Facebook, and Amazon.  \n",
    "<br>\n",
    "\n",
    "**Why Use Python?**  \n",
    "- **Versatility**: Can be used for\n",
    "\t- automation\n",
    "\t- web scraping\n",
    "\t- text/image processing\n",
    "\t- databases, machine learning\n",
    "\t- and data analytics.  \n",
    "\n",
    "- **Strong Library Support**:  \n",
    "  - Data Science: Pandas, NumPy, SciPy, Matplotlib  \n",
    "  - AI & Machine Learning: TensorFlow, PyTorch, Keras, Scikit-learn  \n",
    "  - Natural Language Processing: NLTK  \n",
    "<br>\n",
    "\n",
    "Python’s combination of readability, versatility, and strong community support makes it an excellent choice for programmers across various domains."
   ]
  },
  {
   "cell_type": "code",
   "execution_count": 2,
   "metadata": {},
   "outputs": [
    {
     "name": "stdout",
     "output_type": "stream",
     "text": [
      "Hello World\n"
     ]
    }
   ],
   "source": [
    "print(\"Hello World\")"
   ]
  },
  {
   "cell_type": "markdown",
   "metadata": {},
   "source": [
    "## 02. Introduction to Jupyter"
   ]
  },
  {
   "cell_type": "markdown",
   "metadata": {},
   "source": [
    "**Introduction to Jupyter**  \n",
    "\n",
    "Jupyter is a free web application that allows users to create and share documents containing code, equations, visualizations, and text. It provides an **interactive computing environment** that supports multiple languages, with Python being its most popular choice.  \n",
    "<br>\n",
    "\n",
    "**Why Use Jupyter?**  \n",
    "\n",
    "- **User-Friendly**: Suitable for both beginners and experienced programmers.  \n",
    "- **Interactive Interface**: Enables real-time coding, data exploration, and result visualization.  \n",
    "- **Seamless Collaboration**: Supports sharing via email, GitHub, and Jupyter Notebook Viewer.  \n",
    "<br>\n",
    "\n",
    "**Key Features**  \n",
    "\n",
    "- **Interactive Computing**: Run code cells individually and see immediate results.  \n",
    "- **Multi-Language Support**: Works with Python, R, Julia, and more.  \n",
    "- **Rich Output**: Integrates plots, charts, images, and videos directly within the notebook.  \n",
    "- **Data Science Integration**: Compatible with NumPy, Pandas, Matplotlib, sci-kit-learn, TensorFlow, and PyTorch.  \n",
    "<br>\n",
    "\n",
    "**Jupyter in Data Science**  \n",
    "Jupyter is widely used in data science, research, and education. It provides a powerful environment for **data manipulation, analysis, machine learning, and deep learning**. Its ease of use and strong visualization capabilities make it an essential tool for data-driven projects.  \n",
    "<br>\n",
    "\n",
    "**Getting Started**  \n",
    "To experience Jupyter's capabilities firsthand, follow the **Getting Started with Jupyter** guide to set up and explore its features. Whether you're analyzing data, building models, or teaching, Jupyter unlocks a world of possibilities in Python and data science."
   ]
  },
  {
   "cell_type": "markdown",
   "metadata": {},
   "source": [
    "## 03. Getting Started with Jupyter"
   ]
  },
  {
   "cell_type": "markdown",
   "metadata": {},
   "source": [
    "Here you will learn how to perform basic operations in Jupyter, including working with cells, managing multiple notebooks, presenting your work, and shutting down sessions. Here's a detailed breakdown:\n",
    "\n",
    "**Running and Inserting Cells**  \n",
    "- **Run Code**:  \n",
    "You can run a specific cell by selecting it and clicking the **Run** button, or use the shortcut **Shift + Enter**. If you want to run all the cells, click **Run All Cells**.  \n",
    "- **Insert a Cell**:  \n",
    "To add a new cell, click the **plus symbol** in the toolbar.  \n",
    "- **Delete a Cell**:  \n",
    "To remove a cell, highlight it and click **Edit** > **Delete Cells**, or use the shortcut **D twice**.  \n",
    "- **Move Cells**:  \n",
    "You can move cells up or down by selecting them and using the toolbar options.  \n",
    "\n",
    "**Working with Multiple Notebooks**  \n",
    "- To open multiple notebooks, click the **plus symbol** or go to **File** > **Open a new notebook**.  \n",
    "- You can arrange the notebooks side by side for easy comparison or work across them. For example, you can assign variables in one notebook (e.g., `variable_one = 1`, `variable_two = 2`) and perform operations such as printing the sum of these variables in another notebook.  \n",
    "\n",
    "**Presenting Notebooks**  \n",
    "- Jupyter allows you to present your work directly from the notebook.  \n",
    "- Use **Markdown cells** to add titles and descriptions for context in your presentation. To switch a cell to Markdown, click **Code** and select **Markdown**.  \n",
    "- You can create visualizations, slides, and sub-slides to present your code, results, and descriptions as part of a project.  \n",
    "\n",
    "**Shutting Down Notebooks**  \n",
    "- After you finish working, it’s important to shut down the notebook to release memory.  \n",
    "- Click the **stop icon** on the sidebar (second icon from the top) to shut down the notebook. You can shut down individual notebooks or all of them at once.  \n",
    "- Once the notebook is shut down, you will see **“no kernel”** in the top right, confirming the session is inactive. Afterward, you can safely close the tabs.  \n",
    "\n",
    "**Summary**  \n",
    "You now know how to:\n",
    "- Run, insert, and delete cells.  \n",
    "- Work with multiple notebooks simultaneously.  \n",
    "- Present results using Markdown and code cells.  \n",
    "- Properly shut down notebooks to save memory.  \n",
    "\n",
    "This process ensures a smooth and efficient workflow when using Jupyter for data science and analysis tasks."
   ]
  },
  {
   "cell_type": "markdown",
   "metadata": {},
   "source": []
  }
 ],
 "metadata": {
  "kernelspec": {
   "display_name": "Python 3 (ipykernel)",
   "language": "python",
   "name": "python3"
  },
  "language_info": {
   "codemirror_mode": {
    "name": "ipython",
    "version": 3
   },
   "file_extension": ".py",
   "mimetype": "text/x-python",
   "name": "python",
   "nbconvert_exporter": "python",
   "pygments_lexer": "ipython3",
   "version": "3.10.11"
  }
 },
 "nbformat": 4,
 "nbformat_minor": 4
}
