{
 "cells": [
  {
   "cell_type": "code",
   "execution_count": 2,
   "metadata": {},
   "outputs": [],
   "source": [
    "import sqlite3\n",
    "\n",
    "# Create or connect to a database\n",
    "conn = sqlite3.connect('example.db')\n",
    "\n",
    "# Create a cursor object\n",
    "cursor_obj = conn.cursor()\n"
   ]
  },
  {
   "cell_type": "code",
   "execution_count": 15,
   "metadata": {},
   "outputs": [
    {
     "data": {
      "text/plain": [
       "<sqlite3.Cursor at 0x2830ac992c0>"
      ]
     },
     "execution_count": 15,
     "metadata": {},
     "output_type": "execute_result"
    }
   ],
   "source": [
    "# Drop table if exists\n",
    "drop_table = '''\n",
    "\t\tDROP TABLE IF EXISTS users;\n",
    "'''\n",
    "\n",
    "cursor_obj.execute(drop_table)\n",
    "\n",
    "\n",
    "# Create a users table\n",
    "table_statement = '''\n",
    "    CREATE TABLE users (\n",
    "        id INTEGER PRIMARY KEY,\n",
    "        name TEXT,\n",
    "        age INTEGER,\n",
    "        email TEXT\n",
    "    );\n",
    "'''\n",
    "\n",
    "cursor_obj.execute(table_statement)\n",
    "\t\t# creates a table named users"
   ]
  },
  {
   "cell_type": "code",
   "execution_count": 16,
   "metadata": {},
   "outputs": [],
   "source": [
    "# Single record insertion\n",
    "cursor_obj.execute(\n",
    "  '''\n",
    "        INSERT INTO users (name, age, email) \n",
    "        VALUES \n",
    "            (\"John Doe\", 30, \"john@example.com\");\n",
    "  '''\n",
    ")\n",
    "\n",
    "\n",
    "# Multiple record insertion\n",
    "cursor_obj.execute(\n",
    "    '''\n",
    "        INSERT INTO users (name, age, email) \n",
    "        VALUES \n",
    "                (\"Alice\", 25, \"alice@example.com\"),\n",
    "                (\"Bob\", 35, \"bob@example.com\");\n",
    "\t'''\n",
    ")\n",
    "\n",
    "# Commit changes to save to database\n",
    "conn.commit()\n"
   ]
  },
  {
   "cell_type": "code",
   "execution_count": 19,
   "metadata": {},
   "outputs": [
    {
     "name": "stdout",
     "output_type": "stream",
     "text": [
      "(1, 'John Doe', 31, 'john@example.com')\n",
      "<class 'tuple'>\n",
      "(2, 'Alice', 25, 'alice@example.com')\n",
      "<class 'tuple'>\n",
      "(3, 'Bob', 35, 'bob@example.com')\n",
      "<class 'tuple'>\n"
     ]
    }
   ],
   "source": [
    "# Fetch all records\n",
    "cursor_obj.execute(\"SELECT * FROM users\")\n",
    "all_users = cursor_obj.fetchall()\n",
    "        # list of tuples\n",
    "        # tuples containing row data\n",
    "\n",
    "for user in all_users:\n",
    "    print(user)\n",
    "    print(type(user))\n"
   ]
  },
  {
   "cell_type": "code",
   "execution_count": 18,
   "metadata": {},
   "outputs": [],
   "source": [
    "# Update record\n",
    "cursor_obj.execute(\n",
    "    '''\n",
    "\t\t    UPDATE users \n",
    "\t\t\t\t    SET age = 31 \n",
    "\t\t\t\t\t\tWHERE name = \"John Doe\";\n",
    "\t\t'''\n",
    ")\n",
    "\n",
    "conn.commit()"
   ]
  },
  {
   "cell_type": "code",
   "execution_count": null,
   "metadata": {},
   "outputs": [
    {
     "name": "stdout",
     "output_type": "stream",
     "text": [
      "   id      name  age              email\n",
      "0   1  John Doe   31   john@example.com\n",
      "1   2     Alice   25  alice@example.com\n",
      "2   3       Bob   35    bob@example.com\n"
     ]
    }
   ],
   "source": [
    "import pandas as pd\n",
    "\n",
    "# Execute query and convert to DataFrame\n",
    "cursor_obj.execute(\"SELECT * FROM users\")\n",
    "\n",
    "df = pd.DataFrame(cursor_obj.fetchall(), columns=['id', 'name', 'age', 'email'])\n",
    "            # fetchall returns list of tuples(each tuple is row data)\n",
    "\n",
    "print(df)"
   ]
  },
  {
   "cell_type": "code",
   "execution_count": null,
   "metadata": {},
   "outputs": [
    {
     "name": "stdout",
     "output_type": "stream",
     "text": [
      "   id      name  age              email\n",
      "0   1  John Doe   31   john@example.com\n",
      "1   2     Alice   25  alice@example.com\n",
      "2   3       Bob   35    bob@example.com\n"
     ]
    }
   ],
   "source": [
    "# alternative\n",
    "\n",
    "df2 = pd.read_sql_query(\"SELECT * FROM users\", conn)\n",
    "\n",
    "print(df2)\n"
   ]
  },
  {
   "cell_type": "markdown",
   "metadata": {},
   "source": [
    "# Cell Magic and Inline Magic"
   ]
  },
  {
   "cell_type": "code",
   "execution_count": 29,
   "metadata": {},
   "outputs": [
    {
     "data": {
      "application/javascript": "alert(\"Hello\")\n",
      "text/plain": [
       "<IPython.core.display.Javascript object>"
      ]
     },
     "metadata": {},
     "output_type": "display_data"
    }
   ],
   "source": [
    "%%js\n",
    "alert(\"Hello\")"
   ]
  },
  {
   "cell_type": "code",
   "execution_count": 30,
   "metadata": {},
   "outputs": [
    {
     "data": {
      "text/html": [
       "<h1>Hello</h1>\n"
      ],
      "text/plain": [
       "<IPython.core.display.HTML object>"
      ]
     },
     "metadata": {},
     "output_type": "display_data"
    }
   ],
   "source": [
    "%%html\n",
    "<h1>Hello</h1>"
   ]
  },
  {
   "cell_type": "code",
   "execution_count": 33,
   "metadata": {},
   "outputs": [
    {
     "name": "stdout",
     "output_type": "stream",
     "text": [
      "Couldn't find program: 'bash'\n"
     ]
    }
   ],
   "source": [
    "%%bash\n",
    "echo \"Hello world\""
   ]
  }
 ],
 "metadata": {
  "kernelspec": {
   "display_name": "Python 3",
   "language": "python",
   "name": "python3"
  },
  "language_info": {
   "codemirror_mode": {
    "name": "ipython",
    "version": 3
   },
   "file_extension": ".py",
   "mimetype": "text/x-python",
   "name": "python",
   "nbconvert_exporter": "python",
   "pygments_lexer": "ipython3",
   "version": "3.12.7"
  }
 },
 "nbformat": 4,
 "nbformat_minor": 2
}
