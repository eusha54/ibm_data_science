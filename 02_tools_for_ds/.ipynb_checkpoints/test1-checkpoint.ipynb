{
 "cells": [
  {
   "cell_type": "markdown",
   "id": "64d10734-a759-4006-9e47-75c0ca4bdcbc",
   "metadata": {},
   "source": [
    "Display Math : \n",
    "$$\n",
    "E = mc^2\n",
    "$$\n",
    "\n",
    "\n"
   ]
  },
  {
   "cell_type": "markdown",
   "id": "98b61235-a71b-41af-8fc5-7d65264c83a1",
   "metadata": {},
   "source": [
    "$$\n",
    "a + b \\\\\n",
    "a - b \\\\\n",
    "a \\cdot b\\\\\n",
    "a \\times b\\\\\n",
    "a \\div b\n",
    "$$\n"
   ]
  }
 ],
 "metadata": {
  "kernelspec": {
   "display_name": "Python 3 (ipykernel)",
   "language": "python",
   "name": "python3"
  },
  "language_info": {
   "codemirror_mode": {
    "name": "ipython",
    "version": 3
   },
   "file_extension": ".py",
   "mimetype": "text/x-python",
   "name": "python",
   "nbconvert_exporter": "python",
   "pygments_lexer": "ipython3",
   "version": "3.10.11"
  }
 },
 "nbformat": 4,
 "nbformat_minor": 5
}
