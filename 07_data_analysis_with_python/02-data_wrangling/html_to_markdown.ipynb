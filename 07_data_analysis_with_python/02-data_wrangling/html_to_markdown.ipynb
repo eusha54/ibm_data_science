{
 "cells": [
  {
   "cell_type": "code",
   "execution_count": 1,
   "id": "fec1f397",
   "metadata": {},
   "outputs": [],
   "source": [
    "from bs4 import BeautifulSoup\n",
    "\n",
    "def clean_markdown_for_notion(markdown_input):\n",
    "    soup = BeautifulSoup(markdown_input, 'html.parser')\n",
    "    output_lines = []\n",
    "\n",
    "    def convert_list(tag, indent=''):\n",
    "        lines = []\n",
    "        if tag.name == 'ol':\n",
    "            for i, li in enumerate(tag.find_all('li', recursive=False), start=1):\n",
    "                subtext = convert_list(li, indent + '   ')\n",
    "                lines.append(f\"{indent}{i}. {subtext[0].strip()}\")\n",
    "                lines.extend(subtext[1:])\n",
    "        elif tag.name == 'li':\n",
    "            parts = []\n",
    "            for child in tag.children:\n",
    "                if isinstance(child, str):\n",
    "                    parts.append(child.strip())\n",
    "                elif child.name == 'br':\n",
    "                    parts.append('\\n' + indent + '   ')\n",
    "                elif child.name in ['ol', 'ul']:\n",
    "                    sublist = convert_list(child, indent + '   ')\n",
    "                    parts.append('\\n' + '\\n'.join(sublist))\n",
    "            return [''.join(parts)]\n",
    "        return lines\n",
    "\n",
    "    for element in soup:\n",
    "        if element.name is None:\n",
    "            output_lines.append(element.strip())\n",
    "        elif element.name == 'b':\n",
    "            output_lines.append(f\"**{element.text.strip()}**\")\n",
    "        elif element.name == 'ol':\n",
    "            output_lines.extend(convert_list(element))\n",
    "        else:\n",
    "            output_lines.append(element.get_text().strip())\n",
    "\n",
    "    return '\\n'.join(output_lines)\n"
   ]
  },
  {
   "cell_type": "code",
   "execution_count": 7,
   "id": "7f2aabf0",
   "metadata": {},
   "outputs": [],
   "source": [
    "html_md = \"\"\"\n",
    "You should only drop whole columns if most entries in the column are empty. In the data set, none of the columns are empty enough to drop entirely.\n",
    "You have some freedom in choosing which method to replace data; however, some methods may seem more reasonable than others. Apply each method to different columns:\n",
    "\n",
    "<b>Replace by mean:</b>\n",
    "<ul>\n",
    "    <li>\"normalized-losses\": 41 missing data, replace them with mean</li>\n",
    "    <li>\"stroke\": 4 missing data, replace them with mean</li>\n",
    "    <li>\"bore\": 4 missing data, replace them with mean</li>\n",
    "    <li>\"horsepower\": 2 missing data, replace them with mean</li>\n",
    "    <li>\"peak-rpm\": 2 missing data, replace them with mean</li>\n",
    "</ul>\n",
    "\n",
    "<b>Replace by frequency:</b>\n",
    "<ul>\n",
    "    <li>\"num-of-doors\": 2 missing data, replace them with \"four\". \n",
    "        <ul>\n",
    "            <li>Reason: 84% sedans are four doors. Since four doors is most frequent, it is most likely to occur</li>\n",
    "        </ul>\n",
    "    </li>\n",
    "</ul>\n",
    "\n",
    "<b>Drop the whole row:</b>\n",
    "<ul>\n",
    "    <li>\"price\": 4 missing data, simply delete the whole row\n",
    "        <ul>\n",
    "            <li>Reason: You want to predict price. You cannot use any data entry without price data for prediction; therefore any row now without price data is not useful to you.</li>\n",
    "        </ul>\n",
    "    </li>\n",
    "</ul>\n",
    "\n",
    "\n",
    "\"\"\""
   ]
  },
  {
   "cell_type": "code",
   "execution_count": 8,
   "id": "b51c49ec",
   "metadata": {},
   "outputs": [
    {
     "name": "stdout",
     "output_type": "stream",
     "text": [
      "You should only drop whole columns if most entries in the column are empty. In the data set, none of the columns are empty enough to drop entirely.\n",
      "You have some freedom in choosing which method to replace data; however, some methods may seem more reasonable than others. Apply each method to different columns:\n",
      "**Replace by mean:**\n",
      "\n",
      "\"normalized-losses\": 41 missing data, replace them with mean\n",
      "\"stroke\": 4 missing data, replace them with mean\n",
      "\"bore\": 4 missing data, replace them with mean\n",
      "\"horsepower\": 2 missing data, replace them with mean\n",
      "\"peak-rpm\": 2 missing data, replace them with mean\n",
      "\n",
      "**Replace by frequency:**\n",
      "\n",
      "\"num-of-doors\": 2 missing data, replace them with \"four\". \n",
      "        \n",
      "Reason: 84% sedans are four doors. Since four doors is most frequent, it is most likely to occur\n",
      "\n",
      "**Drop the whole row:**\n",
      "\n",
      "\"price\": 4 missing data, simply delete the whole row\n",
      "        \n",
      "Reason: You want to predict price. You cannot use any data entry without price data for prediction; therefore any row now without price data is not useful to you.\n",
      "\n"
     ]
    }
   ],
   "source": [
    "print(clean_markdown_for_notion(html_md))"
   ]
  }
 ],
 "metadata": {
  "kernelspec": {
   "display_name": "Python 3",
   "language": "python",
   "name": "python3"
  },
  "language_info": {
   "codemirror_mode": {
    "name": "ipython",
    "version": 3
   },
   "file_extension": ".py",
   "mimetype": "text/x-python",
   "name": "python",
   "nbconvert_exporter": "python",
   "pygments_lexer": "ipython3",
   "version": "3.10.11"
  }
 },
 "nbformat": 4,
 "nbformat_minor": 5
}
