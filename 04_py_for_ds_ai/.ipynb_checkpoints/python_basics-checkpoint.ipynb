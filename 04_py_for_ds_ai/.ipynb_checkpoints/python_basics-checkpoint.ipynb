{
 "cells": [
  {
   "cell_type": "markdown",
   "metadata": {},
   "source": [
    "# Getting Started with Python"
   ]
  },
  {
   "cell_type": "markdown",
   "metadata": {
    "vscode": {
     "languageId": "plaintext"
    }
   },
   "source": [
    "### 01. Introduction to Python"
   ]
  },
  {
   "cell_type": "markdown",
   "metadata": {},
   "source": [
    "Python is a powerful and widely used programming language, especially in data science. It is known for its clear and readable syntax, making it useful for both beginners and experienced programmers.\n",
    "\n",
    "<br>\n",
    "\n",
    "**Who Uses Python?**  \n",
    "- **Beginners**\\\n",
    "Easy to learn due to its simple syntax and large global community with extensive documentation.\n",
    "\n",
    "- **Experienced Programmers**\\\n",
    "Can develop applications with less code compared to other languages.  \n",
    "\n",
    "- **Industries & Organizations**\\\n",
    "Used in data science, AI, web development, and IoT by companies like IBM, Google, NASA, Facebook, and Amazon.  \n",
    "\n",
    "<br>\n",
    "\n",
    "**Why Use Python?**  \n",
    "- **Versatility**: Can be used for\n",
    "\t- automation\n",
    "\t- web scraping\n",
    "\t- text/image processing\n",
    "\t- databases, machine learning\n",
    "\t- and data analytics.  \n",
    "\n",
    "- **Strong Library Support**:  \n",
    "  - Data Science: Pandas, NumPy, SciPy, Matplotlib  \n",
    "  - AI & Machine Learning: TensorFlow, PyTorch, Keras, Scikit-learn  \n",
    "  - Natural Language Processing: NLTK  \n",
    "\n",
    "<br>\n",
    "Python’s combination of readability, versatility, and strong community support makes it an excellent choice for programmers across various domains."
   ]
  },
  {
   "cell_type": "code",
   "execution_count": 1,
   "metadata": {},
   "outputs": [
    {
     "name": "stdout",
     "output_type": "stream",
     "text": [
      "Hello World\n"
     ]
    }
   ],
   "source": [
    "print(\"Hello World\")"
   ]
  }
 ],
 "metadata": {
  "kernelspec": {
   "display_name": "Python 3",
   "language": "python",
   "name": "python3"
  },
  "language_info": {
   "codemirror_mode": {
    "name": "ipython",
    "version": 3
   },
   "file_extension": ".py",
   "mimetype": "text/x-python",
   "name": "python",
   "nbconvert_exporter": "python",
   "pygments_lexer": "ipython3",
   "version": "3.10.11"
  }
 },
 "nbformat": 4,
 "nbformat_minor": 2
}
