{
 "cells": [
  {
   "cell_type": "markdown",
   "id": "af222e8d-5553-4de9-bf9c-6c9b646178e3",
   "metadata": {},
   "source": [
    "<center>\n",
    "    <img src=\"https://cf-courses-data.s3.us.cloud-object-storage.appdomain.cloud/IBMDeveloperSkillsNetwork-PY0101EN-SkillsNetwork/IDSNlogo.png\" width=\"300\" alt=\"cognitiveclass.ai logo\">\n",
    "</center>\n"
   ]
  },
  {
   "cell_type": "markdown",
   "id": "3cbc0686-7fe0-4267-85c5-78ff82364eb2",
   "metadata": {},
   "source": [
    "# **Web Scraping Lab**\n"
   ]
  },
  {
   "cell_type": "markdown",
   "id": "b1ae61d9-c65f-42db-bf6d-a1fc8dd157ba",
   "metadata": {},
   "source": [
    "Estimated time needed: **40** minutes\n"
   ]
  },
  {
   "cell_type": "markdown",
   "id": "fbfc663d-9cb5-4667-9dbd-9b586c55deef",
   "metadata": {},
   "source": [
    "## Objectives\n"
   ]
  },
  {
   "cell_type": "markdown",
   "id": "fbb8656d-a897-4079-bf3a-6fbcc2c19112",
   "metadata": {},
   "source": [
    "After completing this lab you will be:\n",
    "\n",
    "*   Familiar with the basics of the `BeautifulSoup` Python library\n",
    "*   Be able to scrape webpages for data and filter the data\n"
   ]
  },
  {
   "cell_type": "markdown",
   "id": "c8b792ec-4d59-4230-8476-bdbe52ff931c",
   "metadata": {},
   "source": [
    "<h2>Table of Contents</h2>\n",
    "<div class=\"alert alert-block alert-info\" style=\"margin-top: 20px\">\n",
    "    <ul>\n",
    "        <li>\n",
    "            <a href=\"#Beautiful-Soup-Object\">Beautiful Soup Object</a>\n",
    "            <ul>\n",
    "                <li><a href=\"#Tags\">Tags</a></li>\n",
    "                <li><a href=\"#Children,-Parents,-and-Siblings\">Children, Parents, and Siblings</a></li>\n",
    "                <li><a href=\"#HTML-Attributes\">HTML Attributes</a></li>\n",
    "                <li><a href=\"#Navigable-String\">Navigable String</a></li>\n",
    "            </ul>\n",
    "        </li>\n",
    "     </ul>\n",
    "    <ul>\n",
    "        <li>\n",
    "            <a href=\"#Filter\">Filter</a>\n",
    "            <ul>\n",
    "                <li><a href=\"#find_All\">find_All</a></li>\n",
    "                <li><a href=\"#find\">find</a></li>\n",
    "            </ul>\n",
    "        </li>\n",
    "     </ul>\n",
    "     <ul>\n",
    "        <li>\n",
    "            <a href=\"#Downloading-And-Scraping-The-Contents-Of-A-Web-Page\">Downloading And Scraping The Contents Of A Web Page</a></li>\n",
    "         <li> <a href=\"#Scraping-tables-from-a-Web-page-using-Pandas\">Scraping tables from a Web page using Pandas</a></li>\n",
    "    </ul>\n",
    "\n",
    "</div>\n",
    "\n",
    "<hr>\n"
   ]
  },
  {
   "cell_type": "markdown",
   "id": "7da0b671-9209-4440-90e6-730d53bde85e",
   "metadata": {},
   "source": [
    "For this lab, we are going to be using Python and several Python libraries. Some of these libraries might be installed in your lab environment or in SN Labs. Others may need to be installed by you. The cells below will install these libraries when executed.\n"
   ]
  },
  {
   "cell_type": "code",
   "execution_count": 1,
   "id": "d2751dac-8a35-4d3f-a3c0-c3e1cfa6090f",
   "metadata": {},
   "outputs": [
    {
     "name": "stdout",
     "output_type": "stream",
     "text": [
      "Collecting html5lib\n",
      "  Downloading html5lib-1.1-py2.py3-none-any.whl.metadata (16 kB)\n",
      "Requirement already satisfied: six>=1.9 in c:\\users\\yafas\\appdata\\local\\programs\\python\\python310\\lib\\site-packages (from html5lib) (1.17.0)\n",
      "Requirement already satisfied: webencodings in c:\\users\\yafas\\appdata\\local\\programs\\python\\python310\\lib\\site-packages (from html5lib) (0.5.1)\n",
      "Downloading html5lib-1.1-py2.py3-none-any.whl (112 kB)\n",
      "Installing collected packages: html5lib\n",
      "Successfully installed html5lib-1.1\n"
     ]
    }
   ],
   "source": [
    "!pip install html5lib"
   ]
  },
  {
   "cell_type": "markdown",
   "id": "6b57a39e-e654-42ba-b31e-dfd0f7997f03",
   "metadata": {},
   "source": [
    "**Note:- After running the above code cell, restart the kernel and don't run the above code cell after restarting the kernel.**\n"
   ]
  },
  {
   "cell_type": "code",
   "execution_count": null,
   "id": "78539817-bb83-4dff-9949-8a6afd60028e",
   "metadata": {},
   "outputs": [],
   "source": [
    "# !pip install requests\n",
    "!pip install bs4"
   ]
  },
  {
   "cell_type": "markdown",
   "id": "890fc740-0db7-4a05-88e0-d3a060776b5d",
   "metadata": {},
   "source": [
    "Import the required modules and functions\n"
   ]
  },
  {
   "cell_type": "code",
   "execution_count": 2,
   "id": "ffe406c5-75e9-4e37-aaba-6f65b4978916",
   "metadata": {},
   "outputs": [],
   "source": [
    "from bs4 import BeautifulSoup # this module helps in web scrapping.\n",
    "import requests  # this module helps us to download a web page"
   ]
  },
  {
   "cell_type": "markdown",
   "id": "7d91daac-01d7-4930-9d50-bbe99dc91f6b",
   "metadata": {},
   "source": [
    "## Beautiful Soup Object\n"
   ]
  },
  {
   "cell_type": "markdown",
   "id": "cbbc289b-8ac1-41cf-9798-02abfb15b447",
   "metadata": {},
   "source": [
    "Beautiful Soup is a Python library for pulling data out of HTML and XML files, we will focus on HTML files. This is accomplished by representing the HTML as a set of objects with methods used to parse the HTML.  We can navigate the HTML as a tree, and/or filter out what we are looking for.\n",
    "\n",
    "Consider the following HTML:\n"
   ]
  },
  {
   "cell_type": "code",
   "execution_count": null,
   "id": "29c28100-635c-4f9d-9abd-e6c48835187e",
   "metadata": {},
   "outputs": [],
   "source": [
    "%%html\n",
    "<!DOCTYPE html>\n",
    "<html>\n",
    "<head>\n",
    "<title>Page Title</title>\n",
    "</head>\n",
    "<body>\n",
    "<h3><b id='boldest'>Lebron James</b></h3>\n",
    "<p> Salary: $ 92,000,000 </p>\n",
    "<h3> Stephen Curry</h3>\n",
    "<p> Salary: $85,000, 000 </p>\n",
    "<h3> Kevin Durant </h3>\n",
    "<p> Salary: $73,200, 000</p>\n",
    "</body>\n",
    "</html>"
   ]
  },
  {
   "cell_type": "markdown",
   "id": "af52e898-ead6-4b90-9937-141716530c50",
   "metadata": {},
   "source": [
    "We can store it as a string in the variable HTML:\n"
   ]
  },
  {
   "cell_type": "code",
   "execution_count": 3,
   "id": "36823593-faf7-4efc-a6a8-c65f73e25122",
   "metadata": {},
   "outputs": [],
   "source": [
    "html = \"<!DOCTYPE html><html><head><title>Page Title</title></head><body><h3> \\\n",
    "<b id='boldest'>Lebron James</b></h3><p> Salary: $ 92,000,000 </p> \\\n",
    "<h3>Stephen Curry</h3><p> Salary: $85,000,000</p> \\\n",
    "<h3>Kevin Durant</h3><p> Salary: $73,200,000</p></body></html>\""
   ]
  },
  {
   "cell_type": "markdown",
   "id": "00c12646-e3c4-457a-833d-ef6473e0d2cc",
   "metadata": {},
   "source": [
    "To parse a document, pass it into the <code>BeautifulSoup</code> constructor. The <code>BeautifulSoup</code> object represents the document as a nested data structure:\n"
   ]
  },
  {
   "cell_type": "code",
   "execution_count": 5,
   "id": "46448d3f-2c41-4a32-bffb-8b07336bdc62",
   "metadata": {},
   "outputs": [],
   "source": [
    "soup = BeautifulSoup(html, 'html5lib')"
   ]
  },
  {
   "cell_type": "markdown",
   "id": "dfce93c7-1f00-47a4-b9ad-6b54a92657b9",
   "metadata": {},
   "source": [
    "First, the document is converted to Unicode (similar to ASCII) and HTML entities are converted to Unicode characters. Beautiful Soup transforms a complex HTML document into a complex tree of Python objects. The <code>BeautifulSoup</code> object can create other types of objects. In this lab, we will cover <code>BeautifulSoup</code> and <code>Tag</code> objects, that for the purposes of this lab are identical. Finally, we will look at <code>NavigableString</code> objects.\n"
   ]
  },
  {
   "cell_type": "markdown",
   "id": "c91dfe6a-9b39-48b6-8bf2-4c2079e13142",
   "metadata": {},
   "source": [
    "We can use the method <code>prettify()</code> to display the HTML in the nested structure:\n"
   ]
  },
  {
   "cell_type": "code",
   "execution_count": 6,
   "id": "55d7c237-ee6a-41ac-9cd4-530b43b53477",
   "metadata": {},
   "outputs": [
    {
     "name": "stdout",
     "output_type": "stream",
     "text": [
      "<!DOCTYPE html>\n",
      "<html>\n",
      " <head>\n",
      "  <title>\n",
      "   Page Title\n",
      "  </title>\n",
      " </head>\n",
      " <body>\n",
      "  <h3>\n",
      "   <b id=\"boldest\">\n",
      "    Lebron James\n",
      "   </b>\n",
      "  </h3>\n",
      "  <p>\n",
      "   Salary: $ 92,000,000\n",
      "  </p>\n",
      "  <h3>\n",
      "   Stephen Curry\n",
      "  </h3>\n",
      "  <p>\n",
      "   Salary: $85,000,000\n",
      "  </p>\n",
      "  <h3>\n",
      "   Kevin Durant\n",
      "  </h3>\n",
      "  <p>\n",
      "   Salary: $73,200,000\n",
      "  </p>\n",
      " </body>\n",
      "</html>\n",
      "\n"
     ]
    }
   ],
   "source": [
    "print(soup.prettify())"
   ]
  },
  {
   "cell_type": "markdown",
   "id": "fd604e50-7406-4efe-84a8-6f5f7bf1ccc1",
   "metadata": {},
   "source": [
    "## Tags\n"
   ]
  },
  {
   "cell_type": "markdown",
   "id": "83006c4d-1d1d-41e3-9fc2-735952a47a61",
   "metadata": {},
   "source": [
    "Let's say we want the  title of the page and the name of the top paid player. We can use the <code>Tag</code>. The <code>Tag</code> object corresponds to an HTML tag in the original document, for example, the tag title.\n"
   ]
  },
  {
   "cell_type": "code",
   "execution_count": 7,
   "id": "8f0a9956-330a-4b6f-b1ef-7f0dad12f14c",
   "metadata": {},
   "outputs": [
    {
     "name": "stdout",
     "output_type": "stream",
     "text": [
      "tag object: <title>Page Title</title>\n"
     ]
    }
   ],
   "source": [
    "tag_object = soup.title\n",
    "print(\"tag object:\", tag_object)"
   ]
  },
  {
   "cell_type": "markdown",
   "id": "30c68af5-2f6a-44ac-85ee-4b44f1981573",
   "metadata": {},
   "source": [
    "we can see the tag type <code>bs4.element.Tag</code>\n"
   ]
  },
  {
   "cell_type": "code",
   "execution_count": 8,
   "id": "8084df29-3570-404f-88d3-cd6a73c2629a",
   "metadata": {},
   "outputs": [
    {
     "name": "stdout",
     "output_type": "stream",
     "text": [
      "tag object type: <class 'bs4.element.Tag'>\n"
     ]
    }
   ],
   "source": [
    "print(\"tag object type:\", type(tag_object))"
   ]
  },
  {
   "cell_type": "markdown",
   "id": "f1c341b7-8678-4dd9-b418-3d528c83a5f0",
   "metadata": {},
   "source": [
    "If there is more than one <code>Tag</code> with the same name, the first element with that <code>Tag</code> name is called. This corresponds to the most paid player:\n"
   ]
  },
  {
   "cell_type": "code",
   "execution_count": 13,
   "id": "2d7774f4-8d7b-420b-9667-d6022e5518e3",
   "metadata": {},
   "outputs": [
    {
     "data": {
      "text/plain": [
       "<h3> <b id=\"boldest\">Lebron James</b></h3>"
      ]
     },
     "execution_count": 13,
     "metadata": {},
     "output_type": "execute_result"
    }
   ],
   "source": [
    "tag_object = soup.h3\n",
    "tag_object"
   ]
  },
  {
   "cell_type": "markdown",
   "id": "96affb1c-675a-4e97-a4ee-d1fb2f98c036",
   "metadata": {},
   "source": [
    "Enclosed in the bold attribute <code>b</code>, it helps to use the tree representation. We can navigate down the tree using the child attribute to get the name.\n"
   ]
  },
  {
   "cell_type": "markdown",
   "id": "7fcad643-f93f-46f6-bfbe-6190ffbe8da0",
   "metadata": {},
   "source": [
    "### Children, Parents, and Siblings\n"
   ]
  },
  {
   "cell_type": "markdown",
   "id": "fd38776d-57f8-47b1-9937-a0a50f5de475",
   "metadata": {},
   "source": [
    "As stated above, the <code>Tag</code> object is a tree of objects. We can access the child of the tag or navigate down the branch as follows:\n"
   ]
  },
  {
   "cell_type": "code",
   "execution_count": 14,
   "id": "730b8265-53d0-4545-8bc9-c63ced7005fc",
   "metadata": {},
   "outputs": [
    {
     "data": {
      "text/plain": [
       "<b id=\"boldest\">Lebron James</b>"
      ]
     },
     "execution_count": 14,
     "metadata": {},
     "output_type": "execute_result"
    }
   ],
   "source": [
    "tag_child = tag_object.b\n",
    "tag_child"
   ]
  },
  {
   "cell_type": "markdown",
   "id": "08cbfd09-4b6a-4b70-814e-248e1255d630",
   "metadata": {},
   "source": [
    "You can access the parent with the <code>parent</code>.\n"
   ]
  },
  {
   "cell_type": "code",
   "execution_count": 17,
   "id": "82612ebf-b38f-4f2a-a8b0-59f3c06a8481",
   "metadata": {},
   "outputs": [
    {
     "data": {
      "text/plain": [
       "<h3> <b id=\"boldest\">Lebron James</b></h3>"
      ]
     },
     "execution_count": 17,
     "metadata": {},
     "output_type": "execute_result"
    }
   ],
   "source": [
    "parent_tag = tag_child.parent\n",
    "parent_tag"
   ]
  },
  {
   "cell_type": "markdown",
   "id": "0f2ab849-6a65-48e8-a89d-fb9c623a730e",
   "metadata": {},
   "source": [
    "this is identical to:\n"
   ]
  },
  {
   "cell_type": "code",
   "execution_count": 18,
   "id": "f3def6b4-b78e-49de-8b23-e37559fb2140",
   "metadata": {},
   "outputs": [
    {
     "data": {
      "text/plain": [
       "<h3> <b id=\"boldest\">Lebron James</b></h3>"
      ]
     },
     "execution_count": 18,
     "metadata": {},
     "output_type": "execute_result"
    }
   ],
   "source": [
    "tag_object"
   ]
  },
  {
   "cell_type": "markdown",
   "id": "f11abfaf-7f65-45d0-bb81-b737fe82e6a4",
   "metadata": {},
   "source": [
    "<code>tag_object</code> parent is the <code>body</code> element.\n"
   ]
  },
  {
   "cell_type": "code",
   "execution_count": 19,
   "id": "f1969cce-f294-46e5-bc36-63be8c2ba758",
   "metadata": {},
   "outputs": [
    {
     "data": {
      "text/plain": [
       "<body><h3> <b id=\"boldest\">Lebron James</b></h3><p> Salary: $ 92,000,000 </p> <h3>Stephen Curry</h3><p> Salary: $85,000,000</p> <h3>Kevin Durant</h3><p> Salary: $73,200,000</p></body>"
      ]
     },
     "execution_count": 19,
     "metadata": {},
     "output_type": "execute_result"
    }
   ],
   "source": [
    "tag_object.parent"
   ]
  },
  {
   "cell_type": "markdown",
   "id": "65d13020-5cfa-410d-a244-a08fafc097f5",
   "metadata": {},
   "source": [
    "<code>tag_object</code> sibling is the <code>paragraph</code> element.\n"
   ]
  },
  {
   "cell_type": "code",
   "execution_count": 22,
   "id": "1ed73fab-9032-447f-9718-7a661ebff2d1",
   "metadata": {},
   "outputs": [
    {
     "data": {
      "text/plain": [
       "<p> Salary: $ 92,000,000 </p>"
      ]
     },
     "execution_count": 22,
     "metadata": {},
     "output_type": "execute_result"
    }
   ],
   "source": [
    "sibling_1 = tag_object.next_sibling\n",
    "sibling_1"
   ]
  },
  {
   "cell_type": "markdown",
   "id": "2dfd60e8-eebe-4cb7-9974-5e79fb2cc0dc",
   "metadata": {},
   "source": [
    "`sibling_2` is the `header` element, which is also a sibling of both `sibling_1` and `tag_object`\n"
   ]
  },
  {
   "cell_type": "code",
   "execution_count": 23,
   "id": "b4b23351-854a-49c3-98bd-d76c50492d48",
   "metadata": {},
   "outputs": [
    {
     "data": {
      "text/plain": [
       "' '"
      ]
     },
     "execution_count": 23,
     "metadata": {},
     "output_type": "execute_result"
    }
   ],
   "source": [
    "sibling_2 = sibling_1.next_sibling\n",
    "sibling_2"
   ]
  },
  {
   "cell_type": "markdown",
   "id": "786e4a71-5522-4268-9266-956b8e42e149",
   "metadata": {},
   "source": [
    "<h3 id=\"first_question\">Exercise: <code>next_sibling</code></h3>\n"
   ]
  },
  {
   "cell_type": "markdown",
   "id": "27b2a1e1-c795-4241-baa5-2879e3a7c519",
   "metadata": {},
   "source": [
    "Use the object <code>sibling\\_2</code> and the method <code>next_sibling</code> to find the salary of Stephen Curry:\n"
   ]
  },
  {
   "cell_type": "code",
   "execution_count": 24,
   "id": "c60800ea-c9b0-40df-9ba5-08b26a33c38f",
   "metadata": {},
   "outputs": [
    {
     "data": {
      "text/plain": [
       "<h3>Stephen Curry</h3>"
      ]
     },
     "execution_count": 24,
     "metadata": {},
     "output_type": "execute_result"
    }
   ],
   "source": [
    "sibling_3 = sibling_2.next_sibling\n",
    "sibling_3"
   ]
  },
  {
   "cell_type": "markdown",
   "id": "4fbf4c33-7472-4dff-9bd1-f4734f48ca94",
   "metadata": {},
   "source": [
    "<details><summary>Click here for the solution</summary>\n",
    "\n",
    "```\n",
    "sibling_2.next_sibling\n",
    "\n",
    "```\n",
    "\n",
    "</details>\n"
   ]
  },
  {
   "cell_type": "markdown",
   "id": "62c4d143-314d-4c7b-b407-4451fe372c39",
   "metadata": {},
   "source": [
    "### HTML Attributes\n"
   ]
  },
  {
   "cell_type": "markdown",
   "id": "2308f9b9-a6c0-49e1-b237-7f4bb5d2fd11",
   "metadata": {},
   "source": [
    "If the tag has attributes, the tag <code>id=\"boldest\"</code> has an attribute <code>id</code> whose value is <code>boldest</code>. You can access a tag's attributes by treating the tag like a dictionary:\n"
   ]
  },
  {
   "cell_type": "code",
   "execution_count": 26,
   "id": "9286434f-49bd-407c-bacf-a17deffe5f89",
   "metadata": {},
   "outputs": [
    {
     "data": {
      "text/plain": [
       "'boldest'"
      ]
     },
     "execution_count": 26,
     "metadata": {},
     "output_type": "execute_result"
    }
   ],
   "source": [
    "tag_child['id']"
   ]
  },
  {
   "cell_type": "markdown",
   "id": "3fe26b97-37fc-4b64-98a3-5481d8601593",
   "metadata": {},
   "source": [
    "You can access that dictionary directly as <code>attrs</code>:\n"
   ]
  },
  {
   "cell_type": "code",
   "execution_count": 27,
   "id": "7e68daab-bf7d-4d1e-a5dc-8c020302175b",
   "metadata": {},
   "outputs": [
    {
     "data": {
      "text/plain": [
       "{'id': 'boldest'}"
      ]
     },
     "execution_count": 27,
     "metadata": {},
     "output_type": "execute_result"
    }
   ],
   "source": [
    "tag_child.attrs"
   ]
  },
  {
   "cell_type": "markdown",
   "id": "f0db4f42-ab9b-4f86-8728-831b8818abcb",
   "metadata": {},
   "source": [
    "You can also work with Multi-valued attributes. Check out <a href=\"https://www.crummy.com/software/BeautifulSoup/bs4/doc/?utm_medium=Exinfluencer&utm_source=Exinfluencer&utm_content=000026UJ&utm_term=10006555&utm_id=NA-SkillsNetwork-Channel-SkillsNetworkCoursesIBMDeveloperSkillsNetworkPY0101ENSkillsNetwork19487395-2021-01-01\">\\[1]</a> for more.\n"
   ]
  },
  {
   "cell_type": "markdown",
   "id": "12bcf5e1-1c4f-4a3b-8412-71ac43cda714",
   "metadata": {},
   "source": [
    "We can also obtain the content of the attribute of the <code>tag</code> using the Python <code>get()</code> method.\n"
   ]
  },
  {
   "cell_type": "code",
   "execution_count": 28,
   "id": "fb947745-2d39-49aa-9f14-c840682a53f4",
   "metadata": {},
   "outputs": [
    {
     "data": {
      "text/plain": [
       "'boldest'"
      ]
     },
     "execution_count": 28,
     "metadata": {},
     "output_type": "execute_result"
    }
   ],
   "source": [
    "tag_child.get('id')"
   ]
  },
  {
   "cell_type": "markdown",
   "id": "24c7713b-bc28-4d28-ab2b-f45495555575",
   "metadata": {},
   "source": [
    "### Navigable String\n"
   ]
  },
  {
   "cell_type": "markdown",
   "id": "d8cbec6c-bb36-4e3e-a028-27cb855981b3",
   "metadata": {},
   "source": [
    "A string corresponds to a bit of text or content within a tag. Beautiful Soup uses the <code>NavigableString</code> class to contain this text. In our HTML we can obtain the name of the first player by extracting the string of the <code>Tag</code> object <code>tag_child</code> as follows:\n"
   ]
  },
  {
   "cell_type": "code",
   "execution_count": 31,
   "id": "81e4e71b-ff60-4949-a9bb-fb2524876365",
   "metadata": {},
   "outputs": [
    {
     "name": "stdout",
     "output_type": "stream",
     "text": [
      "Lebron James\n",
      "<b id=\"boldest\">Lebron James</b>\n"
     ]
    }
   ],
   "source": [
    "tag_string = tag_child.string\n",
    "print(tag_string)\n",
    "print(tag_child)"
   ]
  },
  {
   "cell_type": "markdown",
   "id": "c602f63b-7bf3-41f6-a2a4-6df524d6e0aa",
   "metadata": {},
   "source": [
    "we can verify the type is Navigable String\n"
   ]
  },
  {
   "cell_type": "code",
   "execution_count": 32,
   "id": "21480e0f-e783-4935-847b-7b0f4541997a",
   "metadata": {},
   "outputs": [
    {
     "data": {
      "text/plain": [
       "bs4.element.NavigableString"
      ]
     },
     "execution_count": 32,
     "metadata": {},
     "output_type": "execute_result"
    }
   ],
   "source": [
    "type(tag_string)"
   ]
  },
  {
   "cell_type": "markdown",
   "id": "8304a56d-b09b-4f6a-b5f4-de69458bfdb5",
   "metadata": {},
   "source": [
    "A NavigableString is similar to a Python string or Unicode string. To be more precise, the main difference is that it also supports some <code>BeautifulSoup</code> features. We can convert it to string object in Python:\n"
   ]
  },
  {
   "cell_type": "code",
   "execution_count": 34,
   "id": "3ff96b9b-7fd5-47f0-a18e-51253e321ee4",
   "metadata": {},
   "outputs": [
    {
     "data": {
      "text/plain": [
       "'Lebron James'"
      ]
     },
     "execution_count": 34,
     "metadata": {},
     "output_type": "execute_result"
    }
   ],
   "source": [
    "unicode_string = str(tag_string)\n",
    "unicode_string"
   ]
  },
  {
   "cell_type": "markdown",
   "id": "ba76167b-4b77-4208-8c64-77f2afdbe634",
   "metadata": {},
   "source": [
    "## Filter\n"
   ]
  },
  {
   "cell_type": "markdown",
   "id": "c6ca60f7-1155-4289-91ea-8aa1190bc97c",
   "metadata": {},
   "source": [
    "Filters allow you to find complex patterns, the simplest filter is a string. In this section we will pass a string to a different filter method and Beautiful Soup will perform a match against that exact string. Consider the following HTML of rocket launches:\n"
   ]
  },
  {
   "cell_type": "code",
   "execution_count": 35,
   "id": "c054cf2a-e85d-40e2-9940-30ca58577fe7",
   "metadata": {},
   "outputs": [
    {
     "data": {
      "text/html": [
       "<table>\n",
       "  <tr>\n",
       "    <td id='flight' >Flight No</td>\n",
       "    <td>Launch site</td> \n",
       "    <td>Payload mass</td>\n",
       "   </tr>\n",
       "  <tr> \n",
       "    <td>1</td>\n",
       "    <td><a href='https://en.wikipedia.org/wiki/Florida'>Florida</a></td>\n",
       "    <td>300 kg</td>\n",
       "  </tr>\n",
       "  <tr>\n",
       "    <td>2</td>\n",
       "    <td><a href='https://en.wikipedia.org/wiki/Texas'>Texas</a></td>\n",
       "    <td>94 kg</td>\n",
       "  </tr>\n",
       "  <tr>\n",
       "    <td>3</td>\n",
       "    <td><a href='https://en.wikipedia.org/wiki/Florida'>Florida<a> </td>\n",
       "    <td>80 kg</td>\n",
       "  </tr>\n",
       "</table>\n"
      ],
      "text/plain": [
       "<IPython.core.display.HTML object>"
      ]
     },
     "metadata": {},
     "output_type": "display_data"
    }
   ],
   "source": [
    "%%html\n",
    "<table>\n",
    "  <tr>\n",
    "    <td id='flight' >Flight No</td>\n",
    "    <td>Launch site</td> \n",
    "    <td>Payload mass</td>\n",
    "   </tr>\n",
    "  <tr> \n",
    "    <td>1</td>\n",
    "    <td><a href='https://en.wikipedia.org/wiki/Florida'>Florida</a></td>\n",
    "    <td>300 kg</td>\n",
    "  </tr>\n",
    "  <tr>\n",
    "    <td>2</td>\n",
    "    <td><a href='https://en.wikipedia.org/wiki/Texas'>Texas</a></td>\n",
    "    <td>94 kg</td>\n",
    "  </tr>\n",
    "  <tr>\n",
    "    <td>3</td>\n",
    "    <td><a href='https://en.wikipedia.org/wiki/Florida'>Florida<a> </td>\n",
    "    <td>80 kg</td>\n",
    "  </tr>\n",
    "</table>"
   ]
  },
  {
   "cell_type": "markdown",
   "id": "fc540a03-3add-4587-87e5-1f6d38afe52b",
   "metadata": {},
   "source": [
    "We can store it as a string in the variable <code>table</code>:\n"
   ]
  },
  {
   "cell_type": "code",
   "execution_count": 36,
   "id": "2ddab108-b04a-432b-b212-165f493cf6f3",
   "metadata": {},
   "outputs": [],
   "source": [
    "table = \"<table><tr><td id='flight'>Flight No</td><td>Launch site</td> \\\n",
    "<td>Payload mass</td></tr><tr> <td>1</td> \\\n",
    "<td><a href='https://en.wikipedia.org/wiki/Florida'>Florida<a></td> \\\n",
    "<td>300 kg</td></tr><tr><td>2</td> \\\n",
    "<td><a href='https://en.wikipedia.org/wiki/Texas'>Texas</a></td> \\\n",
    "<td>94 kg</td></tr><tr><td>3</td> \\\n",
    "<td><a href='https://en.wikipedia.org/wiki/Florida'>Florida<a> </td> \\\n",
    "<td>80 kg</td></tr></table>\""
   ]
  },
  {
   "cell_type": "code",
   "execution_count": 37,
   "id": "0f1e07e2-18a4-4f33-a147-60383c61d5eb",
   "metadata": {},
   "outputs": [],
   "source": [
    "table_bs = BeautifulSoup(table, 'html5lib')"
   ]
  },
  {
   "cell_type": "markdown",
   "id": "6c49d53c-4c39-43e8-9db7-b24d1b9bb946",
   "metadata": {},
   "source": [
    "## find_All\n"
   ]
  },
  {
   "cell_type": "markdown",
   "id": "2fca1bc6-cc5d-4b99-8f46-20506fe60273",
   "metadata": {},
   "source": [
    "The <code>find_all()</code> method looks through a tag's descendants and retrieves all descendants that match your filters.\n",
    "\n",
    "<p>\n",
    "The Method signature for <code>find_all(name, attrs, recursive, string, limit, **kwargs)<c/ode>\n",
    "</p>\n"
   ]
  },
  {
   "cell_type": "markdown",
   "id": "54ff00d4-964f-4119-9d86-b1e152138332",
   "metadata": {},
   "source": [
    "### Name\n"
   ]
  },
  {
   "cell_type": "markdown",
   "id": "248e87f0-980b-4cb8-979a-c5aaabfc4092",
   "metadata": {},
   "source": [
    "When we set the <code>name</code> parameter to a tag name, the method will extract all the tags with that name and its children.\n"
   ]
  },
  {
   "cell_type": "code",
   "execution_count": 38,
   "id": "ed0ac999-54c0-4727-84ae-1f1a8d57cd30",
   "metadata": {},
   "outputs": [
    {
     "data": {
      "text/plain": [
       "[<tr><td id=\"flight\">Flight No</td><td>Launch site</td> <td>Payload mass</td></tr>,\n",
       " <tr> <td>1</td> <td><a href=\"https://en.wikipedia.org/wiki/Florida\">Florida</a><a></a></td> <td>300 kg</td></tr>,\n",
       " <tr><td>2</td> <td><a href=\"https://en.wikipedia.org/wiki/Texas\">Texas</a></td> <td>94 kg</td></tr>,\n",
       " <tr><td>3</td> <td><a href=\"https://en.wikipedia.org/wiki/Florida\">Florida</a><a> </a></td> <td>80 kg</td></tr>]"
      ]
     },
     "execution_count": 38,
     "metadata": {},
     "output_type": "execute_result"
    }
   ],
   "source": [
    "table_rows = table_bs.find_all('tr')\n",
    "table_rows"
   ]
  },
  {
   "cell_type": "markdown",
   "id": "522a5b70-3b7a-48ed-90d1-cc1e1546a678",
   "metadata": {},
   "source": [
    "The result is a Python iterable just like a list, each element is a <code>tag</code> object:\n"
   ]
  },
  {
   "cell_type": "code",
   "execution_count": 39,
   "id": "574941fa-add2-443f-aca3-c9bf9bdacfe1",
   "metadata": {},
   "outputs": [
    {
     "data": {
      "text/plain": [
       "<tr><td id=\"flight\">Flight No</td><td>Launch site</td> <td>Payload mass</td></tr>"
      ]
     },
     "execution_count": 39,
     "metadata": {},
     "output_type": "execute_result"
    }
   ],
   "source": [
    "first_row = table_rows[0]\n",
    "first_row"
   ]
  },
  {
   "cell_type": "markdown",
   "id": "e78f75f8-a73b-4159-9b48-7df9f7b2f9e6",
   "metadata": {},
   "source": [
    "The type is <code>tag</code>\n"
   ]
  },
  {
   "cell_type": "code",
   "execution_count": 40,
   "id": "4ed7eb5f-c714-4e6f-9739-98c439ae20e8",
   "metadata": {},
   "outputs": [
    {
     "name": "stdout",
     "output_type": "stream",
     "text": [
      "<class 'bs4.element.Tag'>\n"
     ]
    }
   ],
   "source": [
    "print(type(first_row))"
   ]
  },
  {
   "cell_type": "markdown",
   "id": "292db24b-fa53-4fe7-adc7-ca07a535c99d",
   "metadata": {},
   "source": [
    "we can obtain the child\n"
   ]
  },
  {
   "cell_type": "code",
   "execution_count": 47,
   "id": "bd59ad4b-e81c-4f9c-8b66-73cec10cd4b5",
   "metadata": {},
   "outputs": [
    {
     "data": {
      "text/plain": [
       "<td id=\"flight\">Flight No</td>"
      ]
     },
     "execution_count": 47,
     "metadata": {},
     "output_type": "execute_result"
    }
   ],
   "source": [
    "first_row.td.string\n",
    "first_row.td"
   ]
  },
  {
   "cell_type": "markdown",
   "id": "9e996317-fe8a-4b91-bdfd-0c54dd846ff7",
   "metadata": {},
   "source": [
    "If we iterate through the list, each element corresponds to a row in the table:\n"
   ]
  },
  {
   "cell_type": "code",
   "execution_count": 50,
   "id": "e7206a9b-a10e-4fe5-8dd9-752c6493fd97",
   "metadata": {},
   "outputs": [
    {
     "name": "stdout",
     "output_type": "stream",
     "text": [
      "row 0 is <tr><td id=\"flight\">Flight No</td><td>Launch site</td> <td>Payload mass</td></tr>\n",
      "row 1 is <tr> <td>1</td> <td><a href=\"https://en.wikipedia.org/wiki/Florida\">Florida</a><a></a></td> <td>300 kg</td></tr>\n",
      "row 2 is <tr><td>2</td> <td><a href=\"https://en.wikipedia.org/wiki/Texas\">Texas</a></td> <td>94 kg</td></tr>\n",
      "row 3 is <tr><td>3</td> <td><a href=\"https://en.wikipedia.org/wiki/Florida\">Florida</a><a> </a></td> <td>80 kg</td></tr>\n"
     ]
    }
   ],
   "source": [
    "for i, row in enumerate(table_rows):\n",
    "    print(\"row\", i, \"is\", row)"
   ]
  },
  {
   "cell_type": "markdown",
   "id": "47ab42c3-e527-4a2b-8dad-244ce142756a",
   "metadata": {},
   "source": [
    "As <code>row</code> is a <code>cell</code> object, we can apply the method <code>find_all</code> to it and extract table cells in the object <code>cells</code> using the tag <code>td</code>, this is all the children with the name <code>td</code>. The result is a list, each element corresponds to a cell and is a <code>Tag</code> object, we can iterate through this list as well. We can extract the content using the <code>string</code> attribute.\n"
   ]
  },
  {
   "cell_type": "code",
   "execution_count": 51,
   "id": "11cc6e07-2990-42ce-8d3d-cfb922240de7",
   "metadata": {},
   "outputs": [
    {
     "name": "stdout",
     "output_type": "stream",
     "text": [
      "row 0\n",
      "colunm 0 cell <td id=\"flight\">Flight No</td>\n",
      "colunm 1 cell <td>Launch site</td>\n",
      "colunm 2 cell <td>Payload mass</td>\n",
      "row 1\n",
      "colunm 0 cell <td>1</td>\n",
      "colunm 1 cell <td><a href=\"https://en.wikipedia.org/wiki/Florida\">Florida</a><a></a></td>\n",
      "colunm 2 cell <td>300 kg</td>\n",
      "row 2\n",
      "colunm 0 cell <td>2</td>\n",
      "colunm 1 cell <td><a href=\"https://en.wikipedia.org/wiki/Texas\">Texas</a></td>\n",
      "colunm 2 cell <td>94 kg</td>\n",
      "row 3\n",
      "colunm 0 cell <td>3</td>\n",
      "colunm 1 cell <td><a href=\"https://en.wikipedia.org/wiki/Florida\">Florida</a><a> </a></td>\n",
      "colunm 2 cell <td>80 kg</td>\n"
     ]
    }
   ],
   "source": [
    "for i, row in enumerate(table_rows):\n",
    "    print(\"row\", i)\n",
    "    cells = row.find_all('td')\n",
    "    for j, cell in enumerate(cells):\n",
    "        print('colunm', j, \"cell\", cell)"
   ]
  },
  {
   "cell_type": "markdown",
   "id": "89b8244e-ccdf-4c86-9337-c3f6ea265def",
   "metadata": {},
   "source": [
    "If we use a list we can match against any item in that list.\n"
   ]
  },
  {
   "cell_type": "code",
   "execution_count": 52,
   "id": "b1b74f0b-e8ef-4b98-9d97-64157ad85f7b",
   "metadata": {},
   "outputs": [
    {
     "data": {
      "text/plain": [
       "[<tr><td id=\"flight\">Flight No</td><td>Launch site</td> <td>Payload mass</td></tr>,\n",
       " <td id=\"flight\">Flight No</td>,\n",
       " <td>Launch site</td>,\n",
       " <td>Payload mass</td>,\n",
       " <tr> <td>1</td> <td><a href=\"https://en.wikipedia.org/wiki/Florida\">Florida</a><a></a></td> <td>300 kg</td></tr>,\n",
       " <td>1</td>,\n",
       " <td><a href=\"https://en.wikipedia.org/wiki/Florida\">Florida</a><a></a></td>,\n",
       " <td>300 kg</td>,\n",
       " <tr><td>2</td> <td><a href=\"https://en.wikipedia.org/wiki/Texas\">Texas</a></td> <td>94 kg</td></tr>,\n",
       " <td>2</td>,\n",
       " <td><a href=\"https://en.wikipedia.org/wiki/Texas\">Texas</a></td>,\n",
       " <td>94 kg</td>,\n",
       " <tr><td>3</td> <td><a href=\"https://en.wikipedia.org/wiki/Florida\">Florida</a><a> </a></td> <td>80 kg</td></tr>,\n",
       " <td>3</td>,\n",
       " <td><a href=\"https://en.wikipedia.org/wiki/Florida\">Florida</a><a> </a></td>,\n",
       " <td>80 kg</td>]"
      ]
     },
     "execution_count": 52,
     "metadata": {},
     "output_type": "execute_result"
    }
   ],
   "source": [
    "list_input = table_bs.find_all(name=[\"tr\", \"td\"])\n",
    "list_input"
   ]
  },
  {
   "cell_type": "markdown",
   "id": "f48181c0-026c-41f2-9d5e-b21bf7a2c2ce",
   "metadata": {},
   "source": [
    "### Attributes\n"
   ]
  },
  {
   "cell_type": "markdown",
   "id": "a722a7ce-d64c-4e00-a2a4-c955256065fe",
   "metadata": {},
   "source": [
    "If the argument is not recognized it will be turned into a filter on the tag's attributes. For example with the <code>id</code> argument, Beautiful Soup will filter against each tag's <code>id</code> attribute. For example, the first <code>td</code> elements have a value of <code>id</code> of <code>flight</code>, therefore we can filter based on that <code>id</code> value.\n"
   ]
  },
  {
   "cell_type": "code",
   "execution_count": 53,
   "id": "09c9ef0d-ef77-4246-a2af-3cd862c238ca",
   "metadata": {},
   "outputs": [
    {
     "data": {
      "text/plain": [
       "<html><head></head><body><table><tbody><tr><td id=\"flight\">Flight No</td><td>Launch site</td> <td>Payload mass</td></tr><tr> <td>1</td> <td><a href=\"https://en.wikipedia.org/wiki/Florida\">Florida</a><a></a></td> <td>300 kg</td></tr><tr><td>2</td> <td><a href=\"https://en.wikipedia.org/wiki/Texas\">Texas</a></td> <td>94 kg</td></tr><tr><td>3</td> <td><a href=\"https://en.wikipedia.org/wiki/Florida\">Florida</a><a> </a></td> <td>80 kg</td></tr></tbody></table></body></html>"
      ]
     },
     "execution_count": 53,
     "metadata": {},
     "output_type": "execute_result"
    }
   ],
   "source": [
    "table_bs.find_all(id=\"flight\")\n",
    "table_bs"
   ]
  },
  {
   "cell_type": "markdown",
   "id": "a6bd1f47-2cf8-495d-a286-e0af0ce7d95e",
   "metadata": {},
   "source": [
    "We can find all the elements that have links to the Florida Wikipedia page:\n"
   ]
  },
  {
   "cell_type": "code",
   "execution_count": null,
   "id": "5da276df-333c-4886-be0b-8eb91b57d333",
   "metadata": {},
   "outputs": [
    {
     "ename": "NameError",
     "evalue": "name 'href' is not defined",
     "output_type": "error",
     "traceback": [
      "\u001b[1;31m---------------------------------------------------------------------------\u001b[0m",
      "\u001b[1;31mNameError\u001b[0m                                 Traceback (most recent call last)",
      "Cell \u001b[1;32mIn[55], line 2\u001b[0m\n\u001b[0;32m      1\u001b[0m list_input \u001b[38;5;241m=\u001b[39m table_bs\u001b[38;5;241m.\u001b[39mfind_all(href\u001b[38;5;241m=\u001b[39m\u001b[38;5;124m\"\u001b[39m\u001b[38;5;124mhttps://en.wikipedia.org/wiki/Florida\u001b[39m\u001b[38;5;124m\"\u001b[39m)\n\u001b[1;32m----> 2\u001b[0m list_input \u001b[38;5;241m=\u001b[39m table_bs\u001b[38;5;241m.\u001b[39mfind_all(\u001b[43mhref\u001b[49m)\n\u001b[0;32m      3\u001b[0m list_input\n",
      "\u001b[1;31mNameError\u001b[0m: name 'href' is not defined"
     ]
    }
   ],
   "source": [
    "list_input = table_bs.find_all(href=\"https://en.wikipedia.org/wiki/Florida\")\n",
    "list_input"
   ]
  },
  {
   "cell_type": "markdown",
   "id": "0e352fb7-3b79-4510-bde1-5b80d992e08e",
   "metadata": {},
   "source": [
    "If we set the <code>href</code> attribute to True, regardless of what the value is, the code finds all anchor tags with <code>href</code> value:\n"
   ]
  },
  {
   "cell_type": "code",
   "execution_count": 56,
   "id": "1b026bee-3046-40a9-b7da-75f301d74cad",
   "metadata": {},
   "outputs": [
    {
     "data": {
      "text/plain": [
       "[<a href=\"https://en.wikipedia.org/wiki/Florida\">Florida</a>,\n",
       " <a href=\"https://en.wikipedia.org/wiki/Texas\">Texas</a>,\n",
       " <a href=\"https://en.wikipedia.org/wiki/Florida\">Florida</a>]"
      ]
     },
     "execution_count": 56,
     "metadata": {},
     "output_type": "execute_result"
    }
   ],
   "source": [
    "table_bs.find_all('a', href=True)"
   ]
  },
  {
   "cell_type": "markdown",
   "id": "f2f23ecd-fb86-4242-936e-ef3ac217ebf4",
   "metadata": {},
   "source": [
    "There are other methods for dealing with attributes and other related methods. Check out the following <a href='https://www.crummy.com/software/BeautifulSoup/bs4/doc/?utm_medium=Exinfluencer&utm_source=Exinfluencer&utm_content=000026UJ&utm_term=10006555&utm_id=NA-SkillsNetwork-Channel-SkillsNetworkCoursesIBMDeveloperSkillsNetworkPY0101ENSkillsNetwork19487395-2021-01-01#css-selectors'>link</a>\n"
   ]
  },
  {
   "cell_type": "markdown",
   "id": "09722a2c-dc42-4b49-8506-a8245252b73a",
   "metadata": {},
   "source": [
    "<h3 id=\"exer_type\">Exercise: <code>find_all</code></h3>\n"
   ]
  },
  {
   "cell_type": "markdown",
   "id": "cbb306cc-78f8-4eac-8768-75eeddb3c5ba",
   "metadata": {},
   "source": [
    "Using the logic above, find all the anchor tags without <code>href</code> value\n"
   ]
  },
  {
   "cell_type": "code",
   "execution_count": 58,
   "id": "ab7f409c-548a-430e-9ab0-bf1802b23aca",
   "metadata": {},
   "outputs": [
    {
     "data": {
      "text/plain": [
       "[<a></a>, <a> </a>]"
      ]
     },
     "execution_count": 58,
     "metadata": {},
     "output_type": "execute_result"
    }
   ],
   "source": [
    "# Add response here\n",
    "table_bs.find_all('a', href = False)\n"
   ]
  },
  {
   "cell_type": "markdown",
   "id": "f4d6652a-661f-43ae-aa76-9caaa15b14ee",
   "metadata": {},
   "source": [
    "<details><summary>Click here for the solution</summary>\n",
    "\n",
    "```\n",
    "table_bs.find_all('a', href=False)\n",
    "\n",
    "```\n",
    "\n",
    "</details>\n"
   ]
  },
  {
   "cell_type": "markdown",
   "id": "64619174-a341-421d-8192-900e4707a055",
   "metadata": {},
   "source": [
    "Using the soup object <code>soup</code>, find the element with the <code>id</code> attribute content set to <code>\"boldest\"</code>.\n"
   ]
  },
  {
   "cell_type": "code",
   "execution_count": 60,
   "id": "a09177b8-7e81-4f46-a78a-51fdb169888b",
   "metadata": {},
   "outputs": [
    {
     "data": {
      "text/plain": [
       "[<html><head><title>Page Title</title></head><body><h3> <b id=\"boldest\">Lebron James</b></h3><p> Salary: $ 92,000,000 </p> <h3>Stephen Curry</h3><p> Salary: $85,000,000</p> <h3>Kevin Durant</h3><p> Salary: $73,200,000</p></body></html>,\n",
       " <head><title>Page Title</title></head>,\n",
       " <title>Page Title</title>,\n",
       " <body><h3> <b id=\"boldest\">Lebron James</b></h3><p> Salary: $ 92,000,000 </p> <h3>Stephen Curry</h3><p> Salary: $85,000,000</p> <h3>Kevin Durant</h3><p> Salary: $73,200,000</p></body>,\n",
       " <h3> <b id=\"boldest\">Lebron James</b></h3>,\n",
       " <b id=\"boldest\">Lebron James</b>,\n",
       " <p> Salary: $ 92,000,000 </p>,\n",
       " <h3>Stephen Curry</h3>,\n",
       " <p> Salary: $85,000,000</p>,\n",
       " <h3>Kevin Durant</h3>,\n",
       " <p> Salary: $73,200,000</p>]"
      ]
     },
     "execution_count": 60,
     "metadata": {},
     "output_type": "execute_result"
    }
   ],
   "source": [
    "# Add your answer here\n",
    "soup.find_all(id == \"boldest\")"
   ]
  },
  {
   "cell_type": "markdown",
   "id": "e582f918-eb48-4c51-9450-02ba7cf00764",
   "metadata": {},
   "source": [
    "<details><summary>Click here for the solution</summary>\n",
    "\n",
    "```\n",
    "soup.find_all(id=\"boldest\")\n",
    "\n",
    "```\n",
    "\n",
    "</details>\n"
   ]
  },
  {
   "cell_type": "markdown",
   "id": "5608fa56-f3ad-46c7-a799-15b0b25f5b18",
   "metadata": {},
   "source": [
    "### string\n"
   ]
  },
  {
   "cell_type": "markdown",
   "id": "24bff457-b08f-41de-b5d9-9c68369da5f7",
   "metadata": {},
   "source": [
    "With string you can search for strings instead of tags, where we find all the elments with Florida:\n"
   ]
  },
  {
   "cell_type": "code",
   "execution_count": 61,
   "id": "7b4118ac-21a6-4e0e-9d1f-996db275d2ec",
   "metadata": {},
   "outputs": [
    {
     "data": {
      "text/plain": [
       "['Florida', 'Florida']"
      ]
     },
     "execution_count": 61,
     "metadata": {},
     "output_type": "execute_result"
    }
   ],
   "source": [
    "table_bs.find_all(string=\"Florida\")"
   ]
  },
  {
   "cell_type": "markdown",
   "id": "655ff94f-7903-4f57-b78e-b7a02dfc60f8",
   "metadata": {},
   "source": [
    "## find\n"
   ]
  },
  {
   "cell_type": "markdown",
   "id": "217caad1-118c-4371-a154-4e9408516880",
   "metadata": {},
   "source": [
    "The <code>find_all()</code> method scans the entire document looking for results. It’s useful if you are looking for one element, as you can use the <code>find()</code> method to find the first element in the document. Consider the following two tables:\n"
   ]
  },
  {
   "cell_type": "code",
   "execution_count": null,
   "id": "05ae3c0f-afc2-427f-b3eb-f9bf11aab30f",
   "metadata": {},
   "outputs": [],
   "source": [
    "%%html\n",
    "<h3>Rocket Launch </h3>\n",
    "\n",
    "<p>\n",
    "<table class='rocket'>\n",
    "  <tr>\n",
    "    <td>Flight No</td>\n",
    "    <td>Launch site</td> \n",
    "    <td>Payload mass</td>\n",
    "  </tr>\n",
    "  <tr>\n",
    "    <td>1</td>\n",
    "    <td>Florida</td>\n",
    "    <td>300 kg</td>\n",
    "  </tr>\n",
    "  <tr>\n",
    "    <td>2</td>\n",
    "    <td>Texas</td>\n",
    "    <td>94 kg</td>\n",
    "  </tr>\n",
    "  <tr>\n",
    "    <td>3</td>\n",
    "    <td>Florida </td>\n",
    "    <td>80 kg</td>\n",
    "  </tr>\n",
    "</table>\n",
    "</p>\n",
    "<p>\n",
    "\n",
    "<h3>Pizza Party</h3>\n",
    "  \n",
    "    \n",
    "<table class='pizza'>\n",
    "  <tr>\n",
    "    <td>Pizza Place</td>\n",
    "    <td>Orders</td> \n",
    "    <td>Slices </td>\n",
    "   </tr>\n",
    "  <tr>\n",
    "    <td>Domino's Pizza</td>\n",
    "    <td>10</td>\n",
    "    <td>100</td>\n",
    "  </tr>\n",
    "  <tr>\n",
    "    <td>Little Caesars</td>\n",
    "    <td>12</td>\n",
    "    <td >144 </td>\n",
    "  </tr>\n",
    "  <tr>\n",
    "    <td>Papa John's </td>\n",
    "    <td>15 </td>\n",
    "    <td>165</td>\n",
    "  </tr>\n"
   ]
  },
  {
   "cell_type": "markdown",
   "id": "7cced1b3-1176-4203-a2ab-7785575b3f84",
   "metadata": {},
   "source": [
    "We store the HTML as a Python string and assign <code>two_tables</code>:\n"
   ]
  },
  {
   "cell_type": "code",
   "execution_count": 62,
   "id": "60c827e8-74da-4c7e-b1d6-8fd86ffd5ef2",
   "metadata": {},
   "outputs": [],
   "source": [
    "two_tables=\"<h3>Rocket Launch </h3> \\\n",
    "<p><table class='rocket'> \\\n",
    "<tr><td>Flight No</td><td>Launch site</td><td>Payload mass</td></tr> \\\n",
    "<tr><td>1</td><td>Florida</td><td>300 kg</td></tr> \\\n",
    "<tr><td>2</td><td>Texas</td><td>94 kg</td></tr> \\\n",
    "<tr><td>3</td><td>Florida </td><td>80 kg</td></tr></table></p>\\\n",
    "<p><h3>Pizza Party</h3> \\\n",
    "<table class='pizza'> \\\n",
    "<tr><td>Pizza Place</td><td>Orders</td><td>Slices </td></tr> \\\n",
    "<tr><td>Domino's Pizza</td><td>10</td><td>100</td></tr> \\\n",
    "<tr><td>Little Caesars</td><td>12</td><td >144 </td></tr> \\\n",
    "<tr><td>Papa John's</td><td>15 </td><td>165</td></tr>\""
   ]
  },
  {
   "cell_type": "markdown",
   "id": "c28c2fbd-561c-423f-9dcd-6e3176754834",
   "metadata": {},
   "source": [
    "We create a <code>BeautifulSoup</code> object  <code>two_tables_bs</code>\n"
   ]
  },
  {
   "cell_type": "code",
   "execution_count": 63,
   "id": "b346024e-ec95-4a2b-a79e-4f067c20e9a1",
   "metadata": {},
   "outputs": [],
   "source": [
    "two_tables_bs = BeautifulSoup(two_tables, 'html.parser')"
   ]
  },
  {
   "cell_type": "markdown",
   "id": "0de4f4f7-25c6-425b-83b1-09733172e8ed",
   "metadata": {},
   "source": [
    "We can find the first table using the tag name table\n"
   ]
  },
  {
   "cell_type": "code",
   "execution_count": 64,
   "id": "08a8f4b1-f82a-419f-8b01-bce28a1fdb5a",
   "metadata": {},
   "outputs": [
    {
     "data": {
      "text/plain": [
       "<table class=\"rocket\"> <tr><td>Flight No</td><td>Launch site</td><td>Payload mass</td></tr> <tr><td>1</td><td>Florida</td><td>300 kg</td></tr> <tr><td>2</td><td>Texas</td><td>94 kg</td></tr> <tr><td>3</td><td>Florida </td><td>80 kg</td></tr></table>"
      ]
     },
     "execution_count": 64,
     "metadata": {},
     "output_type": "execute_result"
    }
   ],
   "source": [
    "two_tables_bs.find(\"table\")"
   ]
  },
  {
   "cell_type": "markdown",
   "id": "ff76cc20-4eb7-4e91-a80b-b5faea21b2bb",
   "metadata": {},
   "source": [
    "We can filter on the class attribute to find the second table, but because class is a keyword in Python, we add an underscore to differentiate them.\n"
   ]
  },
  {
   "cell_type": "code",
   "execution_count": 65,
   "id": "484ad172-91c0-4762-9a07-16de9585865f",
   "metadata": {},
   "outputs": [
    {
     "data": {
      "text/plain": [
       "<table class=\"pizza\"> <tr><td>Pizza Place</td><td>Orders</td><td>Slices </td></tr> <tr><td>Domino's Pizza</td><td>10</td><td>100</td></tr> <tr><td>Little Caesars</td><td>12</td><td>144 </td></tr> <tr><td>Papa John's</td><td>15 </td><td>165</td></tr></table>"
      ]
     },
     "execution_count": 65,
     "metadata": {},
     "output_type": "execute_result"
    }
   ],
   "source": [
    "two_tables_bs.find(\"table\", class_='pizza')"
   ]
  },
  {
   "cell_type": "markdown",
   "id": "208fb5db-3fe4-4754-868c-a7abbd64c6c1",
   "metadata": {},
   "source": [
    "<h2 id=\"DSCW\">Downloading And Scraping The Contents Of A Web Page</h2> \n"
   ]
  },
  {
   "cell_type": "markdown",
   "id": "cf96418b-8b07-4319-a32e-c703b93dc8d5",
   "metadata": {},
   "source": [
    "We Download the contents of the web page:\n"
   ]
  },
  {
   "cell_type": "code",
   "execution_count": 66,
   "id": "4ddef28f-6ffa-4df7-8736-7f1fffc2e70b",
   "metadata": {},
   "outputs": [],
   "source": [
    "url = \"http://www.ibm.com\""
   ]
  },
  {
   "cell_type": "markdown",
   "id": "ce45c5b7-d1bd-422c-9ba0-147a76ced11c",
   "metadata": {},
   "source": [
    "We use <code>get</code> to download the contents of the webpage in text format and store in a variable called <code>data</code>:\n"
   ]
  },
  {
   "cell_type": "code",
   "execution_count": 74,
   "id": "17e2154d-011e-413f-a4f4-279c218ed2e0",
   "metadata": {},
   "outputs": [
    {
     "data": {
      "text/plain": [
       "'\\n<!DOCTYPE HTML>\\n<html lang=\"en\">\\n<head>\\r\\n    \\r\\n    \\r\\n    \\r\\n    \\r\\n    \\r\\n    \\r\\n    \\r\\n      \\r\\n    \\r\\n    \\r\\n    \\r\\n    \\r\\n    <meta charset=\"UTF-8\"/>\\r\\n    <meta name=\"languageCode\" content=\"en\"/>\\r\\n    <meta name=\"countryCode\" content=\"us\"/>\\r\\n    <meta name=\"searchTitle\" content=\"IBM - United States\"/>\\r\\n    <meta name=\"focusArea\" content=\"Cross IBM - All\"/>\\r\\n    <title>IBM - United States</title>\\r\\n      <script defer=\"defer\" type=\"text/javascript\" src=\"https://rum.hlx.page/.rum/@adobe/helix-rum-js@%5E2/dist/rum-standalone.js\" data-routing=\"program=131558,environment=1281329,tier=publish\"></script>\\n<link rel=\"icon\" sizes=\"16x16\" href=\"/content/dam/adobe-cms/default-images/icon-16x16.png\"/>\\r\\n      <link rel=\"icon\" sizes=\"32x32\" href=\"/content/dam/adobe-cms/default-images/icon-32x32.png\"/>\\r\\n      <link rel=\"icon\" sizes=\"150x150\" href=\"/content/dam/adobe-cms/default-images/icon-150x150.png\"/>\\r\\n      <link rel=\"icon\" sizes=\"192x192\" href=\"/content/dam/adobe-cms/default-images/icon-192x192.png\"/>\\r\\n      <link rel=\"icon\" sizes=\"512x512\" href=\"/content/dam/adobe-cms/default-images/icon-512x512.png\"/>\\r\\n      <link rel=\"apple-touch-icon\" sizes=\"57x57\" href=\"/content/dam/adobe-cms/default-images/apple-touch-icon-57x57.png\"/>\\r\\n      <link rel=\"apple-touch-icon\" sizes=\"76x76\" href=\"/content/dam/adobe-cms/default-images/apple-touch-icon-76x76.png\"/>\\r\\n      <link rel=\"apple-touch-icon\" sizes=\"120x120\" href=\"/content/dam/adobe-cms/default-images/apple-touch-icon-120x120.png\"/>\\r\\n      <link rel=\"apple-touch-icon\" sizes=\"152x152\" href=\"/content/dam/adobe-cms/default-images/apple-touch-icon-152x152.png\"/>\\r\\n      <link rel=\"apple-touch-icon\" sizes=\"180x180\" href=\"/content/dam/adobe-cms/default-images/apple-touch-icon-180x180.png\"/>\\r\\n\\r\\n    \\r\\n    <meta name=\"description\" content=\"For more than a century, IBM has been a global technology innovator, leading advances in AI, automation and hybrid cloud solutions that help businesses grow.\"/>\\r\\n    <meta name=\"template\" content=\"full-width-layout\"/>\\r\\n    <meta name=\"viewport\" content=\"width=device-width, initial-scale=1\"/>\\r\\n    <meta name=\"robots\" content=\"index, follow, max-image-preview:large\"/>\\r\\n    \\r\\n    \\r\\n      \\r\\n      \\r\\n      \\r\\n      \\r\\n      \\r\\n    <link rel=\"canonical\" href=\"https://www.ibm.com/\"/>\\r\\n\\r\\n    \\n    <link rel=\"preload\" href=\"/etc.clientlibs/adobe-cms/clientlibs/clientlib-masthead-container.lc-a811d0452ecefdc724c02083cb2fb6a2-lc.min.js\" as=\"script\">\\n<link rel=\"preload\" href=\"/etc.clientlibs/adobe-cms/clientlibs/clientlib-leadspace.lc-fab8cf9a2dbfda51bbc00e17bba4edad-lc.min.js\" as=\"script\">\\n\\n\\r\\n\\r\\n      \\r\\n\\r\\n      \\r\\n      <script type=\"text/javascript\">\\r\\n          !function(e, a, n, t) {\\r\\n              var i = e.head;\\r\\n              if (i) {\\r\\n                  if (a) return;\\r\\n                  var o = e.createElement(\"style\");\\r\\n                  o.id = \"alloy-prehiding\", o.innerText = n, i.appendChild(o),\\r\\n                      setTimeout(function() {\\r\\n                          o.parentNode && o.parentNode.removeChild(o)\\r\\n                      }, t)\\r\\n              }\\r\\n          }\\r\\n          (document, document.location.href.indexOf(\"adobe_authoring_enabled\") !== -1, \"body { opacity: 0 !important }\", 900);\\r\\n      </script>\\r\\n      \\r\\n    <style id=\"prevent-layout-shift-style\">\\n    c4d-masthead-container:not(:defined) {\\n        min-height: 114px; /* Reserve space before it loads */\\n        display: block !important; \\n        opacity: 0; /* Hide visually but keep space */\\n        transition: opacity 0.3s ease-in-out;\\n    }\\n\\n    c4d-masthead-container:defined {\\n        transition: opacity 0.3s ease-in-out;\\n        opacity: 1;\\n    }\\n\\n    c4d-leadspace:not(:defined) {\\n        display:none;\\n    }\\n\\n    c4d-table-of-contents:not(:defined) {\\n        display:none;\\n    }\\n\\n    c4d-link-list:not(:defined) {\\n        display:none;\\n    }\\n</style>\\r\\n\\r\\n      <script src=\"https://assets.adobedtm.com/0f2de1d5b89a/565c2aeb0d39/launch-560e54b3e83c.min.js\" type=\"text/javascript\" async=\"async\"></script>\\r\\n     <script type=\"text/javascript\" async=\"async\">\\r\\n\\tvar adobeDataLayer = window.adobeDataLayer || [];\\r\\n\\t</script>\\r\\n\\r\\n    <script type=\"text/javascript\">\\r\\n        window.searchKey = {\\r\\n            templateName: \\'full\\\\u002Dwidth\\\\u002Dlayout\\',\\r\\n            taxonomylist: \\'taxonomy : Brands \\\\/ IBM\\',\\r\\n            L0Tag: \\'Topics,Brands,Industries,Geography,Compliance Entities,Products,Events,Computer Languages,Content Format,Series,Content Type,CMaaS Focus Areas,brands,Deployment Types,Product Types,Search Index,Unified Taxonomy,topics_v2\\',\\r\\n        }\\r\\n    </script>\\r\\n\\r\\n    \\r\\n        <link rel=\"alternate\" hreflang=\"ar-sa\" href=\"https://www.ibm.com/sa-ar\"/>\\r\\n    \\r\\n        <link rel=\"alternate\" hreflang=\"de-de\" href=\"https://www.ibm.com/de-de\"/>\\r\\n    \\r\\n        <link rel=\"alternate\" hreflang=\"en-us\" href=\"https://www.ibm.com/us-en\"/>\\r\\n    \\r\\n        <link rel=\"alternate\" hreflang=\"en-ca\" href=\"https://www.ibm.com/ca-en\"/>\\r\\n    \\r\\n        <link rel=\"alternate\" hreflang=\"ko-kr\" href=\"https://www.ibm.com/kr-ko\"/>\\r\\n    \\r\\n        <link rel=\"alternate\" hreflang=\"pt-br\" href=\"https://www.ibm.com/br-pt\"/>\\r\\n    \\r\\n        <link rel=\"alternate\" hreflang=\"en-in\" href=\"https://www.ibm.com/in-en\"/>\\r\\n    \\r\\n        <link rel=\"alternate\" hreflang=\"es-es\" href=\"https://www.ibm.com/es-es\"/>\\r\\n    \\r\\n        <link rel=\"alternate\" hreflang=\"zh-cn\" href=\"https://www.ibm.com/cn-zh\"/>\\r\\n    \\r\\n        <link rel=\"alternate\" hreflang=\"es-mx\" href=\"https://www.ibm.com/mx-es\"/>\\r\\n    \\r\\n        <link rel=\"alternate\" hreflang=\"fr-ca\" href=\"https://www.ibm.com/ca-fr\"/>\\r\\n    \\r\\n        <link rel=\"alternate\" hreflang=\"it-it\" href=\"https://www.ibm.com/it-it\"/>\\r\\n    \\r\\n        <link rel=\"alternate\" hreflang=\"x-default\" href=\"https://www.ibm.com/\"/>\\r\\n    \\r\\n        <link rel=\"alternate\" hreflang=\"id-id\" href=\"https://www.ibm.com/id-id\"/>\\r\\n    \\r\\n        <link rel=\"alternate\" hreflang=\"en-au\" href=\"https://www.ibm.com/au-en\"/>\\r\\n    \\r\\n        <link rel=\"alternate\" hreflang=\"en-uk\" href=\"https://www.ibm.com/uk-en\"/>\\r\\n    \\r\\n        <link rel=\"alternate\" hreflang=\"fr-fr\" href=\"https://www.ibm.com/fr-fr\"/>\\r\\n    \\r\\n        <link rel=\"alternate\" hreflang=\"ja-jp\" href=\"https://www.ibm.com/jp-ja\"/>\\r\\n    \\r\\n\\r\\n    <script type=\"text/javascript\">\\r\\n        var languageCode = document.getElementsByName(\\'languageCode\\')[0].content;\\r\\n        var countryCode = document.getElementsByName(\\'countryCode\\')[0].content;\\r\\n        var focusArea = document.getElementsByName(\\'focusArea\\')[0].content;\\r\\n        /* Define digital data object based on _appInfo object */\\r\\n          window._ibmAnalytics = {\\r\\n              settings: {\\r\\n                 name: \"AEM Sites\",\\r\\n                 tealiumProfileName: \"aem-sites\"\\r\\n              },\\r\\n           };\\r\\n        window.digitalData = {\\r\\n            page: {\\r\\n                category: {\\r\\n                    primaryCategory: \\'\\',\\r\\n                },\\r\\n                pageInfo: {\\r\\n                    language: languageCode + \\'-\\' + countryCode,\\r\\n                    ibm: {\\r\\n                        siteID: \\'MarketingAEM\\',\\r\\n                        country: countryCode,\\r\\n                        messaging: {\\r\\n                            routing: {\\r\\n                                focusArea: focusArea,\\r\\n                                languageCode: languageCode,\\r\\n                                regionCode: countryCode\\r\\n                            },\\r\\n                            translation: {\\r\\n                                languageCode: languageCode,\\r\\n                                regionCode: countryCode\\r\\n                            }\\r\\n                        },\\r\\n                        sections: 0,\\r\\n                        patterns: 0,\\r\\n                    },\\r\\n                    carbon: {\\r\\n                        \\'@carbon/web-components\\': \\'v1.47.1\\',\\r\\n                        \\'@carbon/ibmdotcom-web-components\\': \\'v1.51.1\\',\\r\\n                        \\'carbon-for-aem\\': \\'v0.19.0\\',\\r\\n                    },\\r\\n                },\\r\\n            },\\r\\n        };\\r\\n    </script>\\r\\n    \\r\\n\\r\\n      <!-- Instana script specific to Dev environment start -->\\r\\n<!--      <script>\\r\\n          (function(s,t,a,n){s[t]||(s[t]=a,n=s[a]=function(){n.q.push(arguments)},\\r\\n          n.q=[],n.v=2,n.l=1*new Date)})(window,\"InstanaEumObject\",\"ineum\");\\r\\n\\r\\n          ineum(\\'reportingUrl\\', \\'https://eum-orange-saas.instana.io\\');\\r\\n          ineum(\\'key\\', \\'mFJnYtpBSiCKl9zenWHXtg\\');\\r\\n          ineum(\\'trackSessions\\');\\r\\n      </script>\\r\\n      <script defer crossorigin=\"anonymous\" src=https://eum.instana.io/1.7.2/eum.min.js\\r\\n              integrity=\"sha384-cgeSlevgebehPauohUhsnAeBrpjXzaj94mSv3L2EXjCQH0RRb9xSQ2ErGOWkthIJ\"></script>-->\\r\\n      <!-- Instana script specific to Dev environment end -->\\r\\n\\r\\n    \\n    \\n        <meta property=\"og:url\" content=\"https://www.ibm.com/\"/>\\n    \\n        <meta property=\"og:type\" content=\"website\"/>\\n    \\n        <meta property=\"og:title\" content=\"IBM - United States\"/>\\n    \\n        <meta property=\"og:description\" content=\"For more than a century, IBM has been a global technology innovator, leading advances in AI, automation and hybrid cloud solutions that help businesses grow.\"/>\\n    \\n        <meta property=\"og:image\" content=\"https://www.ibm.com/content/dam/connectedassets-adobe-cms/worldwide-content/creative-assets/s-migr/ul/g/18/f9/ibm_logo_pos_blue60_rgb.png/_jcr_content/renditions/cq5dam.thumbnail.1280.1280.png\"/>\\n    \\n        \\n    \\n\\r\\n    <script src=\"https://1.www.s81c.com/common/stats/ibm-common.js\" type=\"text/javascript\" async=\"async\"></script>\\r\\n\\r\\n    <link rel=\"preload\" href=\"https://hybrid-cloud-widgets-production.s3.us.cloud-object-storage.appdomain.cloud/loader.js\" as=\"script\"/>\\r\\n    <script src=\"https://hybrid-cloud-widgets-production.s3.us.cloud-object-storage.appdomain.cloud/loader.js\" type=\"application/javascript\"></script>\\r\\n\\r\\n    \\n    \\n    \\n<link rel=\"stylesheet\" href=\"/etc.clientlibs/adobe-cms/clientlibs/clientlib-base.lc-30313e00669f877069f15dd099f23454-lc.min.css\" type=\"text/css\">\\n<link rel=\"stylesheet\" href=\"/etc.clientlibs/adobe-cms/clientlibs/clientlib-idlStylesCarbon.lc-cb338454784b041f689bc70d1113fcc5-lc.min.css\" type=\"text/css\">\\n<link rel=\"stylesheet\" href=\"/etc.clientlibs/adobe-cms/clientlibs/clientlib-idlStyles.lc-d33b8c2bfcc2116a37f7357e10fd1de1-lc.min.css\" type=\"text/css\">\\n\\n\\n\\n    \\n    <link rel=\"stylesheet\" href=\"https://1.www.s81c.com/common/carbon-for-ibm-dotcom/tag/v1/latest/plex.css\"/>\\n    <link rel=\"stylesheet\" href=\"https://1.www.s81c.com/common/carbon/plex/sans.css\"/>\\n    \\n    \\n\\n\\r\\n    \\n    \\n    \\n\\n    \\n\\n    \\n\\n\\n\\n    \\n    \\n    \\n\\n\\n\\n    \\n\\r\\n    \\r\\n\\r\\n</head>\\n<body class=\"content-page page basicpage publish\" id=\"content-page-c8104b3589\" data-fullwidthtemplate=\"true\">\\n\\n\\n\\n    \\n\\n\\n\\n\\n    \\n\\n\\n\\n    \\n<c4d-video-cta-container>\\n     <div class=\"root container responsivegrid\">\\n\\n    \\n    \\n    \\n    <div id=\"container-9225520bd9\" class=\"cmp-container\">\\n        \\n        <div class=\"masthead\">\\r\\n\\r\\n\\r\\n\\r\\n\\r\\n\\r\\n\\r\\n<c4d-masthead-container data-endpoint=\"#\" auth-method=\"profile-api\" has-contact=\"true\" has-profile has-search has-cart></c4d-masthead-container>\\r\\n\\r\\n\\r\\n\\n    <script defer src=\"/etc.clientlibs/adobe-cms/clientlibs/clientlib-masthead-container.lc-a811d0452ecefdc724c02083cb2fb6a2-lc.min.js\"></script>\\n\\n\\r\\n\\r\\n<script>\\r\\n    let l0Json = \"{\\\\x22profileMenu\\\\x22:{\\\\x22signedout\\\\x22:[{\\\\x22title\\\\x22:\\\\x22My IBM\\\\x22,\\\\x22url\\\\x22:\\\\x22https:\\\\/\\\\/myibm.ibm.com\\\\/?lnk=mmi\\\\x22},{\\\\x22title\\\\x22:\\\\x22Log in\\\\x22,\\\\x22url\\\\x22:\\\\x22https:\\\\/\\\\/login.ibm.com\\\\/oidc\\\\/endpoint\\\\/default\\\\/authorize?redirect_uri=https%3A%2F%2Fmyibm.ibm.com%2FOIDCHandler.html\\\\x26response_type=token\\\\x26client_id=v18LoginProdCI\\\\x26scope=openid\\\\x26state=https%3A%2F%2Fwww.ibm.com\\\\x26nonce=8675309\\\\x22}],\\\\x22signedin\\\\x22:[{\\\\x22title\\\\x22:\\\\x22My IBM\\\\x22,\\\\x22url\\\\x22:\\\\x22https:\\\\/\\\\/myibm.ibm.com\\\\/?lnk=mmi\\\\x22},{\\\\x22title\\\\x22:\\\\x22Log in\\\\x22,\\\\x22url\\\\x22:\\\\x22https:\\\\/\\\\/login.ibm.com\\\\/oidc\\\\/endpoint\\\\/default\\\\/authorize?redirect_uri=https%3A%2F%2Fmyibm.ibm.com%2FOIDCHandler.html\\\\x26response_type=token\\\\x26client_id=v18LoginProdCI\\\\x26scope=openid\\\\x26state=https%3A%2F%2Fwww.ibm.com\\\\x26nonce=8675309\\\\x22}]},\\\\x22mastheadNav\\\\x22:{\\\\x22links\\\\x22:[{\\\\x22title\\\\x22:\\\\x22AI\\\\x22,\\\\x22url\\\\x22:\\\\x22\\\\x22,\\\\x22submenu\\\\x22:{\\\\x22sections\\\\x22:[{\\\\x22heading\\\\x22:{\\\\x22title\\\\x22:\\\\x22\\\\x22,\\\\x22description\\\\x22:\\\\x22\\\\x22},\\\\x22groups\\\\x22:[{\\\\x22heading\\\\x22:{\\\\x22title\\\\x22:\\\\x22Overview\\\\x22,\\\\x22url\\\\x22:\\\\x22https:\\\\/\\\\/www.ibm.com\\\\/artificial\\\\u002Dintelligence\\\\x22,\\\\x22description\\\\x22:\\\\x22\\\\x22},\\\\x22links\\\\x22:[]},{\\\\x22heading\\\\x22:{\\\\x22title\\\\x22:\\\\x22Consulting\\\\x22,\\\\x22url\\\\x22:\\\\x22https:\\\\/\\\\/www.ibm.com\\\\/consulting\\\\/artificial\\\\u002Dintelligence\\\\x22,\\\\x22description\\\\x22:\\\\x22\\\\x22},\\\\x22links\\\\x22:[]},{\\\\x22heading\\\\x22:{\\\\x22title\\\\x22:\\\\x22watsonx\\\\x22,\\\\x22url\\\\x22:\\\\x22https:\\\\/\\\\/www.ibm.com\\\\/watsonx\\\\x22,\\\\x22description\\\\x22:\\\\x22\\\\x22},\\\\x22links\\\\x22:[]},{\\\\x22heading\\\\x22:{\\\\x22title\\\\x22:\\\\x22Research\\\\x22,\\\\x22url\\\\x22:\\\\x22https:\\\\/\\\\/research.ibm.com\\\\/artificial\\\\u002Dintelligence\\\\x22,\\\\x22description\\\\x22:\\\\x22\\\\x22},\\\\x22links\\\\x22:[]},{\\\\x22heading\\\\x22:{\\\\x22title\\\\x22:\\\\x22Assistants\\\\x22,\\\\x22url\\\\x22:\\\\x22https:\\\\/\\\\/www.ibm.com\\\\/ai\\\\u002Dassistants\\\\x22,\\\\x22description\\\\x22:\\\\x22\\\\x22},\\\\x22links\\\\x22:[]},{\\\\x22heading\\\\x22:{\\\\x22title\\\\x22:\\\\x22Ethics and governance\\\\x22,\\\\x22url\\\\x22:\\\\x22https:\\\\/\\\\/www.ibm.com\\\\/impact\\\\/ai\\\\u002Dethics\\\\x22,\\\\x22description\\\\x22:\\\\x22\\\\x22},\\\\x22links\\\\x22:[]},{\\\\x22heading\\\\x22:{\\\\x22title\\\\x22:\\\\x22Granite models\\\\x22,\\\\x22url\\\\x22:\\\\x22https:\\\\/\\\\/www.ibm.com\\\\/granite\\\\x22,\\\\x22description\\\\x22:\\\\x22\\\\x22},\\\\x22links\\\\x22:[]}]}],\\\\x22viewAll\\\\x22:{\\\\x22title\\\\x22:\\\\x22\\\\x22,\\\\x22url\\\\x22:\\\\x22\\\\x22}}},{\\\\x22title\\\\x22:\\\\x22Hybrid Cloud\\\\x22,\\\\x22url\\\\x22:\\\\x22\\\\x22,\\\\x22submenu\\\\x22:{\\\\x22sections\\\\x22:[{\\\\x22heading\\\\x22:{\\\\x22title\\\\x22:\\\\x22\\\\x22,\\\\x22description\\\\x22:\\\\x22\\\\x22},\\\\x22groups\\\\x22:[{\\\\x22heading\\\\x22:{\\\\x22title\\\\x22:\\\\x22Overview\\\\x22,\\\\x22url\\\\x22:\\\\x22https:\\\\/\\\\/www.ibm.com\\\\/hybrid\\\\u002Dcloud\\\\x22,\\\\x22description\\\\x22:\\\\x22\\\\x22},\\\\x22links\\\\x22:[]},{\\\\x22heading\\\\x22:{\\\\x22title\\\\x22:\\\\x22Quantum computing\\\\x22,\\\\x22url\\\\x22:\\\\x22https:\\\\/\\\\/www.ibm.com\\\\/quantum\\\\x22,\\\\x22description\\\\x22:\\\\x22\\\\x22},\\\\x22links\\\\x22:[]},{\\\\x22heading\\\\x22:{\\\\x22title\\\\x22:\\\\x22Cloud platform\\\\x22,\\\\x22url\\\\x22:\\\\x22https:\\\\/\\\\/www.ibm.com\\\\/cloud\\\\x22,\\\\x22description\\\\x22:\\\\x22\\\\x22},\\\\x22links\\\\x22:[]},{\\\\x22heading\\\\x22:{\\\\x22title\\\\x22:\\\\x22Research\\\\x22,\\\\x22url\\\\x22:\\\\x22https:\\\\/\\\\/research.ibm.com\\\\/hybrid\\\\u002Dcloud\\\\x22,\\\\x22description\\\\x22:\\\\x22\\\\x22},\\\\x22links\\\\x22:[]},{\\\\x22heading\\\\x22:{\\\\x22title\\\\x22:\\\\x22Consulting\\\\x22,\\\\x22url\\\\x22:\\\\x22https:\\\\/\\\\/www.ibm.com\\\\/cloud\\\\/transformation\\\\x22,\\\\x22description\\\\x22:\\\\x22\\\\x22},\\\\x22links\\\\x22:[]},{\\\\x22heading\\\\x22:{\\\\x22title\\\\x22:\\\\x22\\\\x22,\\\\x22description\\\\x22:\\\\x22\\\\x22},\\\\x22links\\\\x22:[]}]}],\\\\x22viewAll\\\\x22:{\\\\x22title\\\\x22:\\\\x22\\\\x22,\\\\x22url\\\\x22:\\\\x22\\\\x22}}},{\\\\x22title\\\\x22:\\\\x22Products\\\\x22,\\\\x22url\\\\x22:\\\\x22\\\\x22,\\\\x22submenu\\\\x22:{\\\\x22sections\\\\x22:[{\\\\x22heading\\\\x22:{\\\\x22title\\\\x22:\\\\x22Featured\\\\x22,\\\\x22description\\\\x22:\\\\x22\\\\x22},\\\\x22groups\\\\x22:[{\\\\x22heading\\\\x22:{\\\\x22title\\\\x22:\\\\x22\\\\x22,\\\\x22description\\\\x22:\\\\x22\\\\x22},\\\\x22links\\\\x22:[{\\\\x22title\\\\x22:\\\\x22API Connect\\\\x22,\\\\x22url\\\\x22:\\\\x22https:\\\\/\\\\/www.ibm.com\\\\/products\\\\/api\\\\u002Dconnect?lnk=flatitem\\\\x26test=1234\\\\x22,\\\\x22description\\\\x22:\\\\x22Software to rapidly create, protect, socialize and manage APIs\\\\x22},{\\\\x22title\\\\x22:\\\\x22Concert\\\\x22,\\\\x22url\\\\x22:\\\\x22https:\\\\/\\\\/www.ibm.com\\\\/products\\\\/concert?lnk=flatitem\\\\x22,\\\\x22description\\\\x22:\\\\x22Software to simplify and optimize application management\\\\x22},{\\\\x22title\\\\x22:\\\\x22Environmental Intelligence\\\\x22,\\\\x22url\\\\x22:\\\\x22https:\\\\/\\\\/www.ibm.com\\\\/products\\\\/environmental\\\\u002Dintelligence?lnk=flatitem\\\\x22,\\\\x22description\\\\x22:\\\\x22SaaS for predicting and responding to weather and climate events\\\\x22},{\\\\x22title\\\\x22:\\\\x22Envizi\\\\x22,\\\\x22url\\\\x22:\\\\x22https:\\\\/\\\\/www.ibm.com\\\\/products\\\\/envizi?lnk=flatitem\\\\x22,\\\\x22description\\\\x22:\\\\x22ESG data management, reporting and analysis SaaS\\\\x22},{\\\\x22title\\\\x22:\\\\x22FlashSystem\\\\x22,\\\\x22url\\\\x22:\\\\x22https:\\\\/\\\\/www.ibm.com\\\\/flashsystem?lnk=flatitem\\\\x22,\\\\x22description\\\\x22:\\\\x22Primary storage for performance and latency sensitive workloads\\\\x22},{\\\\x22title\\\\x22:\\\\x22HashiCorp\\\\x22,\\\\x22url\\\\x22:\\\\x22https:\\\\/\\\\/www.ibm.com\\\\/products\\\\/hashicorp?lnk=flatitem\\\\x22,\\\\x22description\\\\x22:\\\\x22Manage cloud infrastructure and security\\\\x22},{\\\\x22title\\\\x22:\\\\x22IBM Cloud\\\\x22,\\\\x22url\\\\x22:\\\\x22https:\\\\/\\\\/www.ibm.com\\\\/cloud?lnk=flatitem\\\\x22,\\\\x22description\\\\x22:\\\\x22On\\\\u002Ddemand cloud computing platform and APIs\\\\x22},{\\\\x22title\\\\x22:\\\\x22IBM Z\\\\x22,\\\\x22url\\\\x22:\\\\x22https:\\\\/\\\\/www.ibm.com\\\\/z?lnk=flatitem\\\\x22,\\\\x22description\\\\x22:\\\\x22Flagship mainframe with on\\\\u002Dchip AI and quantum\\\\u002Dsafe cryptography\\\\x22},{\\\\x22title\\\\x22:\\\\x22Instana\\\\x22,\\\\x22url\\\\x22:\\\\x22https:\\\\/\\\\/www.ibm.com\\\\/products\\\\/instana?lnk=flatitem\\\\x22,\\\\x22description\\\\x22:\\\\x22Software for application performance monitoring and automation\\\\x22},{\\\\x22title\\\\x22:\\\\x22MaaS360\\\\x22,\\\\x22url\\\\x22:\\\\x22https:\\\\/\\\\/www.ibm.com\\\\/products\\\\/maas360?lnk=flatitem\\\\x22,\\\\x22description\\\\x22:\\\\x22Unified endpoint management software for many device types\\\\x22},{\\\\x22title\\\\x22:\\\\x22Maximo\\\\x22,\\\\x22url\\\\x22:\\\\x22https:\\\\/\\\\/www.ibm.com\\\\/products\\\\/maximo?lnk=flatitem\\\\x22,\\\\x22description\\\\x22:\\\\x22Software for asset management and related workflows\\\\x22},{\\\\x22title\\\\x22:\\\\x22Planning Analytics\\\\x22,\\\\x22url\\\\x22:\\\\x22https:\\\\/\\\\/www.ibm.com\\\\/products\\\\/planning\\\\u002Danalytics?lnk=flatitem\\\\x22,\\\\x22description\\\\x22:\\\\x22Software to automate financial and operational planning\\\\x22},{\\\\x22title\\\\x22:\\\\x22Robotic Process Automation (RPA)\\\\x22,\\\\x22url\\\\x22:\\\\x22https:\\\\/\\\\/www.ibm.com\\\\/products\\\\/robotic\\\\u002Dprocess\\\\u002Dautomation?lnk=flatitem\\\\x22,\\\\x22description\\\\x22:\\\\x22Software to automate workflows and business processes\\\\x22},{\\\\x22title\\\\x22:\\\\x22Storage Defender\\\\x22,\\\\x22url\\\\x22:\\\\x22https:\\\\/\\\\/www.ibm.com\\\\/products\\\\/storage\\\\u002Ddefender?lnk=flatitem\\\\x22,\\\\x22description\\\\x22:\\\\x22Data resiliency software for threat detection and data recovery\\\\x22},{\\\\x22title\\\\x22:\\\\x22Turbonomic\\\\x22,\\\\x22url\\\\x22:\\\\x22https:\\\\/\\\\/www.ibm.com\\\\/products\\\\/turbonomic?lnk=flatitem\\\\x22,\\\\x22description\\\\x22:\\\\x22Software to manage and optimize IT resource usage\\\\x22},{\\\\x22title\\\\x22:\\\\x22watsonx\\\\x22,\\\\x22url\\\\x22:\\\\x22https:\\\\/\\\\/www.ibm.com\\\\/watsonx?lnk=flatitem\\\\x22,\\\\x22description\\\\x22:\\\\x22AI and data platform\\\\x22},{\\\\x22title\\\\x22:\\\\x22watsonx Assistant\\\\x22,\\\\x22url\\\\x22:\\\\x22https:\\\\/\\\\/www.ibm.com\\\\/products\\\\/watsonx\\\\u002Dassistant?lnk=flatitem\\\\x22,\\\\x22description\\\\x22:\\\\x22Virtual agents customizable to any domain\\\\x22},{\\\\x22title\\\\x22:\\\\x22watsonx Orchestrate\\\\x22,\\\\x22url\\\\x22:\\\\x22https:\\\\/\\\\/www.ibm.com\\\\/products\\\\/watsonx\\\\u002Dorchestrate?lnk=flatitem\\\\x22,\\\\x22description\\\\x22:\\\\x22Personal\\\\u002Dassistant software that automates repetitive tasks\\\\x22}]}]},{\\\\x22heading\\\\x22:{\\\\x22title\\\\x22:\\\\x22AI \\\\x26 machine learning\\\\x22,\\\\x22url\\\\x22:\\\\x22https:\\\\/\\\\/www.ibm.com\\\\/artificial\\\\u002Dintelligence?lnk=flathl\\\\x22,\\\\x22description\\\\x22:\\\\x22Use IBM Watson’s AI or build your own machine learning models\\\\x22},\\\\x22groups\\\\x22:[{\\\\x22heading\\\\x22:{\\\\x22title\\\\x22:\\\\x22\\\\x22,\\\\x22description\\\\x22:\\\\x22\\\\x22},\\\\x22links\\\\x22:[{\\\\x22title\\\\x22:\\\\x22Cloud Pak for Data\\\\x22,\\\\x22url\\\\x22:\\\\x22https:\\\\/\\\\/www.ibm.com\\\\/products\\\\/cloud\\\\u002Dpak\\\\u002Dfor\\\\u002Ddata?lnk=flatitem\\\\x22,\\\\x22description\\\\x22:\\\\x22Tools for data analysis, organization and management\\\\x22},{\\\\x22title\\\\x22:\\\\x22Knowledge Catalog\\\\x22,\\\\x22url\\\\x22:\\\\x22https:\\\\/\\\\/www.ibm.com\\\\/products\\\\/knowledge\\\\u002Dcatalog?lnk=flatitem\\\\x22,\\\\x22description\\\\x22:\\\\x22SaaS to catalog data, AI models, metadata, policies and more\\\\x22},{\\\\x22title\\\\x22:\\\\x22Watson Discovery\\\\x22,\\\\x22url\\\\x22:\\\\x22https:\\\\/\\\\/www.ibm.com\\\\/products\\\\/watson\\\\u002Ddiscovery?lnk=flatitem\\\\x22,\\\\x22description\\\\x22:\\\\x22AI to search in and answer questions about business documents\\\\x22},{\\\\x22title\\\\x22:\\\\x22Watson Natural Language Understanding\\\\x22,\\\\x22url\\\\x22:\\\\x22https:\\\\/\\\\/www.ibm.com\\\\/products\\\\/natural\\\\u002Dlanguage\\\\u002Dunderstanding?lnk=flatitem\\\\x22,\\\\x22description\\\\x22:\\\\x22API for text analysis and metadata extraction\\\\x22},{\\\\x22title\\\\x22:\\\\x22Watson Speech to Text\\\\x22,\\\\x22url\\\\x22:\\\\x22https:\\\\/\\\\/www.ibm.com\\\\/products\\\\/speech\\\\u002Dto\\\\u002Dtext?lnk=flatitem\\\\x22,\\\\x22description\\\\x22:\\\\x22API for real\\\\u002Dtime speech recognition and transcription\\\\x22},{\\\\x22title\\\\x22:\\\\x22Watson Studio\\\\x22,\\\\x22url\\\\x22:\\\\x22https:\\\\/\\\\/www.ibm.com\\\\/products\\\\/watson\\\\u002Dstudio?lnk=flatitem\\\\x22,\\\\x22description\\\\x22:\\\\x22IDE to build, run and manage AI models\\\\x22},{\\\\x22title\\\\x22:\\\\x22Watson Text to Speech\\\\x22,\\\\x22url\\\\x22:\\\\x22https:\\\\/\\\\/www.ibm.com\\\\/products\\\\/text\\\\u002Dto\\\\u002Dspeech?lnk=flatitem\\\\x22,\\\\x22description\\\\x22:\\\\x22API for real\\\\u002Dtime text to speech conversion\\\\x22},{\\\\x22title\\\\x22:\\\\x22Z Anomaly Analytics\\\\x22,\\\\x22url\\\\x22:\\\\x22https:\\\\/\\\\/www.ibm.com\\\\/products\\\\/z\\\\u002Danomaly\\\\u002Danalytics?lnk=flatitem\\\\x22,\\\\x22description\\\\x22:\\\\x22Operational anomaly detection software for mainframes\\\\x22},{\\\\x22title\\\\x22:\\\\x22watsonx\\\\x22,\\\\x22url\\\\x22:\\\\x22https:\\\\/\\\\/www.ibm.com\\\\/watsonx?lnk=flatitem\\\\x22,\\\\x22description\\\\x22:\\\\x22AI and data platform\\\\x22},{\\\\x22title\\\\x22:\\\\x22watsonx Assistant\\\\x22,\\\\x22url\\\\x22:\\\\x22https:\\\\/\\\\/www.ibm.com\\\\/products\\\\/watsonx\\\\u002Dassistant?lnk=flatitem\\\\x22,\\\\x22description\\\\x22:\\\\x22Virtual agents customizable to any domain\\\\x22},{\\\\x22title\\\\x22:\\\\x22watsonx Code Assistant\\\\x22,\\\\x22url\\\\x22:\\\\x22https:\\\\/\\\\/www.ibm.com\\\\/products\\\\/watsonx\\\\u002Dcode\\\\u002Dassistant?lnk=flatitem\\\\x22,\\\\x22description\\\\x22:\\\\x22AI tool to generate code\\\\x22},{\\\\x22title\\\\x22:\\\\x22watsonx Orders\\\\x22,\\\\x22url\\\\x22:\\\\x22https:\\\\/\\\\/www.ibm.com\\\\/products\\\\/watsonx\\\\u002Dorders?lnk=flatitem\\\\x22,\\\\x22description\\\\x22:\\\\x22AI voice agent for taking restaurant orders\\\\x22}]}]},{\\\\x22heading\\\\x22:{\\\\x22title\\\\x22:\\\\x22Analytics\\\\x22,\\\\x22url\\\\x22:\\\\x22https:\\\\/\\\\/www.ibm.com\\\\/analytics?lnk=flathl\\\\x22,\\\\x22description\\\\x22:\\\\x22Aggregate and analyze large datasets\\\\x22},\\\\x22groups\\\\x22:[{\\\\x22heading\\\\x22:{\\\\x22title\\\\x22:\\\\x22\\\\x22,\\\\x22description\\\\x22:\\\\x22\\\\x22},\\\\x22links\\\\x22:[{\\\\x22title\\\\x22:\\\\x22Business Analytics Enterprise\\\\x22,\\\\x22url\\\\x22:\\\\x22https:\\\\/\\\\/www.ibm.com\\\\/products\\\\/business\\\\u002Danalytics\\\\u002Denterprise?lnk=flatitem\\\\x22,\\\\x22description\\\\x22:\\\\x22Software for business planning and analysis\\\\x22},{\\\\x22title\\\\x22:\\\\x22CPLEX\\\\x22,\\\\x22url\\\\x22:\\\\x22https:\\\\/\\\\/www.ibm.com\\\\/products\\\\/ilog\\\\u002Dcplex\\\\u002Doptimization\\\\u002Dstudio?lnk=flatitem\\\\x22,\\\\x22description\\\\x22:\\\\x22Software to build and solve complex optimization models\\\\x22},{\\\\x22title\\\\x22:\\\\x22Cloud Pak for Data\\\\x22,\\\\x22url\\\\x22:\\\\x22https:\\\\/\\\\/www.ibm.com\\\\/products\\\\/cloud\\\\u002Dpak\\\\u002Dfor\\\\u002Ddata?lnk=flatitem\\\\x22,\\\\x22description\\\\x22:\\\\x22Tools for data analysis, organization and management\\\\x22},{\\\\x22title\\\\x22:\\\\x22Cognos Analytics\\\\x22,\\\\x22url\\\\x22:\\\\x22https:\\\\/\\\\/www.ibm.com\\\\/products\\\\/cognos\\\\u002Danalytics?lnk=flatitem\\\\x22,\\\\x22description\\\\x22:\\\\x22Software for business intelligence and performance management\\\\x22},{\\\\x22title\\\\x22:\\\\x22Databand\\\\x22,\\\\x22url\\\\x22:\\\\x22https:\\\\/\\\\/www.ibm.com\\\\/products\\\\/databand?lnk=flatitem\\\\x22,\\\\x22description\\\\x22:\\\\x22Data observability software for data engineers and DataOps teams\\\\x22},{\\\\x22title\\\\x22:\\\\x22InfoSphere Information Server\\\\x22,\\\\x22url\\\\x22:\\\\x22https:\\\\/\\\\/www.ibm.com\\\\/information\\\\u002Dserver?lnk=flatitem\\\\x22,\\\\x22description\\\\x22:\\\\x22Data integration suite for ETL, governance and analysis\\\\x22},{\\\\x22title\\\\x22:\\\\x22Manta Data Lineage\\\\x22,\\\\x22url\\\\x22:\\\\x22https:\\\\/\\\\/www.ibm.com\\\\/products\\\\/manta\\\\u002Ddata\\\\u002Dlineage?lnk=flatitem\\\\x22,\\\\x22description\\\\x22:\\\\x22Software to visualize the flow of data from origin to consumption\\\\x22},{\\\\x22title\\\\x22:\\\\x22Netezza\\\\x22,\\\\x22url\\\\x22:\\\\x22https:\\\\/\\\\/www.ibm.com\\\\/products\\\\/netezza?lnk=flatitem\\\\x22,\\\\x22description\\\\x22:\\\\x22Data warehousing and analytics system on custom hardware\\\\x22},{\\\\x22title\\\\x22:\\\\x22Optim\\\\x22,\\\\x22url\\\\x22:\\\\x22https:\\\\/\\\\/www.ibm.com\\\\/infosphere\\\\u002Doptim?lnk=flatitem\\\\x22,\\\\x22description\\\\x22:\\\\x22Software to manage test, production, and archived data\\\\x22},{\\\\x22title\\\\x22:\\\\x22Planning Analytics\\\\x22,\\\\x22url\\\\x22:\\\\x22https:\\\\/\\\\/www.ibm.com\\\\/products\\\\/planning\\\\u002Danalytics?lnk=flatitem\\\\x22,\\\\x22description\\\\x22:\\\\x22Software to automate financial and operational planning\\\\x22},{\\\\x22title\\\\x22:\\\\x22SPSS\\\\x22,\\\\x22url\\\\x22:\\\\x22https:\\\\/\\\\/www.ibm.com\\\\/spss?lnk=flatitem\\\\x22,\\\\x22description\\\\x22:\\\\x22Software for statistical analysis and business intelligence\\\\x22},{\\\\x22title\\\\x22:\\\\x22Spectrum Computing\\\\x22,\\\\x22url\\\\x22:\\\\x22https:\\\\/\\\\/www.ibm.com\\\\/high\\\\u002Dperformance\\\\u002Dcomputing?lnk=flatitem\\\\x22,\\\\x22description\\\\x22:\\\\x22Software to optimize resources in complex computing clusters\\\\x22},{\\\\x22title\\\\x22:\\\\x22StreamSets\\\\x22,\\\\x22url\\\\x22:\\\\x22https:\\\\/\\\\/www.ibm.com\\\\/products\\\\/streamsets?lnk=flatitem\\\\x22,\\\\x22description\\\\x22:\\\\x22Graphical interface to build and manage streaming data pipelines\\\\x22},{\\\\x22title\\\\x22:\\\\x22Watson Discovery\\\\x22,\\\\x22url\\\\x22:\\\\x22https:\\\\/\\\\/www.ibm.com\\\\/products\\\\/watson\\\\u002Ddiscovery?lnk=flatitem\\\\x22,\\\\x22description\\\\x22:\\\\x22AI to search in and answer questions about business documents\\\\x22},{\\\\x22title\\\\x22:\\\\x22Watson Studio\\\\x22,\\\\x22url\\\\x22:\\\\x22https:\\\\/\\\\/www.ibm.com\\\\/products\\\\/watson\\\\u002Dstudio?lnk=flatitem\\\\x22,\\\\x22description\\\\x22:\\\\x22IDE to build, run and manage AI models\\\\x22}]}]},{\\\\x22heading\\\\x22:{\\\\x22title\\\\x22:\\\\x22Asset lifecycle management\\\\x22,\\\\x22url\\\\x22:\\\\x22https:\\\\/\\\\/www.ibm.com\\\\/asset\\\\u002Dlifecycle\\\\u002Dmanagement\\\\x22,\\\\x22description\\\\x22:\\\\x22Manage and maintain physical assets\\\\x22},\\\\x22groups\\\\x22:[{\\\\x22heading\\\\x22:{\\\\x22title\\\\x22:\\\\x22\\\\x22,\\\\x22description\\\\x22:\\\\x22\\\\x22},\\\\x22links\\\\x22:[{\\\\x22title\\\\x22:\\\\x22Environmental Intelligence\\\\x22,\\\\x22url\\\\x22:\\\\x22https:\\\\/\\\\/www.ibm.com\\\\/products\\\\/environmental\\\\u002Dintelligence?lnk=flatitem\\\\x22,\\\\x22description\\\\x22:\\\\x22SaaS for predicting and responding to weather and climate events\\\\x22},{\\\\x22title\\\\x22:\\\\x22Envizi\\\\x22,\\\\x22url\\\\x22:\\\\x22https:\\\\/\\\\/www.ibm.com\\\\/products\\\\/envizi?lnk=flatitem\\\\x22,\\\\x22description\\\\x22:\\\\x22ESG data management, reporting and analysis SaaS\\\\x22},{\\\\x22title\\\\x22:\\\\x22Maximo\\\\x22,\\\\x22url\\\\x22:\\\\x22https:\\\\/\\\\/www.ibm.com\\\\/products\\\\/maximo?lnk=flatitem\\\\x22,\\\\x22description\\\\x22:\\\\x22Software for asset management and related workflows\\\\x22},{\\\\x22title\\\\x22:\\\\x22TRIRIGA\\\\x22,\\\\x22url\\\\x22:\\\\x22https:\\\\/\\\\/www.ibm.com\\\\/products\\\\/tririga?lnk=flatitem\\\\x22,\\\\x22description\\\\x22:\\\\x22Software for real estate and workplace management\\\\x22}]}]},{\\\\x22heading\\\\x22:{\\\\x22title\\\\x22:\\\\x22Business automation\\\\x22,\\\\x22description\\\\x22:\\\\x22Automate workflows and business processes\\\\x22},\\\\x22groups\\\\x22:[{\\\\x22heading\\\\x22:{\\\\x22title\\\\x22:\\\\x22\\\\x22,\\\\x22description\\\\x22:\\\\x22\\\\x22},\\\\x22links\\\\x22:[{\\\\x22title\\\\x22:\\\\x22Blueworks Live\\\\x22,\\\\x22url\\\\x22:\\\\x22https:\\\\/\\\\/www.ibm.com\\\\/products\\\\/blueworkslive?lnk=flatitem\\\\x22,\\\\x22description\\\\x22:\\\\x22SaaS for collaboratively modeling business processes\\\\x22},{\\\\x22title\\\\x22:\\\\x22Business Automation Manager Open Editions\\\\x22,\\\\x22url\\\\x22:\\\\x22https:\\\\/\\\\/www.ibm.com\\\\/products\\\\/business\\\\u002Dautomation\\\\u002Dmanager\\\\u002Dopen\\\\u002Deditions?lnk=flatitem\\\\x22,\\\\x22description\\\\x22:\\\\x22Workflow automation and decision management software\\\\x22},{\\\\x22title\\\\x22:\\\\x22Business Automation Workflow\\\\x22,\\\\x22url\\\\x22:\\\\x22https:\\\\/\\\\/www.ibm.com\\\\/products\\\\/business\\\\u002Dautomation\\\\u002Dworkflow?lnk=flatitem\\\\x22,\\\\x22description\\\\x22:\\\\x22Cloud Pak for Business Automation add\\\\u002Don to automate workflows\\\\x22},{\\\\x22title\\\\x22:\\\\x22Cloud Pak for Business Automation\\\\x22,\\\\x22url\\\\x22:\\\\x22https:\\\\/\\\\/www.ibm.com\\\\/products\\\\/cloud\\\\u002Dpak\\\\u002Dfor\\\\u002Dbusiness\\\\u002Dautomation?lnk=flatitem\\\\x22,\\\\x22description\\\\x22:\\\\x22Operations management software with AI insights\\\\x22},{\\\\x22title\\\\x22:\\\\x22Datacap\\\\x22,\\\\x22url\\\\x22:\\\\x22https:\\\\/\\\\/www.ibm.com\\\\/products\\\\/data\\\\u002Dcapture\\\\u002Dand\\\\u002Dimaging?lnk=flatitem\\\\x22,\\\\x22description\\\\x22:\\\\x22Document management for IBM Cloud Pak for Business Automation\\\\x22},{\\\\x22title\\\\x22:\\\\x22Event Automation\\\\x22,\\\\x22url\\\\x22:\\\\x22https:\\\\/\\\\/www.ibm.com\\\\/products\\\\/event\\\\u002Dautomation?lnk=flatitem\\\\x22,\\\\x22description\\\\x22:\\\\x22No\\\\u002Dcode tool for building automated event driven workflows\\\\x22},{\\\\x22title\\\\x22:\\\\x22FileNet Content Manager\\\\x22,\\\\x22url\\\\x22:\\\\x22https:\\\\/\\\\/www.ibm.com\\\\/products\\\\/filenet\\\\u002Dcontent\\\\u002Dmanager?lnk=flatitem\\\\x22,\\\\x22description\\\\x22:\\\\x22Content management solution for Cloud Pak for Business Automation\\\\x22},{\\\\x22title\\\\x22:\\\\x22Operational Decision Manager\\\\x22,\\\\x22url\\\\x22:\\\\x22https:\\\\/\\\\/www.ibm.com\\\\/products\\\\/operational\\\\u002Ddecision\\\\u002Dmanager?lnk=flatitem\\\\x22,\\\\x22description\\\\x22:\\\\x22Cloud Pak for Business Automation addon for rule\\\\u002Dbased decisions\\\\x22},{\\\\x22title\\\\x22:\\\\x22Process Mining\\\\x22,\\\\x22url\\\\x22:\\\\x22https:\\\\/\\\\/www.ibm.com\\\\/products\\\\/process\\\\u002Dmining?lnk=flatitem\\\\x22,\\\\x22description\\\\x22:\\\\x22Software to extract process data from business applications\\\\x22},{\\\\x22title\\\\x22:\\\\x22Robotic Process Automation (RPA)\\\\x22,\\\\x22url\\\\x22:\\\\x22https:\\\\/\\\\/www.ibm.com\\\\/products\\\\/robotic\\\\u002Dprocess\\\\u002Dautomation?lnk=flatitem\\\\x22,\\\\x22description\\\\x22:\\\\x22Software to automate workflows and business processes\\\\x22},{\\\\x22title\\\\x22:\\\\x22watsonx Orchestrate\\\\x22,\\\\x22url\\\\x22:\\\\x22https:\\\\/\\\\/www.ibm.com\\\\/products\\\\/watsonx\\\\u002Dorchestrate?lnk=flatitem\\\\x22,\\\\x22description\\\\x22:\\\\x22Personal\\\\u002Dassistant software that automates repetitive tasks\\\\x22}]}]},{\\\\x22heading\\\\x22:{\\\\x22title\\\\x22:\\\\x22Containers\\\\x22,\\\\x22url\\\\x22:\\\\x22https:\\\\/\\\\/www.ibm.com\\\\/containers?lnk=flathl\\\\x22,\\\\x22description\\\\x22:\\\\x22Allocate compute infrastructure on demand\\\\x22},\\\\x22groups\\\\x22:[{\\\\x22heading\\\\x22:{\\\\x22title\\\\x22:\\\\x22\\\\x22,\\\\x22description\\\\x22:\\\\x22\\\\x22},\\\\x22links\\\\x22:[{\\\\x22title\\\\x22:\\\\x22Cloud Satellite\\\\x22,\\\\x22url\\\\x22:\\\\x22https:\\\\/\\\\/www.ibm.com\\\\/products\\\\/satellite?lnk=flatitem\\\\x22,\\\\x22description\\\\x22:\\\\x22Platform for running managed cloud services on any infrastructure\\\\x22},{\\\\x22title\\\\x22:\\\\x22Code Engine\\\\x22,\\\\x22url\\\\x22:\\\\x22https:\\\\/\\\\/www.ibm.com\\\\/products\\\\/code\\\\u002Dengine?lnk=flatitem\\\\x22,\\\\x22description\\\\x22:\\\\x22Managed serverless runtime for containers, batch jobs, or code\\\\x22},{\\\\x22title\\\\x22:\\\\x22Container Registry\\\\x22,\\\\x22url\\\\x22:\\\\x22https:\\\\/\\\\/www.ibm.com\\\\/products\\\\/container\\\\u002Dregistry?lnk=flatitem\\\\x22,\\\\x22description\\\\x22:\\\\x22Private SaaS registry for container storage and management\\\\x22},{\\\\x22title\\\\x22:\\\\x22Kubernetes Service\\\\x22,\\\\x22url\\\\x22:\\\\x22https:\\\\/\\\\/www.ibm.com\\\\/products\\\\/kubernetes\\\\u002Dservice?lnk=flatitem\\\\x22,\\\\x22description\\\\x22:\\\\x22Managed Kubernetes for high availability container deployments\\\\x22},{\\\\x22title\\\\x22:\\\\x22Red Hat OpenShift on IBM Cloud\\\\x22,\\\\x22url\\\\x22:\\\\x22https:\\\\/\\\\/www.ibm.com\\\\/products\\\\/openshift?lnk=flatitem\\\\x22,\\\\x22description\\\\x22:\\\\x22Managed service with tools for security, management and monitoring\\\\x22}]}]},{\\\\x22heading\\\\x22:{\\\\x22title\\\\x22:\\\\x22Databases\\\\x22,\\\\x22url\\\\x22:\\\\x22https:\\\\/\\\\/www.ibm.com\\\\/database?lnk=flathl\\\\x22,\\\\x22description\\\\x22:\\\\x22Store, query and analyze structured data\\\\x22},\\\\x22groups\\\\x22:[{\\\\x22heading\\\\x22:{\\\\x22title\\\\x22:\\\\x22\\\\x22,\\\\x22description\\\\x22:\\\\x22\\\\x22},\\\\x22links\\\\x22:[{\\\\x22title\\\\x22:\\\\x22Cloudant\\\\x22,\\\\x22url\\\\x22:\\\\x22https:\\\\/\\\\/www.ibm.com\\\\/products\\\\/cloudant?lnk=flatitem\\\\x22,\\\\x22description\\\\x22:\\\\x22Managed PCI\\\\u002Dcompliant JSON document store on Apache CouchDB\\\\x22},{\\\\x22title\\\\x22:\\\\x22Db2\\\\x22,\\\\x22url\\\\x22:\\\\x22https:\\\\/\\\\/www.ibm.com\\\\/products\\\\/db2\\\\u002Ddatabase?lnk=flatitem\\\\x22,\\\\x22description\\\\x22:\\\\x22Data management software including IBM Db2 Database\\\\x22},{\\\\x22title\\\\x22:\\\\x22Db2 for z\\\\/OS\\\\x22,\\\\x22url\\\\x22:\\\\x22https:\\\\/\\\\/www.ibm.com\\\\/products\\\\/db2\\\\u002Dfor\\\\u002Dzos?lnk=flatitem\\\\x22,\\\\x22description\\\\x22:\\\\x22IBM Db2 Database for IBM Z mainframes\\\\x22},{\\\\x22title\\\\x22:\\\\x22IBM Cloud Databases for Elastic Search\\\\x22,\\\\x22url\\\\x22:\\\\x22https:\\\\/\\\\/www.ibm.com\\\\/products\\\\/databases\\\\u002Dfor\\\\u002Delasticsearch?lnk=flatitem\\\\x22,\\\\x22description\\\\x22:\\\\x22JSON document store for full\\\\u002Dtext search\\\\x22},{\\\\x22title\\\\x22:\\\\x22IBM Cloud Databases for EnterpriseDB\\\\x22,\\\\x22url\\\\x22:\\\\x22https:\\\\/\\\\/www.ibm.com\\\\/products\\\\/databases\\\\u002Dfor\\\\u002Denterprisedb?lnk=flatitem\\\\x22,\\\\x22description\\\\x22:\\\\x22PostgreSQL with added performance, security and management features\\\\x22},{\\\\x22title\\\\x22:\\\\x22IBM Cloud Databases for MongoDB\\\\x22,\\\\x22url\\\\x22:\\\\x22https:\\\\/\\\\/www.ibm.com\\\\/products\\\\/databases\\\\u002Dfor\\\\u002Dmongodb?lnk=flatitem\\\\x22,\\\\x22description\\\\x22:\\\\x22Managed NoSQL JSON document store\\\\x22},{\\\\x22title\\\\x22:\\\\x22IBM Cloud Databases for MySQL\\\\x22,\\\\x22url\\\\x22:\\\\x22https:\\\\/\\\\/www.ibm.com\\\\/products\\\\/databases\\\\u002Dfor\\\\u002Dmysql?lnk=flatitem\\\\x22,\\\\x22description\\\\x22:\\\\x22Managed SQL database\\\\x22},{\\\\x22title\\\\x22:\\\\x22IBM Cloud Databases for PostgreSQL\\\\x22,\\\\x22url\\\\x22:\\\\x22https:\\\\/\\\\/www.ibm.com\\\\/products\\\\/databases\\\\u002Dfor\\\\u002Dpostgresql?lnk=flatitem\\\\x22,\\\\x22description\\\\x22:\\\\x22Managed SQL database with advanced features\\\\x22},{\\\\x22title\\\\x22:\\\\x22IBM Cloud Databases for etcd\\\\x22,\\\\x22url\\\\x22:\\\\x22https:\\\\/\\\\/www.ibm.com\\\\/products\\\\/databases\\\\u002Dfor\\\\u002Detcd?lnk=flatitem\\\\x22,\\\\x22description\\\\x22:\\\\x22Distributed key\\\\u002Dvalue store\\\\x22},{\\\\x22title\\\\x22:\\\\x22Information Management System (IMS)\\\\x22,\\\\x22url\\\\x22:\\\\x22https:\\\\/\\\\/www.ibm.com\\\\/products\\\\/ims?lnk=flatitem\\\\x22,\\\\x22description\\\\x22:\\\\x22Database and management system for high\\\\u002Dvolume transactions\\\\x22},{\\\\x22title\\\\x22:\\\\x22Informix\\\\x22,\\\\x22url\\\\x22:\\\\x22https:\\\\/\\\\/www.ibm.com\\\\/products\\\\/informix?lnk=flatitem\\\\x22,\\\\x22description\\\\x22:\\\\x22Embeddable database for SQL, NoSQL, time\\\\u002Dseries and spatial data\\\\x22}]}]},{\\\\x22heading\\\\x22:{\\\\x22title\\\\x22:\\\\x22DevOps\\\\x22,\\\\x22url\\\\x22:\\\\x22https:\\\\/\\\\/www.ibm.com\\\\/devops?lnk=flathl\\\\x22,\\\\x22description\\\\x22:\\\\x22Manage infrastructure, environments and deployments\\\\x22},\\\\x22groups\\\\x22:[{\\\\x22heading\\\\x22:{\\\\x22title\\\\x22:\\\\x22\\\\x22,\\\\x22description\\\\x22:\\\\x22\\\\x22},\\\\x22links\\\\x22:[{\\\\x22title\\\\x22:\\\\x22Application Delivery Foundation for z\\\\/OS\\\\x22,\\\\x22url\\\\x22:\\\\x22https:\\\\/\\\\/www.ibm.com\\\\/products\\\\/app\\\\u002Ddelivery\\\\u002Dfoundation\\\\u002Dfor\\\\u002Dzos?lnk=flatitem\\\\x22,\\\\x22description\\\\x22:\\\\x22Application development and DevOps tools for z\\\\/OS\\\\x22},{\\\\x22title\\\\x22:\\\\x22Application Discovery and Delivery Intelligence\\\\x22,\\\\x22url\\\\x22:\\\\x22https:\\\\/\\\\/www.ibm.com\\\\/products\\\\/app\\\\u002Ddiscovery\\\\u002Dand\\\\u002Ddelivery\\\\u002Dintelligence?lnk=flatitem\\\\x22,\\\\x22description\\\\x22:\\\\x22Analysis tool for visualizing applications, data and jobs on z\\\\/OS\\\\x22},{\\\\x22title\\\\x22:\\\\x22Cloud Continuous Delivery\\\\x22,\\\\x22url\\\\x22:\\\\x22https:\\\\/\\\\/www.ibm.com\\\\/products\\\\/continuous\\\\u002Ddelivery?lnk=flatitem\\\\x22,\\\\x22description\\\\x22:\\\\x22Toolchains to automate building and deploying applications\\\\x22},{\\\\x22title\\\\x22:\\\\x22Cloud Pak for AIOps\\\\x22,\\\\x22url\\\\x22:\\\\x22https:\\\\/\\\\/www.ibm.com\\\\/products\\\\/cloud\\\\u002Dpak\\\\u002Dfor\\\\u002Daiops?lnk=flatitem\\\\x22,\\\\x22description\\\\x22:\\\\x22DevOps management tool with AI analysis and recommendations\\\\x22},{\\\\x22title\\\\x22:\\\\x22DevOps Build\\\\x22,\\\\x22url\\\\x22:\\\\x22https:\\\\/\\\\/www.ibm.com\\\\/products\\\\/devops\\\\u002Dbuild?lnk=flatitem\\\\x22,\\\\x22description\\\\x22:\\\\x22Management tool for configuring and running software builds\\\\x22},{\\\\x22title\\\\x22:\\\\x22DevOps Code ClearCase\\\\x22,\\\\x22url\\\\x22:\\\\x22https:\\\\/\\\\/www.ibm.com\\\\/products\\\\/devops\\\\u002Dcode\\\\u002Dclearcase?lnk=flatitem\\\\x22,\\\\x22description\\\\x22:\\\\x22Configuration management system for software asset access control\\\\x22},{\\\\x22title\\\\x22:\\\\x22DevOps Deploy\\\\x22,\\\\x22url\\\\x22:\\\\x22https:\\\\/\\\\/www.ibm.com\\\\/products\\\\/devops\\\\u002Ddeploy?lnk=flatitem\\\\x22,\\\\x22description\\\\x22:\\\\x22Automation software for continuous delivery and deployment\\\\x22},{\\\\x22title\\\\x22:\\\\x22DevOps Test\\\\x22,\\\\x22url\\\\x22:\\\\x22https:\\\\/\\\\/www.ibm.com\\\\/products\\\\/devops\\\\u002Dtest?lnk=flatitem\\\\x22,\\\\x22description\\\\x22:\\\\x22Continuous testing and virtualization platform\\\\x22},{\\\\x22title\\\\x22:\\\\x22DevOps Velocity\\\\x22,\\\\x22url\\\\x22:\\\\x22https:\\\\/\\\\/www.ibm.com\\\\/products\\\\/devops\\\\u002Dvelocity?lnk=flatitem\\\\x22,\\\\x22description\\\\x22:\\\\x22Release management software for pipeline orchestration and analytics\\\\x22},{\\\\x22title\\\\x22:\\\\x22Engineering Lifecycle Management\\\\x22,\\\\x22url\\\\x22:\\\\x22https:\\\\/\\\\/www.ibm.com\\\\/products\\\\/engineering\\\\u002Dlifecycle\\\\u002Dmanagement?lnk=flatitem\\\\x22,\\\\x22description\\\\x22:\\\\x22Software for product and application lifecycle management\\\\x22},{\\\\x22title\\\\x22:\\\\x22IBM i Modernization Engine\\\\x22,\\\\x22url\\\\x22:\\\\x22https:\\\\/\\\\/www.ibm.com\\\\/products\\\\/ibm\\\\u002Di\\\\u002Dmerlin?lnk=flatitem\\\\x22,\\\\x22description\\\\x22:\\\\x22Development and modernization tools for IBM i applications\\\\x22},{\\\\x22title\\\\x22:\\\\x22Rational ClearQuest\\\\x22,\\\\x22url\\\\x22:\\\\x22https:\\\\/\\\\/www.ibm.com\\\\/products\\\\/rational\\\\u002Dclearquest?lnk=flatitem\\\\x22,\\\\x22description\\\\x22:\\\\x22Change management software\\\\x22},{\\\\x22title\\\\x22:\\\\x22Rational Software Architect Designer\\\\x22,\\\\x22url\\\\x22:\\\\x22https:\\\\/\\\\/www.ibm.com\\\\/products\\\\/rational\\\\u002Dsoftware\\\\u002Darchitect\\\\u002Ddesigner?lnk=flatitem\\\\x22,\\\\x22description\\\\x22:\\\\x22Tools to create, evaluate, and communicate software architecture\\\\x22},{\\\\x22title\\\\x22:\\\\x22Test Accelerator for Z\\\\x22,\\\\x22url\\\\x22:\\\\x22https:\\\\/\\\\/www.ibm.com\\\\/products\\\\/test\\\\u002Daccelerator\\\\u002Dz?lnk=flatitem\\\\x22,\\\\x22description\\\\x22:\\\\x22Test automation and test generation framework for z\\\\/OS\\\\x22}]}]},{\\\\x22heading\\\\x22:{\\\\x22title\\\\x22:\\\\x22IT automation\\\\x22,\\\\x22url\\\\x22:\\\\x22https:\\\\/\\\\/www.ibm.com\\\\/automation\\\\x22,\\\\x22description\\\\x22:\\\\x22Automate IT infrastructure management\\\\x22},\\\\x22groups\\\\x22:[{\\\\x22heading\\\\x22:{\\\\x22title\\\\x22:\\\\x22\\\\x22,\\\\x22description\\\\x22:\\\\x22\\\\x22},\\\\x22links\\\\x22:[{\\\\x22title\\\\x22:\\\\x22Apptio\\\\x22,\\\\x22url\\\\x22:\\\\x22https:\\\\/\\\\/www.ibm.com\\\\/products\\\\/apptio?lnk=flatitem\\\\x22,\\\\x22description\\\\x22:\\\\x22Hybrid cloud financial management and planning software\\\\x22},{\\\\x22title\\\\x22:\\\\x22Cloud App Configuration\\\\x22,\\\\x22url\\\\x22:\\\\x22https:\\\\/\\\\/www.ibm.com\\\\/products\\\\/app\\\\u002Dconfiguration?lnk=flatitem\\\\x22,\\\\x22description\\\\x22:\\\\x22Feature management and configuration service for web and mobile apps\\\\x22},{\\\\x22title\\\\x22:\\\\x22Cloud App ID\\\\x22,\\\\x22url\\\\x22:\\\\x22https:\\\\/\\\\/www.ibm.com\\\\/products\\\\/app\\\\u002Did?lnk=flatitem\\\\x22,\\\\x22description\\\\x22:\\\\x22Authentication and user management service for web and mobile apps\\\\x22},{\\\\x22title\\\\x22:\\\\x22Cloud Monitoring\\\\x22,\\\\x22url\\\\x22:\\\\x22https:\\\\/\\\\/www.ibm.com\\\\/products\\\\/cloud\\\\u002Dmonitoring?lnk=flatitem\\\\x22,\\\\x22description\\\\x22:\\\\x22Hosted monitoring tool for organization\\\\u002Dwide system performance\\\\x22},{\\\\x22title\\\\x22:\\\\x22Cloud Pak for AIOps\\\\x22,\\\\x22url\\\\x22:\\\\x22https:\\\\/\\\\/www.ibm.com\\\\/products\\\\/cloud\\\\u002Dpak\\\\u002Dfor\\\\u002Daiops?lnk=flatitem\\\\x22,\\\\x22description\\\\x22:\\\\x22DevOps management tool with AI analysis and recommendations\\\\x22},{\\\\x22title\\\\x22:\\\\x22Cloud Schematics\\\\x22,\\\\x22url\\\\x22:\\\\x22https:\\\\/\\\\/www.ibm.com\\\\/products\\\\/schematics?lnk=flatitem\\\\x22,\\\\x22description\\\\x22:\\\\x22Management and provisionining of cloud infrastructure with code\\\\x22},{\\\\x22title\\\\x22:\\\\x22Concert\\\\x22,\\\\x22url\\\\x22:\\\\x22https:\\\\/\\\\/www.ibm.com\\\\/products\\\\/concert?lnk=flatitem\\\\x22,\\\\x22description\\\\x22:\\\\x22Software to simplify and optimize application management\\\\x22},{\\\\x22title\\\\x22:\\\\x22Event Notifications\\\\x22,\\\\x22url\\\\x22:\\\\x22https:\\\\/\\\\/www.ibm.com\\\\/products\\\\/event\\\\u002Dnotifications?lnk=flatitem\\\\x22,\\\\x22description\\\\x22:\\\\x22Notification and workflow automation service for IBM Cloud events\\\\x22},{\\\\x22title\\\\x22:\\\\x22Flexera One\\\\x22,\\\\x22url\\\\x22:\\\\x22https:\\\\/\\\\/www.ibm.com\\\\/products\\\\/flexera\\\\u002Done?lnk=flatitem\\\\x22,\\\\x22description\\\\x22:\\\\x22IT asset management software\\\\x22},{\\\\x22title\\\\x22:\\\\x22HashiCorp\\\\x22,\\\\x22url\\\\x22:\\\\x22https:\\\\/\\\\/www.ibm.com\\\\/products\\\\/hashicorp?lnk=flatitem\\\\x22,\\\\x22description\\\\x22:\\\\x22Manage cloud infrastructure and security\\\\x22},{\\\\x22title\\\\x22:\\\\x22IBM Cloud Logs\\\\x22,\\\\x22url\\\\x22:\\\\x22https:\\\\/\\\\/www.ibm.com\\\\/products\\\\/cloud\\\\u002Dlogs?lnk=flatitem\\\\x22,\\\\x22description\\\\x22:\\\\x22Logging and observability service for applications and infrastructure\\\\x22},{\\\\x22title\\\\x22:\\\\x22Instana\\\\x22,\\\\x22url\\\\x22:\\\\x22https:\\\\/\\\\/www.ibm.com\\\\/products\\\\/instana?lnk=flatitem\\\\x22,\\\\x22description\\\\x22:\\\\x22Software for application performance monitoring and automation\\\\x22},{\\\\x22title\\\\x22:\\\\x22Turbonomic\\\\x22,\\\\x22url\\\\x22:\\\\x22https:\\\\/\\\\/www.ibm.com\\\\/products\\\\/turbonomic?lnk=flatitem\\\\x22,\\\\x22description\\\\x22:\\\\x22Software to manage and optimize IT resource usage\\\\x22},{\\\\x22title\\\\x22:\\\\x22Z IntelliMagic Vision for z\\\\/OS\\\\x22,\\\\x22url\\\\x22:\\\\x22https:\\\\/\\\\/www.ibm.com\\\\/products\\\\/z\\\\u002Dintellimagic\\\\u002Dvision\\\\u002Dfor\\\\u002Dzos?lnk=flatitem\\\\x22,\\\\x22description\\\\x22:\\\\x22Infrastructure performance management and monitoring software\\\\x22},{\\\\x22title\\\\x22:\\\\x22Z Service Management Suite\\\\x22,\\\\x22url\\\\x22:\\\\x22https:\\\\/\\\\/www.ibm.com\\\\/products\\\\/z\\\\u002Dservice\\\\u002Dmanagement\\\\u002Dsuite?lnk=flatitem\\\\x22,\\\\x22description\\\\x22:\\\\x22Monitoring, control, and automation suite for Z\\\\x22}]}]},{\\\\x22heading\\\\x22:{\\\\x22title\\\\x22:\\\\x22Middleware\\\\x22,\\\\x22description\\\\x22:\\\\x22Connect your applications, data and events\\\\x22},\\\\x22groups\\\\x22:[{\\\\x22heading\\\\x22:{\\\\x22title\\\\x22:\\\\x22\\\\x22,\\\\x22description\\\\x22:\\\\x22\\\\x22},\\\\x22links\\\\x22:[{\\\\x22title\\\\x22:\\\\x22API Connect\\\\x22,\\\\x22url\\\\x22:\\\\x22https:\\\\/\\\\/www.ibm.com\\\\/products\\\\/api\\\\u002Dconnect?lnk=flatitem\\\\x22,\\\\x22description\\\\x22:\\\\x22Software to rapidly create, protect, socialize and manage APIs\\\\x22},{\\\\x22title\\\\x22:\\\\x22App Connect\\\\x22,\\\\x22url\\\\x22:\\\\x22https:\\\\/\\\\/www.ibm.com\\\\/products\\\\/app\\\\u002Dconnect?lnk=flatitem\\\\x22,\\\\x22description\\\\x22:\\\\x22Codeless connectors for your data, apps and APIs\\\\x22},{\\\\x22title\\\\x22:\\\\x22Aspera\\\\x22,\\\\x22url\\\\x22:\\\\x22https:\\\\/\\\\/www.ibm.com\\\\/products\\\\/aspera?lnk=flatitem\\\\x22,\\\\x22description\\\\x22:\\\\x22System to transfer, sync or stream huge data globally\\\\x22},{\\\\x22title\\\\x22:\\\\x22CICS Transaction Server for z\\\\/OS\\\\x22,\\\\x22url\\\\x22:\\\\x22https:\\\\/\\\\/www.ibm.com\\\\/products\\\\/cics\\\\u002Dtransaction\\\\u002Dserver?lnk=flatitem\\\\x22,\\\\x22description\\\\x22:\\\\x22Application server for online transaction processing\\\\x22},{\\\\x22title\\\\x22:\\\\x22Cloud Pak for Applications\\\\x22,\\\\x22url\\\\x22:\\\\x22https:\\\\/\\\\/www.ibm.com\\\\/products\\\\/cloud\\\\u002Dpak\\\\u002Dfor\\\\u002Dapplications?lnk=flatitem\\\\x22,\\\\x22description\\\\x22:\\\\x22Kubernetes\\\\u002Dbased platform for hybrid cloud applications\\\\x22},{\\\\x22title\\\\x22:\\\\x22Cloud Pak for Integration\\\\x22,\\\\x22url\\\\x22:\\\\x22https:\\\\/\\\\/www.ibm.com\\\\/products\\\\/cloud\\\\u002Dpak\\\\u002Dfor\\\\u002Dintegration?lnk=flatitem\\\\x22,\\\\x22description\\\\x22:\\\\x22Tools to connect all of your apps, data and events\\\\x22},{\\\\x22title\\\\x22:\\\\x22DataPower\\\\x22,\\\\x22url\\\\x22:\\\\x22https:\\\\/\\\\/www.ibm.com\\\\/products\\\\/datapower\\\\u002Dgateway?lnk=flatitem\\\\x22,\\\\x22description\\\\x22:\\\\x22Physical or virtual multi\\\\u002Dprotocol network gateway\\\\x22},{\\\\x22title\\\\x22:\\\\x22Event Streams\\\\x22,\\\\x22url\\\\x22:\\\\x22https:\\\\/\\\\/www.ibm.com\\\\/products\\\\/event\\\\u002Dstreams?lnk=flatitem\\\\x22,\\\\x22description\\\\x22:\\\\x22PaaS stream processing based on Apache Kafka\\\\x22},{\\\\x22title\\\\x22:\\\\x22IBM Cloud Messages for RabbitMQ\\\\x22,\\\\x22url\\\\x22:\\\\x22https:\\\\/\\\\/www.ibm.com\\\\/products\\\\/messages\\\\u002Dfor\\\\u002Drabbitmq?lnk=flatitem\\\\x22,\\\\x22description\\\\x22:\\\\x22Managed open\\\\u002Dsource message broker\\\\x22},{\\\\x22title\\\\x22:\\\\x22IBM webMethods\\\\x22,\\\\x22url\\\\x22:\\\\x22https:\\\\/\\\\/www.ibm.com\\\\/products\\\\/webmethods?lnk=flatitem\\\\x22,\\\\x22description\\\\x22:\\\\x22iPaaS capabilities including app integration, API management, B2B integration and managed file transfer\\\\x22},{\\\\x22title\\\\x22:\\\\x22Information Management System\\\\x22,\\\\x22url\\\\x22:\\\\x22https:\\\\/\\\\/www.ibm.com\\\\/products\\\\/ims?lnk=flatitem\\\\x22,\\\\x22description\\\\x22:\\\\x22Hierarchical database and transaction processor for Z\\\\x22},{\\\\x22title\\\\x22:\\\\x22MQ\\\\x22,\\\\x22url\\\\x22:\\\\x22https:\\\\/\\\\/www.ibm.com\\\\/products\\\\/mq?lnk=flatitem\\\\x22,\\\\x22description\\\\x22:\\\\x22Software and hardware for messaging between distributed systems\\\\x22},{\\\\x22title\\\\x22:\\\\x22z\\\\/OS Connect\\\\x22,\\\\x22url\\\\x22:\\\\x22https:\\\\/\\\\/www.ibm.com\\\\/products\\\\/zos\\\\u002Dconnect?lnk=flatitem\\\\x22,\\\\x22description\\\\x22:\\\\x22Software to build and serve RESTful APIs to z\\\\/OS applications\\\\x22}]}]},{\\\\x22heading\\\\x22:{\\\\x22title\\\\x22:\\\\x22Network\\\\x22,\\\\x22url\\\\x22:\\\\x22https:\\\\/\\\\/www.ibm.com\\\\/networking?lnk=flathl\\\\x22,\\\\x22description\\\\x22:\\\\x22Run and manage public, private and virtual networks\\\\x22},\\\\x22groups\\\\x22:[{\\\\x22heading\\\\x22:{\\\\x22title\\\\x22:\\\\x22\\\\x22,\\\\x22description\\\\x22:\\\\x22\\\\x22},\\\\x22links\\\\x22:[{\\\\x22title\\\\x22:\\\\x22Cloud Pak for Network Automation\\\\x22,\\\\x22url\\\\x22:\\\\x22https:\\\\/\\\\/www.ibm.com\\\\/products\\\\/cloud\\\\u002Dpak\\\\u002Dfor\\\\u002Dnetwork\\\\u002Dautomation?lnk=flatitem\\\\x22,\\\\x22description\\\\x22:\\\\x22Management software for telco network operations\\\\x22},{\\\\x22title\\\\x22:\\\\x22Hybrid Cloud Mesh\\\\x22,\\\\x22url\\\\x22:\\\\x22https:\\\\/\\\\/www.ibm.com\\\\/products\\\\/hybrid\\\\u002Dcloud\\\\u002Dmesh?lnk=flatitem\\\\x22,\\\\x22description\\\\x22:\\\\x22SaaS for deploying and managing hybrid and multicloud networks\\\\x22},{\\\\x22title\\\\x22:\\\\x22NS1 Connect\\\\x22,\\\\x22url\\\\x22:\\\\x22https:\\\\/\\\\/www.ibm.com\\\\/products\\\\/ns1\\\\u002Dconnect?lnk=flatitem\\\\x22,\\\\x22description\\\\x22:\\\\x22Authoritative DNS and traffic steering as a service\\\\x22},{\\\\x22title\\\\x22:\\\\x22Rapid Network Automation\\\\x22,\\\\x22url\\\\x22:\\\\x22https:\\\\/\\\\/www.ibm.com\\\\/products\\\\/rapid\\\\u002Dnetwork\\\\u002Dautomation?lnk=flatitem\\\\x22,\\\\x22description\\\\x22:\\\\x22No\\\\u002Dcode tool to build automation workflows across apps and APIs\\\\x22},{\\\\x22title\\\\x22:\\\\x22SevOne Network Performance Management\\\\x22,\\\\x22url\\\\x22:\\\\x22https:\\\\/\\\\/www.ibm.com\\\\/products\\\\/sevone\\\\u002Dnetwork\\\\u002Dperformance\\\\u002Dmanagement?lnk=flatitem\\\\x22,\\\\x22description\\\\x22:\\\\x22Software to collect and analyze network performance data\\\\x22}]}]},{\\\\x22heading\\\\x22:{\\\\x22title\\\\x22:\\\\x22Operating systems\\\\x22,\\\\x22description\\\\x22:\\\\x22Run critical workloads on specialized operating systems\\\\x22},\\\\x22groups\\\\x22:[{\\\\x22heading\\\\x22:{\\\\x22title\\\\x22:\\\\x22\\\\x22,\\\\x22description\\\\x22:\\\\x22\\\\x22},\\\\x22links\\\\x22:[{\\\\x22title\\\\x22:\\\\x22AIX\\\\x22,\\\\x22url\\\\x22:\\\\x22https:\\\\/\\\\/www.ibm.com\\\\/products\\\\/aix?lnk=flatitem\\\\x22,\\\\x22description\\\\x22:\\\\x22UNIX operating system for Power servers\\\\x22},{\\\\x22title\\\\x22:\\\\x22IBM i\\\\x22,\\\\x22url\\\\x22:\\\\x22https:\\\\/\\\\/www.ibm.com\\\\/products\\\\/ibm\\\\u002Di?lnk=flatitem\\\\x22,\\\\x22description\\\\x22:\\\\x22Integrated operating system for Power servers\\\\x22},{\\\\x22title\\\\x22:\\\\x22Linux\\\\x22,\\\\x22url\\\\x22:\\\\x22https:\\\\/\\\\/www.ibm.com\\\\/linux?lnk=flatitem\\\\x22,\\\\x22description\\\\x22:\\\\x22Run Linux workloads on IBM servers\\\\x22},{\\\\x22title\\\\x22:\\\\x22z\\\\/OS\\\\x22,\\\\x22url\\\\x22:\\\\x22https:\\\\/\\\\/www.ibm.com\\\\/products\\\\/zos?lnk=flatitem\\\\x22,\\\\x22description\\\\x22:\\\\x22Flagship OS for continuous, high\\\\u002Dvolume mainframe operation\\\\x22},{\\\\x22title\\\\x22:\\\\x22z\\\\/TPF\\\\x22,\\\\x22url\\\\x22:\\\\x22https:\\\\/\\\\/www.ibm.com\\\\/products\\\\/z\\\\u002Dtransaction\\\\u002Dprocessing\\\\u002Dfacility?lnk=flatitem\\\\x22,\\\\x22description\\\\x22:\\\\x22Real\\\\u002Dtime operating system for mainframes\\\\x22},{\\\\x22title\\\\x22:\\\\x22z\\\\/VM\\\\x22,\\\\x22url\\\\x22:\\\\x22https:\\\\/\\\\/www.ibm.com\\\\/products\\\\/zvm?lnk=flatitem\\\\x22,\\\\x22description\\\\x22:\\\\x22Hypervisor and virtualization software for IBM Z and LinuxONE\\\\x22}]}]},{\\\\x22heading\\\\x22:{\\\\x22title\\\\x22:\\\\x22Quantum\\\\x22,\\\\x22url\\\\x22:\\\\x22https:\\\\/\\\\/www.ibm.com\\\\/quantum?lnk=flathl\\\\x22,\\\\x22description\\\\x22:\\\\x22Run code on real quantum systems using a full\\\\u002Dstack SDK\\\\x22},\\\\x22groups\\\\x22:[{\\\\x22heading\\\\x22:{\\\\x22title\\\\x22:\\\\x22\\\\x22,\\\\x22description\\\\x22:\\\\x22\\\\x22},\\\\x22links\\\\x22:[{\\\\x22title\\\\x22:\\\\x22Qiskit Runtime\\\\x22,\\\\x22url\\\\x22:\\\\x22https:\\\\/\\\\/www.ibm.com\\\\/quantum\\\\/qiskit?lnk=flatitem\\\\x22,\\\\x22description\\\\x22:\\\\x22Cloud service for executing quantum workloads at scale\\\\x22},{\\\\x22title\\\\x22:\\\\x22Quantum Safe\\\\x22,\\\\x22url\\\\x22:\\\\x22https:\\\\/\\\\/www.ibm.com\\\\/quantum\\\\/quantum\\\\u002Dsafe?lnk=flatitem\\\\x22,\\\\x22description\\\\x22:\\\\x22Technology and consulting services for quantum\\\\u002Dsafe cryptography\\\\x22},{\\\\x22title\\\\x22:\\\\x22Quantum Systems\\\\x22,\\\\x22url\\\\x22:\\\\x22https:\\\\/\\\\/www.ibm.com\\\\/quantum\\\\/technology?lnk=flatitem\\\\x22,\\\\x22description\\\\x22:\\\\x22Quantum computing systems accessible on the cloud\\\\x22}]}]},{\\\\x22heading\\\\x22:{\\\\x22title\\\\x22:\\\\x22Security \\\\x26 identity\\\\x22,\\\\x22url\\\\x22:\\\\x22https:\\\\/\\\\/www.ibm.com\\\\/security?lnk=flathl\\\\x22,\\\\x22description\\\\x22:\\\\x22Cloud\\\\u002Dnative software to secure resources and simplify compliance\\\\x22},\\\\x22groups\\\\x22:[{\\\\x22heading\\\\x22:{\\\\x22title\\\\x22:\\\\x22\\\\x22,\\\\x22description\\\\x22:\\\\x22\\\\x22},\\\\x22links\\\\x22:[{\\\\x22title\\\\x22:\\\\x22Cloud AppID\\\\x22,\\\\x22url\\\\x22:\\\\x22https:\\\\/\\\\/www.ibm.com\\\\/products\\\\/app\\\\u002Did?lnk=flatitem\\\\x22,\\\\x22description\\\\x22:\\\\x22Authentication and user profiles as a service for mobile and web apps\\\\x22},{\\\\x22title\\\\x22:\\\\x22Cloud Security and Compliance Center\\\\x22,\\\\x22url\\\\x22:\\\\x22https:\\\\/\\\\/www.ibm.com\\\\/products\\\\/security\\\\u002Dand\\\\u002Dcompliance\\\\u002Dcenter?lnk=flatitem\\\\x22,\\\\x22description\\\\x22:\\\\x22SaaS to define and audit the compliance posture of your cloud\\\\x22},{\\\\x22title\\\\x22:\\\\x22Guardium\\\\x22,\\\\x22url\\\\x22:\\\\x22https:\\\\/\\\\/www.ibm.com\\\\/guardium?lnk=flatitem\\\\x22,\\\\x22description\\\\x22:\\\\x22Suite for data encryption, management and simplified compliance\\\\x22},{\\\\x22title\\\\x22:\\\\x22Key Protect for IBM Cloud\\\\x22,\\\\x22url\\\\x22:\\\\x22https:\\\\/\\\\/www.ibm.com\\\\/products\\\\/key\\\\u002Dprotect?lnk=flatitem\\\\x22,\\\\x22description\\\\x22:\\\\x22Tool to provision and store keys for apps across IBM Cloud services\\\\x22},{\\\\x22title\\\\x22:\\\\x22MaaS360\\\\x22,\\\\x22url\\\\x22:\\\\x22https:\\\\/\\\\/www.ibm.com\\\\/products\\\\/maas360?lnk=flatitem\\\\x22,\\\\x22description\\\\x22:\\\\x22Unified endpoint management for mobile workforces\\\\x22},{\\\\x22title\\\\x22:\\\\x22QRadar EDR\\\\x22,\\\\x22url\\\\x22:\\\\x22https:\\\\/\\\\/www.ibm.com\\\\/products\\\\/qradar\\\\u002Dedr?lnk=flatitem\\\\x22,\\\\x22description\\\\x22:\\\\x22Advanced AI threat detection and response for endpoints\\\\x22},{\\\\x22title\\\\x22:\\\\x22QRadar SIEM\\\\x22,\\\\x22url\\\\x22:\\\\x22https:\\\\/\\\\/www.ibm.com\\\\/products\\\\/qradar\\\\u002Dsiem?lnk=flatitem\\\\x22,\\\\x22description\\\\x22:\\\\x22Threat detection and prioritization for real\\\\u002Dtime visibility\\\\x22},{\\\\x22title\\\\x22:\\\\x22QRadar SOAR\\\\x22,\\\\x22url\\\\x22:\\\\x22https:\\\\/\\\\/www.ibm.com\\\\/products\\\\/qradar\\\\u002Dsoar?lnk=flatitem\\\\x22,\\\\x22description\\\\x22:\\\\x22Automation and workflow management for security operations\\\\x22},{\\\\x22title\\\\x22:\\\\x22Secrets Manager\\\\x22,\\\\x22url\\\\x22:\\\\x22https:\\\\/\\\\/www.ibm.com\\\\/products\\\\/secrets\\\\u002Dmanager\\\\x22,\\\\x22description\\\\x22:\\\\x22Centrally manage your secrets in a single\\\\u002Dtenant, dedicated instance\\\\x22},{\\\\x22title\\\\x22:\\\\x22Trusteer\\\\x22,\\\\x22url\\\\x22:\\\\x22https:\\\\/\\\\/www.ibm.com\\\\/trusteer?lnk=flatitem\\\\x22,\\\\x22description\\\\x22:\\\\x22Software to authenticate customers, detect fraud and assess risk\\\\x22},{\\\\x22title\\\\x22:\\\\x22Verify\\\\x22,\\\\x22url\\\\x22:\\\\x22https:\\\\/\\\\/www.ibm.com\\\\/verify?lnk=flatitem\\\\x22,\\\\x22description\\\\x22:\\\\x22Identity, authentication, and access control software\\\\x22},{\\\\x22title\\\\x22:\\\\x22zSecure\\\\x22,\\\\x22url\\\\x22:\\\\x22https:\\\\/\\\\/www.ibm.com\\\\/zsecure?lnk=flatitem\\\\x22,\\\\x22description\\\\x22:\\\\x22Security, risk management and compliance tools for Z hardware\\\\x22}]}]},{\\\\x22heading\\\\x22:{\\\\x22title\\\\x22:\\\\x22Servers\\\\x22,\\\\x22url\\\\x22:\\\\x22https:\\\\/\\\\/www.ibm.com\\\\/servers?lnk=flathl\\\\x22,\\\\x22description\\\\x22:\\\\x22Run workloads on hybrid cloud infrastructure\\\\x22},\\\\x22groups\\\\x22:[{\\\\x22heading\\\\x22:{\\\\x22title\\\\x22:\\\\x22\\\\x22,\\\\x22description\\\\x22:\\\\x22\\\\x22},\\\\x22links\\\\x22:[{\\\\x22title\\\\x22:\\\\x22IBM Cloud Bare Metal Servers\\\\x22,\\\\x22url\\\\x22:\\\\x22https:\\\\/\\\\/www.ibm.com\\\\/products\\\\/bare\\\\u002Dmetal\\\\u002Dservers?lnk=flatitem\\\\x22,\\\\x22description\\\\x22:\\\\x22Dedicated hardware for maximum performance\\\\x22},{\\\\x22title\\\\x22:\\\\x22IBM Cloud Virtual Servers for VPC\\\\x22,\\\\x22url\\\\x22:\\\\x22https:\\\\/\\\\/www.ibm.com\\\\/products\\\\/virtual\\\\u002Dservers?lnk=flatitem\\\\x22,\\\\x22description\\\\x22:\\\\x22Virtual servers with Intel Xeon or IBM Z CPUs\\\\x22},{\\\\x22title\\\\x22:\\\\x22LinuxONE 4\\\\x22,\\\\x22url\\\\x22:\\\\x22https:\\\\/\\\\/www.ibm.com\\\\/products\\\\/linuxone\\\\u002D4?lnk=flatitem\\\\x22,\\\\x22description\\\\x22:\\\\x22Physical and virtual servers for running Linux\\\\x22},{\\\\x22title\\\\x22:\\\\x22Power\\\\x22,\\\\x22url\\\\x22:\\\\x22https:\\\\/\\\\/www.ibm.com\\\\/power?lnk=flatitem\\\\x22,\\\\x22description\\\\x22:\\\\x22Physical and virtual servers with IBM Power CPUs\\\\x22},{\\\\x22title\\\\x22:\\\\x22z16\\\\x22,\\\\x22url\\\\x22:\\\\x22https:\\\\/\\\\/www.ibm.com\\\\/products\\\\/z16?lnk=flatitem\\\\x22,\\\\x22description\\\\x22:\\\\x22Flagship mainframe with on\\\\u002Dchip AI and quantum\\\\u002Dsafe cryptography\\\\x22}]}]},{\\\\x22heading\\\\x22:{\\\\x22title\\\\x22:\\\\x22Storage\\\\x22,\\\\x22url\\\\x22:\\\\x22https:\\\\/\\\\/www.ibm.com\\\\/storage?lnk=flathl\\\\x22,\\\\x22description\\\\x22:\\\\x22Software, hardware and services for critical and operational workloads and data\\\\x22},\\\\x22groups\\\\x22:[{\\\\x22heading\\\\x22:{\\\\x22title\\\\x22:\\\\x22\\\\x22,\\\\x22description\\\\x22:\\\\x22\\\\x22},\\\\x22links\\\\x22:[{\\\\x22title\\\\x22:\\\\x22Ceph\\\\x22,\\\\x22url\\\\x22:\\\\x22https:\\\\/\\\\/www.ibm.com\\\\/products\\\\/storage\\\\u002Dceph?lnk=flatitem\\\\x22,\\\\x22description\\\\x22:\\\\x22Multi\\\\u002Dprotocol software\\\\u002Ddefined enterprise storage platform\\\\x22},{\\\\x22title\\\\x22:\\\\x22Cloud Block Storage\\\\x22,\\\\x22url\\\\x22:\\\\x22https:\\\\/\\\\/www.ibm.com\\\\/products\\\\/block\\\\u002Dstorage?lnk=flatitem\\\\x22,\\\\x22description\\\\x22:\\\\x22Managed service optimized for low latency and high transfer rates\\\\x22},{\\\\x22title\\\\x22:\\\\x22Cloud File Storage\\\\x22,\\\\x22url\\\\x22:\\\\x22https:\\\\/\\\\/www.ibm.com\\\\/products\\\\/file\\\\u002Dstorage?lnk=flatitem\\\\x22,\\\\x22description\\\\x22:\\\\x22Managed service for flash\\\\u002Dbacked, durable, NFS\\\\u002Dbased file storage\\\\x22},{\\\\x22title\\\\x22:\\\\x22Cloud Object Storage\\\\x22,\\\\x22url\\\\x22:\\\\x22https:\\\\/\\\\/www.ibm.com\\\\/products\\\\/cloud\\\\u002Dobject\\\\u002Dstorage?lnk=flatitem\\\\x22,\\\\x22description\\\\x22:\\\\x22Unstructured data storage accessible via cloud APIs\\\\x22},{\\\\x22title\\\\x22:\\\\x22DS8000\\\\x22,\\\\x22url\\\\x22:\\\\x22https:\\\\/\\\\/www.ibm.com\\\\/products\\\\/ds8000?lnk=flatitem\\\\x22,\\\\x22description\\\\x22:\\\\x22High\\\\u002Dcapacity, high\\\\u002Davailability mainframe storage system\\\\x22},{\\\\x22title\\\\x22:\\\\x22Defender\\\\x22,\\\\x22url\\\\x22:\\\\x22https:\\\\/\\\\/www.ibm.com\\\\/products\\\\/storage\\\\u002Ddefender?lnk=flatitem\\\\x22,\\\\x22description\\\\x22:\\\\x22Data resiliency software for threat detection and data recovery\\\\x22},{\\\\x22title\\\\x22:\\\\x22FlashSystem\\\\x22,\\\\x22url\\\\x22:\\\\x22https:\\\\/\\\\/www.ibm.com\\\\/flashsystem?lnk=flatitem\\\\x22,\\\\x22description\\\\x22:\\\\x22All\\\\u002Dflash array with performance and capacity for any workload\\\\x22},{\\\\x22title\\\\x22:\\\\x22Fusion\\\\x22,\\\\x22url\\\\x22:\\\\x22https:\\\\/\\\\/www.ibm.com\\\\/products\\\\/storage\\\\u002Dfusion?lnk=flatitem\\\\x22,\\\\x22description\\\\x22:\\\\x22Container\\\\u002Dnative storage and data orchestration for OpenShift\\\\x22},{\\\\x22title\\\\x22:\\\\x22Insights\\\\x22,\\\\x22url\\\\x22:\\\\x22https:\\\\/\\\\/www.ibm.com\\\\/products\\\\/storage\\\\u002Dinsights?lnk=flatitem\\\\x22,\\\\x22description\\\\x22:\\\\x22Storage AIOps for metrics\\\\u002Dpowered analysis and decisions\\\\x22},{\\\\x22title\\\\x22:\\\\x22Protect\\\\x22,\\\\x22url\\\\x22:\\\\x22https:\\\\/\\\\/www.ibm.com\\\\/products\\\\/storage\\\\u002Dprotect?lnk=flatitem\\\\x22,\\\\x22description\\\\x22:\\\\x22Data resiliency, backup and recovery delivered via SaaS\\\\x22},{\\\\x22title\\\\x22:\\\\x22Protect for Cloud\\\\x22,\\\\x22url\\\\x22:\\\\x22https:\\\\/\\\\/www.ibm.com\\\\/products\\\\/storage\\\\u002Dprotect\\\\u002Dfor\\\\u002Dcloud?lnk=flatitem\\\\x22,\\\\x22description\\\\x22:\\\\x22Backup and recovery SaaS for data in public cloud services\\\\x22},{\\\\x22title\\\\x22:\\\\x22SAN Switches\\\\x22,\\\\x22url\\\\x22:\\\\x22https:\\\\/\\\\/www.ibm.com\\\\/storage\\\\u002Darea\\\\u002Dnetwork?lnk=flatitem\\\\x22,\\\\x22description\\\\x22:\\\\x22Scalable and highly available storage area network solutions\\\\x22},{\\\\x22title\\\\x22:\\\\x22Scale\\\\x22,\\\\x22url\\\\x22:\\\\x22https:\\\\/\\\\/www.ibm.com\\\\/products\\\\/storage\\\\u002Dscale?lnk=flatitem\\\\x22,\\\\x22description\\\\x22:\\\\x22Software defined storage for AI and high performance workloads\\\\x22},{\\\\x22title\\\\x22:\\\\x22Scale System\\\\x22,\\\\x22url\\\\x22:\\\\x22https:\\\\/\\\\/www.ibm.com\\\\/products\\\\/storage\\\\u002Dscale\\\\u002Dsystem?lnk=flatitem\\\\x22,\\\\x22description\\\\x22:\\\\x22All\\\\u002Dflash or hybrid performant storage for cloud scale use\\\\u002Dcases\\\\x22},{\\\\x22title\\\\x22:\\\\x22Tape Systems\\\\x22,\\\\x22url\\\\x22:\\\\x22https:\\\\/\\\\/www.ibm.com\\\\/tape\\\\u002Dstorage?lnk=flatitem\\\\x22,\\\\x22description\\\\x22:\\\\x22Software and hardware for encrypted and air\\\\u002Dgapped archives\\\\x22}]}]},{\\\\x22heading\\\\x22:{\\\\x22title\\\\x22:\\\\x22Supply chain\\\\x22,\\\\x22url\\\\x22:\\\\x22https:\\\\/\\\\/www.ibm.com\\\\/supply\\\\u002Dchain?lnk=flathl\\\\x22,\\\\x22description\\\\x22:\\\\x22Manage the flow of goods and services\\\\x22},\\\\x22groups\\\\x22:[{\\\\x22heading\\\\x22:{\\\\x22title\\\\x22:\\\\x22\\\\x22,\\\\x22description\\\\x22:\\\\x22\\\\x22},\\\\x22links\\\\x22:[{\\\\x22title\\\\x22:\\\\x22Sterling Order and Fulfillment Suite\\\\x22,\\\\x22url\\\\x22:\\\\x22https:\\\\/\\\\/www.ibm.com\\\\/products\\\\/order\\\\u002Dfulfillment\\\\u002Dsuite?lnk=flatitem\\\\x22,\\\\x22description\\\\x22:\\\\x22Complete order management system with AI and machine learning\\\\x22},{\\\\x22title\\\\x22:\\\\x22Sterling Supply Chain Intelligence Suite\\\\x22,\\\\x22url\\\\x22:\\\\x22https:\\\\/\\\\/www.ibm.com\\\\/products\\\\/supply\\\\u002Dchain\\\\u002Dintelligence\\\\u002Dsuite?lnk=flatitem\\\\x22,\\\\x22description\\\\x22:\\\\x22Software for supply chain optimization and automation\\\\x22}]}]}],\\\\x22viewAll\\\\x22:{\\\\x22title\\\\x22:\\\\x22View all products\\\\x22,\\\\x22url\\\\x22:\\\\x22https:\\\\/\\\\/www.ibm.com\\\\/products\\\\x22}}},{\\\\x22title\\\\x22:\\\\x22Consulting\\\\x22,\\\\x22url\\\\x22:\\\\x22https:\\\\/\\\\/www.ibm.com\\\\/consulting?lnk=L0G\\\\x22},{\\\\x22title\\\\x22:\\\\x22Support\\\\x22,\\\\x22url\\\\x22:\\\\x22\\\\x22,\\\\x22submenu\\\\x22:{\\\\x22sections\\\\x22:[{\\\\x22heading\\\\x22:{\\\\x22title\\\\x22:\\\\x22\\\\x22,\\\\x22description\\\\x22:\\\\x22\\\\x22},\\\\x22groups\\\\x22:[{\\\\x22heading\\\\x22:{\\\\x22title\\\\x22:\\\\x22What\\\\x27s New\\\\x22,\\\\x22url\\\\x22:\\\\x22https:\\\\/\\\\/www.ibm.com\\\\/new?lnk=flathl\\\\x22,\\\\x22description\\\\x22:\\\\x22\\\\x22},\\\\x22links\\\\x22:[]},{\\\\x22heading\\\\x22:{\\\\x22title\\\\x22:\\\\x22Community\\\\x22,\\\\x22url\\\\x22:\\\\x22https:\\\\/\\\\/community.ibm.com\\\\/community\\\\/user\\\\/community?lnk=flathl\\\\x22,\\\\x22description\\\\x22:\\\\x22\\\\x22},\\\\x22links\\\\x22:[]},{\\\\x22heading\\\\x22:{\\\\x22title\\\\x22:\\\\x22Developer\\\\x22,\\\\x22url\\\\x22:\\\\x22https:\\\\/\\\\/developer.ibm.com\\\\/?lnk=flathl\\\\x22,\\\\x22description\\\\x22:\\\\x22\\\\x22},\\\\x22links\\\\x22:[{\\\\x22title\\\\x22:\\\\x22Call for Code\\\\x22,\\\\x22url\\\\x22:\\\\x22https:\\\\/\\\\/developer.ibm.com\\\\/callforcode\\\\/?lnk=flatitem\\\\x22},{\\\\x22title\\\\x22:\\\\x22Generative AI\\\\x22,\\\\x22url\\\\x22:\\\\x22https:\\\\/\\\\/developer.ibm.com\\\\/get\\\\u002Dstarted\\\\/generative\\\\u002Dai\\\\/\\\\x22},{\\\\x22title\\\\x22:\\\\x22Hackathons\\\\x22,\\\\x22url\\\\x22:\\\\x22https:\\\\/\\\\/developer.ibm.com\\\\/hackathons\\\\/\\\\x22},{\\\\x22title\\\\x22:\\\\x22Open Source @ IBM\\\\x22,\\\\x22url\\\\x22:\\\\x22https:\\\\/\\\\/www.ibm.com\\\\/opensource\\\\/?lnk=flatitem\\\\x22},{\\\\x22title\\\\x22:\\\\x22Technologies\\\\x22,\\\\x22url\\\\x22:\\\\x22https:\\\\/\\\\/developer.ibm.com\\\\/technologies\\\\/?lnk=flatitem\\\\x22}]},{\\\\x22heading\\\\x22:{\\\\x22title\\\\x22:\\\\x22Documentation\\\\x22,\\\\x22url\\\\x22:\\\\x22https:\\\\/\\\\/www.ibm.com\\\\/docs\\\\/en?lnk=flathl\\\\x22,\\\\x22description\\\\x22:\\\\x22\\\\x22},\\\\x22links\\\\x22:[{\\\\x22title\\\\x22:\\\\x22All product documentation\\\\x22,\\\\x22url\\\\x22:\\\\x22https:\\\\/\\\\/www.ibm.com\\\\/docs\\\\/en?lnk=flatitem\\\\x22},{\\\\x22title\\\\x22:\\\\x22IBM Cloud documentation\\\\x22,\\\\x22url\\\\x22:\\\\x22https:\\\\/\\\\/cloud.ibm.com\\\\/docs?lnk=flatitem\\\\x22},{\\\\x22title\\\\x22:\\\\x22IBM Redbooks\\\\x22,\\\\x22url\\\\x22:\\\\x22https:\\\\/\\\\/www.redbooks.ibm.com\\\\/?lnk=flatitem\\\\x22}]},{\\\\x22heading\\\\x22:{\\\\x22title\\\\x22:\\\\x22IBM Cloud platform support\\\\x22,\\\\x22url\\\\x22:\\\\x22https:\\\\/\\\\/www.ibm.com\\\\/cloud\\\\/support?lnk=flathl\\\\x22,\\\\x22description\\\\x22:\\\\x22\\\\x22},\\\\x22links\\\\x22:[]},{\\\\x22heading\\\\x22:{\\\\x22title\\\\x22:\\\\x22Implementation\\\\x22,\\\\x22description\\\\x22:\\\\x22\\\\x22},\\\\x22links\\\\x22:[{\\\\x22title\\\\x22:\\\\x22Expert Labs\\\\x22,\\\\x22url\\\\x22:\\\\x22https:\\\\/\\\\/www.ibm.com\\\\/products\\\\/expertlabs?lnk=flatitem\\\\x22}]},{\\\\x22heading\\\\x22:{\\\\x22title\\\\x22:\\\\x22Support\\\\x22,\\\\x22url\\\\x22:\\\\x22https:\\\\/\\\\/www.ibm.com\\\\/mysupport\\\\/s\\\\/?language=en_US\\\\x26lnk=flathl\\\\x22,\\\\x22description\\\\x22:\\\\x22\\\\x22},\\\\x22links\\\\x22:[{\\\\x22title\\\\x22:\\\\x22Download fixes, updates \\\\x26 drivers\\\\x22,\\\\x22url\\\\x22:\\\\x22https:\\\\/\\\\/www.ibm.com\\\\/support\\\\/fixcentral?lnk=flatitem\\\\x22},{\\\\x22title\\\\x22:\\\\x22Download licensed software \\\\u002D Passport Advantage\\\\x22,\\\\x22url\\\\x22:\\\\x22https:\\\\/\\\\/www.ibm.com\\\\/software\\\\/passportadvantage\\\\/pao_customer.html?lnk=flatitem\\\\x22},{\\\\x22title\\\\x22:\\\\x22IBM Software Licensing\\\\x22,\\\\x22url\\\\x22:\\\\x22https:\\\\/\\\\/www.ibm.com\\\\/about\\\\/software\\\\u002Dlicensing\\\\/?lnk=flatitem\\\\x22},{\\\\x22title\\\\x22:\\\\x22Open a case\\\\x22,\\\\x22url\\\\x22:\\\\x22https:\\\\/\\\\/www.ibm.com\\\\/mysupport\\\\/s\\\\/redirecttoopencasepage?lnk=flatitem\\\\x22},{\\\\x22title\\\\x22:\\\\x22View more\\\\x22,\\\\x22url\\\\x22:\\\\x22https:\\\\/\\\\/www.ibm.com\\\\/mysupport\\\\/s\\\\/?language=en_US\\\\x26lnk=flatitem\\\\x22},{\\\\x22title\\\\x22:\\\\x22View support plans\\\\x22,\\\\x22url\\\\x22:\\\\x22https:\\\\/\\\\/www.ibm.com\\\\/support\\\\/pages\\\\/ibm\\\\u002Dsupport\\\\u002Dofferings?lnk=flatitem\\\\x22},{\\\\x22title\\\\x22:\\\\x22View your cases\\\\x22,\\\\x22url\\\\x22:\\\\x22https:\\\\/\\\\/www.ibm.com\\\\/mysupport\\\\/s\\\\/my\\\\u002Dcases?lnk=flatitem\\\\x22}]},{\\\\x22heading\\\\x22:{\\\\x22title\\\\x22:\\\\x22Technology Lifecycle Services\\\\x22,\\\\x22url\\\\x22:\\\\x22https:\\\\/\\\\/www.ibm.com\\\\/services\\\\/technology\\\\u002Dlifecycle\\\\u002Dservices?lnk=flathl\\\\x22,\\\\x22description\\\\x22:\\\\x22\\\\x22},\\\\x22links\\\\x22:[{\\\\x22title\\\\x22:\\\\x22Enterprise networking and security\\\\x22,\\\\x22url\\\\x22:\\\\x22https:\\\\/\\\\/www.ibm.com\\\\/services\\\\/networking\\\\u002Dsupport?lnk=flatitem\\\\x22},{\\\\x22title\\\\x22:\\\\x22Servers and storage\\\\x22,\\\\x22url\\\\x22:\\\\x22https:\\\\/\\\\/www.ibm.com\\\\/services\\\\/systems\\\\u002Dsupport?lnk=flatitem\\\\x22},{\\\\x22title\\\\x22:\\\\x22Software\\\\x22,\\\\x22url\\\\x22:\\\\x22https:\\\\/\\\\/www.ibm.com\\\\/services\\\\/software\\\\u002Dsupport?lnk=flatitem\\\\x22}]},{\\\\x22heading\\\\x22:{\\\\x22title\\\\x22:\\\\x22Training\\\\x22,\\\\x22url\\\\x22:\\\\x22https:\\\\/\\\\/www.ibm.com\\\\/training\\\\/?lnk=flathl\\\\x22,\\\\x22description\\\\x22:\\\\x22\\\\x22},\\\\x22links\\\\x22:[{\\\\x22title\\\\x22:\\\\x22Courses\\\\x22,\\\\x22url\\\\x22:\\\\x22https:\\\\/\\\\/www.ibm.com\\\\/training\\\\/search?q=course\\\\x26lnk=flatitem\\\\x22},{\\\\x22title\\\\x22:\\\\x22Digital learning subscriptions\\\\x22,\\\\x22url\\\\x22:\\\\x22https:\\\\/\\\\/www.ibm.com\\\\/training\\\\/subscriptions?lnk=flatitem\\\\x22},{\\\\x22title\\\\x22:\\\\x22Learning paths \\\\x26 collections\\\\x22,\\\\x22url\\\\x22:\\\\x22https:\\\\/\\\\/www.ibm.com\\\\/training\\\\/learning\\\\u002Dpaths\\\\u002Dand\\\\u002Dcollections?lnk=flatitem\\\\x22},{\\\\x22title\\\\x22:\\\\x22Professional certifications\\\\x22,\\\\x22url\\\\x22:\\\\x22https:\\\\/\\\\/www.ibm.com\\\\/training\\\\/credentials?lnk=flatitem\\\\x22}]}]}],\\\\x22viewAll\\\\x22:{\\\\x22title\\\\x22:\\\\x22\\\\x22,\\\\x22url\\\\x22:\\\\x22\\\\x22}}},{\\\\x22title\\\\x22:\\\\x22Think\\\\x22,\\\\x22url\\\\x22:\\\\x22https:\\\\/\\\\/www.ibm.com\\\\/think?lnk=L0G\\\\x22}]}}\";\\r\\n    const searchPlaceholderText = \"Search all of IBM\";\\r\\n    const links = JSON.parse(l0Json).mastheadNav.links;\\r\\n    const unAuthenticated = JSON.parse(l0Json).profileMenu.signedout;\\r\\n    const authenticated = JSON.parse(l0Json).profileMenu.signedin;\\r\\n\\r\\n    const mastheadContainerEl = document.querySelector(\\'c4d-masthead-container\\');\\r\\n\\r\\n    mastheadContainerEl.navLinks = links;\\r\\n    mastheadContainerEl.unauthenticatedProfileItems = unAuthenticated;\\r\\n    mastheadContainerEl.authenticatedProfileItems = authenticated;\\r\\n\\r\\n    const appendSearchPlaceholderText = () => {\\r\\n        const typeheadEl = mastheadContainerEl.querySelector(\\'c4d-search-with-typeahead\\');\\r\\n        if (typeheadEl) {\\r\\n            typeheadEl.searchPlaceholder = searchPlaceholderText;\\r\\n            observer.disconnect();\\r\\n        }\\r\\n    }\\r\\n    let observer = new MutationObserver(appendSearchPlaceholderText);\\r\\n    observer.observe(mastheadContainerEl, {subtree: true, childList: true});\\r\\n</script>\\r\\n\\r\\n\\r\\n\\r\\n\\r\\n\\r\\n<script type=\"text/javascript\">\\r\\n    if(window.location.href.includes(\"/careers\")){\\r\\n       document.querySelector(\\'c4d-masthead-container\\').setAttribute(\"has-search\",\"false\");\\r\\n       document.querySelector(\\'c4d-masthead-container\\').setAttribute(\"has-profile\",\"false\");\\r\\n    }\\r\\n</script>\\r\\n</div>\\n<div class=\"container responsivegrid\">\\n\\n    \\n    \\n    \\n    <div id=\"container-35bfd5ef7a\" class=\"cmp-container\">\\n        \\n        \\n        \\n    </div>\\n\\n</div>\\n<div class=\"leadspace-container container responsivegrid\" id=\"mbox-leadspace\">\\n\\n    \\n    \\n    \\n    <div id=\"leadspace-container-1e918979ca\" class=\"cmp-container\">\\n        \\n        <div class=\"leadspace-expanded leadspace\">\\r\\n\\r\\n\\r\\n\\r\\n\\r\\n\\r\\n    \\r\\n\\r\\n\\r\\n\\r\\n    \\r\\n        \\r\\n        \\r\\n    \\r\\n\\r\\n\\r\\n<section class=\"cds--grid theme-white leadspace-expanded__container leadspace-expanded__container--tall leadspace-expanded__container--aside\">\\r\\n    <div class=\"cds--row leadspace-expanded__row\">\\r\\n        <div class=\"cds--col-lg-6 leadspace-expanded__column leadspace-expanded__column--content\">\\r\\n            <div>\\r\\n                \\r\\n                    \\r\\n                <div class=\"leadspace-expanded__navigation leadspace-expanded__navigation--tags\">\\r\\n                    \\r\\n                </div>\\r\\n\\r\\n                <div id=\"mbox-heading\">\\r\\n                    <h1 class=\"leadspace-expanded__heading expressive-heading-05\" id=\"leadspaceSimpleTitle\">\\r\\n                        \\n\\n\\n    \\n\\n  \\n\\n<span class=\"enhanced-title text-color-gradient-90-blue-to-magenta\">Unlock the future with AI and quantum computing</span>\\n\\n\\n\\n    \\n\\n\\n\\n\\n\\n\\n\\n    \\n\\n\\r\\n                    </h1>\\r\\n                </div>\\r\\n            </div>\\r\\n            <div>\\r\\n                <span class=\"lead-in\">\\r\\n                    <div id=\"mbox-subheading\">\\r\\n                        <p> \\n\\n\\n  \\n  \\n      Step into a new era that merges AI with quantum computing to solve complex problems at unprecedented speed\\n  \\n\\n\\n\\n\\n    \\n\\n</p>\\r\\n                    </div>\\r\\n                </span>\\r\\n\\r\\n                \\r\\n\\r\\n                \\r\\n\\r\\n                \\r\\n\\r\\n                \\r\\n                    <div id=\"mbox-leadspace_cta\">\\r\\n                        <c4d-button-group class=\"leadspace-expanded__action leadspace-expanded__action--button-group\">\\r\\n                            \\r\\n                                \\r\\n                                \\n\\n\\n\\n\\n\\n\\n    \\n    \\n    \\n    \\n    \\n    <c4d-button-group-item href=\"https://www.ibm.com/quantum/case-studies?lnk=hpls1us\" target=\"_self\" kind=\"primary\" cta-type=\"local\" data-aem-autoid=\"aem--leadspace_cta-0\" data-video-modal-type=\"media-center\">\\n        <span>See quantum case studies</span>\\n        \\n        \\n    </c4d-button-group-item>\\n    \\n    \\n    \\n    <script defer src=\"/etc.clientlibs/adobe-cms/clientlibs/clientlib-button.lc-05ce28f7eef7eb2f6a5c4fafcd8608f2-lc.min.js\"></script>\\n\\n\\n    \\n\\n     \\n\\n    \\n    \\n    \\n    \\n    \\n    <c4d-button-group-item href=\"https://www.ibm.com/products/watsonx-orchestrate/ai-agent-for-hr?lnk=hpls2us\" target=\"_self\" kind=\"tertiary\" cta-type=\"local\" data-aem-autoid=\"aem--leadspace_cta-1\" data-video-modal-type=\"media-center\">\\n        <span>Get more done with AI agents </span>\\n        \\n        \\n    </c4d-button-group-item>\\n    \\n    \\n    \\n    \\n\\n    \\n\\n     \\n\\n\\r\\n                            \\r\\n                        </c4d-button-group>\\r\\n                    </div>\\r\\n                \\r\\n            </div>\\r\\n        </div>\\r\\n        <div class=\"cds--col-lg-8 leadspace-expanded__column leadspace-expanded__column--media\">\\r\\n            <div class=\"leadspace-expanded__column-inner\">\\r\\n                <div id=\"mbox-leadspace_visual\">\\r\\n                    \\r\\n\\r\\n                    \\r\\n                            \\r\\n                            <caem-video-player-container class=\"leadspace-expanded__media\" aspect-ratio=\"4x3\" video-id=\"1_agotg4ff \" caption-alignment=\"left\" background-mode=\"true\" button-position=\"bottom-right\" intersection-mode=\"\" hide-caption=\"true\" playing-mode=\"inline\"></caem-video-player-container>\\r\\n                        \\n    <script defer src=\"/etc.clientlibs/adobe-cms/clientlibs/clientlib-caem-video-player.lc-5ef986a6b0aad542cb2a3b0f522aca9c-lc.min.js\"></script>\\n\\n\\r\\n                        \\r\\n                    \\r\\n\\r\\n                    \\r\\n                </div>\\r\\n            </div>\\r\\n        </div>\\r\\n        <div class=\"cds--col-lg-2 leadspace-expanded__column leadspace-expanded__column--aside\">\\r\\n            <div class=\"leadspace-expanded__column-inner\">\\r\\n                \\r\\n                    \\r\\n                \\r\\n\\r\\n                \\r\\n                    \\r\\n                        \\r\\n                            <c4d-link-list class=\"newsfeed \">\\r\\n                                <c4d-link-list-heading role=\"heading\" aria-level=\"4\" slot=\"heading\">\\r\\n                                    \\n\\n\\n  \\n  \\n      Latest news\\n  \\n\\n\\n\\n\\n    \\n\\n\\r\\n                                </c4d-link-list-heading>\\r\\n                                \\r\\n                                \\r\\n                                    \\r\\n                                    \\r\\n                                        \\n\\n\\r\\n                                    \\r\\n                                \\r\\n                                    \\r\\n                                    \\r\\n                                        \\n\\n\\r\\n                                    \\r\\n                                \\r\\n                                    \\r\\n                                    \\r\\n                                        \\n\\n\\r\\n                                    \\r\\n                                \\r\\n                                    \\r\\n                                    \\r\\n                                        \\n\\n\\r\\n                                    \\r\\n                                \\r\\n                                \\r\\n                                    \\r\\n                                        \\n    <c4d-link-list-item cta-type=\"local\" href=\"https://newsroom.ibm.com/2025-03-10-mitsubishi-motors-canada-launches-ai-powered-intelligent-companion-to-transform-the-2025-outlander-buying-experience\" aria-label=\"Mitsubishi Motors Canada Launches AI-Powered &#34;Intelligent Companion&#34; to Transform the 2025 Outlander Buying Experience\" class=\"newsfeed__item\">\\n        <p>Mitsubishi Motors Canada Launches AI-Powered &#34;Intelligent Companion&#34; to Transform the 2025 Outlander Buying Experience</p>\\n        <c4d-card-footer href=\"https://newsroom.ibm.com/2025-03-10-mitsubishi-motors-canada-launches-ai-powered-intelligent-companion-to-transform-the-2025-outlander-buying-experience\" cta-type=\"local\" target=\"_self\">\\n            <span slot=\"icon\" class=\"ibm_icon_arrowright_local cds--card__cta c4d-ce--cta__icon\"></span>\\n        </c4d-card-footer>\\n        <span slot=\"icon\" class=\"ibm_icon_arrowright_local cds--card__cta c4d-ce--cta__icon\"></span>\\n    </c4d-link-list-item>\\n    \\n    \\n    <script defer src=\"/etc.clientlibs/adobe-cms/clientlibs/clientlib-link-list.lc-3e214d04fcaec3b5005156c905a7561a-lc.min.js\"></script>\\n<script defer src=\"/etc.clientlibs/adobe-cms/clientlibs/clientlib-card.lc-dba9714563d4f0322291d5fdf6f78a09-lc.min.js\"></script>\\n\\n\\n    \\n   \\r\\n                                    \\r\\n                                \\r\\n                                    \\r\\n                                        \\n    <c4d-link-list-item cta-type=\"local\" href=\"https://newsroom.ibm.com/2025-03-05-2025-call-for-code-engages-developers-to-build-ai-solutions-that-address-social-and-humanitarian-issues\" aria-label=\"2025 Call for Code Engages Developers to Build AI Solutions that Address Social and Humanitarian Issues\\n\" class=\"newsfeed__item\">\\n        <p>2025 Call for Code Engages Developers to Build AI Solutions that Address Social and Humanitarian Issues\\n</p>\\n        <c4d-card-footer href=\"https://newsroom.ibm.com/2025-03-05-2025-call-for-code-engages-developers-to-build-ai-solutions-that-address-social-and-humanitarian-issues\" cta-type=\"local\" target=\"_self\">\\n            <span slot=\"icon\" class=\"ibm_icon_arrowright_local cds--card__cta c4d-ce--cta__icon\"></span>\\n        </c4d-card-footer>\\n        <span slot=\"icon\" class=\"ibm_icon_arrowright_local cds--card__cta c4d-ce--cta__icon\"></span>\\n    </c4d-link-list-item>\\n    \\n    \\n    \\n\\n    \\n   \\r\\n                                    \\r\\n                                \\r\\n                                    \\r\\n                                        \\n    <c4d-link-list-item cta-type=\"local\" href=\"https://newsroom.ibm.com/2025-03-03-vodafone-and-ibm-work-to-future-proof-smartphone-security-with-quantum-safe-cryptography\" aria-label=\"Vodafone and IBM Work to Future-Proof Smartphone Security with Quantum-Safe Cryptography\" class=\"newsfeed__item\">\\n        <p>Vodafone and IBM Work to Future-Proof Smartphone Security with Quantum-Safe Cryptography</p>\\n        <c4d-card-footer href=\"https://newsroom.ibm.com/2025-03-03-vodafone-and-ibm-work-to-future-proof-smartphone-security-with-quantum-safe-cryptography\" cta-type=\"local\" target=\"_self\">\\n            <span slot=\"icon\" class=\"ibm_icon_arrowright_local cds--card__cta c4d-ce--cta__icon\"></span>\\n        </c4d-card-footer>\\n        <span slot=\"icon\" class=\"ibm_icon_arrowright_local cds--card__cta c4d-ce--cta__icon\"></span>\\n    </c4d-link-list-item>\\n    \\n    \\n    \\n\\n    \\n   \\r\\n                                    \\r\\n                                \\r\\n                                    \\r\\n                                        \\n    <c4d-link-list-item cta-type=\"local\" href=\"https://newsroom.ibm.com/2025-02-28-juniper-and-ibm-to-simplify-enterprise-network-operations-with-next-era-of-gen-ai-innovation\" aria-label=\"Juniper and IBM to Simplify Enterprise Network Operations with Next Era of Gen AI innovation\\n\\n\" class=\"newsfeed__item\">\\n        <p>Juniper and IBM to Simplify Enterprise Network Operations with Next Era of Gen AI innovation\\n\\n</p>\\n        <c4d-card-footer href=\"https://newsroom.ibm.com/2025-02-28-juniper-and-ibm-to-simplify-enterprise-network-operations-with-next-era-of-gen-ai-innovation\" cta-type=\"local\" target=\"_self\">\\n            <span slot=\"icon\" class=\"ibm_icon_arrowright_local cds--card__cta c4d-ce--cta__icon\"></span>\\n        </c4d-card-footer>\\n        <span slot=\"icon\" class=\"ibm_icon_arrowright_local cds--card__cta c4d-ce--cta__icon\"></span>\\n    </c4d-link-list-item>\\n    \\n    \\n    \\n\\n    \\n   \\r\\n                                    \\r\\n                                \\r\\n                                    \\r\\n                                        \\n    <c4d-link-list-item cta-type=\"local\" href=\"https://newsroom.ibm.com/2025-02-27-ibm-completes-acquisition-of-hashicorp,-creates-comprehensive,-end-to-end-hybrid-cloud-platform\" aria-label=\"IBM Completes Acquisition of HashiCorp, Creates Comprehensive, End-to-End Hybrid Cloud Platform\" class=\"newsfeed__item\">\\n        <p>IBM Completes Acquisition of HashiCorp, Creates Comprehensive, End-to-End Hybrid Cloud Platform</p>\\n        <c4d-card-footer href=\"https://newsroom.ibm.com/2025-02-27-ibm-completes-acquisition-of-hashicorp,-creates-comprehensive,-end-to-end-hybrid-cloud-platform\" cta-type=\"local\" target=\"_self\">\\n            <span slot=\"icon\" class=\"ibm_icon_arrowright_local cds--card__cta c4d-ce--cta__icon\"></span>\\n        </c4d-card-footer>\\n        <span slot=\"icon\" class=\"ibm_icon_arrowright_local cds--card__cta c4d-ce--cta__icon\"></span>\\n    </c4d-link-list-item>\\n    \\n    \\n    \\n\\n    \\n   \\r\\n                                    \\r\\n                                \\r\\n                                    \\r\\n                                        \\n    <c4d-link-list-item cta-type=\"local\" href=\"https://newsroom.ibm.com/2025-02-27-qualcomm-and-ibm-scale-enterprise-grade-generative-ai-from-edge-to-cloud\" aria-label=\"Qualcomm and IBM Scale Enterprise-grade Generative AI from Edge to Cloud\\n\" class=\"newsfeed__item\">\\n        <p>Qualcomm and IBM Scale Enterprise-grade Generative AI from Edge to Cloud\\n</p>\\n        <c4d-card-footer href=\"https://newsroom.ibm.com/2025-02-27-qualcomm-and-ibm-scale-enterprise-grade-generative-ai-from-edge-to-cloud\" cta-type=\"local\" target=\"_self\">\\n            <span slot=\"icon\" class=\"ibm_icon_arrowright_local cds--card__cta c4d-ce--cta__icon\"></span>\\n        </c4d-card-footer>\\n        <span slot=\"icon\" class=\"ibm_icon_arrowright_local cds--card__cta c4d-ce--cta__icon\"></span>\\n    </c4d-link-list-item>\\n    \\n    \\n    \\n\\n    \\n   \\r\\n                                    \\r\\n                                \\r\\n                                    \\r\\n                                        \\n    <c4d-link-list-item cta-type=\"local\" href=\"https://newsroom.ibm.com/2025-02-26-ibm-expands-granite-model-family-with-new-multi-modal-and-reasoning-ai-built-for-the-enterprise\" aria-label=\"IBM Expands Granite Model Family with New Multi-Modal and Reasoning AI Built for the Enterprise\" class=\"newsfeed__item\">\\n        <p>IBM Expands Granite Model Family with New Multi-Modal and Reasoning AI Built for the Enterprise</p>\\n        <c4d-card-footer href=\"https://newsroom.ibm.com/2025-02-26-ibm-expands-granite-model-family-with-new-multi-modal-and-reasoning-ai-built-for-the-enterprise\" cta-type=\"local\" target=\"_self\">\\n            <span slot=\"icon\" class=\"ibm_icon_arrowright_local cds--card__cta c4d-ce--cta__icon\"></span>\\n        </c4d-card-footer>\\n        <span slot=\"icon\" class=\"ibm_icon_arrowright_local cds--card__cta c4d-ce--cta__icon\"></span>\\n    </c4d-link-list-item>\\n    \\n    \\n    \\n\\n    \\n   \\r\\n                                    \\r\\n                                \\r\\n                                    \\r\\n                                        \\n    <c4d-link-list-item cta-type=\"local\" href=\"https://newsroom.ibm.com/2025-02-25-ibm-to-acquire-datastax,-deepening-watsonx-capabilities-and-addressing-generative-ai-data-needs-for-the-enterprise\" aria-label=\"IBM to Acquire DataStax, Deepening watsonx Capabilities and Addressing Generative AI Data Needs for the Enterprise\" class=\"newsfeed__item\">\\n        <p>IBM to Acquire DataStax, Deepening watsonx Capabilities and Addressing Generative AI Data Needs for the Enterprise</p>\\n        <c4d-card-footer href=\"https://newsroom.ibm.com/2025-02-25-ibm-to-acquire-datastax,-deepening-watsonx-capabilities-and-addressing-generative-ai-data-needs-for-the-enterprise\" cta-type=\"local\" target=\"_self\">\\n            <span slot=\"icon\" class=\"ibm_icon_arrowright_local cds--card__cta c4d-ce--cta__icon\"></span>\\n        </c4d-card-footer>\\n        <span slot=\"icon\" class=\"ibm_icon_arrowright_local cds--card__cta c4d-ce--cta__icon\"></span>\\n    </c4d-link-list-item>\\n    \\n    \\n    \\n\\n    \\n   \\r\\n                                    \\r\\n                                \\r\\n                                \\n    <script defer src=\"/etc.clientlibs/adobe-cms/clientlibs/clientlib-leadspace.lc-fab8cf9a2dbfda51bbc00e17bba4edad-lc.min.js\"></script>\\n<script defer src=\"/etc.clientlibs/adobe-cms/clientlibs/clientlib-cweb-search.lc-0d13f1ad2fc4b43337ad1dee1aff2470-lc.min.js\"></script>\\n\\n\\r\\n                            </c4d-link-list>\\r\\n                        \\r\\n                    \\r\\n                \\r\\n            </div>\\r\\n        </div>\\r\\n    </div>\\r\\n</section></div>\\n\\n        \\n    </div>\\n\\n</div>\\n<div class=\"table-of-contents container responsivegrid\">\\n<c4d-table-of-contents data-cmp-is=\"table-of-contents\" data-autoid=\"c4d--tableofcontents\" class=\"cmp-table-of-contents\" stickyoffset=\"48\" toc-layout=\"horizontal\" toc-hide=\"hidden\">\\n    \\n    \\n    <div id=\"table-of-contents-b422012d4b\" class=\"cmp-table-of-contents\">\\n        \\n        <div class=\"modular-container container responsivegrid\">\\n\\n    \\n    \\n    \\n    <div id=\"modular-container-5d1eac4ca1\" class=\"cmp-container\">\\n        \\n        <div class=\"standalone-title enhanced-title text\">\\r\\n\\r\\n\\r\\n\\r\\n\\r\\n\\r\\n\\r\\n\\r\\n    <h5 class=\"expressive-heading-02 col-8 \">Recommended for you</h5>\\r\\n\\r\\n\\n    \\n\\r\\n</div>\\n\\n        \\n    </div>\\n\\n</div>\\n<div class=\"tile-group-container container responsivegrid\">\\n  <div class=\"cds--col\">\\n    \\r\\n\\r\\n\\r\\n\\r\\n\\r\\n\\r\\n\\r\\n\\r\\n    <h5 class=\"expressive-heading-02  \"></h5>\\r\\n\\r\\n\\n    \\n\\r\\n\\n    <div id=\"mbox-relatedcontent\">\\n      <caem-tile-group>\\n        \\n\\n    \\r\\n    \\n    <caem-tile label=\"News\" cta-type=\"local\" href=\"https://www.ibm.com/think/news/beeai-open-source-multiagent?lnk=hprc1us\" target=\"_self\" data-video-modal-type=\"media-center\">\\n        \\n        \\n            \\n\\n\\n\\n\\n\\n    \\n    \\n        \\n        \\n        \\n        \\n        \\n        <c4d-image id=\"image--504210012\" alt=\"Illustration of a bee on purple gradient background\" slot=\"image\" default-src=\"/content/dam/connectedassets-adobe-cms/worldwide-content/creative-assets/s-migr/ul/g/af/86/whats-new-container-v1-short-5-2-crop.component.tile-card-xl.ts=1741716905124.png/content/adobe-cms/us/en/homepage/jcr:content/root/table_of_contents/tile_group_container_1662354541/container/tile_card/image\" class=\"\">\\n            \\n            \\n                \\n                    \\n    <c4d-image-item media=\"(min-width: 1312px) and (min-resolution: 192dpi)\" srcset=\"/content/dam/connectedassets-adobe-cms/worldwide-content/creative-assets/s-migr/ul/g/af/86/whats-new-container-v1-short-5-2-crop.component.tile-card-xl-retina.ts=1741716905124.png/content/adobe-cms/us/en/homepage/jcr:content/root/table_of_contents/tile_group_container_1662354541/container/tile_card/image\"></c4d-image-item>\\n    <c4d-image-item media=\"(min-width: 1312px)\" srcset=\"/content/dam/connectedassets-adobe-cms/worldwide-content/creative-assets/s-migr/ul/g/af/86/whats-new-container-v1-short-5-2-crop.component.tile-card-xl.ts=1741716905124.png/content/adobe-cms/us/en/homepage/jcr:content/root/table_of_contents/tile_group_container_1662354541/container/tile_card/image\"></c4d-image-item>\\n    <c4d-image-item media=\"(min-width: 1056px) and (min-resolution: 192dpi)\" srcset=\"/content/dam/connectedassets-adobe-cms/worldwide-content/creative-assets/s-migr/ul/g/af/86/whats-new-container-v1-short-5-2-crop.component.tile-card-l-retina.ts=1741716905124.png/content/adobe-cms/us/en/homepage/jcr:content/root/table_of_contents/tile_group_container_1662354541/container/tile_card/image\"></c4d-image-item>\\n    <c4d-image-item media=\"(min-width: 1056px)\" srcset=\"/content/dam/connectedassets-adobe-cms/worldwide-content/creative-assets/s-migr/ul/g/af/86/whats-new-container-v1-short-5-2-crop.component.tile-card-l.ts=1741716905124.png/content/adobe-cms/us/en/homepage/jcr:content/root/table_of_contents/tile_group_container_1662354541/container/tile_card/image\"></c4d-image-item>\\n    <c4d-image-item media=\"(min-width: 672px) and (min-resolution: 192dpi)\" srcset=\"/content/dam/connectedassets-adobe-cms/worldwide-content/creative-assets/s-migr/ul/g/af/86/whats-new-container-v1-short-5-2-crop.component.tile-card-m-retina.ts=1741716905124.png/content/adobe-cms/us/en/homepage/jcr:content/root/table_of_contents/tile_group_container_1662354541/container/tile_card/image\"></c4d-image-item>\\n    <c4d-image-item media=\"(min-width: 672px)\" srcset=\"/content/dam/connectedassets-adobe-cms/worldwide-content/creative-assets/s-migr/ul/g/af/86/whats-new-container-v1-short-5-2-crop.component.tile-card-m.ts=1741716905124.png/content/adobe-cms/us/en/homepage/jcr:content/root/table_of_contents/tile_group_container_1662354541/container/tile_card/image\"></c4d-image-item>\\n    <c4d-image-item media=\"(min-width: 481px) and (min-resolution: 192dpi)\" srcset=\"/content/dam/connectedassets-adobe-cms/worldwide-content/creative-assets/s-migr/ul/g/af/86/whats-new-container-v1-short-5-2-crop.component.tile-card-s-retina.ts=1741716905124.png/content/adobe-cms/us/en/homepage/jcr:content/root/table_of_contents/tile_group_container_1662354541/container/tile_card/image\"></c4d-image-item>\\n    <c4d-image-item media=\"(min-width: 481px)\" srcset=\"/content/dam/connectedassets-adobe-cms/worldwide-content/creative-assets/s-migr/ul/g/af/86/whats-new-container-v1-short-5-2-crop.component.tile-card-s.ts=1741716905124.png/content/adobe-cms/us/en/homepage/jcr:content/root/table_of_contents/tile_group_container_1662354541/container/tile_card/image\"></c4d-image-item>\\n    <c4d-image-item media=\"(max-width: 480px) and (min-resolution: 192dpi)\" srcset=\"/content/dam/connectedassets-adobe-cms/worldwide-content/creative-assets/s-migr/ul/g/af/86/whats-new-container-v1-short-5-2-crop.component.tile-card-xs-retina.ts=1741716905124.png/content/adobe-cms/us/en/homepage/jcr:content/root/table_of_contents/tile_group_container_1662354541/container/tile_card/image\"></c4d-image-item>\\n    <c4d-image-item media=\"(max-width: 480px)\" srcset=\"/content/dam/connectedassets-adobe-cms/worldwide-content/creative-assets/s-migr/ul/g/af/86/whats-new-container-v1-short-5-2-crop.component.tile-card-xs.ts=1741716905124.png/content/adobe-cms/us/en/homepage/jcr:content/root/table_of_contents/tile_group_container_1662354541/container/tile_card/image\"></c4d-image-item>\\n    \\n    \\n    <script defer src=\"/etc.clientlibs/adobe-cms/clientlibs/clientlib-image.lc-986823439175a9b6ee723daa74064a88-lc.min.js\"></script>\\n\\n\\n    \\n\\n                    \\n                \\n            \\n        </c4d-image>\\n    \\n\\n    \\n    \\n    \\n    \\n\\n    \\n\\n\\n\\n    \\n    \\n\\n\\n        \\n        \\n    \\n\\n        Meet BeeAI, a no-code, multiagent platform\\n        \\n    \\n    \\n\\n\\n\\n    \\n\\n\\n    \\n    <script defer src=\"/etc.clientlibs/adobe-cms/clientlibs/clientlib-cweb-tag.lc-110787fad411e9bb4388c3f3211925b3-lc.min.js\"></script>\\n\\n\\n\\n        <p slot=\"cta\">\\n            \\n        </p>\\n\\n    </caem-tile>\\n\\n    <div class=\"caem-card-svg-source\" hidden>\\n        <svg xmlns=\"http://www.w3.org/2000/svg\" id=\"accelerated-computing\" viewBox=\"0 0 32 32\"><path d=\"M19,29.36c-3.401,0-6.596-1.506-8.764-4.131l0.556-0.459c2.03,2.459,5.022,3.869,8.208,3.869 c5.867,0,10.64-4.772,10.64-10.64c0-5.867-4.772-10.64-10.64-10.64c-3.186,0-6.177,1.411-8.208,3.87l-0.555-0.459 c2.091-2.532,5.137-4.022,8.403-4.125V5.36H16c-0.199,0-0.36-0.161-0.36-0.36V3c0-0.199,0.161-0.36,0.36-0.36h6 c0.199,0,0.36,0.161,0.36,0.36v2c0,0.199-0.161,0.36-0.36,0.36h-2.64v1.286c6.098,0.191,11,5.211,11,11.354 C30.36,24.264,25.264,29.36,19,29.36z M16.36,4.64h5.28V3.36h-5.28V4.64z M14,23.36H4v-0.72h10V23.36z M12,18.36H2v-0.72h10V18.36z M19.179,18.312l-0.357-0.625l7-4l0.357,0.625L19.179,18.312z M14,13.36H4v-0.72h10V13.36z\"/></svg>\\n    </div>\\n    \\n    \\n\\n\\r\\n\\r\\n\\r\\n    \\n    <script defer src=\"/etc.clientlibs/adobe-cms/clientlibs/clientlib-caem-tile.lc-6bb3eccff539a44a3ac2c4ba48151d56-lc.min.js\"></script>\\n\\n\\r\\n\\r\\n\\n\\n    \\r\\n    \\n    <caem-tile label=\"Product\" cta-type=\"local\" href=\"https://www.ibm.com/products/guardium-quantum-safe?lnk=hprc2us\" target=\"_self\" data-video-modal-type=\"media-center\">\\n        \\n        \\n            \\n\\n\\n\\n\\n\\n    \\n    \\n        \\n        \\n        \\n        \\n        \\n        <c4d-image id=\"image--1140056554\" alt=\"3d render of abstract circular object\" slot=\"image\" default-src=\"/content/dam/connectedassets-adobe-cms/worldwide-content/creative-assets/s-migr/ul/g/02/aa/ibm_quantum_safe_4k_hero_05.component.tile-card-xl.ts=1741716905333.png/content/adobe-cms/us/en/homepage/jcr:content/root/table_of_contents/tile_group_container_1662354541/container/tile_card_964526575/image\" class=\"\">\\n            \\n            \\n                \\n                    \\n    <c4d-image-item media=\"(min-width: 1312px) and (min-resolution: 192dpi)\" srcset=\"/content/dam/connectedassets-adobe-cms/worldwide-content/creative-assets/s-migr/ul/g/02/aa/ibm_quantum_safe_4k_hero_05.component.tile-card-xl-retina.ts=1741716905333.png/content/adobe-cms/us/en/homepage/jcr:content/root/table_of_contents/tile_group_container_1662354541/container/tile_card_964526575/image\"></c4d-image-item>\\n    <c4d-image-item media=\"(min-width: 1312px)\" srcset=\"/content/dam/connectedassets-adobe-cms/worldwide-content/creative-assets/s-migr/ul/g/02/aa/ibm_quantum_safe_4k_hero_05.component.tile-card-xl.ts=1741716905333.png/content/adobe-cms/us/en/homepage/jcr:content/root/table_of_contents/tile_group_container_1662354541/container/tile_card_964526575/image\"></c4d-image-item>\\n    <c4d-image-item media=\"(min-width: 1056px) and (min-resolution: 192dpi)\" srcset=\"/content/dam/connectedassets-adobe-cms/worldwide-content/creative-assets/s-migr/ul/g/02/aa/ibm_quantum_safe_4k_hero_05.component.tile-card-l-retina.ts=1741716905333.png/content/adobe-cms/us/en/homepage/jcr:content/root/table_of_contents/tile_group_container_1662354541/container/tile_card_964526575/image\"></c4d-image-item>\\n    <c4d-image-item media=\"(min-width: 1056px)\" srcset=\"/content/dam/connectedassets-adobe-cms/worldwide-content/creative-assets/s-migr/ul/g/02/aa/ibm_quantum_safe_4k_hero_05.component.tile-card-l.ts=1741716905333.png/content/adobe-cms/us/en/homepage/jcr:content/root/table_of_contents/tile_group_container_1662354541/container/tile_card_964526575/image\"></c4d-image-item>\\n    <c4d-image-item media=\"(min-width: 672px) and (min-resolution: 192dpi)\" srcset=\"/content/dam/connectedassets-adobe-cms/worldwide-content/creative-assets/s-migr/ul/g/02/aa/ibm_quantum_safe_4k_hero_05.component.tile-card-m-retina.ts=1741716905333.png/content/adobe-cms/us/en/homepage/jcr:content/root/table_of_contents/tile_group_container_1662354541/container/tile_card_964526575/image\"></c4d-image-item>\\n    <c4d-image-item media=\"(min-width: 672px)\" srcset=\"/content/dam/connectedassets-adobe-cms/worldwide-content/creative-assets/s-migr/ul/g/02/aa/ibm_quantum_safe_4k_hero_05.component.tile-card-m.ts=1741716905333.png/content/adobe-cms/us/en/homepage/jcr:content/root/table_of_contents/tile_group_container_1662354541/container/tile_card_964526575/image\"></c4d-image-item>\\n    <c4d-image-item media=\"(min-width: 481px) and (min-resolution: 192dpi)\" srcset=\"/content/dam/connectedassets-adobe-cms/worldwide-content/creative-assets/s-migr/ul/g/02/aa/ibm_quantum_safe_4k_hero_05.component.tile-card-s-retina.ts=1741716905333.png/content/adobe-cms/us/en/homepage/jcr:content/root/table_of_contents/tile_group_container_1662354541/container/tile_card_964526575/image\"></c4d-image-item>\\n    <c4d-image-item media=\"(min-width: 481px)\" srcset=\"/content/dam/connectedassets-adobe-cms/worldwide-content/creative-assets/s-migr/ul/g/02/aa/ibm_quantum_safe_4k_hero_05.component.tile-card-s.ts=1741716905333.png/content/adobe-cms/us/en/homepage/jcr:content/root/table_of_contents/tile_group_container_1662354541/container/tile_card_964526575/image\"></c4d-image-item>\\n    <c4d-image-item media=\"(max-width: 480px) and (min-resolution: 192dpi)\" srcset=\"/content/dam/connectedassets-adobe-cms/worldwide-content/creative-assets/s-migr/ul/g/02/aa/ibm_quantum_safe_4k_hero_05.component.tile-card-xs-retina.ts=1741716905333.png/content/adobe-cms/us/en/homepage/jcr:content/root/table_of_contents/tile_group_container_1662354541/container/tile_card_964526575/image\"></c4d-image-item>\\n    <c4d-image-item media=\"(max-width: 480px)\" srcset=\"/content/dam/connectedassets-adobe-cms/worldwide-content/creative-assets/s-migr/ul/g/02/aa/ibm_quantum_safe_4k_hero_05.component.tile-card-xs.ts=1741716905333.png/content/adobe-cms/us/en/homepage/jcr:content/root/table_of_contents/tile_group_container_1662354541/container/tile_card_964526575/image\"></c4d-image-item>\\n    \\n    \\n    \\n\\n    \\n\\n                    \\n                \\n            \\n        </c4d-image>\\n    \\n\\n    \\n    \\n    \\n    \\n\\n    \\n\\n\\n\\n    \\n    \\n\\n\\n        \\n        \\n    \\n\\n        Gain visibility with IBM Guardium Quantum Safe\\n        \\n    \\n    \\n\\n\\n\\n    \\n\\n\\n    \\n    \\n\\n\\n        <p slot=\"cta\">\\n            \\n        </p>\\n\\n    </caem-tile>\\n\\n    <div class=\"caem-card-svg-source\" hidden>\\n        <svg xmlns=\"http://www.w3.org/2000/svg\" id=\"accelerated-computing\" viewBox=\"0 0 32 32\"><path d=\"M19,29.36c-3.401,0-6.596-1.506-8.764-4.131l0.556-0.459c2.03,2.459,5.022,3.869,8.208,3.869 c5.867,0,10.64-4.772,10.64-10.64c0-5.867-4.772-10.64-10.64-10.64c-3.186,0-6.177,1.411-8.208,3.87l-0.555-0.459 c2.091-2.532,5.137-4.022,8.403-4.125V5.36H16c-0.199,0-0.36-0.161-0.36-0.36V3c0-0.199,0.161-0.36,0.36-0.36h6 c0.199,0,0.36,0.161,0.36,0.36v2c0,0.199-0.161,0.36-0.36,0.36h-2.64v1.286c6.098,0.191,11,5.211,11,11.354 C30.36,24.264,25.264,29.36,19,29.36z M16.36,4.64h5.28V3.36h-5.28V4.64z M14,23.36H4v-0.72h10V23.36z M12,18.36H2v-0.72h10V18.36z M19.179,18.312l-0.357-0.625l7-4l0.357,0.625L19.179,18.312z M14,13.36H4v-0.72h10V13.36z\"/></svg>\\n    </div>\\n    \\n    \\n\\n\\r\\n\\r\\n\\r\\n    \\n    \\n\\r\\n\\r\\n\\n\\n    \\r\\n    \\n    <caem-tile label=\"Guide\" cta-type=\"local\" href=\"https://www.ibm.com/info/ai-it-automation?lnk=hprc3us\" target=\"_self\" data-video-modal-type=\"media-center\">\\n        \\n        \\n            \\n\\n\\n\\n\\n\\n    \\n    \\n        \\n        \\n        \\n        \\n        \\n        <c4d-image id=\"image--1031071656\" alt=\"3D render of cog mechanism running automation\" slot=\"image\" default-src=\"/content/dam/connectedassets-adobe-cms/worldwide-content/pm/ul/g/cf/6f/automation-b1-v2-morningbrew-1000x750.component.tile-card-xl.ts=1741716905579.jpg/content/adobe-cms/us/en/homepage/jcr:content/root/table_of_contents/tile_group_container_1662354541/container/tile_card_734954344/image\" class=\"\">\\n            \\n            \\n                \\n                    \\n    <c4d-image-item media=\"(min-width: 1312px) and (min-resolution: 192dpi)\" srcset=\"/content/dam/connectedassets-adobe-cms/worldwide-content/pm/ul/g/cf/6f/automation-b1-v2-morningbrew-1000x750.component.tile-card-xl-retina.ts=1741716905579.jpg/content/adobe-cms/us/en/homepage/jcr:content/root/table_of_contents/tile_group_container_1662354541/container/tile_card_734954344/image\"></c4d-image-item>\\n    <c4d-image-item media=\"(min-width: 1312px)\" srcset=\"/content/dam/connectedassets-adobe-cms/worldwide-content/pm/ul/g/cf/6f/automation-b1-v2-morningbrew-1000x750.component.tile-card-xl.ts=1741716905579.jpg/content/adobe-cms/us/en/homepage/jcr:content/root/table_of_contents/tile_group_container_1662354541/container/tile_card_734954344/image\"></c4d-image-item>\\n    <c4d-image-item media=\"(min-width: 1056px) and (min-resolution: 192dpi)\" srcset=\"/content/dam/connectedassets-adobe-cms/worldwide-content/pm/ul/g/cf/6f/automation-b1-v2-morningbrew-1000x750.component.tile-card-l-retina.ts=1741716905579.jpg/content/adobe-cms/us/en/homepage/jcr:content/root/table_of_contents/tile_group_container_1662354541/container/tile_card_734954344/image\"></c4d-image-item>\\n    <c4d-image-item media=\"(min-width: 1056px)\" srcset=\"/content/dam/connectedassets-adobe-cms/worldwide-content/pm/ul/g/cf/6f/automation-b1-v2-morningbrew-1000x750.component.tile-card-l.ts=1741716905579.jpg/content/adobe-cms/us/en/homepage/jcr:content/root/table_of_contents/tile_group_container_1662354541/container/tile_card_734954344/image\"></c4d-image-item>\\n    <c4d-image-item media=\"(min-width: 672px) and (min-resolution: 192dpi)\" srcset=\"/content/dam/connectedassets-adobe-cms/worldwide-content/pm/ul/g/cf/6f/automation-b1-v2-morningbrew-1000x750.component.tile-card-m-retina.ts=1741716905579.jpg/content/adobe-cms/us/en/homepage/jcr:content/root/table_of_contents/tile_group_container_1662354541/container/tile_card_734954344/image\"></c4d-image-item>\\n    <c4d-image-item media=\"(min-width: 672px)\" srcset=\"/content/dam/connectedassets-adobe-cms/worldwide-content/pm/ul/g/cf/6f/automation-b1-v2-morningbrew-1000x750.component.tile-card-m.ts=1741716905579.jpg/content/adobe-cms/us/en/homepage/jcr:content/root/table_of_contents/tile_group_container_1662354541/container/tile_card_734954344/image\"></c4d-image-item>\\n    <c4d-image-item media=\"(min-width: 481px) and (min-resolution: 192dpi)\" srcset=\"/content/dam/connectedassets-adobe-cms/worldwide-content/pm/ul/g/cf/6f/automation-b1-v2-morningbrew-1000x750.component.tile-card-s-retina.ts=1741716905579.jpg/content/adobe-cms/us/en/homepage/jcr:content/root/table_of_contents/tile_group_container_1662354541/container/tile_card_734954344/image\"></c4d-image-item>\\n    <c4d-image-item media=\"(min-width: 481px)\" srcset=\"/content/dam/connectedassets-adobe-cms/worldwide-content/pm/ul/g/cf/6f/automation-b1-v2-morningbrew-1000x750.component.tile-card-s.ts=1741716905579.jpg/content/adobe-cms/us/en/homepage/jcr:content/root/table_of_contents/tile_group_container_1662354541/container/tile_card_734954344/image\"></c4d-image-item>\\n    <c4d-image-item media=\"(max-width: 480px) and (min-resolution: 192dpi)\" srcset=\"/content/dam/connectedassets-adobe-cms/worldwide-content/pm/ul/g/cf/6f/automation-b1-v2-morningbrew-1000x750.component.tile-card-xs-retina.ts=1741716905579.jpg/content/adobe-cms/us/en/homepage/jcr:content/root/table_of_contents/tile_group_container_1662354541/container/tile_card_734954344/image\"></c4d-image-item>\\n    <c4d-image-item media=\"(max-width: 480px)\" srcset=\"/content/dam/connectedassets-adobe-cms/worldwide-content/pm/ul/g/cf/6f/automation-b1-v2-morningbrew-1000x750.component.tile-card-xs.ts=1741716905579.jpg/content/adobe-cms/us/en/homepage/jcr:content/root/table_of_contents/tile_group_container_1662354541/container/tile_card_734954344/image\"></c4d-image-item>\\n    \\n    \\n    \\n\\n    \\n\\n                    \\n                \\n            \\n        </c4d-image>\\n    \\n\\n    \\n    \\n    \\n    \\n\\n    \\n\\n\\n\\n    \\n    \\n\\n\\n        \\n        \\n    \\n\\n        Read the enterprise guide to IT automation\\n        \\n    \\n    \\n\\n\\n\\n    \\n\\n\\n    \\n    \\n\\n\\n        <p slot=\"cta\">\\n            \\n        </p>\\n\\n    </caem-tile>\\n\\n    <div class=\"caem-card-svg-source\" hidden>\\n        <svg xmlns=\"http://www.w3.org/2000/svg\" id=\"accelerated-computing\" viewBox=\"0 0 32 32\"><path d=\"M19,29.36c-3.401,0-6.596-1.506-8.764-4.131l0.556-0.459c2.03,2.459,5.022,3.869,8.208,3.869 c5.867,0,10.64-4.772,10.64-10.64c0-5.867-4.772-10.64-10.64-10.64c-3.186,0-6.177,1.411-8.208,3.87l-0.555-0.459 c2.091-2.532,5.137-4.022,8.403-4.125V5.36H16c-0.199,0-0.36-0.161-0.36-0.36V3c0-0.199,0.161-0.36,0.36-0.36h6 c0.199,0,0.36,0.161,0.36,0.36v2c0,0.199-0.161,0.36-0.36,0.36h-2.64v1.286c6.098,0.191,11,5.211,11,11.354 C30.36,24.264,25.264,29.36,19,29.36z M16.36,4.64h5.28V3.36h-5.28V4.64z M14,23.36H4v-0.72h10V23.36z M12,18.36H2v-0.72h10V18.36z M19.179,18.312l-0.357-0.625l7-4l0.357,0.625L19.179,18.312z M14,13.36H4v-0.72h10V13.36z\"/></svg>\\n    </div>\\n    \\n    \\n\\n\\r\\n\\r\\n\\r\\n    \\n    \\n\\r\\n\\r\\n\\n\\n    \\r\\n    \\n    <caem-tile label=\"Solutions\" cta-type=\"local\" href=\"https://www.ibm.com/data-intelligence?lnk=hprc4us\" target=\"_self\" data-video-modal-type=\"media-center\">\\n        \\n        \\n            \\n\\n\\n\\n\\n\\n    \\n    \\n        \\n        \\n        \\n        \\n        \\n        <c4d-image id=\"image--1773978476\" alt=\"Illustration of interconnected data squares and circles\" slot=\"image\" default-src=\"/content/dam/connectedassets-adobe-cms/worldwide-content/creative-assets/ibs/ul/g/69/34/ibm_illo_col_hybridcloud_light_v1_automation4.component.tile-card-xl.ts=1741716906443.png/content/adobe-cms/us/en/homepage/jcr:content/root/table_of_contents/tile_group_container_1662354541/container/tile_card_2026675993/image\" class=\"\">\\n            \\n            \\n                \\n                    \\n    <c4d-image-item media=\"(min-width: 1312px) and (min-resolution: 192dpi)\" srcset=\"/content/dam/connectedassets-adobe-cms/worldwide-content/creative-assets/ibs/ul/g/69/34/ibm_illo_col_hybridcloud_light_v1_automation4.component.tile-card-xl-retina.ts=1741716906443.png/content/adobe-cms/us/en/homepage/jcr:content/root/table_of_contents/tile_group_container_1662354541/container/tile_card_2026675993/image\"></c4d-image-item>\\n    <c4d-image-item media=\"(min-width: 1312px)\" srcset=\"/content/dam/connectedassets-adobe-cms/worldwide-content/creative-assets/ibs/ul/g/69/34/ibm_illo_col_hybridcloud_light_v1_automation4.component.tile-card-xl.ts=1741716906443.png/content/adobe-cms/us/en/homepage/jcr:content/root/table_of_contents/tile_group_container_1662354541/container/tile_card_2026675993/image\"></c4d-image-item>\\n    <c4d-image-item media=\"(min-width: 1056px) and (min-resolution: 192dpi)\" srcset=\"/content/dam/connectedassets-adobe-cms/worldwide-content/creative-assets/ibs/ul/g/69/34/ibm_illo_col_hybridcloud_light_v1_automation4.component.tile-card-l-retina.ts=1741716906443.png/content/adobe-cms/us/en/homepage/jcr:content/root/table_of_contents/tile_group_container_1662354541/container/tile_card_2026675993/image\"></c4d-image-item>\\n    <c4d-image-item media=\"(min-width: 1056px)\" srcset=\"/content/dam/connectedassets-adobe-cms/worldwide-content/creative-assets/ibs/ul/g/69/34/ibm_illo_col_hybridcloud_light_v1_automation4.component.tile-card-l.ts=1741716906443.png/content/adobe-cms/us/en/homepage/jcr:content/root/table_of_contents/tile_group_container_1662354541/container/tile_card_2026675993/image\"></c4d-image-item>\\n    <c4d-image-item media=\"(min-width: 672px) and (min-resolution: 192dpi)\" srcset=\"/content/dam/connectedassets-adobe-cms/worldwide-content/creative-assets/ibs/ul/g/69/34/ibm_illo_col_hybridcloud_light_v1_automation4.component.tile-card-m-retina.ts=1741716906443.png/content/adobe-cms/us/en/homepage/jcr:content/root/table_of_contents/tile_group_container_1662354541/container/tile_card_2026675993/image\"></c4d-image-item>\\n    <c4d-image-item media=\"(min-width: 672px)\" srcset=\"/content/dam/connectedassets-adobe-cms/worldwide-content/creative-assets/ibs/ul/g/69/34/ibm_illo_col_hybridcloud_light_v1_automation4.component.tile-card-m.ts=1741716906443.png/content/adobe-cms/us/en/homepage/jcr:content/root/table_of_contents/tile_group_container_1662354541/container/tile_card_2026675993/image\"></c4d-image-item>\\n    <c4d-image-item media=\"(min-width: 481px) and (min-resolution: 192dpi)\" srcset=\"/content/dam/connectedassets-adobe-cms/worldwide-content/creative-assets/ibs/ul/g/69/34/ibm_illo_col_hybridcloud_light_v1_automation4.component.tile-card-s-retina.ts=1741716906443.png/content/adobe-cms/us/en/homepage/jcr:content/root/table_of_contents/tile_group_container_1662354541/container/tile_card_2026675993/image\"></c4d-image-item>\\n    <c4d-image-item media=\"(min-width: 481px)\" srcset=\"/content/dam/connectedassets-adobe-cms/worldwide-content/creative-assets/ibs/ul/g/69/34/ibm_illo_col_hybridcloud_light_v1_automation4.component.tile-card-s.ts=1741716906443.png/content/adobe-cms/us/en/homepage/jcr:content/root/table_of_contents/tile_group_container_1662354541/container/tile_card_2026675993/image\"></c4d-image-item>\\n    <c4d-image-item media=\"(max-width: 480px) and (min-resolution: 192dpi)\" srcset=\"/content/dam/connectedassets-adobe-cms/worldwide-content/creative-assets/ibs/ul/g/69/34/ibm_illo_col_hybridcloud_light_v1_automation4.component.tile-card-xs-retina.ts=1741716906443.png/content/adobe-cms/us/en/homepage/jcr:content/root/table_of_contents/tile_group_container_1662354541/container/tile_card_2026675993/image\"></c4d-image-item>\\n    <c4d-image-item media=\"(max-width: 480px)\" srcset=\"/content/dam/connectedassets-adobe-cms/worldwide-content/creative-assets/ibs/ul/g/69/34/ibm_illo_col_hybridcloud_light_v1_automation4.component.tile-card-xs.ts=1741716906443.png/content/adobe-cms/us/en/homepage/jcr:content/root/table_of_contents/tile_group_container_1662354541/container/tile_card_2026675993/image\"></c4d-image-item>\\n    \\n    \\n    \\n\\n    \\n\\n                    \\n                \\n            \\n        </c4d-image>\\n    \\n\\n    \\n    \\n    \\n    \\n\\n    \\n\\n\\n\\n    \\n    \\n\\n\\n        \\n        \\n    \\n\\n        Ensure quality data to power AI\\n        \\n    \\n    \\n\\n\\n\\n    \\n\\n\\n    \\n    \\n\\n\\n        <p slot=\"cta\">\\n            \\n        </p>\\n\\n    </caem-tile>\\n\\n    <div class=\"caem-card-svg-source\" hidden>\\n        <svg xmlns=\"http://www.w3.org/2000/svg\" id=\"accelerated-computing\" viewBox=\"0 0 32 32\"><path d=\"M19,29.36c-3.401,0-6.596-1.506-8.764-4.131l0.556-0.459c2.03,2.459,5.022,3.869,8.208,3.869 c5.867,0,10.64-4.772,10.64-10.64c0-5.867-4.772-10.64-10.64-10.64c-3.186,0-6.177,1.411-8.208,3.87l-0.555-0.459 c2.091-2.532,5.137-4.022,8.403-4.125V5.36H16c-0.199,0-0.36-0.161-0.36-0.36V3c0-0.199,0.161-0.36,0.36-0.36h6 c0.199,0,0.36,0.161,0.36,0.36v2c0,0.199-0.161,0.36-0.36,0.36h-2.64v1.286c6.098,0.191,11,5.211,11,11.354 C30.36,24.264,25.264,29.36,19,29.36z M16.36,4.64h5.28V3.36h-5.28V4.64z M14,23.36H4v-0.72h10V23.36z M12,18.36H2v-0.72h10V18.36z M19.179,18.312l-0.357-0.625l7-4l0.357,0.625L19.179,18.312z M14,13.36H4v-0.72h10V13.36z\"/></svg>\\n    </div>\\n    \\n    \\n\\n\\r\\n\\r\\n\\r\\n    \\n    \\n\\r\\n\\r\\n\\n\\n\\n\\n\\n      </caem-tile-group>\\n    </div>\\n  </div>\\n\\n\\n\\n    \\n    \\n\\n\\n</div>\\n<div class=\"50-50-content-block hideHorizontalRule\"><div class=\"cds--50-50-content-block\">\\n  <div class=\"cds--row\">\\n    \\n      <h2 class=\"cds--50-50-content-block__heading cds--col-lg-8 expressive-heading-05\">\\n        \\n\\n\\n\\n  \\n    AI insights and tools\\n\\n\\n\\n\\n\\n\\n    \\n\\n\\n      </h2>\\n    \\n  </div>\\n\\n  <div class=\"cds--row\">\\n    <div class=\"cds--50-50-content-block__item cds--col-lg-8\">\\n      <div class=\"cds--content-block-50-50-card \">\\n    \\n    <div class=\"cds--no-gutter cds--content-block-50-50-card__media\">\\n        \\n    \\n    \\n    \\n\\n    \\n    \\n    \\n    \\n\\n    \\n\\n\\n\\n    </div>\\n    <div class=\"cds--content-block-50-50-card__heading\">\\n        <h4 class=\"expressive-heading-04\">\\n            \\n\\n\\n    \\n\\n  \\n\\n<span class=\"enhanced-title text-color-gradient-90-blue-to-magenta\">For developers</span>\\n\\n\\n\\n    \\n\\n\\n\\n\\n\\n\\n\\n    \\n\\n\\n        </h4>\\n    </div>\\n    <div>\\n        <div class=\"cds--content-block-50-50-card__body\">\\n\\n    \\n    \\n    \\n    <div id=\"content-block-container-6afdf3f2d4\" class=\"cmp-container\">\\n        \\n        <div class=\"standalone-text rich-text text\">\\r\\n    <span class=\"  normal cms-richtext\">\\r\\n        <p>Fit-for-purpose IBM Granite models can reduce AI costs by more than 90% at competitive performance levels.¹</p>\\r\\n\\r\\n    </span>\\r\\n    \\n    \\n\\r\\n\\r\\n</div>\\n<div class=\"link button\">\\n    \\n    \\n        \\n        \\n        \\n        \\n        \\n        \\n        <a cta-type=\"local\" href=\"https://www.ibm.com/granite?lnk=hpad1us\" icon-placement=\"right\" target=\"_self\" data-link-type=\"local\" data-dynamic-properties=\"{&quot;ctaUrl&quot;:&quot;href&quot;}\" data-video-modal-type=\"media-center\">\\n            \\n            <span class=\"cds--link-text\" data-link-text data-dynamic-inner-content=\"ctaLabel\">Start building with IBM Granite models</span>\\n            \\n    <!-- LTR - Left to Right version -->\\n    \\n    <svg xmlns=\"http://www.w3.org/2000/svg\" slot=\"icon\" width=\"20\" height=\"20\" focusable=\"false\" fill=\"currentColor\" viewBox=\"0 0 20 20\" aria-hidden=\"true\">\\n        <path d=\"M11.8 2.8L10.8 3.8 16.2 9.3 1 9.3 1 10.7 16.2 10.7 10.8 16.2 11.8 17.2 19 10z\"></path>\\n    </svg>\\n\\n    <!-- RTL - Right to Left version -->\\n    \\n    \\n    \\n    \\n    \\n    \\n    \\n    \\n\\n        </a>\\n    \\n    \\n    \\n\\n\\n</div>\\n<div class=\"link button\">\\n    \\n    \\n        \\n        \\n        \\n        \\n        \\n        \\n        <a cta-type=\"local\" href=\"https://developer.ibm.com/technologies/artificial-intelligence?lnk=hpad2us\" icon-placement=\"right\" target=\"_self\" data-link-type=\"local\" data-dynamic-properties=\"{&quot;ctaUrl&quot;:&quot;href&quot;}\" data-video-modal-type=\"media-center\">\\n            \\n            <span class=\"cds--link-text\" data-link-text data-dynamic-inner-content=\"ctaLabel\">Explore AI courses, APIs, data sets and more</span>\\n            \\n    <!-- LTR - Left to Right version -->\\n    \\n    <svg xmlns=\"http://www.w3.org/2000/svg\" slot=\"icon\" width=\"20\" height=\"20\" focusable=\"false\" fill=\"currentColor\" viewBox=\"0 0 20 20\" aria-hidden=\"true\">\\n        <path d=\"M11.8 2.8L10.8 3.8 16.2 9.3 1 9.3 1 10.7 16.2 10.7 10.8 16.2 11.8 17.2 19 10z\"></path>\\n    </svg>\\n\\n    <!-- RTL - Right to Left version -->\\n    \\n    \\n    \\n    \\n    \\n    \\n    \\n    \\n\\n        </a>\\n    \\n    \\n    \\n\\n\\n</div>\\n<div class=\"link button\">\\n    \\n    \\n        \\n        \\n        \\n        \\n        \\n        \\n        <a cta-type=\"local\" href=\"https://www.ibm.com/products/watsonx-code-assistant?lnk=hpad3us\" icon-placement=\"right\" target=\"_self\" data-link-type=\"local\" data-dynamic-properties=\"{&quot;ctaUrl&quot;:&quot;href&quot;}\" data-video-modal-type=\"media-center\">\\n            \\n            <span class=\"cds--link-text\" data-link-text data-dynamic-inner-content=\"ctaLabel\">Accelerate software development with watsonx Code Assistant</span>\\n            \\n    <!-- LTR - Left to Right version -->\\n    \\n    <svg xmlns=\"http://www.w3.org/2000/svg\" slot=\"icon\" width=\"20\" height=\"20\" focusable=\"false\" fill=\"currentColor\" viewBox=\"0 0 20 20\" aria-hidden=\"true\">\\n        <path d=\"M11.8 2.8L10.8 3.8 16.2 9.3 1 9.3 1 10.7 16.2 10.7 10.8 16.2 11.8 17.2 19 10z\"></path>\\n    </svg>\\n\\n    <!-- RTL - Right to Left version -->\\n    \\n    \\n    \\n    \\n    \\n    \\n    \\n    \\n\\n        </a>\\n    \\n    \\n    \\n\\n\\n</div>\\n<div class=\"link button\">\\n    \\n    \\n        \\n        \\n        \\n        \\n        \\n        \\n        <a cta-type=\"local\" href=\"https://www.ibm.com/watsonx/developer/?lnk=hpad4us\" icon-placement=\"right\" target=\"_self\" data-link-type=\"local\" data-dynamic-properties=\"{&quot;ctaUrl&quot;:&quot;href&quot;}\" data-video-modal-type=\"media-center\">\\n            \\n            <span class=\"cds--link-text\" data-link-text data-dynamic-inner-content=\"ctaLabel\">Check out the watsonx.ai Developer Toolkit</span>\\n            \\n    <!-- LTR - Left to Right version -->\\n    \\n    <svg xmlns=\"http://www.w3.org/2000/svg\" slot=\"icon\" width=\"20\" height=\"20\" focusable=\"false\" fill=\"currentColor\" viewBox=\"0 0 20 20\" aria-hidden=\"true\">\\n        <path d=\"M11.8 2.8L10.8 3.8 16.2 9.3 1 9.3 1 10.7 16.2 10.7 10.8 16.2 11.8 17.2 19 10z\"></path>\\n    </svg>\\n\\n    <!-- RTL - Right to Left version -->\\n    \\n    \\n    \\n    \\n    \\n    \\n    \\n    \\n\\n        </a>\\n    \\n    \\n    \\n\\n\\n</div>\\n\\n        \\n    </div>\\n\\n</div>\\n    </div>\\n</div>\\n\\n    \\n    <script defer src=\"/etc.clientlibs/adobe-cms/clientlibs/clientlib-lightbox-media-viewer.lc-e183ad50ac4a795ad3bbd83c773d30d6-lc.min.js\"></script>\\n\\n\\n\\n    </div>\\n    <div class=\"cds--50-50-content-block__item cds--col-lg-8\">\\n      <div class=\"cds--content-block-50-50-card \">\\n    \\n    <div class=\"cds--no-gutter cds--content-block-50-50-card__media\">\\n        \\n    \\n    \\n    \\n\\n    \\n    \\n    \\n    \\n\\n    \\n\\n\\n\\n    </div>\\n    <div class=\"cds--content-block-50-50-card__heading\">\\n        <h4 class=\"expressive-heading-04\">\\n            \\n\\n\\n    \\n\\n  \\n\\n<span class=\"enhanced-title text-color-gradient-90-blue-to-magenta\">For business leaders</span>\\n\\n\\n\\n    \\n\\n\\n\\n\\n\\n\\n\\n    \\n\\n\\n        </h4>\\n    </div>\\n    <div>\\n        <div class=\"cds--content-block-50-50-card__body\">\\n\\n    \\n    \\n    \\n    <div id=\"content-block-container-5a692cba75\" class=\"cmp-container\">\\n        \\n        <div class=\"standalone-text rich-text text\">\\r\\n    <span class=\"  normal cms-richtext\">\\r\\n        <p>Transform business and drive growth with AI tools, technology and insights that help you stay competitive—and responsibly map your organization&#39;s future.\\xa0</p>\\r\\n\\r\\n    </span>\\r\\n    \\n    \\n\\r\\n\\r\\n</div>\\n<div class=\"link button\">\\n    \\n    \\n        \\n        \\n        \\n        \\n        \\n        \\n        <a cta-type=\"local\" href=\"https://www.ibm.com/thought-leadership/institute-business-value/report/ceo-generative-ai?lnk=hpab1us\" icon-placement=\"right\" target=\"_self\" data-link-type=\"local\" data-dynamic-properties=\"{&quot;ctaUrl&quot;:&quot;href&quot;}\" data-video-modal-type=\"media-center\">\\n            \\n            <span class=\"cds--link-text\" data-link-text data-dynamic-inner-content=\"ctaLabel\">Read the CEO’s guide to generative AI</span>\\n            \\n    <!-- LTR - Left to Right version -->\\n    \\n    <svg xmlns=\"http://www.w3.org/2000/svg\" slot=\"icon\" width=\"20\" height=\"20\" focusable=\"false\" fill=\"currentColor\" viewBox=\"0 0 20 20\" aria-hidden=\"true\">\\n        <path d=\"M11.8 2.8L10.8 3.8 16.2 9.3 1 9.3 1 10.7 16.2 10.7 10.8 16.2 11.8 17.2 19 10z\"></path>\\n    </svg>\\n\\n    <!-- RTL - Right to Left version -->\\n    \\n    \\n    \\n    \\n    \\n    \\n    \\n    \\n\\n        </a>\\n    \\n    \\n    \\n\\n\\n</div>\\n<div class=\"link button\">\\n    \\n    \\n        \\n        \\n        \\n        \\n        \\n        \\n        <a cta-type=\"local\" href=\"https://www.ibm.com/think/reports/ai-in-action?lnk=hpab2us\" icon-placement=\"right\" target=\"_self\" data-link-type=\"local\" data-dynamic-properties=\"{&quot;ctaUrl&quot;:&quot;href&quot;}\" data-video-modal-type=\"media-center\">\\n            \\n            <span class=\"cds--link-text\" data-link-text data-dynamic-inner-content=\"ctaLabel\">Get the AI in Action report</span>\\n            \\n    <!-- LTR - Left to Right version -->\\n    \\n    <svg xmlns=\"http://www.w3.org/2000/svg\" slot=\"icon\" width=\"20\" height=\"20\" focusable=\"false\" fill=\"currentColor\" viewBox=\"0 0 20 20\" aria-hidden=\"true\">\\n        <path d=\"M11.8 2.8L10.8 3.8 16.2 9.3 1 9.3 1 10.7 16.2 10.7 10.8 16.2 11.8 17.2 19 10z\"></path>\\n    </svg>\\n\\n    <!-- RTL - Right to Left version -->\\n    \\n    \\n    \\n    \\n    \\n    \\n    \\n    \\n\\n        </a>\\n    \\n    \\n    \\n\\n\\n</div>\\n<div class=\"link button\">\\n    \\n    \\n        \\n        \\n        \\n        \\n        \\n        \\n        <a cta-type=\"local\" href=\"https://www.ibm.com/impact/ai-ethics?lnk=hpab3us\" icon-placement=\"right\" target=\"_self\" data-link-type=\"local\" data-dynamic-properties=\"{&quot;ctaUrl&quot;:&quot;href&quot;}\" data-video-modal-type=\"media-center\">\\n            \\n            <span class=\"cds--link-text\" data-link-text data-dynamic-inner-content=\"ctaLabel\">Explore IBM’s approach to AI ethics</span>\\n            \\n    <!-- LTR - Left to Right version -->\\n    \\n    <svg xmlns=\"http://www.w3.org/2000/svg\" slot=\"icon\" width=\"20\" height=\"20\" focusable=\"false\" fill=\"currentColor\" viewBox=\"0 0 20 20\" aria-hidden=\"true\">\\n        <path d=\"M11.8 2.8L10.8 3.8 16.2 9.3 1 9.3 1 10.7 16.2 10.7 10.8 16.2 11.8 17.2 19 10z\"></path>\\n    </svg>\\n\\n    <!-- RTL - Right to Left version -->\\n    \\n    \\n    \\n    \\n    \\n    \\n    \\n    \\n\\n        </a>\\n    \\n    \\n    \\n\\n\\n</div>\\n<div class=\"link button\">\\n    \\n    \\n        \\n        \\n        \\n        \\n        \\n        \\n        <a cta-type=\"local\" href=\"https://www.ibm.com/account/reg/signup?formid=news-urx-52954&lnk=hpab4us\" icon-placement=\"right\" target=\"_blank\" data-link-type=\"local\" data-dynamic-properties=\"{&quot;ctaUrl&quot;:&quot;href&quot;}\" data-video-modal-type=\"media-center\">\\n            \\n            <span class=\"cds--link-text\" data-link-text data-dynamic-inner-content=\"ctaLabel\">Subscribe to the Think newsletter</span>\\n            \\n    <!-- LTR - Left to Right version -->\\n    \\n    <svg xmlns=\"http://www.w3.org/2000/svg\" slot=\"icon\" width=\"20\" height=\"20\" focusable=\"false\" fill=\"currentColor\" viewBox=\"0 0 20 20\" aria-hidden=\"true\">\\n        <path d=\"M11.8 2.8L10.8 3.8 16.2 9.3 1 9.3 1 10.7 16.2 10.7 10.8 16.2 11.8 17.2 19 10z\"></path>\\n    </svg>\\n\\n    <!-- RTL - Right to Left version -->\\n    \\n    \\n    \\n    \\n    \\n    \\n    \\n    \\n\\n        </a>\\n    \\n    \\n    \\n\\n\\n</div>\\n\\n        \\n    </div>\\n\\n</div>\\n    </div>\\n</div>\\n\\n    \\n    \\n\\n\\n    </div>\\n  </div>\\n\\n  <div>\\n    \\n    \\n    \\n    \\n        <c4d-hr></c4d-hr>\\n        \\n    \\n\\n    \\n    \\n    \\n    <script defer src=\"/etc.clientlibs/adobe-cms/clientlibs/clientlib-horizontal-rule.lc-2f7c5edc6a4d89ea40b2429e66cfe470-lc.min.js\"></script>\\n\\n\\n    \\n\\n\\n  </div>\\n\\n</div>\\n</div>\\n<div class=\"promotional-banner\">\\n\\n    \\n\\n<c4d-promo-banner class=\"theme-white \">\\n    \\n        \\n            \\n    \\n        \\n        \\n        \\n        \\n        \\n        <c4d-image id=\"image-69161821\" alt=\"Think logo with glowing colors\" slot=\"image\" default-src=\"/content/dam/connectedassets-adobe-cms/worldwide-content/creative-assets/s-migr/ul/g/48/db/think2024-banner.png\" class=\"\">\\n            \\n            \\n        </c4d-image>\\n    \\n\\n    \\n    \\n    \\n    \\n\\n    \\n\\n        \\n    \\n    \\n\\n    \\n        <span class=\"productive-heading-02\"><p>Join us at Think 2025 on 5–8 May 2025</p>\\r\\n</span>\\n    \\n    <span class=\" \"><p>Connect with the industry’s most influential leaders and visionaries shaping the future of AI. Don’t just keep up—lead the way.</p>\\r\\n</span>\\n    \\n        \\n    \\n    \\n    \\n    \\n    <c4d-button href=\"https://www.ibm.com/events/think?lnk=hpUSbt1\" target=\"_self\" kind=\"primary\" slot=\"cta\" aria-label=\"Explore and register for TechXchange\" cta-type=\"local\">\\n        <span>Register today</span>\\n        \\n        \\n    </c4d-button>\\n    \\n    \\n    \\n    \\n\\n    \\n\\n\\n    \\n</c4d-promo-banner>\\n\\n    \\n    <script defer src=\"/etc.clientlibs/adobe-cms/clientlibs/clientlib-countdown.lc-12c6499e356e47b132594fb54ebb3f39-lc.min.js\"></script>\\n<script defer src=\"/etc.clientlibs/adobe-cms/clientlibs/clientlib-promo-banner.lc-41541e9b9d0d26725593047faabf6af1-lc.min.js\"></script>\\n\\n\\n\\n</div>\\n<div class=\"card-group-pictogram-full-width card-group-pictogram themed-block theme-white\">\\n    <div class=\"cds--content-block\">\\n        <div class=\"cds--full-width-intro-container\">\\n            \\n\\n<div class=\"intro-section--flex fullwidth-intro-section\">\\n    <div class=\"intro-section--heading-wrapper\">\\n        <h2 class=\"expressive-heading-05 \">\\n            \\n\\n\\n\\n  \\n    Technology &amp; Consulting\\n\\n\\n\\n\\n\\n\\n    \\n\\n\\n        </h2>\\n    </div>\\n    <div class=\"intro-section--content-wrapper\">\\n        <span class=\"expressive-heading-03\">\\n            <div class=\"cms-richtext \" id=\"rich-text-06b35d63d7\" data-dynamic-inner-content=\"description\">\\n    <p>From <a href=\"https://www.ibm.com/artificial-intelligence?lnk&#61;hpfp1us\" target=\"_self\" rel=\"noopener noreferrer\">next-generation AI</a> to cutting edge <a href=\"https://www.ibm.com/hybrid-cloud?lnk&#61;hpfp2us\" target=\"_self\" rel=\"noopener noreferrer\">hybrid cloud solutions</a> to the deep expertise of <a href=\"https://www.ibm.com/consulting?lnk&#61;hpfp3us\">IBM Consulting</a>, IBM has what it takes to help you reinvent how your business works in the age of AI.</p>\\r\\n \\n    \\n    \\n    \\n    \\n\\n</div>\\n        </span>\\n\\n        \\n            <c4d-link-list type=\"vertical\">\\n                \\n                    \\n    \\n    \\n        \\n        \\n        <c4d-link-list-item-cta cta-type=\"local\" href=\"https://www.ibm.com/products/offers-and-discounts?lnk=hpdo1us\" icon-placement=\"right\" role=\"listitem\" target=\"_self\" data-video-modal-type=\"media-center\">\\n             Get the latest product offers and discounts\\n            \\n            \\n        </c4d-link-list-item-cta>\\n    \\n    \\n    \\n\\n    \\n    \\n    <script defer src=\"/etc.clientlibs/adobe-cms/clientlibs/clientlib-cibm-cta.lc-ab9fceeeee57b658d1b83cba69dd74c3-lc.min.js\"></script>\\n\\n\\n    \\n   \\n\\n                \\n                \\n                    \\n    \\n    \\n    \\n    \\n\\n    \\n    \\n    \\n\\n    \\n   \\n\\n                \\n            </c4d-link-list>\\n        \\n\\n        \\n    </div>\\n</div>\\n\\n\\n    \\n    \\n\\n\\n        </div>\\n        \\n            \\n                <c4d-card-group grid-mode=\"border\" cards-per-row=\"4\" data-autoid=\"c4d--card-group\" style=\"--c4d--card-group--cards-in-row:4\" class=\"themed-pictogram themed-pictogram--blue-magenta-gradient\">\\n                    \\n\\n    \\n    \\n    \\n    \\n    \\n        \\n        \\n            \\n            \\n            <c4d-card-group-item color-scheme grid-mode=\"condensed\" data-video-modal-type=\"media-center\" cta-type=\"local\" data-autoid=\"c4d--card-group-item\" href=\"https://www.ibm.com/artificial-intelligence?lnk=hpfp4us\" target=\"_self\" pictogram-placement=\"bottom\" size>\\n                <c4d-card-heading aria-level=\"3\" data-autoid=\"c4d--card-heading\" role=\"heading\" slot=\"heading\">\\n                    \\n                    AI solutions</c4d-card-heading>\\n                <svg slot=\"pictogram\" class=\"cds--card__pictogram\" style=\"--colorized-background:url(\\'#g4\\'); fill: var(--colorized-background)\" focusable=\"false\" height=\"48\" width=\"48\" role=\"img\">\\n                    <svg xmlns=\"http://www.w3.org/2000/svg\" id=\"ai\" viewBox=\"0 0 32 32\"><path d=\"M16.195,31.36c-6.421,0-12.169-4.007-14.399-10.002 C1.051,21.408,0.373,20.771,0.372,20c0-0.75,0.61-1.36,1.36-1.36s1.36,0.61,1.36,1.36c0,0.474-0.243,0.892-0.611,1.135 c2.133,5.698,7.604,9.505,13.714,9.505c6.446,0,11.919-4.301,13.773-10.22c-1.448,2.06-3.877,3.44-6.565,3.44 c-3.822,0-7.066-2.785-7.664-6.525C15.113,17.212,14.64,16.661,14.64,16c0-0.584,0.37-1.083,0.888-1.275 c-0.608-3.421-3.615-5.962-7.125-5.962c-3.947,0-7.04,3.176-7.042,7.231c0,0.002,0,0.004,0,0.006H0.64c0-0.002,0-0.004,0-0.007 C0.644,7.526,7.445,0.64,15.805,0.64c6.42,0,12.168,4.006,14.399,10.001c0.777-0.034,1.425,0.587,1.425,1.358 c0,0.75-0.61,1.36-1.36,1.36s-1.36-0.61-1.36-1.36c0-0.473,0.243-0.891,0.611-1.135C27.387,5.166,21.916,1.36,15.805,1.36 c-6.319,0-11.704,4.134-13.659,9.873c1.402-1.949,3.662-3.19,6.256-3.19c3.881,0,7.204,2.826,7.846,6.62 C16.88,14.779,17.36,15.335,17.36,16c0,0.589-0.376,1.092-0.901,1.28c0.567,3.363,3.496,5.859,6.943,5.859 c3.857,0,7.127-3.118,7.235-6.851c0.001-0.096,0.002-0.192,0.002-0.289h0.721c0,0.033,0,0.065-0.001,0.098h0.001 c0,0.069-0.001,0.138-0.003,0.207C31.196,24.634,24.456,31.36,16.195,31.36z M1.732,19.36c-0.353,0-0.64,0.287-0.64,0.64 s0.287,0.64,0.64,0.64s0.64-0.287,0.64-0.64S2.085,19.36,1.732,19.36z M16,15.36c-0.353,0-0.64,0.287-0.64,0.64 s0.287,0.64,0.64,0.64s0.64-0.287,0.64-0.64S16.353,15.36,16,15.36z M30.269,11.36c-0.353,0-0.64,0.287-0.64,0.64 s0.287,0.64,0.64,0.64s0.64-0.287,0.64-0.64S30.621,11.36,30.269,11.36z\"/></svg>\\n                </svg>\\n                <p>Go from AI pilots to production with AI technologies built for business</p>\\n                <c4d-card-footer color-scheme target=\"_self\" cta-type=\"local\" data-autoid=\"c4d--card-footer\" href=\"https://www.ibm.com/artificial-intelligence?lnk=hpfp4us\" icon-placement=\"right\" parent-href=\"https://www.ibm.com/artificial-intelligence?lnk=hpfp4us\" slot=\"footer\">\\n                    \\n                </c4d-card-footer>\\n            </c4d-card-group-item>\\n        \\n    \\n    \\n    \\n\\n    \\n    \\n    \\n\\n    \\n   \\n    \\n        \\n        \\n            \\n            \\n            <c4d-card-group-item color-scheme grid-mode=\"condensed\" data-video-modal-type=\"media-center\" cta-type=\"local\" data-autoid=\"c4d--card-group-item\" href=\"https://www.ibm.com/granite?lnk=hpfp5us\" target=\"_self\" pictogram-placement=\"bottom\" size>\\n                <c4d-card-heading aria-level=\"3\" data-autoid=\"c4d--card-heading\" role=\"heading\" slot=\"heading\">\\n                    \\n                    AI models</c4d-card-heading>\\n                <svg slot=\"pictogram\" class=\"cds--card__pictogram\" style=\"--colorized-background:url(\\'#g4\\'); fill: var(--colorized-background)\" focusable=\"false\" height=\"48\" width=\"48\" role=\"img\">\\n                    <svg xmlns=\"http://www.w3.org/2000/svg\" id=\"app--developer\" viewBox=\"0 0 32 32\"><path d=\"M3.254,9.254L2.746,8.746L3.991,7.5L2.746,6.254l0.509-0.509L5.009,7.5L3.254,9.254z M3,2 C2.724,2,2.5,2.224,2.5,2.5S2.724,3,3,3s0.5-0.224,0.5-0.5S3.276,2,3,2z M5.5,2.5C5.5,2.776,5.276,3,5,3S4.5,2.776,4.5,2.5 S4.724,2,5,2S5.5,2.224,5.5,2.5z M7.5,2.5C7.5,2.776,7.276,3,7,3S6.5,2.776,6.5,2.5S6.724,2,7,2S7.5,2.224,7.5,2.5z M18.5,6.5 C18.5,6.776,18.276,7,18,7s-0.5-0.224-0.5-0.5S17.724,6,18,6S18.5,6.224,18.5,6.5z M20.5,6.5C20.5,6.776,20.276,7,20,7 s-0.5-0.224-0.5-0.5S19.724,6,20,6S20.5,6.224,20.5,6.5z M22.5,6.5C22.5,6.776,22.276,7,22,7s-0.5-0.224-0.5-0.5S21.724,6,22,6 S22.5,6.224,22.5,6.5z M5.5,24.5C5.5,24.776,5.276,25,5,25s-0.5-0.224-0.5-0.5S4.724,24,5,24S5.5,24.224,5.5,24.5z M13,14.36H1 c-0.199,0-0.36-0.161-0.36-0.36V1c0-0.199,0.161-0.36,0.36-0.36h12c0.199,0,0.36,0.161,0.36,0.36v13 C13.36,14.199,13.199,14.36,13,14.36z M12.64,4.36H1.36v9.28h11.28C12.64,13.64,12.64,4.36,12.64,4.36z M12.64,1.36H1.36v2.281 h11.28C12.64,3.641,12.64,1.36,12.64,1.36z M31.36,5v17c0,0.199-0.161,0.36-0.36,0.36H19.691c-0.301,0.471-0.69,0.885-1.152,1.215 c2.875,1.05,4.819,3.778,4.819,6.902l0.002,0.521L22.639,31l-0.002-0.522c0-3.078-2.09-5.729-5.083-6.45 c-0.15-0.035-0.26-0.163-0.274-0.316s0.07-0.299,0.211-0.361c1.315-0.592,2.165-1.9,2.165-3.334c0-2.017-1.64-3.657-3.656-3.657 c-2.018,0-3.66,1.64-3.66,3.657c0,1.434,0.85,2.742,2.166,3.334c0.141,0.062,0.225,0.208,0.211,0.361s-0.125,0.281-0.274,0.316 c-2.993,0.721-5.084,3.372-5.084,6.449l0.001,0.521L8.64,31l-0.001-0.522c0-3.125,1.943-5.854,4.819-6.903 c-1.138-0.812-1.838-2.134-1.838-3.559c0-2.292,1.772-4.178,4.02-4.362V5c0-0.199,0.161-0.36,0.36-0.36h15 C31.199,4.64,31.36,4.801,31.36,5z M30.64,8.36H16.36v7.295c2.246,0.184,4.017,2.07,4.017,4.362c0,0.566-0.11,1.115-0.315,1.623 H30.64V8.36z M30.64,5.36H16.36v2.28h14.28V5.36z M22,11.64h-4v0.72h4V11.64z M23.64,17.5c0-1.577,1.283-2.86,2.86-2.86 s2.86,1.283,2.86,2.86s-1.283,2.86-2.86,2.86S23.64,19.077,23.64,17.5z M28.242,16.266l-1.383,1.383l-0.004,1.955 c1.01-0.171,1.784-1.046,1.784-2.104C28.64,17.04,28.49,16.615,28.242,16.266z M24.36,17.5c0,1.055,0.769,1.928,1.774,2.103 l0.006-2.253l1.592-1.593c-0.349-0.248-0.773-0.397-1.233-0.397C25.32,15.36,24.36,16.32,24.36,17.5z M8,9.64H5v0.72h3V9.64z M3.5,21.36h3v-0.72h-3V21.36z M3.5,19.36h3v-0.72h-3V19.36z M22,13.64h-4v0.72h4V13.64z M29,11.64h-4v0.72h4V11.64z M29,9.64h-4 v0.72h4V9.64z M22,9.64h-4v0.72h4V9.64z M8.36,17.584v7.832c0,0.521-0.423,0.944-0.944,0.944H2.584 c-0.521,0-0.944-0.424-0.944-0.944v-7.832c0-0.521,0.423-0.944,0.944-0.944h4.832C7.937,16.64,8.36,17.063,8.36,17.584z M7.64,23.36 H2.36v2.056c0,0.123,0.101,0.224,0.224,0.224h4.832c0.124,0,0.224-0.101,0.224-0.224C7.64,25.416,7.64,23.36,7.64,23.36z M7.64,17.584c0-0.123-0.101-0.224-0.224-0.224H2.584c-0.124,0-0.224,0.101-0.224,0.224v5.056h5.28 C7.64,22.64,7.64,17.584,7.64,17.584z\"/></svg>\\n                </svg>\\n                <p>Get started with cost-efficient AI models, tailored for business and optimized for scale</p>\\n                <c4d-card-footer color-scheme target=\"_self\" cta-type=\"local\" data-autoid=\"c4d--card-footer\" href=\"https://www.ibm.com/granite?lnk=hpfp5us\" icon-placement=\"right\" parent-href=\"https://www.ibm.com/granite?lnk=hpfp5us\" slot=\"footer\">\\n                    \\n                </c4d-card-footer>\\n            </c4d-card-group-item>\\n        \\n    \\n    \\n    \\n\\n    \\n    \\n    \\n\\n    \\n   \\n    \\n        \\n        \\n            \\n            \\n            <c4d-card-group-item color-scheme grid-mode=\"condensed\" data-video-modal-type=\"media-center\" cta-type=\"local\" data-autoid=\"c4d--card-group-item\" href=\"https://www.ibm.com/consulting?lnk=hpfp6us\" target=\"_self\" pictogram-placement=\"bottom\" size>\\n                <c4d-card-heading aria-level=\"3\" data-autoid=\"c4d--card-heading\" role=\"heading\" slot=\"heading\">\\n                    \\n                    Consulting</c4d-card-heading>\\n                <svg slot=\"pictogram\" class=\"cds--card__pictogram\" style=\"--colorized-background:url(\\'#g4\\'); fill: var(--colorized-background)\" focusable=\"false\" height=\"48\" width=\"48\" role=\"img\">\\n                    <svg xmlns=\"http://www.w3.org/2000/svg\" id=\"group\" viewBox=\"0 0 32 32\"><path d=\"M24.36,31h-0.72v-7.5c0-3.552-2.414-6.604-5.872-7.424c-0.15-0.036-0.261-0.163-0.275-0.316 c-0.015-0.154,0.071-0.3,0.212-0.363c1.517-0.675,2.496-2.181,2.496-3.836c0-2.316-1.884-4.201-4.2-4.201S11.8,9.244,11.8,11.561 c0,1.655,0.98,3.162,2.496,3.836c0.141,0.063,0.227,0.209,0.212,0.363c-0.014,0.153-0.125,0.281-0.275,0.316 c-3.458,0.82-5.872,3.872-5.872,7.424V31H7.64v-7.5c0-3.592,2.257-6.718,5.585-7.879c-1.326-0.907-2.146-2.421-2.146-4.061 c0-1.964,1.157-3.664,2.826-4.452C14.101,6.617,14.2,6.097,14.2,5.561c0-2.316-1.884-4.201-4.2-4.201S5.799,3.244,5.799,5.561 c0,1.656,0.98,3.162,2.496,3.836C8.437,9.46,8.521,9.606,8.507,9.76c-0.014,0.153-0.125,0.281-0.275,0.316 C4.774,10.896,2.36,13.948,2.36,17.5V25H1.64v-7.5c0-3.592,2.257-6.718,5.585-7.879C5.899,8.714,5.08,7.2,5.08,5.561 c0-2.713,2.207-4.92,4.92-4.92s4.92,2.207,4.92,4.92c0,0.422-0.052,0.836-0.157,1.237c0.791-0.205,1.683-0.205,2.473,0 c-0.104-0.401-0.157-0.815-0.157-1.237c0-2.713,2.208-4.92,4.921-4.92s4.921,2.207,4.921,4.92c0,1.64-0.82,3.154-2.146,4.061 c3.329,1.161,5.586,4.287,5.586,7.879V25H29.64v-7.5c0-3.552-2.414-6.604-5.872-7.424c-0.15-0.036-0.261-0.163-0.275-0.316 c-0.015-0.154,0.071-0.3,0.212-0.363C25.221,8.722,26.2,7.216,26.2,5.561c0-2.316-1.884-4.201-4.2-4.201s-4.2,1.884-4.2,4.201 c0,0.536,0.099,1.056,0.295,1.548c1.669,0.789,2.826,2.488,2.826,4.452c0,1.64-0.82,3.154-2.146,4.061 c3.329,1.161,5.586,4.287,5.586,7.879L24.36,31L24.36,31z\"/></svg>\\n                </svg>\\n                <p>Engage with IBM Consulting to design, build and operate high-performing businesses</p>\\n                <c4d-card-footer color-scheme target=\"_self\" cta-type=\"local\" data-autoid=\"c4d--card-footer\" href=\"https://www.ibm.com/consulting?lnk=hpfp6us\" icon-placement=\"right\" parent-href=\"https://www.ibm.com/consulting?lnk=hpfp6us\" slot=\"footer\">\\n                    \\n                </c4d-card-footer>\\n            </c4d-card-group-item>\\n        \\n    \\n    \\n    \\n\\n    \\n    \\n    \\n\\n    \\n   \\n    \\n        \\n        \\n            \\n            \\n            <c4d-card-group-item color-scheme grid-mode=\"condensed\" data-video-modal-type=\"media-center\" cta-type=\"local\" data-autoid=\"c4d--card-group-item\" href=\"https://www.ibm.com/analytics?lnk=hpfp7us\" target=\"_self\" pictogram-placement=\"bottom\" size>\\n                <c4d-card-heading aria-level=\"3\" data-autoid=\"c4d--card-heading\" role=\"heading\" slot=\"heading\">\\n                    \\n                    Analytics</c4d-card-heading>\\n                <svg slot=\"pictogram\" class=\"cds--card__pictogram\" style=\"--colorized-background:url(\\'#g4\\'); fill: var(--colorized-background)\" focusable=\"false\" height=\"48\" width=\"48\" role=\"img\">\\n                    <svg xmlns=\"http://www.w3.org/2000/svg\" id=\"predictive-analytics\" viewBox=\"0 0 32 32\"><path d=\"M31,31.36H1c-0.199,0-0.36-0.161-0.36-0.36 V1h0.72v29.64h4.28v-7.328c-0.576-0.158-1-0.687-1-1.312c0-0.75,0.61-1.36,1.36-1.36c0.364,0,0.694,0.144,0.938,0.377l3.702-2.221 v-8.484c-0.576-0.158-1-0.686-1-1.312c0-0.75,0.61-1.36,1.36-1.36S12.36,8.25,12.36,9c0,0.625-0.424,1.153-1,1.312v8.053l3.33-1.998 c-0.032-0.116-0.05-0.239-0.05-0.366c0-0.75,0.61-1.36,1.36-1.36c0.364,0,0.695,0.144,0.939,0.377l3.701-2.221V6.312 c-0.575-0.158-1-0.686-1-1.312c0-0.75,0.61-1.36,1.36-1.36S22.36,4.25,22.36,5c0,0.625-0.425,1.153-1,1.312v6.053l3.33-1.998 c-0.033-0.117-0.05-0.24-0.05-0.367c0-0.75,0.61-1.36,1.36-1.36s1.36,0.61,1.36,1.36c0,0.625-0.425,1.153-1,1.312V30.64H31V31.36z M21.36,30.64h4.279V11.312c-0.22-0.061-0.418-0.175-0.578-0.328l-3.701,2.221V30.64z M16.36,30.64h4.28V13.636l-3.33,1.998 c0.033,0.116,0.05,0.239,0.05,0.366c0,0.625-0.425,1.153-1,1.312V30.64z M11.36,30.64h4.28V17.312 c-0.22-0.061-0.418-0.175-0.579-0.328l-3.702,2.221V30.64H11.36z M6.36,30.64h4.28V19.636l-3.33,1.998 C7.343,21.75,7.36,21.873,7.36,22c0,0.625-0.424,1.153-1,1.312V30.64z M6,21.36c-0.353,0-0.64,0.287-0.64,0.64S5.647,22.64,6,22.64 S6.64,22.353,6.64,22S6.353,21.36,6,21.36z M16,15.36c-0.353,0-0.64,0.287-0.64,0.64s0.287,0.64,0.64,0.64s0.64-0.287,0.64-0.64 S16.353,15.36,16,15.36z M26,9.36c-0.353,0-0.64,0.287-0.64,0.64s0.287,0.64,0.64,0.64s0.64-0.287,0.64-0.64S26.353,9.36,26,9.36z M11,8.36c-0.353,0-0.64,0.287-0.64,0.64S10.647,9.64,11,9.64S11.64,9.353,11.64,9S11.353,8.36,11,8.36z M21,4.36 c-0.353,0-0.64,0.287-0.64,0.64S20.647,5.64,21,5.64S21.64,5.353,21.64,5S21.353,4.36,21,4.36z\"/></svg>\\n                </svg>\\n                <p>Support data-driven decisions for your business</p>\\n                <c4d-card-footer color-scheme target=\"_self\" cta-type=\"local\" data-autoid=\"c4d--card-footer\" href=\"https://www.ibm.com/analytics?lnk=hpfp7us\" icon-placement=\"right\" parent-href=\"https://www.ibm.com/analytics?lnk=hpfp7us\" slot=\"footer\">\\n                    \\n                </c4d-card-footer>\\n            </c4d-card-group-item>\\n        \\n    \\n    \\n    \\n\\n    \\n    \\n    \\n\\n    \\n   \\n    \\n        \\n        \\n            \\n            \\n            <c4d-card-group-item color-scheme grid-mode=\"condensed\" data-video-modal-type=\"media-center\" cta-type=\"local\" data-autoid=\"c4d--card-group-item\" href=\"https://www.ibm.com/automation?lnk=hpfp8us\" target=\"_self\" pictogram-placement=\"bottom\" size>\\n                <c4d-card-heading aria-level=\"3\" data-autoid=\"c4d--card-heading\" role=\"heading\" slot=\"heading\">\\n                    \\n                    IT automation</c4d-card-heading>\\n                <svg slot=\"pictogram\" class=\"cds--card__pictogram\" style=\"--colorized-background:url(\\'#g4\\'); fill: var(--colorized-background)\" focusable=\"false\" height=\"48\" width=\"48\" role=\"img\">\\n                    <svg xmlns=\"http://www.w3.org/2000/svg\" id=\"automation--decision\" viewBox=\"0 0 32 32\"><path d=\"M27.255,19.255L30.509,16l-3.254-3.254l-0.51,0.509l2.386,2.386H16.149L9.36,8.85V5.36h19.771 l-2.386,2.386l0.51,0.509L30.509,5l-3.254-3.254l-0.51,0.509l2.386,2.386H9C8.801,4.64,8.64,4.801,8.64,5v3.85l-6.895,6.896 c-0.141,0.141-0.141,0.368,0,0.509L8.64,23.15V27c0,0.199,0.161,0.36,0.36,0.36h20.131l-2.386,2.385l0.51,0.51L30.509,27 l-3.254-3.255l-0.51,0.51l2.386,2.385H9.36v-3.49l6.789-6.79h12.982l-2.386,2.385L27.255,19.255z M9,22.491L2.509,16L9,9.508 L15.491,16L9,22.491z\"/></svg>\\n                </svg>\\n                <p>Discover how automation solutions increase productivity while managing costs</p>\\n                <c4d-card-footer color-scheme target=\"_self\" cta-type=\"local\" data-autoid=\"c4d--card-footer\" href=\"https://www.ibm.com/automation?lnk=hpfp8us\" icon-placement=\"right\" parent-href=\"https://www.ibm.com/automation?lnk=hpfp8us\" slot=\"footer\">\\n                    \\n                </c4d-card-footer>\\n            </c4d-card-group-item>\\n        \\n    \\n    \\n    \\n\\n    \\n    \\n    \\n\\n    \\n   \\n    \\n        \\n        \\n            \\n            \\n            <c4d-card-group-item color-scheme grid-mode=\"condensed\" data-video-modal-type=\"media-center\" cta-type=\"local\" data-autoid=\"c4d--card-group-item\" href=\"https://www.ibm.com/servers?lnk=hpfp9us\" target=\"_self\" pictogram-placement=\"bottom\" size>\\n                <c4d-card-heading aria-level=\"3\" data-autoid=\"c4d--card-heading\" role=\"heading\" slot=\"heading\">\\n                    \\n                    Compute &amp; servers</c4d-card-heading>\\n                <svg slot=\"pictogram\" class=\"cds--card__pictogram\" style=\"--colorized-background:url(\\'#g4\\'); fill: var(--colorized-background)\" focusable=\"false\" height=\"48\" width=\"48\" role=\"img\">\\n                    <svg xmlns=\"http://www.w3.org/2000/svg\" id=\"storage--product\" viewBox=\"0 0 32 32\"><path d=\"M30,31.36H8c-0.199,0-0.36-0.161-0.36-0.36v-5c0-0.199,0.161-0.36,0.36-0.36h22 c0.199,0,0.36,0.161,0.36,0.36v5C30.36,31.199,30.199,31.36,30,31.36z M8.36,30.64h21.28v-4.28H8.36V30.64z M6,31.36H2 c-0.199,0-0.36-0.161-0.36-0.36V1c0-0.199,0.161-0.36,0.36-0.36h11c0.199,0,0.36,0.161,0.36,0.36v9h-0.72V1.36H2.36v29.28H6V31.36z M28.36,30h-0.72v-2h0.721L28.36,30L28.36,30z M26.36,30h-0.72v-2h0.721L26.36,30L26.36,30z M24.36,30h-0.72v-2h0.721L24.36,30 L24.36,30z M22.36,30h-0.72v-2h0.721L22.36,30L22.36,30z M30,24.36H8c-0.199,0-0.36-0.161-0.36-0.36v-5 c0-0.199,0.161-0.36,0.36-0.36h22c0.199,0,0.36,0.161,0.36,0.36v5C30.36,24.199,30.199,24.36,30,24.36z M8.36,23.64h21.28v-4.28 H8.36V23.64z M28.36,23h-0.72v-2h0.721L28.36,23L28.36,23z M26.36,23h-0.72v-2h0.721L26.36,23L26.36,23z M24.36,23h-0.72v-2h0.721 L24.36,23L24.36,23z M22.36,23h-0.72v-2h0.721L22.36,23L22.36,23z M30,17.36H8c-0.199,0-0.36-0.161-0.36-0.36v-5 c0-0.199,0.161-0.36,0.36-0.36h22c0.199,0,0.36,0.161,0.36,0.36v5C30.36,17.199,30.199,17.36,30,17.36z M8.36,16.64h21.28v-4.28 H8.36V16.64z M28.36,16h-0.72v-2h0.721L28.36,16L28.36,16z M26.36,16h-0.72v-2h0.721L26.36,16L26.36,16z M24.36,16h-0.72v-2h0.721 L24.36,16L24.36,16z M22.36,16h-0.72v-2h0.721L22.36,16L22.36,16z M6,4.36H4V3.64h2V4.36z\"/></svg>\\n                </svg>\\n                <p>Handle mission-critical workloads while maintaining security, reliability and control of your entire IT infrastructure</p>\\n                <c4d-card-footer color-scheme target=\"_self\" cta-type=\"local\" data-autoid=\"c4d--card-footer\" href=\"https://www.ibm.com/servers?lnk=hpfp9us\" icon-placement=\"right\" parent-href=\"https://www.ibm.com/servers?lnk=hpfp9us\" slot=\"footer\">\\n                    \\n                </c4d-card-footer>\\n            </c4d-card-group-item>\\n        \\n    \\n    \\n    \\n\\n    \\n    \\n    \\n\\n    \\n   \\n    \\n        \\n        \\n            \\n            \\n            <c4d-card-group-item color-scheme grid-mode=\"condensed\" data-video-modal-type=\"media-center\" cta-type=\"local\" data-autoid=\"c4d--card-group-item\" href=\"https://www.ibm.com/database?lnk=hpfp10us\" target=\"_self\" pictogram-placement=\"bottom\" size>\\n                <c4d-card-heading aria-level=\"3\" data-autoid=\"c4d--card-heading\" role=\"heading\" slot=\"heading\">\\n                    \\n                    Databases</c4d-card-heading>\\n                <svg slot=\"pictogram\" class=\"cds--card__pictogram\" style=\"--colorized-background:url(\\'#g4\\'); fill: var(--colorized-background)\" focusable=\"false\" height=\"48\" width=\"48\" role=\"img\">\\n                    <svg xmlns=\"http://www.w3.org/2000/svg\" id=\"hard--drive--network\" viewBox=\"0 0 32 32\"><path d=\"M20,6c-0.552,0-1-0.448-1-1s0.448-1,1-1s1,0.448,1,1S20.552,6,20,6z M21,16 c0-0.552-0.448-1-1-1s-1,0.448-1,1s0.448,1,1,1S21,16.552,21,16z M21,27c0-0.552-0.448-1-1-1s-1,0.448-1,1s0.448,1,1,1 S21,27.552,21,27z M24,31.36H1c-0.199,0-0.36-0.161-0.36-0.36v-8c0-0.199,0.161-0.36,0.36-0.36h23c0.199,0,0.36,0.161,0.36,0.36v8 C24.36,31.199,24.199,31.36,24,31.36z M1.36,30.64h22.28v-7.28H1.36V30.64z M31,27.36h-5v-0.72h4.64V16.36H26v-0.72h4.64V5.36H26 V4.64h5c0.199,0,0.36,0.161,0.36,0.36v22C31.36,27.199,31.199,27.36,31,27.36z M24,20.36H1c-0.199,0-0.36-0.161-0.36-0.36v-8 c0-0.199,0.161-0.36,0.36-0.36h23c0.199,0,0.36,0.161,0.36,0.36v8C24.36,20.199,24.199,20.36,24,20.36z M1.36,19.64h22.28v-7.28 H1.36V19.64z M24,9.36H1C0.801,9.36,0.64,9.199,0.64,9V1c0-0.199,0.161-0.36,0.36-0.36h23c0.199,0,0.36,0.161,0.36,0.36v8 C24.36,9.199,24.199,9.36,24,9.36z M1.36,8.64h22.28V1.36H1.36V8.64z\"/></svg>\\n                </svg>\\n                <p>Run your applications, analytics and generative AI with databases on any cloud</p>\\n                <c4d-card-footer color-scheme target=\"_self\" cta-type=\"local\" data-autoid=\"c4d--card-footer\" href=\"https://www.ibm.com/database?lnk=hpfp10us\" icon-placement=\"right\" parent-href=\"https://www.ibm.com/database?lnk=hpfp10us\" slot=\"footer\">\\n                    \\n                </c4d-card-footer>\\n            </c4d-card-group-item>\\n        \\n    \\n    \\n    \\n\\n    \\n    \\n    \\n\\n    \\n   \\n    \\n        \\n        \\n            \\n            \\n            <c4d-card-group-item color-scheme grid-mode=\"condensed\" data-video-modal-type=\"media-center\" cta-type=\"local\" data-autoid=\"c4d--card-group-item\" href=\"https://www.ibm.com/security?lnk=hpfp11us\" target=\"_self\" pictogram-placement=\"bottom\" size>\\n                <c4d-card-heading aria-level=\"3\" data-autoid=\"c4d--card-heading\" role=\"heading\" slot=\"heading\">\\n                    \\n                    Security &amp; identity</c4d-card-heading>\\n                <svg slot=\"pictogram\" class=\"cds--card__pictogram\" style=\"--colorized-background:url(\\'#g4\\'); fill: var(--colorized-background)\" focusable=\"false\" height=\"48\" width=\"48\" role=\"img\">\\n                    <svg xmlns=\"http://www.w3.org/2000/svg\" id=\"secure--profile\" viewBox=\"0 0 32 32\"><path d=\"M23.14,25.415v-1.988c-0.373-0.145-0.64-0.503-0.64-0.927c0-0.552,0.448-1,1-1s1,0.448,1,1 c0,0.424-0.266,0.782-0.64,0.927v1.988c0,0.199-0.161,0.36-0.36,0.36S23.14,25.614,23.14,25.415z M31.36,16v15 c0,0.199-0.161,0.36-0.36,0.36H16c-0.199,0-0.36-0.161-0.36-0.36V19h0.72v11.64h14.28V16.36H1c-0.199,0-0.36-0.161-0.36-0.36V1 c0-0.199,0.161-0.36,0.36-0.36h15c0.199,0,0.36,0.161,0.36,0.36v12h-0.72V1.36H1.36v14.28h2.28v-2.639 c0-1.926,1.166-3.659,2.908-4.427C5.978,8.04,5.643,7.293,5.643,6.5c0-1.577,1.283-2.86,2.86-2.86s2.86,1.283,2.86,2.86 c0,0.794-0.335,1.542-0.907,2.075c1.74,0.77,2.904,2.502,2.904,4.426v2.639h6.28V11.5c0-2.128,1.731-3.86,3.859-3.86 c2.129,0,3.861,1.731,3.861,3.86l-0.001,4.14H31C31.199,15.64,31.36,15.801,31.36,16z M12.64,13.001c0-1.837-1.25-3.47-3.041-3.97 c-0.141-0.04-0.244-0.16-0.261-0.306C9.321,8.58,9.395,8.439,9.523,8.369c0.69-0.379,1.12-1.095,1.12-1.869 c0-1.18-0.96-2.14-2.14-2.14s-2.14,0.96-2.14,2.14c0,0.773,0.429,1.489,1.119,1.868c0.128,0.07,0.201,0.211,0.184,0.357 C7.648,8.87,7.545,8.991,7.404,9.03C5.612,9.529,4.36,11.162,4.36,13.001v2.639h8.28C12.64,15.64,12.64,13.001,12.64,13.001z M26.64,11.5c0-1.731-1.408-3.14-3.14-3.14s-3.14,1.409-3.14,3.14v4.14h6.278L26.64,11.5z\"/></svg>\\n                </svg>\\n                <p>Secure hybrid cloud and AI with data and identity-centric cybersecurity solutions</p>\\n                <c4d-card-footer color-scheme target=\"_self\" cta-type=\"local\" data-autoid=\"c4d--card-footer\" href=\"https://www.ibm.com/security?lnk=hpfp11us\" icon-placement=\"right\" parent-href=\"https://www.ibm.com/security?lnk=hpfp11us\" slot=\"footer\">\\n                    \\n                </c4d-card-footer>\\n            </c4d-card-group-item>\\n        \\n    \\n    \\n    \\n\\n    \\n    \\n    \\n\\n    \\n   \\n    \\n\\n\\n                </c4d-card-group>\\n            \\n        \\n        \\n    </div>\\n\\n    <div horizontal-ruler>\\n        \\n    \\n    \\n    \\n        <c4d-hr></c4d-hr>\\n        \\n    \\n\\n    \\n    \\n    \\n    \\n\\n    \\n\\n\\n    </div>\\n    \\n    \\n    <script defer src=\"/etc.clientlibs/adobe-cms/clientlibs/clientlib-card-group.lc-1d549ac9f21b9285d5f7d7c52bf5e15b-lc.min.js\"></script>\\n\\n\\n    \\n \\n<svg class=\"cds--visually-hidden\">\\n    <defs>\\n        <linearGradient id=\"g1\" x1=\"0%\" y1=\"0%\" x2=\"0%\" y2=\"100%\">\\n            <stop offset=\"0%\" stop-color=\"#0F62FE\"></stop>\\n            <stop offset=\"100%\" stop-color=\"#8A3FFC\"></stop>\\n        </linearGradient>\\n        <linearGradient id=\"g1-dark\" x1=\"0%\" y1=\"0%\" x2=\"0%\" y2=\"100%\">\\n            <stop offset=\"0%\" stop-color=\"#4589FF\"></stop>\\n            <stop offset=\"100%\" stop-color=\"#A56EFF\"></stop>\\n        </linearGradient>\\n        <linearGradient id=\"g2\" x1=\"0%\" y1=\"0%\" x2=\"0%\" y2=\"100%\">\\n            <stop offset=\"0%\" stop-color=\"#0F62FE\"></stop>\\n            <stop offset=\"100%\" stop-color=\"#78A9FF\"></stop>\\n        </linearGradient>\\n        <linearGradient id=\"g2-dark\" x1=\"0%\" y1=\"0%\" x2=\"0%\" y2=\"100%\">\\n            <stop offset=\"0%\" stop-color=\"#0F62FE\"></stop>\\n            <stop offset=\"100%\" stop-color=\"#78A9FF\"></stop>\\n        </linearGradient>\\n        <linearGradient id=\"g3\" x1=\"0%\" y1=\"0%\" x2=\"0%\" y2=\"100%\">\\n            <stop offset=\"0%\" stop-color=\"#0F62FE\"></stop>\\n            <stop offset=\"100%\" stop-color=\"#08BDBA\"></stop>\\n        </linearGradient>\\n        <linearGradient id=\"g3-dark\" x1=\"0%\" y1=\"0%\" x2=\"0%\" y2=\"100%\">\\n            <stop offset=\"0%\" stop-color=\"#4589FF\"></stop>\\n            <stop offset=\"100%\" stop-color=\"#08BDBA\"></stop>\\n        </linearGradient>\\n        <linearGradient id=\"g4\" x1=\"0%\" y1=\"0%\" x2=\"0%\" y2=\"100%\">\\n            <stop offset=\"0%\" stop-color=\"#0F62FE\"></stop>\\n            <stop offset=\"100%\" stop-color=\"#FF7EB6\"></stop>\\n        </linearGradient>\\n        <linearGradient id=\"g4-dark\" x1=\"0%\" y1=\"0%\" x2=\"0%\" y2=\"100%\">\\n            <stop offset=\"0%\" stop-color=\"#4589FF\"></stop>\\n            <stop offset=\"100%\" stop-color=\"#EE5396\"></stop>\\n        </linearGradient>\\n        <linearGradient id=\"g5\" x1=\"0%\" y1=\"0%\" x2=\"0%\" y2=\"100%\">\\n            <stop offset=\"0%\" stop-color=\"#FA4D56\"></stop>\\n            <stop offset=\"100%\" stop-color=\"#A56EFF\"></stop>\\n        </linearGradient>\\n        <linearGradient id=\"g5-dark\" x1=\"0%\" y1=\"0%\" x2=\"0%\" y2=\"100%\">\\n            <stop offset=\"0%\" stop-color=\"#FA4D56\"></stop>\\n            <stop offset=\"100%\" stop-color=\"#A56EFF\"></stop>\\n        </linearGradient>\\n    </defs>\\n</svg></div>\\n<div class=\"cta-section themed-block theme-white thin-stat\">\\n\\n\\n\\n\\n\\n    \\n  \\n\\n    \\n    <c4d-cta-block class=\"   title-plus-3-items-layout\">\\n        <c4d-content-block-heading class=\"\">\\n            \\n            \\n\\n     \\n    Inside IBM\\n\\n\\n\\n\\n    \\n\\n\\n        </c4d-content-block-heading>\\n        \\n        \\n        \\n\\n    <c4d-cta-block-item-row no-border>\\n        \\n\\n    \\n    \\n    \\n    <c4d-cta-block-item>\\n    \\n    \\n    \\n\\n    \\n    <c4d-content-item-heading>\\n        \\n\\n\\n\\n  \\n    Our company\\n\\n\\n\\n\\n\\n\\n    \\n\\n\\n    </c4d-content-item-heading>\\n    <c4d-content-item-copy>\\n        <c4d-content-item-paragraph>\\n            <div class=\"cms-richtext \" id=\"rich-text-fa074a9752\" data-dynamic-inner-content=\"description\">\\n    <p>Explore IBM history and culture of putting technology to work in the real world.</p>\\r\\n \\n    \\n    \\n    \\n    \\n\\n</div>\\n        </c4d-content-item-paragraph>\\n    </c4d-content-item-copy>\\n    \\n    \\n    \\n        \\n        \\n        <c4d-text-cta cta-type=\"local\" icon-placement=\"right\" href=\"https://www.ibm.com/about?lnk=hpii1us\" target=\"_self\" data-dynamic-properties=\"{&quot;ctaUrl&quot;:&quot;href&quot;}\" data-dynamic-inner-content=\"ctaLabel\" slot=\"footer\" data-video-modal-type=\"media-center\">About IBM\\n            \\n        </c4d-text-cta>\\n    \\n    \\n    \\n\\n   \\n\\n    \\n    \\n    \\n        \\n        \\n        <c4d-text-cta cta-type=\"local\" icon-placement=\"right\" href=\"https://www.ibm.com/history?lnk=hpii1us\" target=\"_self\" data-dynamic-properties=\"{&quot;ctaUrl&quot;:&quot;href&quot;}\" data-dynamic-inner-content=\"ctaLabel\" slot=\"footer\" data-video-modal-type=\"media-center\">Our history\\n            \\n        </c4d-text-cta>\\n    \\n    \\n    \\n\\n   \\n\\n</c4d-cta-block-item>\\n\\n    \\n    <script defer src=\"/etc.clientlibs/adobe-cms/clientlibs/clientlib-cta-block.lc-0140f6e1f0ba9232908235ebb76bab7d-lc.min.js\"></script>\\n\\n\\n\\n<c4d-cta-block-item>\\n    \\n    \\n    \\n\\n    \\n    <c4d-content-item-heading>\\n        \\n\\n\\n\\n  \\n    Our impact\\n\\n\\n\\n\\n\\n\\n    \\n\\n\\n    </c4d-content-item-heading>\\n    <c4d-content-item-copy>\\n        <c4d-content-item-paragraph>\\n            <div class=\"cms-richtext \" id=\"rich-text-4b244d2cb1\" data-dynamic-inner-content=\"description\">\\n    <p>Learn about IBM’s commitment to environmental, equitable and ethical pillars.</p>\\r\\n \\n    \\n    \\n    \\n    \\n\\n</div>\\n        </c4d-content-item-paragraph>\\n    </c4d-content-item-copy>\\n    \\n    \\n    \\n        \\n        \\n        <c4d-text-cta cta-type=\"local\" icon-placement=\"right\" href=\"https://www.ibm.com/impact?lnk=hpii1us\" target=\"_self\" data-dynamic-properties=\"{&quot;ctaUrl&quot;:&quot;href&quot;}\" data-dynamic-inner-content=\"ctaLabel\" slot=\"footer\" data-video-modal-type=\"media-center\">Corporate social responsibility\\n            \\n        </c4d-text-cta>\\n    \\n    \\n    \\n\\n   \\n\\n    \\n    \\n    \\n        \\n        \\n        <c4d-text-cta cta-type=\"local\" icon-placement=\"right\" href=\"https://www.ibm.com/impact/be-equal?lnk=hpii1us\" target=\"_self\" data-dynamic-properties=\"{&quot;ctaUrl&quot;:&quot;href&quot;}\" data-dynamic-inner-content=\"ctaLabel\" slot=\"footer\" data-video-modal-type=\"media-center\">Inclusion@IBM\\n            \\n        </c4d-text-cta>\\n    \\n    \\n    \\n\\n   \\n\\n</c4d-cta-block-item>\\n\\n    \\n    \\n\\n\\n<c4d-cta-block-item>\\n    \\n    \\n    \\n\\n    \\n    <c4d-content-item-heading>\\n        \\n\\n\\n\\n  \\n    Our innovations\\n\\n\\n\\n\\n\\n\\n    \\n\\n\\n    </c4d-content-item-heading>\\n    <c4d-content-item-copy>\\n        <c4d-content-item-paragraph>\\n            <div class=\"cms-richtext \" id=\"rich-text-77395c58ee\" data-dynamic-inner-content=\"description\">\\n    <p>Visit the IBM lab, and see what&#39;s in store for the future of\\xa0computing.</p>\\r\\n \\n    \\n    \\n    \\n    \\n\\n</div>\\n        </c4d-content-item-paragraph>\\n    </c4d-content-item-copy>\\n    \\n    \\n    \\n        \\n        \\n        <c4d-text-cta cta-type=\"external\" icon-placement=\"right\" href=\"https://research.ibm.com?lnk=hpii1us\" target=\"_self\" data-dynamic-properties=\"{&quot;ctaUrl&quot;:&quot;href&quot;}\" data-dynamic-inner-content=\"ctaLabel\" slot=\"footer\" data-video-modal-type=\"media-center\">IBM Research\\n            \\n        </c4d-text-cta>\\n    \\n    \\n    \\n\\n   \\n\\n    \\n    \\n    \\n        \\n        \\n        <c4d-text-cta cta-type=\"local\" icon-placement=\"right\" href=\"https://www.ibm.com/quantum?lnk=hpii1us\" target=\"_self\" data-dynamic-properties=\"{&quot;ctaUrl&quot;:&quot;href&quot;}\" data-dynamic-inner-content=\"ctaLabel\" slot=\"footer\" data-video-modal-type=\"media-center\">Quantum computing\\n            \\n        </c4d-text-cta>\\n    \\n    \\n    \\n\\n   \\n\\n</c4d-cta-block-item>\\n\\n    \\n    \\n\\n\\n\\n    \\n\\n\\n    </c4d-cta-block-item-row>\\n\\n\\n    \\n    \\n\\n\\n    </c4d-cta-block>\\n\\n\\n    \\n    \\n\\n</div>\\n<div class=\"intro-section\">\\n\\n<div class=\"intro-section--flex fullwidth-intro-section\">\\n    <div class=\"intro-section--heading-wrapper\">\\n        <h2 class=\"expressive-heading-05 \">\\n            \\n\\n\\n\\n  \\n    Take the next step\\n\\n\\n\\n\\n\\n\\n    \\n\\n\\n        </h2>\\n    </div>\\n    <div class=\"intro-section--content-wrapper\">\\n        <span>\\n            <div class=\"cms-richtext \" id=\"rich-text-8224f9545a\" data-dynamic-inner-content=\"description\">\\n    <p>Solving the world’s problems through technology wouldn’t be possible without people with the right skills. See what it takes to become an IBMer, or build your skills with our educational courses.</p>\\r\\n \\n    \\n    \\n    \\n    \\n\\n</div>\\n        </span>\\n\\n        \\n            <c4d-link-list type=\"vertical\">\\n                \\n                    \\n    \\n    \\n    \\n    \\n\\n    \\n    \\n    \\n\\n    \\n   \\n\\n                \\n                \\n                    \\n    \\n    \\n    \\n    \\n\\n    \\n    \\n    \\n\\n    \\n   \\n\\n                \\n            </c4d-link-list>\\n        \\n\\n        \\n    </div>\\n</div>\\n\\n\\n    \\n    \\n\\n</div>\\n<div class=\"container-50-50 container responsivegrid\"><div class=\"container-50-50-container\">\\n    <div class=\"container-50-50-row\">\\n        <div class=\"container-50-50--col-lg-8\">\\n            \\n\\n    \\n    \\n    \\n    <div id=\"container-item-50-50-854ab607b3\" class=\"cmp-container\">\\n        \\n        <div class=\"tile-card card link button\">\\r\\n    \\n    <caem-tile label=\"IBM Careers\" cta-type=\"local\" href=\"https://www.ibm.com/careers?lnk=hpns1us\" target=\"_self\" double-tile=\"double-tile\" align-with-content=\"align-with-content\" data-video-modal-type=\"media-center\">\\n        \\n        \\n            \\n\\n\\n\\n\\n\\n    \\n    \\n        \\n        \\n        \\n        \\n        \\n        <c4d-image id=\"image--1583282671\" alt=\"Woman standing next to IBM logo illustration\" slot=\"image\" default-src=\"/content/dam/connectedassets-adobe-cms/worldwide-content/creative-assets/tai/ul/g/16/b2/photo-435_hn.component.tile-card-xl.ts=1741716911569.jpg/content/adobe-cms/us/en/homepage/jcr:content/root/table_of_contents/container_50_50_copy/container1/tile_card_1011472503/image\" class=\"\">\\n            \\n            \\n                \\n                    \\n    <c4d-image-item media=\"(min-width: 1312px) and (min-resolution: 192dpi)\" srcset=\"/content/dam/connectedassets-adobe-cms/worldwide-content/creative-assets/tai/ul/g/16/b2/photo-435_hn.component.tile-card-xl-retina.ts=1741716911569.jpg/content/adobe-cms/us/en/homepage/jcr:content/root/table_of_contents/container_50_50_copy/container1/tile_card_1011472503/image\"></c4d-image-item>\\n    <c4d-image-item media=\"(min-width: 1312px)\" srcset=\"/content/dam/connectedassets-adobe-cms/worldwide-content/creative-assets/tai/ul/g/16/b2/photo-435_hn.component.tile-card-xl.ts=1741716911569.jpg/content/adobe-cms/us/en/homepage/jcr:content/root/table_of_contents/container_50_50_copy/container1/tile_card_1011472503/image\"></c4d-image-item>\\n    <c4d-image-item media=\"(min-width: 1056px) and (min-resolution: 192dpi)\" srcset=\"/content/dam/connectedassets-adobe-cms/worldwide-content/creative-assets/tai/ul/g/16/b2/photo-435_hn.component.tile-card-l-retina.ts=1741716911569.jpg/content/adobe-cms/us/en/homepage/jcr:content/root/table_of_contents/container_50_50_copy/container1/tile_card_1011472503/image\"></c4d-image-item>\\n    <c4d-image-item media=\"(min-width: 1056px)\" srcset=\"/content/dam/connectedassets-adobe-cms/worldwide-content/creative-assets/tai/ul/g/16/b2/photo-435_hn.component.tile-card-l.ts=1741716911569.jpg/content/adobe-cms/us/en/homepage/jcr:content/root/table_of_contents/container_50_50_copy/container1/tile_card_1011472503/image\"></c4d-image-item>\\n    <c4d-image-item media=\"(min-width: 672px) and (min-resolution: 192dpi)\" srcset=\"/content/dam/connectedassets-adobe-cms/worldwide-content/creative-assets/tai/ul/g/16/b2/photo-435_hn.component.tile-card-m-retina.ts=1741716911569.jpg/content/adobe-cms/us/en/homepage/jcr:content/root/table_of_contents/container_50_50_copy/container1/tile_card_1011472503/image\"></c4d-image-item>\\n    <c4d-image-item media=\"(min-width: 672px)\" srcset=\"/content/dam/connectedassets-adobe-cms/worldwide-content/creative-assets/tai/ul/g/16/b2/photo-435_hn.component.tile-card-m.ts=1741716911569.jpg/content/adobe-cms/us/en/homepage/jcr:content/root/table_of_contents/container_50_50_copy/container1/tile_card_1011472503/image\"></c4d-image-item>\\n    <c4d-image-item media=\"(min-width: 481px) and (min-resolution: 192dpi)\" srcset=\"/content/dam/connectedassets-adobe-cms/worldwide-content/creative-assets/tai/ul/g/16/b2/photo-435_hn.component.tile-card-s-retina.ts=1741716911569.jpg/content/adobe-cms/us/en/homepage/jcr:content/root/table_of_contents/container_50_50_copy/container1/tile_card_1011472503/image\"></c4d-image-item>\\n    <c4d-image-item media=\"(min-width: 481px)\" srcset=\"/content/dam/connectedassets-adobe-cms/worldwide-content/creative-assets/tai/ul/g/16/b2/photo-435_hn.component.tile-card-s.ts=1741716911569.jpg/content/adobe-cms/us/en/homepage/jcr:content/root/table_of_contents/container_50_50_copy/container1/tile_card_1011472503/image\"></c4d-image-item>\\n    <c4d-image-item media=\"(max-width: 480px) and (min-resolution: 192dpi)\" srcset=\"/content/dam/connectedassets-adobe-cms/worldwide-content/creative-assets/tai/ul/g/16/b2/photo-435_hn.component.tile-card-xs-retina.ts=1741716911569.jpg/content/adobe-cms/us/en/homepage/jcr:content/root/table_of_contents/container_50_50_copy/container1/tile_card_1011472503/image\"></c4d-image-item>\\n    <c4d-image-item media=\"(max-width: 480px)\" srcset=\"/content/dam/connectedassets-adobe-cms/worldwide-content/creative-assets/tai/ul/g/16/b2/photo-435_hn.component.tile-card-xs.ts=1741716911569.jpg/content/adobe-cms/us/en/homepage/jcr:content/root/table_of_contents/container_50_50_copy/container1/tile_card_1011472503/image\"></c4d-image-item>\\n    \\n    \\n    \\n\\n    \\n\\n                    \\n                \\n            \\n        </c4d-image>\\n    \\n\\n    \\n    \\n    \\n    \\n\\n    \\n\\n\\n\\n    \\n    \\n\\n\\n        \\n        \\n    \\n\\n        Become an IBMer\\n        \\n    \\n    \\n\\n\\n\\n    \\n\\n\\n    \\n    \\n\\n\\n        <p slot=\"cta\">\\n            Explore jobs\\n        </p>\\n\\n    </caem-tile>\\n\\n    <div class=\"caem-card-svg-source\" hidden>\\n        <svg xmlns=\"http://www.w3.org/2000/svg\" id=\"accelerated-computing\" viewBox=\"0 0 32 32\"><path d=\"M19,29.36c-3.401,0-6.596-1.506-8.764-4.131l0.556-0.459c2.03,2.459,5.022,3.869,8.208,3.869 c5.867,0,10.64-4.772,10.64-10.64c0-5.867-4.772-10.64-10.64-10.64c-3.186,0-6.177,1.411-8.208,3.87l-0.555-0.459 c2.091-2.532,5.137-4.022,8.403-4.125V5.36H16c-0.199,0-0.36-0.161-0.36-0.36V3c0-0.199,0.161-0.36,0.36-0.36h6 c0.199,0,0.36,0.161,0.36,0.36v2c0,0.199-0.161,0.36-0.36,0.36h-2.64v1.286c6.098,0.191,11,5.211,11,11.354 C30.36,24.264,25.264,29.36,19,29.36z M16.36,4.64h5.28V3.36h-5.28V4.64z M14,23.36H4v-0.72h10V23.36z M12,18.36H2v-0.72h10V18.36z M19.179,18.312l-0.357-0.625l7-4l0.357,0.625L19.179,18.312z M14,13.36H4v-0.72h10V13.36z\"/></svg>\\n    </div>\\n    \\n    \\n\\n\\r\\n\\r\\n\\r\\n    \\n    \\n\\r\\n\\r\\n</div>\\n\\n        \\n    </div>\\n\\n\\n        </div>\\n\\n        <div class=\"container-50-50--col-lg-8\">\\n            \\n\\n    \\n    \\n    \\n    <div id=\"container-item-50-50-07b2100915\" class=\"cmp-container\">\\n        \\n        <div class=\"tile-card card link button\">\\r\\n    \\n    <caem-tile label=\"IBM SkillsBuild\" cta-type=\"external\" href=\"https://skillsbuild.org?lnk=hpns2us\" target=\"_blank\" double-tile=\"double-tile\" align-with-content=\"align-with-content\" data-video-modal-type=\"media-center\">\\n        \\n        \\n            \\n\\n\\n\\n\\n\\n    \\n    \\n        \\n        \\n        \\n        \\n        \\n        <c4d-image id=\"image--1454371264\" alt=\"Woman holding laptop and looking at camera\" slot=\"image\" default-src=\"/content/dam/connectedassets-adobe-cms/worldwide-content/stock-assets/getty/image/others/80/0e/800e7041-0619-467f-b991f916451e1e50.component.tile-card-xl.ts=1741716911759.jpg/content/adobe-cms/us/en/homepage/jcr:content/root/table_of_contents/container_50_50_copy/container2/tile_card_769450518_/image\" class=\"\">\\n            \\n            \\n                \\n                    \\n    <c4d-image-item media=\"(min-width: 1312px) and (min-resolution: 192dpi)\" srcset=\"/content/dam/connectedassets-adobe-cms/worldwide-content/stock-assets/getty/image/others/80/0e/800e7041-0619-467f-b991f916451e1e50.component.tile-card-xl-retina.ts=1741716911759.jpg/content/adobe-cms/us/en/homepage/jcr:content/root/table_of_contents/container_50_50_copy/container2/tile_card_769450518_/image\"></c4d-image-item>\\n    <c4d-image-item media=\"(min-width: 1312px)\" srcset=\"/content/dam/connectedassets-adobe-cms/worldwide-content/stock-assets/getty/image/others/80/0e/800e7041-0619-467f-b991f916451e1e50.component.tile-card-xl.ts=1741716911759.jpg/content/adobe-cms/us/en/homepage/jcr:content/root/table_of_contents/container_50_50_copy/container2/tile_card_769450518_/image\"></c4d-image-item>\\n    <c4d-image-item media=\"(min-width: 1056px) and (min-resolution: 192dpi)\" srcset=\"/content/dam/connectedassets-adobe-cms/worldwide-content/stock-assets/getty/image/others/80/0e/800e7041-0619-467f-b991f916451e1e50.component.tile-card-l-retina.ts=1741716911759.jpg/content/adobe-cms/us/en/homepage/jcr:content/root/table_of_contents/container_50_50_copy/container2/tile_card_769450518_/image\"></c4d-image-item>\\n    <c4d-image-item media=\"(min-width: 1056px)\" srcset=\"/content/dam/connectedassets-adobe-cms/worldwide-content/stock-assets/getty/image/others/80/0e/800e7041-0619-467f-b991f916451e1e50.component.tile-card-l.ts=1741716911759.jpg/content/adobe-cms/us/en/homepage/jcr:content/root/table_of_contents/container_50_50_copy/container2/tile_card_769450518_/image\"></c4d-image-item>\\n    <c4d-image-item media=\"(min-width: 672px) and (min-resolution: 192dpi)\" srcset=\"/content/dam/connectedassets-adobe-cms/worldwide-content/stock-assets/getty/image/others/80/0e/800e7041-0619-467f-b991f916451e1e50.component.tile-card-m-retina.ts=1741716911759.jpg/content/adobe-cms/us/en/homepage/jcr:content/root/table_of_contents/container_50_50_copy/container2/tile_card_769450518_/image\"></c4d-image-item>\\n    <c4d-image-item media=\"(min-width: 672px)\" srcset=\"/content/dam/connectedassets-adobe-cms/worldwide-content/stock-assets/getty/image/others/80/0e/800e7041-0619-467f-b991f916451e1e50.component.tile-card-m.ts=1741716911759.jpg/content/adobe-cms/us/en/homepage/jcr:content/root/table_of_contents/container_50_50_copy/container2/tile_card_769450518_/image\"></c4d-image-item>\\n    <c4d-image-item media=\"(min-width: 481px) and (min-resolution: 192dpi)\" srcset=\"/content/dam/connectedassets-adobe-cms/worldwide-content/stock-assets/getty/image/others/80/0e/800e7041-0619-467f-b991f916451e1e50.component.tile-card-s-retina.ts=1741716911759.jpg/content/adobe-cms/us/en/homepage/jcr:content/root/table_of_contents/container_50_50_copy/container2/tile_card_769450518_/image\"></c4d-image-item>\\n    <c4d-image-item media=\"(min-width: 481px)\" srcset=\"/content/dam/connectedassets-adobe-cms/worldwide-content/stock-assets/getty/image/others/80/0e/800e7041-0619-467f-b991f916451e1e50.component.tile-card-s.ts=1741716911759.jpg/content/adobe-cms/us/en/homepage/jcr:content/root/table_of_contents/container_50_50_copy/container2/tile_card_769450518_/image\"></c4d-image-item>\\n    <c4d-image-item media=\"(max-width: 480px) and (min-resolution: 192dpi)\" srcset=\"/content/dam/connectedassets-adobe-cms/worldwide-content/stock-assets/getty/image/others/80/0e/800e7041-0619-467f-b991f916451e1e50.component.tile-card-xs-retina.ts=1741716911759.jpg/content/adobe-cms/us/en/homepage/jcr:content/root/table_of_contents/container_50_50_copy/container2/tile_card_769450518_/image\"></c4d-image-item>\\n    <c4d-image-item media=\"(max-width: 480px)\" srcset=\"/content/dam/connectedassets-adobe-cms/worldwide-content/stock-assets/getty/image/others/80/0e/800e7041-0619-467f-b991f916451e1e50.component.tile-card-xs.ts=1741716911759.jpg/content/adobe-cms/us/en/homepage/jcr:content/root/table_of_contents/container_50_50_copy/container2/tile_card_769450518_/image\"></c4d-image-item>\\n    \\n    \\n    \\n\\n    \\n\\n                    \\n                \\n            \\n        </c4d-image>\\n    \\n\\n    \\n    \\n    \\n    \\n\\n    \\n\\n\\n\\n    \\n    \\n\\n\\n        \\n        \\n    \\n\\n        Explore learning opportunities\\n        \\n    \\n    \\n\\n\\n\\n    \\n\\n\\n    \\n    \\n\\n\\n        <p slot=\"cta\">\\n            Start learning\\n        </p>\\n\\n    </caem-tile>\\n\\n    <div class=\"caem-card-svg-source\" hidden>\\n        <svg xmlns=\"http://www.w3.org/2000/svg\" id=\"accelerated-computing\" viewBox=\"0 0 32 32\"><path d=\"M19,29.36c-3.401,0-6.596-1.506-8.764-4.131l0.556-0.459c2.03,2.459,5.022,3.869,8.208,3.869 c5.867,0,10.64-4.772,10.64-10.64c0-5.867-4.772-10.64-10.64-10.64c-3.186,0-6.177,1.411-8.208,3.87l-0.555-0.459 c2.091-2.532,5.137-4.022,8.403-4.125V5.36H16c-0.199,0-0.36-0.161-0.36-0.36V3c0-0.199,0.161-0.36,0.36-0.36h6 c0.199,0,0.36,0.161,0.36,0.36v2c0,0.199-0.161,0.36-0.36,0.36h-2.64v1.286c6.098,0.191,11,5.211,11,11.354 C30.36,24.264,25.264,29.36,19,29.36z M16.36,4.64h5.28V3.36h-5.28V4.64z M14,23.36H4v-0.72h10V23.36z M12,18.36H2v-0.72h10V18.36z M19.179,18.312l-0.357-0.625l7-4l0.357,0.625L19.179,18.312z M14,13.36H4v-0.72h10V13.36z\"/></svg>\\n    </div>\\n    \\n    \\n\\n\\r\\n\\r\\n\\r\\n    \\n    \\n\\r\\n\\r\\n</div>\\n\\n        \\n    </div>\\n\\n\\n        </div>\\n    </div>\\n</div></div>\\n<div class=\"modular-container container responsivegrid\">\\n\\n    \\n    \\n    \\n    <div id=\"modular-container-a52a8f8e58\" class=\"cmp-container\">\\n        \\n        <div class=\"standalone-text rich-text text\">\\r\\n</div>\\n\\n        \\n    </div>\\n\\n</div>\\n<div class=\"accordion-container\">\\n\\n\\n<div class=\"cds--content-block \">\\n\\n    \\n\\n    <div class=\"cds--full-width-intro-container\">\\n        \\n\\n\\n    \\n    \\n\\n\\n    </div>\\n\\n    <div class=\"cds--content-item \" data-autoid=\"c4d--content-item\">\\n        \\r\\n\\r\\n\\r\\n    <cds-accordion role=\"list\" size=\"null\">\\r\\n        \\r\\n            <cds-accordion-item label=\"Footnotes\" role=\"listitem\" size=\"null\" title=\"Footnotes\">\\r\\n                \\r\\n                <span slot=\"title\">\\r\\n                    <strong>Footnotes</strong>\\r\\n                </span>\\r\\n                <div class=\"accordion-item-container nested-container container responsivegrid\">\\n\\n\\n\\n    \\n        <div class=\"cms-richtext \" id=\"rich-text-64c6404bbc\" data-dynamic-inner-content=\"description\">\\n    <p>¹\\xa0<a href=\"https://www.ft.com/partnercontent/ibm/how-smaller-industry-tailored-ai-models-can-offer-greater-benefits.html\"><span class=\"ibm_icon_launch_external_after\">https://www.ft.com/partnercontent/ibm/how-smaller-industry-tailored-ai-models-can-offer-greater-benefits.html</span></a></p>\\r\\n \\n    \\n    \\n    \\n    \\n\\n</div>\\n    \\n\\n\\n\\n</div>\\n\\r\\n            </cds-accordion-item>\\r\\n        \\r\\n    </cds-accordion>\\r\\n\\r\\n\\r\\n\\r\\n    \\n    <script defer src=\"/etc.clientlibs/adobe-cms/clientlibs/clientlib-cweb-accordion.lc-a61a29b6302364d4d4b49e63064d046e-lc.min.js\"></script>\\n\\n\\r\\n\\n    </div>\\n\\n    \\n</div></div>\\n\\n        \\n    </div>\\n\\n</c4d-table-of-contents>\\n\\n    \\n    <script defer src=\"/etc.clientlibs/adobe-cms/clientlibs/clientlib-table-of-contents.lc-e3dc13e5719b639df3900240c6baa28b-lc.min.js\"></script>\\n\\n\\n</div>\\n<div class=\"footer\">\\n\\n\\n\\n\\n    <c4d-footer-container data-cmp-is=\"footer\" data-autoid=\"c4d--footer\" class=\"cmp-footer\" data-children-count=\"0\" size=\"tall\"></c4d-footer-container>\\n\\n\\n    \\n    <script defer src=\"/etc.clientlibs/adobe-cms/clientlibs/clientlib-footer.lc-02a81e61eddf69a54845c424658631db-lc.min.js\"></script>\\n\\n</div>\\n\\n        \\n    </div>\\n\\n</div>\\n\\n</c4d-video-cta-container>\\n<div class=\"video-modal-overlay\" aria-hidden=\"true\">\\n    <div class=\"video-modal-overlay__dialog\">\\n        <div class=\"video-modal-overlay__dialog--body\">\\n            <div class=\"video-modal-overlay__dialog--body__close-btn\">\\n                <svg width=\"24\" height=\"24\" viewBox=\"0 0 24 24\" fill=\"none\" xmlns=\"http://www.w3.org/2000/svg\">\\n                    <rect width=\"24\" height=\"24\" fill=\"white\" fill-opacity=\"0.01\" style=\"mix-blend-mode:multiply\"/>\\n                    <path id=\"Vector\" d=\"M13.0606 12L19.5 5.56058L18.4394 4.5L12 10.9394L5.56072 4.5L4.5 5.56058L10.9394 12L4.5 18.4394L5.56072 19.5L12 13.0606L18.4394 19.5L19.5 18.4394L13.0606 12Z\" fill=\"#161616\"/>\\n                </svg>\\n            </div>\\n            <div class=\"video-modal-overlay__dialog--body-content\">\\n\\n                <div class=\"video-modal-overlay__loading-container\">\\n                    <cds-loading></cds-loading>\\n                </div>\\n\\n                <div class=\"video-wms hide\">\\n                    <iframe class=\"video-modal-content\" data-original-src=\"https://video.ibm.com/embed/$[wmsChanneId]?volume=0&autoplay=true&controls=true\" src=\"\" webkitallowfullscreen allowfullscreen frameborder=\"no\" referrerpolicy=\"no-referrer-when-downgrade\"></iframe>\\n\\n                </div>\\n\\n                <div class=\"video-media-center hide\">\\n                    <c4d-video-player-container video-id=\"\" aspect-ratio=\"16x9\" auto-play muted playing-mode=\"inline\"></c4d-video-player-container>\\n                </div>\\n            </div>\\n        </div>\\n    </div>\\n</div>\\n\\n\\n    \\n    <script defer src=\"/etc.clientlibs/adobe-cms/clientlibs/clientlib-video-player.lc-29f2a66df07342cdf763e2bc4d5ada80-lc.min.js\"></script>\\n<script defer src=\"/etc.clientlibs/adobe-cms/clientlibs/clientlib-cweb-loading.lc-ca618eb7785b83e9cfb87f1d1683e7cd-lc.min.js\"></script>\\n\\n\\n\\n\\n<c4d-lightbox-video-player-container></c4d-lightbox-video-player-container>\\n\\n    \\n    \\n\\n\\n    \\n    \\n    \\n<script src=\"/etc.clientlibs/adobe-cms/clientlibs/clientlib-idlBundle.lc-f720c930f09453060e1c386a0ad5a4d8-lc.min.js\"></script>\\n\\n\\n\\n    \\n\\n\\n    \\n    <script src=\"/etc.clientlibs/adobe-cms/clientlibs/clientlib-base.lc-18f193433bf96d7320eee136848e463b-lc.min.js\"></script>\\n<script src=\"/etc.clientlibs/adobe-cms/clientlibs/clientlib-idlStyles.lc-407291f57b2de09f11ebbdf29310736c-lc.min.js\"></script>\\n<script src=\"/etc.clientlibs/adobe-cms/components/poc/ibm-image-dm/clientlibs/site.lc-96f41d35e09f648917c6d3f54d19b8c1-lc.min.js\"></script>\\n\\n\\n\\n\\n\\n<script src=\"https://www.ibm.com/common/digitaladvisor/cm-app/latest/cm-app.min.js\" defer async></script>\\n\\n\\n\\n    \\n    <script defer src=\"/etc.clientlibs/adobe-cms/clientlibs/clientlib-cweb-code-snippet.lc-d1f19e3766d5ef4bb40f94c6a51b5bbf-lc.min.js\"></script>\\n\\n\\n\\n    \\n    \\n    <script defer src=\"/etc.clientlibs/adobe-cms/clientlibs/clientlib-pdfviewer.lc-e4412705ab74ab8b0e2e21371e0762c9-lc.min.js\"></script>\\n\\n\\n    \\n\\n    \\n\\n    \\n\\n    \\n\\n\\n\\n    \\n\\n    \\n\\n\\n\\n\\n<!-- Added for Adobe analytics implementation ADCMS-5834\\n<script type=\"text/javascript\">\\n\\n    adobeDataLayer.push({\\n        \"event\": \"linkClick\",\\n        \"web\": {\\n            \"webPageDetails\": {\\n                \"URL\": document.URL,\\n                \"name\": \"home\"\\n            },\\n            \"webInteraction\": {\\n                \"linkClick\":\"event\",\\n                \"value\":\"1\",\\n                \"type\": \"other\",\\n                \"URL\": document.URL,\\n                \"name\": \"linkClick: \" +  document.URL\\n            }\\n        },\\n    })\\n</script>  !-->\\n\\n<!-- Added for Adobe analytics implementation ADCMS-5834 & ADCMS-6152 !-->\\n<script type=\"text/javascript\">\\n    document.addEventListener(\"DOMContentLoaded\", function() {\\n        var templatePath = \"\\\\/conf\\\\/adobe\\\\u002Dcms\\\\u002Deditable\\\\/settings\\\\/wcm\\\\/templates\\\\/full\\\\u002Dwidth\\\\u002Dlayout\";\\n        var templateName = templatePath.split(\\'/\\').pop();\\n        const currentUrl = document.URL;\\n        const [baseUrl, queryString] = currentUrl.split(\\'?\\');\\n        const urlWithoutProtocolAndDomain = baseUrl.replace(/^https?:\\\\/\\\\/[^\\\\/]+\\\\//, \\'\\');\\n        const segments = urlWithoutProtocolAndDomain.split(\\'/\\').filter(segment => segment);\\n        const localePattern = /^[a-z]{2}-[a-z]{2}$/;\\n        const cleanedSegments = segments.filter(segment => !localePattern.test(segment));\\n        const firstSegment = cleanedSegments[0] || \"\";\\n        const secondSegment = cleanedSegments[1] || \"\";\\n        const thirdSegment = cleanedSegments[2] || \"\";\\n\\n        if (currentUrl.includes(\"/products\")) {\\n            callProductPageLoadEvent();\\n        }\\n\\n        function callProductPageLoadEvent(){\\n            adobeDataLayer.push({\\n                \"event\": \"productPageLoad\",\\n                \"commerce\": {\\n                    \"productViews\": {\\n                        \"value\": 1\\n                     }\\n                },\\n                \"productListItems\": {\\n                    \"name\": secondSegment,\\n                    \"productCategories\": {\\n                        \"categoryName\": thirdSegment\\n                    }\\n                },\\n                \"web\": {\\n                    \"webPageDetails\": {\\n                        \"URL\": document.URL,\\n                        \"name\": \"Homepage\",\\n                        \"siteSection\": firstSegment\\n                    },\\n                    \"webReferrer\": {\\n                        \"URL\": document.referrer\\n                    }\\n                }\\n            });\\n        }\\n\\n        function getCookieByName(name) {\\n            const cookieArr = document.cookie.split(\\';\\');\\n            for (let i = 0; i < cookieArr.length; i++) {\\n                const cookie = cookieArr[i].trim();\\n                if (cookie.startsWith(name + \"=\")) {\\n                    return cookie.substring(name.length + 1);\\n                }\\n            }\\n            return null;\\n        }\\n\\n        function getContextCookie(name) {\\n  \\t\\t    const cookieArr = document.cookie.split(\\';\\');\\n            for (let i = 0; i < cookieArr.length; i++) {\\n              const cookie = cookieArr[i].trim();\\n              if (cookie.startsWith(name + \"=\")) {\\n                  const value = cookie.substring(name.length + 1);\\n                  if (value.includes(\"0:\")) return \"false\";\\n                  return (value.includes(\"2:\") || value.includes(\"1:\")) ? \"true\" : \"false\";\\n              }\\n            }\\n            return \"false\";\\n        }\\n\\n        function cleanUrl(url) {\\n            let modifiedUrl = url;\\n            if (modifiedUrl.startsWith(\"www\")) {\\n                modifiedUrl = modifiedUrl.replace(/^www\\\\.?/, \"\");\\n            }\\n            return modifiedUrl;\\n        }\\n\\n        function getVisitDepth() {\\n            let pageVisitCount = sessionStorage.getItem(\\'pageVisitCount\\');\\n            pageVisitCount = pageVisitCount ? parseInt(pageVisitCount, 10) : 0;\\n            pageVisitCount++;\\n            sessionStorage.setItem(\\'pageVisitCount\\', pageVisitCount);\\n            return pageVisitCount;\\n        }\\n\\n        function getAmPm() {\\n            const date = new Date();\\n            const hours = date.getHours();\\n            return hours >= 12 ? \"PM\" : \"AM\";\\n        }\\n\\n        function getCurrentDay() {\\n            const date = new Date();\\n            return new Intl.DateTimeFormat(\\'en-US\\', { weekday: \\'long\\' }).format(date);\\n        }\\n\\n        function getDayOfMonth() {\\n            const date = new Date();\\n            return date.getDate();\\n        }\\n\\n        function getDayOfWeekAsInteger() {\\n            const date = new Date();\\n            return date.getDay();\\n        }\\n\\n        function getDayOfYear() {\\n            const date = new Date();\\n            const startOfYear = new Date(date.getFullYear(), 0, 1);\\n            const diffInMillis = date - startOfYear;\\n            const dayOfYear = Math.floor(diffInMillis / (1000 * 60 * 60 * 24)) + 1;\\n            return dayOfYear;\\n        }\\n\\n        function getCurrentHour() {\\n            var currentHour = new Date().getHours();\\n            var formattedHour = (currentHour === 0 ? 24 : currentHour);\\n            return formattedHour + \":00\";\\n        }\\n\\n        function getCurrentHourInADay() {\\n            const date = new Date();\\n            let hours = date.getHours();\\n            const period = hours >= 12 ? \"PM\" : \"AM\";\\n            hours = hours % 12 || 12;\\n            return hours +\":00\" +\" \" + period;\\n        }\\n\\n        function getCurrentMinute() {\\n            const date = new Date();\\n            return date.getMinutes();\\n        }\\n\\n        function getCurrentMonth() {\\n            const date = new Date();\\n            return date.getMonth() + 1;\\n        }\\n\\n        function printCurrentMonthName() {\\n            const months = [\"January\", \"February\", \"March\", \"April\", \"May\", \"June\",\\n                    \"July\", \"August\", \"September\", \"October\", \"November\", \"December\"];\\n            const date = new Date();\\n            const monthName = months[date.getMonth()];\\n            return monthName;\\n        }\\n\\n        function getQuarter(date = new Date()) {\\n            var year = date.getFullYear();\\n            var quarters = [\\n                            { start: \"Jan\", end: \"Mar\" },\\n                            { start: \"Apr\", end: \"Jun\" },\\n                            { start: \"Jul\", end: \"Sep\" },\\n                            { start: \"Oct\", end: \"Dec\" }\\n                           ];\\n\\n            var quarterIndex = Math.floor(date.getMonth() / 3);\\n            var start = quarters[quarterIndex].start;\\n            var end = quarters[quarterIndex].end;\\n            return start + \" \" + year + \" - \" + end + \" \" + year;\\n        }\\n\\n        function getCurrentQuarter() {\\n            const date = new Date();\\n            const month = date.getMonth();\\n            const quarter = Math.floor(month / 3) + 1;\\n            return quarter;\\n        }\\n\\n        function getCurrentWeek() {\\n            const date = new Date();\\n            const startOfYear = new Date(date.getFullYear(), 0, 1);\\n            const diff = date - startOfYear;\\n            const oneWeekInMillis = 1000 * 60 * 60 * 24 * 7;\\n            const weekNumber = Math.ceil(diff / oneWeekInMillis);\\n            return weekNumber;\\n        }\\n\\n        function getDayType() {\\n            const date = new Date();\\n            const dayOfWeek = date.getDay();\\n             if (dayOfWeek === 0 || dayOfWeek === 6) {\\n                return \"Weekend\";\\n             } else {\\n                        return \"Weekday\";\\n                    }\\n        }\\n\\n        function getCurrentYear() {\\n            const date = new Date();\\n            return date.getFullYear();\\n        }\\n\\n        function generateUtCodesObject() {\\n            const utCodesMeta = document.querySelector(\\'meta[name=\"ut-codes\"]\\');\\n            const utCodesIdMeta = document.querySelector(\\'meta[name=\"ut-codes-id\"]\\');\\n            if (utCodesMeta && utCodesIdMeta) {\\n                const utCodesContent = utCodesMeta.getAttribute(\\'content\\');\\n                const utCodesIdContent = utCodesIdMeta.getAttribute(\\'content\\');\\n                const utCodesArray = utCodesContent.split(\" > \");\\n                const utCodesIdArray = utCodesIdContent.split(\" > \");\\n                let utCodes = {};\\n                utCodesArray.forEach((code, index) => {\\n                    const firstTwoLetters = code.substring(0, 2);\\n                    let prefix = \\'\\';\\n                    switch (firstTwoLetters) {\\n                        case \\'10\\':\\n                        prefix = \\'BusinessUnit\\';\\n                        break;\\n                        case \\'15\\':\\n                        prefix = \\'LineOfBusiness\\';\\n                        break;\\n                        case \\'17\\':\\n                        prefix = \\'Market\\';\\n                        break;\\n                        case \\'20\\':\\n                        prefix = \\'OfferingPortfolio\\';\\n                        break;\\n                        case \\'30\\':\\n                        prefix = \\'Offering\\';\\n                        break;\\n                        default:\\n                        prefix = \\'Unknown\\';\\n                    }\\n\\n                    const codeKey = \\'ut\\' + firstTwoLetters + prefix;\\n                    const codeName = code + \\':\\' + (utCodesIdArray[index] || \"\");\\n                    utCodes[codeKey] = codeName;\\n                });\\n\\n                return utCodes;\\n            }\\n\\n            return {};\\n        }\\n\\n        function isFirstPageVisited() {\\n            const domainKey = \\'firstPageVisited_\\' + window.location.hostname;\\n            if (!localStorage.getItem(domainKey)) {\\n                localStorage.setItem(domainKey, \\'true\\');\\n                return true;\\n            }\\n            return false;\\n        }\\n\\n        window.addEventListener(\\'unload\\', () => {\\n            localStorage.clear();\\n        });\\n\\n        function getQueryParamWithKey(paramName) {\\n            const urlObj = new URL(window.location.href);\\n            const value = urlObj.searchParams.get(paramName);\\n            if (urlObj.searchParams.has(paramName)) {\\n                return paramName + \\'=\\' + value;\\n            }\\n            return \\'\\';\\n        }\\n\\n        function getQueryParam(name) {\\n            const queryString = window.location.search.substring(1);\\n            if (name === \\'?\\') {\\n                return queryString;\\n            }\\n\\n            const urlParams = new URLSearchParams(queryString);\\n            return urlParams.get(name);\\n        }\\n\\n        const utCodes = generateUtCodesObject();\\n        adobeDataLayer.push({\\n            \"event\": \"pageLoad\",\\n            \"_ibm\": {\\n                \"page\": {\\n                    utCodes: utCodes,\\n                    \"pageQueryString\":{\\n                            \"pageQueryString\": getQueryParam(\\'?\\') || \"\" ,\\n                            \"utm_content\": getQueryParam(\\'utm_content\\') || \"\",\\n                            \"utm_term\": getQueryParam(\\'utm_term\\') || \"\",\\n                            \"utm_medium\": getQueryParam(\\'utm_medium\\') || \"\",\\n                            \"utm_source\": getQueryParam(\\'utm_source\\') || \"\",\\n                            \"utm_campaign\": getQueryParam(\\'utm_campaign\\') || \"\",\\n                            \"utm_id\": getQueryParam(\\'utm_id\\') || \"\",\\n                            \"p1\": getQueryParam(\\'p1\\') || \"\",\\n                            \"p2\": getQueryParam(\\'p2\\') || \"\",\\n                            \"p3\": getQueryParam(\\'p3\\') || \"\",\\n                            \"p4\": getQueryParam(\\'p4\\') || \"\",\\n                            \"p5\": getQueryParam(\\'p5\\') || \"\",\\n                            \"p6\": getQueryParam(\\'p6\\') || \"\",\\n                            \"p7\": getQueryParam(\\'p7\\') || \"\",\\n                            \"p8\": getQueryParam(\\'p8\\') || \"\",\\n                            \"p9\": getQueryParam(\\'p9\\') || \"\",\\n                    },\\n                    \"firstPageFlag\": isFirstPageVisited(),\\n                    \"internalCampaign\": getQueryParamWithKey(\"intcmp\"),\\n                    \"siteSection2\": secondSegment,\\n                    \"siteSection3\": thirdSegment,\\n                    \"pageType\": templateName,\\n                    \"domain\": cleanUrl(window.location.host),\\n                    \"siteLanguage\": \"en\",\\n                    \"pageName\": \"Homepage\",\\n                    \"siteCountry\": \"us\"\\n                },\\n\\n                \"siteActivity\": {\\n                    \"visitDepth\": getVisitDepth()\\n        \\t    },\\n                \"timeParting\": {\\n                    \"t_AmPM\": getAmPm(),\\n                    \"t_Day\": getCurrentDay(),\\n                    \"t_DayOfMonth\": getDayOfMonth(),\\n                    \"t_DayOfWeek\": getDayOfWeekAsInteger(),\\n                    \"t_DayOfYear\": getDayOfYear(),\\n                    \"t_Hour\": getCurrentHour(),\\n \\t\\t            \"t_HourOfDay\": getCurrentHourInADay(),\\n                    \"t_Minute\": getCurrentMinute(),\\n                    \"t_Month\": getCurrentMonth(),\\n                    \"t_MonthOfYear\": printCurrentMonthName(),\\n                    \"t_Quarter\": getQuarter(date = new Date()),\\n                    \"t_QuarterOfYear\": getCurrentQuarter(),\\n                    \"t_Week\": getCurrentWeek(),\\n                    \"t_Weekday_Weekend\": getDayType(),\\n                    \"t_Year\": getCurrentYear()\\n        \\t    }\\n\\n            },\\n            \"web\": {\\n                \"webPageDetails\": {\\n                    \"pageViews\": { \"value\": 1 },\\n                    \"URL\": document.URL,\\n                    \"name\": cleanUrl(window.location.host) + \" | \" + templateName + \" | Homepage\",\\n                    \"siteSection\": firstSegment\\n                },\\n                \"webReferrer\": {\\n                    \"URL\": document.referrer\\n                }\\n            }\\n        });\\n        setTimeout(() => {\\n            const lastEvent = adobeDataLayer.find(event => event.event === \"pageLoad\");\\n            if (lastEvent) {\\n                lastEvent._ibm.demandBase = {\\n                    audience: digitalData.user.company.tp.audience || \"\",\\n                    audienceSegment: digitalData.user.company.tp.audienceSegment || \"\",\\n                    companyName: digitalData.user.company.tp.name || \"\",\\n                    id: digitalData.user.company.tp.demandbaseCompanyId || \"\",\\n                    industry: digitalData.user.company.tp.industry || \"\",\\n                    ispCheck: digitalData.user.company.tp.isInternetServiceProvider || \"\",\\n                    marketingAlias: digitalData.user.company.tp.marketingAlias || \"\",\\n                    primarySicCode: digitalData.user.company.tp.primarySic || \"\",\\n                    revenueBand: digitalData.user.company.tp.revenueRange || \"\",\\n                    serviceProvider: digitalData.user.company.tp.registryCompanyName || \"\"\\n                };\\n\\n                lastEvent._ibm.user = {\\n                    uucid: digitalData.page.pageInfo.universalContentId || \"\",\\n                    urnIndividual: digitalData.user.identity.personId || \"\",\\n                    urnComp: digitalData.user.identity.companyId || \"\",\\n                    tdid: digitalData.user.identity.tdid || \"\",\\n                    hashedEmailId: digitalData.user.identity.emailHashed || \"\",\\n                    cookieConsentBehavior: digitalData.user.privacy.noticeBehavior || \"\",\\n                    cookiesEnabled: getContextCookie(\"userContext\"),\\n                    privacySettings: digitalData.user.privacy.noticeChoice || \"\",\\n                    userAgent: navigator.userAgent,\\n                    loginStatus: digitalData.user.segment.isAuthenticated ? \"logged in\" : \"logged out\"\\n                };\\n            }\\n        }, 3000);\\n\\n        document.addEventListener(\\'click\\', function(event) {\\n            if (event.target.closest(\\'.WACLauncher__ButtonContainer\\')) {\\n                handleClick(event);\\n            }\\n        });\\n\\n        function handleClick(event) {\\n            adobeDataLayer.push({\\n                \"event\": \"contactLoad\",\\n                \"_ibm\": {\\n                    \"contact\": {\\n                        \"contactBotClick\": { \"value\": 1 },\\n                        \"contactExperienceType\": \"Support or Sales\",\\n                        \"contactLanguage\": \"en\",\\n                        \"contactCountry\": \"us\"\\n                    },\\n                    \"click\": {\\n                        \"linkTileNumber\": 1\\n                    }\\n                },\\n                \"web\": {\\n                    \"webPageDetails\": {\\n                        \"URL\": document.URL,\\n                        \"name\": \"Homepage\"\\n                    },\\n                    \"webInteraction\": {\\n                        \"name\": \"contactLoad\",\\n                        \"URL\": document.URL,\\n                        \"type\": \"other\"\\n                    }\\n                }\\n            });\\n        }\\n\\n        const legalNavItems = document.getElementsByTagName(\\'c4d-legal-nav-item\\');\\n        for (let item of legalNavItems) {\\n            const hrefValue = item.getAttribute(\\'href\\');\\n            if (hrefValue && hrefValue.includes(\\'/contact\\')) {\\n                item.addEventListener(\\'click\\', function(event) {\\n                     handleClick(event);\\n                });\\n            }\\n        }\\n\\n        const mastheadItems = document.getElementsByTagName(\\'c4d-masthead-contact\\');\\n        for (let item of mastheadItems) {\\n            if (item.getAttribute(\\'data-ibm-contact\\') === \\'contact-link\\') {\\n                item.addEventListener(\\'click\\', function(event) {\\n                    handleClick(event);\\n\\n                });\\n            }\\n        }\\n    });\\n</script>\\n\\n<script type=\"text/javascript\"  src=\"/M5JlsC/zv/_E/lrpR/g64IQa4hJR/YLYYLGt4f0ktc9/d2tkKgcmAQ/Xx/EafAoeDCc\"></script><link rel=\"stylesheet\" type=\"text/css\"  href=\"/M5JlsC/zv/_E/lrpR/g64IQa4hJR/trYY/N3tRKgcmAQ/Jx/gYNR90LDZZ\"><script  src=\"/M5JlsC/zv/_E/lrpR/g64IQa4hJR/trYY/N3tRKgcmAQ/Gg/9GLRYeCmMp\" async defer></script><div id=\"sec-overlay\" style=\"display:none;\"><div id=\"sec-container\"></div></div></body>\\n</html>'"
      ]
     },
     "execution_count": 74,
     "metadata": {},
     "output_type": "execute_result"
    }
   ],
   "source": [
    "data = requests.get(url).text           # returns in str\n",
    "# data = requests.get(url).content      # returns in bytes (maybe binary 0,1)\n",
    "\n",
    "# type(data)\n",
    "data"
   ]
  },
  {
   "cell_type": "markdown",
   "id": "73ed9491-5f09-4902-943a-43f9d2b1f05e",
   "metadata": {},
   "source": [
    "We create a <code>BeautifulSoup</code> object using the <code>BeautifulSoup</code> constructor\n"
   ]
  },
  {
   "cell_type": "code",
   "execution_count": 75,
   "id": "3e2ce968-6021-48eb-adde-db112b38d64a",
   "metadata": {},
   "outputs": [],
   "source": [
    "soup = BeautifulSoup(data, \"html5lib\")  # create a soup object using the variable 'data'"
   ]
  },
  {
   "cell_type": "markdown",
   "id": "f6fde09f-50dc-48b2-9c0b-390e795ebc2b",
   "metadata": {},
   "source": [
    "Scrape all links\n"
   ]
  },
  {
   "cell_type": "code",
   "execution_count": 76,
   "id": "ab8303a0-c5e6-4589-9527-01259de029db",
   "metadata": {},
   "outputs": [
    {
     "name": "stdout",
     "output_type": "stream",
     "text": [
      "https://www.ibm.com/granite?lnk=hpad1us\n",
      "https://developer.ibm.com/technologies/artificial-intelligence?lnk=hpad2us\n",
      "https://www.ibm.com/products/watsonx-code-assistant?lnk=hpad3us\n",
      "https://www.ibm.com/watsonx/developer/?lnk=hpad4us\n",
      "https://www.ibm.com/thought-leadership/institute-business-value/report/ceo-generative-ai?lnk=hpab1us\n",
      "https://www.ibm.com/think/reports/ai-in-action?lnk=hpab2us\n",
      "https://www.ibm.com/impact/ai-ethics?lnk=hpab3us\n",
      "https://www.ibm.com/account/reg/signup?formid=news-urx-52954&lnk=hpab4us\n",
      "https://www.ibm.com/artificial-intelligence?lnk=hpfp1us\n",
      "https://www.ibm.com/hybrid-cloud?lnk=hpfp2us\n",
      "https://www.ibm.com/consulting?lnk=hpfp3us\n",
      "https://www.ft.com/partnercontent/ibm/how-smaller-industry-tailored-ai-models-can-offer-greater-benefits.html\n"
     ]
    }
   ],
   "source": [
    "for link in soup.find_all('a', href=True):  # in html anchor/link is represented by the tag <a>\n",
    "    print(link.get('href'))"
   ]
  },
  {
   "cell_type": "markdown",
   "id": "5689d706-6a61-4638-95e2-16ec91a83c13",
   "metadata": {},
   "source": [
    "### Scrape all images Tags\n"
   ]
  },
  {
   "cell_type": "code",
   "execution_count": 79,
   "id": "91ada420-f7a1-47b4-a11a-4ea77cb3d967",
   "metadata": {},
   "outputs": [
    {
     "name": "stdout",
     "output_type": "stream",
     "text": [
      "done\n"
     ]
    }
   ],
   "source": [
    "for link in soup.find_all('img'):  # in html image is represented by the tag <img>\n",
    "    print(link)\n",
    "    print(link.get('src'))\n",
    "print(\"done\")\n"
   ]
  },
  {
   "cell_type": "markdown",
   "id": "805d8f70-1982-4c83-b38e-87cf8cd72e44",
   "metadata": {},
   "source": [
    "### Scrape data from HTML tables\n"
   ]
  },
  {
   "cell_type": "code",
   "execution_count": 87,
   "id": "69cb823f-a6d2-4282-b283-5d0840346397",
   "metadata": {},
   "outputs": [],
   "source": [
    "# The below url contains an html table with data about colors and color codes.\n",
    "url = \"https://cf-courses-data.s3.us.cloud-object-storage.appdomain.cloud/IBM-DA0321EN-SkillsNetwork/labs/datasets/HTMLColorCodes.html\""
   ]
  },
  {
   "cell_type": "markdown",
   "id": "a333df2c-61c0-49e3-b908-e2f68a926de2",
   "metadata": {},
   "source": [
    "Before proceeding to scrape a web site, you need to examine the contents and the way data is organized on the website. Open the above url in your browser and check how many rows and columns there are in the color table.\n"
   ]
  },
  {
   "cell_type": "code",
   "execution_count": 88,
   "id": "f7faed60-b200-452b-994a-f7b0c9ed5ccd",
   "metadata": {},
   "outputs": [],
   "source": [
    "# get the contents of the webpage in text format and store in a variable called data\n",
    "data = requests.get(url).text"
   ]
  },
  {
   "cell_type": "code",
   "execution_count": 89,
   "id": "1f6e2def-94c7-442a-afe4-4561b34ac062",
   "metadata": {},
   "outputs": [],
   "source": [
    "soup = BeautifulSoup(data, \"html5lib\")"
   ]
  },
  {
   "cell_type": "code",
   "execution_count": 90,
   "id": "1bba8b70-9e07-4ec2-a860-9e0dc04ed77e",
   "metadata": {},
   "outputs": [
    {
     "data": {
      "text/plain": [
       "<table border=\"1\" class=\"main-table\">\n",
       "   <tbody><tr>\n",
       "      <td>Number </td>\n",
       "      <td>Color</td>\n",
       "      <td>Color Name</td>\n",
       "      <td>Hex Code<br/>#RRGGBB</td>\n",
       "      <td>Decimal Code<br/>(R,G,B)</td>\n",
       "   </tr>\n",
       "   <tr>\n",
       "      <td>1</td>\n",
       "      <td style=\"background:lightsalmon;\"> </td>\n",
       "      <td>lightsalmon</td>\n",
       "      <td>#FFA07A</td>\n",
       "      <td>rgb(255,160,122)</td>\n",
       "   </tr>\n",
       "   <tr>\n",
       "      <td>2</td>\n",
       "      <td style=\"background:salmon;\"> </td>\n",
       "      <td>salmon</td>\n",
       "      <td>#FA8072</td>\n",
       "      <td>rgb(250,128,114)</td>\n",
       "   </tr>\n",
       "   <tr>\n",
       "      <td>3</td>\n",
       "      <td style=\"background:darksalmon;\"> </td>\n",
       "      <td>darksalmon</td>\n",
       "      <td>#E9967A</td>\n",
       "      <td>rgb(233,150,122)</td>\n",
       "   </tr>\n",
       "   <tr>\n",
       "      <td>4</td>\n",
       "      <td style=\"background:lightcoral;\"> </td>\n",
       "      <td>lightcoral</td>\n",
       "      <td>#F08080</td>\n",
       "      <td>rgb(240,128,128)</td>\n",
       "   </tr>\n",
       "   <tr>\n",
       "      <td>5</td>\n",
       "      <td style=\"background:coral;\"> </td>\n",
       "      <td>coral</td>\n",
       "      <td>#FF7F50</td>\n",
       "      <td>rgb(255,127,80)</td>\n",
       "   </tr>\n",
       "   <tr>\n",
       "      <td>6</td>\n",
       "      <td style=\"background:tomato;\"> </td>\n",
       "      <td>tomato</td>\n",
       "      <td>#FF6347</td>\n",
       "      <td>rgb(255,99,71)</td>\n",
       "   </tr>\n",
       "   <tr>\n",
       "      <td>7</td>\n",
       "      <td style=\"background:orangered;\"> </td>\n",
       "      <td>orangered</td>\n",
       "      <td>#FF4500</td>\n",
       "      <td>rgb(255,69,0)</td>\n",
       "   </tr>\n",
       "   <tr>\n",
       "      <td>8</td>\n",
       "      <td style=\"background:gold;\"> </td>\n",
       "      <td>gold</td>\n",
       "      <td>#FFD700</td>\n",
       "      <td>rgb(255,215,0)</td>\n",
       "   </tr>\n",
       "   <tr>\n",
       "      <td>9</td>\n",
       "      <td style=\"background:orange;\"> </td>\n",
       "      <td>orange</td>\n",
       "      <td>#FFA500</td>\n",
       "      <td>rgb(255,165,0)</td>\n",
       "   </tr>\n",
       "   <tr>\n",
       "      <td>10</td>\n",
       "      <td style=\"background:darkorange;\"> </td>\n",
       "      <td>darkorange</td>\n",
       "      <td>#FF8C00</td>\n",
       "      <td>rgb(255,140,0)</td>\n",
       "   </tr>\n",
       "   <tr>\n",
       "      <td>11</td>\n",
       "      <td style=\"background:lightyellow;\"> </td>\n",
       "      <td>lightyellow</td>\n",
       "      <td>#FFFFE0</td>\n",
       "      <td>rgb(255,255,224)</td>\n",
       "   </tr>\n",
       "   <tr>\n",
       "      <td>12</td>\n",
       "      <td style=\"background:lemonchiffon;\"> </td>\n",
       "      <td>lemonchiffon</td>\n",
       "      <td>#FFFACD</td>\n",
       "      <td>rgb(255,250,205)</td>\n",
       "   </tr>\n",
       "   <tr>\n",
       "      <td>13</td>\n",
       "      <td style=\"background:papayawhip;\"> </td>\n",
       "      <td>papayawhip</td>\n",
       "      <td>#FFEFD5</td>\n",
       "      <td>rgb(255,239,213)</td>\n",
       "   </tr>\n",
       "   <tr>\n",
       "      <td>14</td>\n",
       "      <td style=\"background:moccasin;\"> </td>\n",
       "      <td>moccasin</td>\n",
       "      <td>#FFE4B5</td>\n",
       "      <td>rgb(255,228,181)</td>\n",
       "   </tr>\n",
       "   <tr>\n",
       "      <td>15</td>\n",
       "      <td style=\"background:peachpuff;\"> </td>\n",
       "      <td>peachpuff</td>\n",
       "      <td>#FFDAB9</td>\n",
       "      <td>rgb(255,218,185)</td>\n",
       "   </tr>\n",
       "   <tr>\n",
       "      <td>16</td>\n",
       "      <td style=\"background:palegoldenrod;\"> </td>\n",
       "      <td>palegoldenrod</td>\n",
       "      <td>#EEE8AA</td>\n",
       "      <td>rgb(238,232,170)</td>\n",
       "   </tr>\n",
       "   <tr>\n",
       "      <td>17</td>\n",
       "      <td style=\"background:khaki;\"> </td>\n",
       "      <td>khaki</td>\n",
       "      <td>#F0E68C</td>\n",
       "      <td>rgb(240,230,140)</td>\n",
       "   </tr>\n",
       "   <tr>\n",
       "      <td>18</td>\n",
       "      <td style=\"background:darkkhaki;\"> </td>\n",
       "      <td>darkkhaki</td>\n",
       "      <td>#BDB76B</td>\n",
       "      <td>rgb(189,183,107)</td>\n",
       "   </tr>\n",
       "   <tr>\n",
       "      <td>19</td>\n",
       "      <td style=\"background:yellow;\"> </td>\n",
       "      <td>yellow</td>\n",
       "      <td>#FFFF00</td>\n",
       "      <td>rgb(255,255,0)</td>\n",
       "   </tr>\n",
       "   <tr>\n",
       "      <td>20</td>\n",
       "      <td style=\"background:lawngreen;\"> </td>\n",
       "      <td>lawngreen</td>\n",
       "      <td>#7CFC00</td>\n",
       "      <td>rgb(124,252,0)</td>\n",
       "   </tr>\n",
       "   <tr>\n",
       "      <td>21</td>\n",
       "      <td style=\"background:chartreuse;\"> </td>\n",
       "      <td>chartreuse</td>\n",
       "      <td>#7FFF00</td>\n",
       "      <td>rgb(127,255,0)</td>\n",
       "   </tr>\n",
       "   <tr>\n",
       "      <td>22</td>\n",
       "      <td style=\"background:limegreen;\"> </td>\n",
       "      <td>limegreen</td>\n",
       "      <td>#32CD32</td>\n",
       "      <td>rgb(50,205,50)</td>\n",
       "   </tr>\n",
       "   <tr>\n",
       "      <td>23</td>\n",
       "      <td style=\"background:lime;\"> </td>\n",
       "      <td>lime</td>\n",
       "      <td>#00FF00</td>\n",
       "      <td>rgb(0.255.0)</td>\n",
       "   </tr>\n",
       "   <tr>\n",
       "      <td>24</td>\n",
       "      <td style=\"background:forestgreen;\"> </td>\n",
       "      <td>forestgreen</td>\n",
       "      <td>#228B22</td>\n",
       "      <td>rgb(34,139,34)</td>\n",
       "   </tr>\n",
       "   <tr>\n",
       "      <td>25</td>\n",
       "      <td style=\"background:green;\"> </td>\n",
       "      <td>green</td>\n",
       "      <td>#008000</td>\n",
       "      <td>rgb(0,128,0)</td>\n",
       "   </tr>\n",
       "   <tr>\n",
       "      <td>26</td>\n",
       "      <td style=\"background:powderblue;\"> </td>\n",
       "      <td>powderblue</td>\n",
       "      <td>#B0E0E6</td>\n",
       "      <td>rgb(176,224,230)</td>\n",
       "   </tr>\n",
       "   <tr>\n",
       "      <td>27</td>\n",
       "      <td style=\"background:lightblue;\"> </td>\n",
       "      <td>lightblue</td>\n",
       "      <td>#ADD8E6</td>\n",
       "      <td>rgb(173,216,230)</td>\n",
       "   </tr>\n",
       "   <tr>\n",
       "      <td>28</td>\n",
       "      <td style=\"background:lightskyblue;\"> </td>\n",
       "      <td>lightskyblue</td>\n",
       "      <td>#87CEFA</td>\n",
       "      <td>rgb(135,206,250)</td>\n",
       "   </tr>\n",
       "   <tr>\n",
       "      <td>29</td>\n",
       "      <td style=\"background:skyblue;\"> </td>\n",
       "      <td>skyblue</td>\n",
       "      <td>#87CEEB</td>\n",
       "      <td>rgb(135,206,235)</td>\n",
       "   </tr>\n",
       "   <tr>\n",
       "      <td>30</td>\n",
       "      <td style=\"background:deepskyblue;\"> </td>\n",
       "      <td>deepskyblue</td>\n",
       "      <td>#00BFFF</td>\n",
       "      <td>rgb(0,191,255)</td>\n",
       "   </tr>\n",
       "   <tr>\n",
       "      <td>31</td>\n",
       "      <td style=\"background:lightsteelblue;\"> </td>\n",
       "      <td>lightsteelblue</td>\n",
       "      <td>#B0C4DE</td>\n",
       "      <td>rgb(176,196,222)</td>\n",
       "   </tr>\n",
       "   <tr>\n",
       "      <td>32</td>\n",
       "      <td style=\"background:dodgerblue;\"> </td>\n",
       "      <td>dodgerblue</td>\n",
       "      <td>#1E90FF</td>\n",
       "      <td>rgb(30,144,255)</td>\n",
       "   </tr>\n",
       "</tbody></table>"
      ]
     },
     "execution_count": 90,
     "metadata": {},
     "output_type": "execute_result"
    }
   ],
   "source": [
    "# find a html table in the web page\n",
    "table = soup.find('table')  # in html table is represented by the tag <table>\n",
    "table"
   ]
  },
  {
   "cell_type": "code",
   "execution_count": 91,
   "id": "d95da277-5f8b-4d54-9131-14d52f283167",
   "metadata": {},
   "outputs": [
    {
     "name": "stdout",
     "output_type": "stream",
     "text": [
      "Color Name--->Hex Code#RRGGBB\n",
      "lightsalmon--->#FFA07A\n",
      "salmon--->#FA8072\n",
      "darksalmon--->#E9967A\n",
      "lightcoral--->#F08080\n",
      "coral--->#FF7F50\n",
      "tomato--->#FF6347\n",
      "orangered--->#FF4500\n",
      "gold--->#FFD700\n",
      "orange--->#FFA500\n",
      "darkorange--->#FF8C00\n",
      "lightyellow--->#FFFFE0\n",
      "lemonchiffon--->#FFFACD\n",
      "papayawhip--->#FFEFD5\n",
      "moccasin--->#FFE4B5\n",
      "peachpuff--->#FFDAB9\n",
      "palegoldenrod--->#EEE8AA\n",
      "khaki--->#F0E68C\n",
      "darkkhaki--->#BDB76B\n",
      "yellow--->#FFFF00\n",
      "lawngreen--->#7CFC00\n",
      "chartreuse--->#7FFF00\n",
      "limegreen--->#32CD32\n",
      "lime--->#00FF00\n",
      "forestgreen--->#228B22\n",
      "green--->#008000\n",
      "powderblue--->#B0E0E6\n",
      "lightblue--->#ADD8E6\n",
      "lightskyblue--->#87CEFA\n",
      "skyblue--->#87CEEB\n",
      "deepskyblue--->#00BFFF\n",
      "lightsteelblue--->#B0C4DE\n",
      "dodgerblue--->#1E90FF\n"
     ]
    }
   ],
   "source": [
    "# Get all rows from the table\n",
    "for row in table.find_all('tr'):  # in html table row represented by tag <tr>\n",
    "    # Get all columns in each row.\n",
    "    cols = row.find_all('td')  # in html a column is represented by tag <td>\n",
    "    color_name = cols[2].string  # store the value in column 3 as color_name\n",
    "    color_code = cols[3].text  # store the value in column 4 as color_code\n",
    "    print(\"{}--->{}\".format(color_name, color_code))"
   ]
  },
  {
   "cell_type": "markdown",
   "id": "a130b502-3880-49c0-aff5-f226fa692f5a",
   "metadata": {},
   "source": [
    "## Scraping tables from a Web page using Pandas\n"
   ]
  },
  {
   "cell_type": "markdown",
   "id": "0265e0d7-4296-45ba-83be-8a9bf540ac30",
   "metadata": {},
   "source": [
    "Particularly for extracting tabular data from a web page, you may also use the `read_html()` method of the Pandas library. \n"
   ]
  },
  {
   "cell_type": "code",
   "execution_count": 92,
   "id": "a59fe0e2-afb1-4a56-b616-03ad20976295",
   "metadata": {},
   "outputs": [],
   "source": [
    "# The below url contains an html table with data about colors and color codes.\n",
    "url = \"https://cf-courses-data.s3.us.cloud-object-storage.appdomain.cloud/IBM-DA0321EN-SkillsNetwork/labs/datasets/HTMLColorCodes.html\""
   ]
  },
  {
   "cell_type": "markdown",
   "id": "0bbb95b4-d992-4a6e-b752-ce78d5e7208e",
   "metadata": {},
   "source": [
    "You may extract all the tables from the given webpage simply by using the following commands.\n"
   ]
  },
  {
   "cell_type": "code",
   "execution_count": 93,
   "id": "d0963c14-2bf5-4260-9963-02e1686b50e6",
   "metadata": {},
   "outputs": [
    {
     "data": {
      "text/plain": [
       "[         0      1               2                 3                     4\n",
       " 0   Number  Color      Color Name  Hex Code #RRGGBB  Decimal Code (R,G,B)\n",
       " 1        1    NaN     lightsalmon           #FFA07A      rgb(255,160,122)\n",
       " 2        2    NaN          salmon           #FA8072      rgb(250,128,114)\n",
       " 3        3    NaN      darksalmon           #E9967A      rgb(233,150,122)\n",
       " 4        4    NaN      lightcoral           #F08080      rgb(240,128,128)\n",
       " 5        5    NaN           coral           #FF7F50       rgb(255,127,80)\n",
       " 6        6    NaN          tomato           #FF6347        rgb(255,99,71)\n",
       " 7        7    NaN       orangered           #FF4500         rgb(255,69,0)\n",
       " 8        8    NaN            gold           #FFD700        rgb(255,215,0)\n",
       " 9        9    NaN          orange           #FFA500        rgb(255,165,0)\n",
       " 10      10    NaN      darkorange           #FF8C00        rgb(255,140,0)\n",
       " 11      11    NaN     lightyellow           #FFFFE0      rgb(255,255,224)\n",
       " 12      12    NaN    lemonchiffon           #FFFACD      rgb(255,250,205)\n",
       " 13      13    NaN      papayawhip           #FFEFD5      rgb(255,239,213)\n",
       " 14      14    NaN        moccasin           #FFE4B5      rgb(255,228,181)\n",
       " 15      15    NaN       peachpuff           #FFDAB9      rgb(255,218,185)\n",
       " 16      16    NaN   palegoldenrod           #EEE8AA      rgb(238,232,170)\n",
       " 17      17    NaN           khaki           #F0E68C      rgb(240,230,140)\n",
       " 18      18    NaN       darkkhaki           #BDB76B      rgb(189,183,107)\n",
       " 19      19    NaN          yellow           #FFFF00        rgb(255,255,0)\n",
       " 20      20    NaN       lawngreen           #7CFC00        rgb(124,252,0)\n",
       " 21      21    NaN      chartreuse           #7FFF00        rgb(127,255,0)\n",
       " 22      22    NaN       limegreen           #32CD32        rgb(50,205,50)\n",
       " 23      23    NaN            lime           #00FF00          rgb(0.255.0)\n",
       " 24      24    NaN     forestgreen           #228B22        rgb(34,139,34)\n",
       " 25      25    NaN           green           #008000          rgb(0,128,0)\n",
       " 26      26    NaN      powderblue           #B0E0E6      rgb(176,224,230)\n",
       " 27      27    NaN       lightblue           #ADD8E6      rgb(173,216,230)\n",
       " 28      28    NaN    lightskyblue           #87CEFA      rgb(135,206,250)\n",
       " 29      29    NaN         skyblue           #87CEEB      rgb(135,206,235)\n",
       " 30      30    NaN     deepskyblue           #00BFFF        rgb(0,191,255)\n",
       " 31      31    NaN  lightsteelblue           #B0C4DE      rgb(176,196,222)\n",
       " 32      32    NaN      dodgerblue           #1E90FF       rgb(30,144,255)]"
      ]
     },
     "execution_count": 93,
     "metadata": {},
     "output_type": "execute_result"
    }
   ],
   "source": [
    "import pandas as pd\n",
    "\n",
    "tables = pd.read_html(url)\n",
    "tables"
   ]
  },
  {
   "cell_type": "markdown",
   "id": "feaee2b7-b239-44ba-9931-85587f711b9f",
   "metadata": {},
   "source": [
    "`tables` is now a list of dataframes representing the tables from the web page, in the sequence of their appearance. In the current  URL, there is only a single table, so the same can be accessed as shown below.\n"
   ]
  },
  {
   "cell_type": "code",
   "execution_count": 94,
   "id": "c31900a5-6d2c-4317-b80e-bfc20a84dbd6",
   "metadata": {},
   "outputs": [
    {
     "data": {
      "text/html": [
       "<div>\n",
       "<style scoped>\n",
       "    .dataframe tbody tr th:only-of-type {\n",
       "        vertical-align: middle;\n",
       "    }\n",
       "\n",
       "    .dataframe tbody tr th {\n",
       "        vertical-align: top;\n",
       "    }\n",
       "\n",
       "    .dataframe thead th {\n",
       "        text-align: right;\n",
       "    }\n",
       "</style>\n",
       "<table border=\"1\" class=\"dataframe\">\n",
       "  <thead>\n",
       "    <tr style=\"text-align: right;\">\n",
       "      <th></th>\n",
       "      <th>0</th>\n",
       "      <th>1</th>\n",
       "      <th>2</th>\n",
       "      <th>3</th>\n",
       "      <th>4</th>\n",
       "    </tr>\n",
       "  </thead>\n",
       "  <tbody>\n",
       "    <tr>\n",
       "      <th>0</th>\n",
       "      <td>Number</td>\n",
       "      <td>Color</td>\n",
       "      <td>Color Name</td>\n",
       "      <td>Hex Code #RRGGBB</td>\n",
       "      <td>Decimal Code (R,G,B)</td>\n",
       "    </tr>\n",
       "    <tr>\n",
       "      <th>1</th>\n",
       "      <td>1</td>\n",
       "      <td>NaN</td>\n",
       "      <td>lightsalmon</td>\n",
       "      <td>#FFA07A</td>\n",
       "      <td>rgb(255,160,122)</td>\n",
       "    </tr>\n",
       "    <tr>\n",
       "      <th>2</th>\n",
       "      <td>2</td>\n",
       "      <td>NaN</td>\n",
       "      <td>salmon</td>\n",
       "      <td>#FA8072</td>\n",
       "      <td>rgb(250,128,114)</td>\n",
       "    </tr>\n",
       "    <tr>\n",
       "      <th>3</th>\n",
       "      <td>3</td>\n",
       "      <td>NaN</td>\n",
       "      <td>darksalmon</td>\n",
       "      <td>#E9967A</td>\n",
       "      <td>rgb(233,150,122)</td>\n",
       "    </tr>\n",
       "    <tr>\n",
       "      <th>4</th>\n",
       "      <td>4</td>\n",
       "      <td>NaN</td>\n",
       "      <td>lightcoral</td>\n",
       "      <td>#F08080</td>\n",
       "      <td>rgb(240,128,128)</td>\n",
       "    </tr>\n",
       "    <tr>\n",
       "      <th>5</th>\n",
       "      <td>5</td>\n",
       "      <td>NaN</td>\n",
       "      <td>coral</td>\n",
       "      <td>#FF7F50</td>\n",
       "      <td>rgb(255,127,80)</td>\n",
       "    </tr>\n",
       "    <tr>\n",
       "      <th>6</th>\n",
       "      <td>6</td>\n",
       "      <td>NaN</td>\n",
       "      <td>tomato</td>\n",
       "      <td>#FF6347</td>\n",
       "      <td>rgb(255,99,71)</td>\n",
       "    </tr>\n",
       "    <tr>\n",
       "      <th>7</th>\n",
       "      <td>7</td>\n",
       "      <td>NaN</td>\n",
       "      <td>orangered</td>\n",
       "      <td>#FF4500</td>\n",
       "      <td>rgb(255,69,0)</td>\n",
       "    </tr>\n",
       "    <tr>\n",
       "      <th>8</th>\n",
       "      <td>8</td>\n",
       "      <td>NaN</td>\n",
       "      <td>gold</td>\n",
       "      <td>#FFD700</td>\n",
       "      <td>rgb(255,215,0)</td>\n",
       "    </tr>\n",
       "    <tr>\n",
       "      <th>9</th>\n",
       "      <td>9</td>\n",
       "      <td>NaN</td>\n",
       "      <td>orange</td>\n",
       "      <td>#FFA500</td>\n",
       "      <td>rgb(255,165,0)</td>\n",
       "    </tr>\n",
       "    <tr>\n",
       "      <th>10</th>\n",
       "      <td>10</td>\n",
       "      <td>NaN</td>\n",
       "      <td>darkorange</td>\n",
       "      <td>#FF8C00</td>\n",
       "      <td>rgb(255,140,0)</td>\n",
       "    </tr>\n",
       "    <tr>\n",
       "      <th>11</th>\n",
       "      <td>11</td>\n",
       "      <td>NaN</td>\n",
       "      <td>lightyellow</td>\n",
       "      <td>#FFFFE0</td>\n",
       "      <td>rgb(255,255,224)</td>\n",
       "    </tr>\n",
       "    <tr>\n",
       "      <th>12</th>\n",
       "      <td>12</td>\n",
       "      <td>NaN</td>\n",
       "      <td>lemonchiffon</td>\n",
       "      <td>#FFFACD</td>\n",
       "      <td>rgb(255,250,205)</td>\n",
       "    </tr>\n",
       "    <tr>\n",
       "      <th>13</th>\n",
       "      <td>13</td>\n",
       "      <td>NaN</td>\n",
       "      <td>papayawhip</td>\n",
       "      <td>#FFEFD5</td>\n",
       "      <td>rgb(255,239,213)</td>\n",
       "    </tr>\n",
       "    <tr>\n",
       "      <th>14</th>\n",
       "      <td>14</td>\n",
       "      <td>NaN</td>\n",
       "      <td>moccasin</td>\n",
       "      <td>#FFE4B5</td>\n",
       "      <td>rgb(255,228,181)</td>\n",
       "    </tr>\n",
       "    <tr>\n",
       "      <th>15</th>\n",
       "      <td>15</td>\n",
       "      <td>NaN</td>\n",
       "      <td>peachpuff</td>\n",
       "      <td>#FFDAB9</td>\n",
       "      <td>rgb(255,218,185)</td>\n",
       "    </tr>\n",
       "    <tr>\n",
       "      <th>16</th>\n",
       "      <td>16</td>\n",
       "      <td>NaN</td>\n",
       "      <td>palegoldenrod</td>\n",
       "      <td>#EEE8AA</td>\n",
       "      <td>rgb(238,232,170)</td>\n",
       "    </tr>\n",
       "    <tr>\n",
       "      <th>17</th>\n",
       "      <td>17</td>\n",
       "      <td>NaN</td>\n",
       "      <td>khaki</td>\n",
       "      <td>#F0E68C</td>\n",
       "      <td>rgb(240,230,140)</td>\n",
       "    </tr>\n",
       "    <tr>\n",
       "      <th>18</th>\n",
       "      <td>18</td>\n",
       "      <td>NaN</td>\n",
       "      <td>darkkhaki</td>\n",
       "      <td>#BDB76B</td>\n",
       "      <td>rgb(189,183,107)</td>\n",
       "    </tr>\n",
       "    <tr>\n",
       "      <th>19</th>\n",
       "      <td>19</td>\n",
       "      <td>NaN</td>\n",
       "      <td>yellow</td>\n",
       "      <td>#FFFF00</td>\n",
       "      <td>rgb(255,255,0)</td>\n",
       "    </tr>\n",
       "    <tr>\n",
       "      <th>20</th>\n",
       "      <td>20</td>\n",
       "      <td>NaN</td>\n",
       "      <td>lawngreen</td>\n",
       "      <td>#7CFC00</td>\n",
       "      <td>rgb(124,252,0)</td>\n",
       "    </tr>\n",
       "    <tr>\n",
       "      <th>21</th>\n",
       "      <td>21</td>\n",
       "      <td>NaN</td>\n",
       "      <td>chartreuse</td>\n",
       "      <td>#7FFF00</td>\n",
       "      <td>rgb(127,255,0)</td>\n",
       "    </tr>\n",
       "    <tr>\n",
       "      <th>22</th>\n",
       "      <td>22</td>\n",
       "      <td>NaN</td>\n",
       "      <td>limegreen</td>\n",
       "      <td>#32CD32</td>\n",
       "      <td>rgb(50,205,50)</td>\n",
       "    </tr>\n",
       "    <tr>\n",
       "      <th>23</th>\n",
       "      <td>23</td>\n",
       "      <td>NaN</td>\n",
       "      <td>lime</td>\n",
       "      <td>#00FF00</td>\n",
       "      <td>rgb(0.255.0)</td>\n",
       "    </tr>\n",
       "    <tr>\n",
       "      <th>24</th>\n",
       "      <td>24</td>\n",
       "      <td>NaN</td>\n",
       "      <td>forestgreen</td>\n",
       "      <td>#228B22</td>\n",
       "      <td>rgb(34,139,34)</td>\n",
       "    </tr>\n",
       "    <tr>\n",
       "      <th>25</th>\n",
       "      <td>25</td>\n",
       "      <td>NaN</td>\n",
       "      <td>green</td>\n",
       "      <td>#008000</td>\n",
       "      <td>rgb(0,128,0)</td>\n",
       "    </tr>\n",
       "    <tr>\n",
       "      <th>26</th>\n",
       "      <td>26</td>\n",
       "      <td>NaN</td>\n",
       "      <td>powderblue</td>\n",
       "      <td>#B0E0E6</td>\n",
       "      <td>rgb(176,224,230)</td>\n",
       "    </tr>\n",
       "    <tr>\n",
       "      <th>27</th>\n",
       "      <td>27</td>\n",
       "      <td>NaN</td>\n",
       "      <td>lightblue</td>\n",
       "      <td>#ADD8E6</td>\n",
       "      <td>rgb(173,216,230)</td>\n",
       "    </tr>\n",
       "    <tr>\n",
       "      <th>28</th>\n",
       "      <td>28</td>\n",
       "      <td>NaN</td>\n",
       "      <td>lightskyblue</td>\n",
       "      <td>#87CEFA</td>\n",
       "      <td>rgb(135,206,250)</td>\n",
       "    </tr>\n",
       "    <tr>\n",
       "      <th>29</th>\n",
       "      <td>29</td>\n",
       "      <td>NaN</td>\n",
       "      <td>skyblue</td>\n",
       "      <td>#87CEEB</td>\n",
       "      <td>rgb(135,206,235)</td>\n",
       "    </tr>\n",
       "    <tr>\n",
       "      <th>30</th>\n",
       "      <td>30</td>\n",
       "      <td>NaN</td>\n",
       "      <td>deepskyblue</td>\n",
       "      <td>#00BFFF</td>\n",
       "      <td>rgb(0,191,255)</td>\n",
       "    </tr>\n",
       "    <tr>\n",
       "      <th>31</th>\n",
       "      <td>31</td>\n",
       "      <td>NaN</td>\n",
       "      <td>lightsteelblue</td>\n",
       "      <td>#B0C4DE</td>\n",
       "      <td>rgb(176,196,222)</td>\n",
       "    </tr>\n",
       "    <tr>\n",
       "      <th>32</th>\n",
       "      <td>32</td>\n",
       "      <td>NaN</td>\n",
       "      <td>dodgerblue</td>\n",
       "      <td>#1E90FF</td>\n",
       "      <td>rgb(30,144,255)</td>\n",
       "    </tr>\n",
       "  </tbody>\n",
       "</table>\n",
       "</div>"
      ],
      "text/plain": [
       "         0      1               2                 3                     4\n",
       "0   Number  Color      Color Name  Hex Code #RRGGBB  Decimal Code (R,G,B)\n",
       "1        1    NaN     lightsalmon           #FFA07A      rgb(255,160,122)\n",
       "2        2    NaN          salmon           #FA8072      rgb(250,128,114)\n",
       "3        3    NaN      darksalmon           #E9967A      rgb(233,150,122)\n",
       "4        4    NaN      lightcoral           #F08080      rgb(240,128,128)\n",
       "5        5    NaN           coral           #FF7F50       rgb(255,127,80)\n",
       "6        6    NaN          tomato           #FF6347        rgb(255,99,71)\n",
       "7        7    NaN       orangered           #FF4500         rgb(255,69,0)\n",
       "8        8    NaN            gold           #FFD700        rgb(255,215,0)\n",
       "9        9    NaN          orange           #FFA500        rgb(255,165,0)\n",
       "10      10    NaN      darkorange           #FF8C00        rgb(255,140,0)\n",
       "11      11    NaN     lightyellow           #FFFFE0      rgb(255,255,224)\n",
       "12      12    NaN    lemonchiffon           #FFFACD      rgb(255,250,205)\n",
       "13      13    NaN      papayawhip           #FFEFD5      rgb(255,239,213)\n",
       "14      14    NaN        moccasin           #FFE4B5      rgb(255,228,181)\n",
       "15      15    NaN       peachpuff           #FFDAB9      rgb(255,218,185)\n",
       "16      16    NaN   palegoldenrod           #EEE8AA      rgb(238,232,170)\n",
       "17      17    NaN           khaki           #F0E68C      rgb(240,230,140)\n",
       "18      18    NaN       darkkhaki           #BDB76B      rgb(189,183,107)\n",
       "19      19    NaN          yellow           #FFFF00        rgb(255,255,0)\n",
       "20      20    NaN       lawngreen           #7CFC00        rgb(124,252,0)\n",
       "21      21    NaN      chartreuse           #7FFF00        rgb(127,255,0)\n",
       "22      22    NaN       limegreen           #32CD32        rgb(50,205,50)\n",
       "23      23    NaN            lime           #00FF00          rgb(0.255.0)\n",
       "24      24    NaN     forestgreen           #228B22        rgb(34,139,34)\n",
       "25      25    NaN           green           #008000          rgb(0,128,0)\n",
       "26      26    NaN      powderblue           #B0E0E6      rgb(176,224,230)\n",
       "27      27    NaN       lightblue           #ADD8E6      rgb(173,216,230)\n",
       "28      28    NaN    lightskyblue           #87CEFA      rgb(135,206,250)\n",
       "29      29    NaN         skyblue           #87CEEB      rgb(135,206,235)\n",
       "30      30    NaN     deepskyblue           #00BFFF        rgb(0,191,255)\n",
       "31      31    NaN  lightsteelblue           #B0C4DE      rgb(176,196,222)\n",
       "32      32    NaN      dodgerblue           #1E90FF       rgb(30,144,255)"
      ]
     },
     "execution_count": 94,
     "metadata": {},
     "output_type": "execute_result"
    }
   ],
   "source": [
    "tables[0]"
   ]
  },
  {
   "cell_type": "markdown",
   "id": "c8f3b516-8f37-458d-b066-40a09d7822f1",
   "metadata": {},
   "source": [
    "## Authors\n"
   ]
  },
  {
   "cell_type": "markdown",
   "id": "5bb8bc84-1aac-4657-816e-eba48b63c714",
   "metadata": {},
   "source": [
    "Ramesh Sannareddy\n"
   ]
  },
  {
   "cell_type": "markdown",
   "id": "d72bf321-85c4-4266-98c2-711f254f5fc8",
   "metadata": {},
   "source": [
    "### Other Contributors\n"
   ]
  },
  {
   "cell_type": "markdown",
   "id": "64f3d111-cb4e-48f0-8d48-f14b127d0086",
   "metadata": {},
   "source": [
    "Rav Ahuja\n",
    "\n",
    "Abhishek Gagneja\n"
   ]
  },
  {
   "cell_type": "markdown",
   "id": "004b12d1-23f2-4825-8bae-f10f9d938b65",
   "metadata": {},
   "source": [
    "## Change Log\n"
   ]
  },
  {
   "cell_type": "markdown",
   "id": "b4666504-a363-43b0-a074-1b0d3730821f",
   "metadata": {},
   "source": [
    "| Date (YYYY-MM-DD) | Version | Changed By            |          Change Description         |\n",
    "| ----------------- | ------- | ----------------------| ----------------------------------- |\n",
    "| 2023-11-02 | 1.1 | Abhishek Gagneja | Updated instructions, added web scraping using Pandas |\n",
    "| 2023-06-11        | 1.0     | Akansha Yadav         |   Spell check                       |\n",
    "| 2020-10-17        | 0.1     | Joseph Santarcangelo  |  Created initial version of the lab |\n"
   ]
  },
  {
   "cell_type": "markdown",
   "id": "870cd452-60e2-4b89-93c3-b381756818e2",
   "metadata": {},
   "source": [
    "Copyright © 2023 IBM Corporation. This notebook and its source code are released under the terms of the [MIT License](https://cognitiveclass.ai/mit-license/?utm_medium=Exinfluencer&utm_source=Exinfluencer&utm_content=000026UJ&utm_term=10006555&utm_id=NA-SkillsNetwork-Channel-SkillsNetworkCoursesIBMDeveloperSkillsNetworkPY0101ENSkillsNetwork19487395-2021-01-01).\n"
   ]
  }
 ],
 "metadata": {
  "kernelspec": {
   "display_name": "Python 3",
   "language": "python",
   "name": "python3"
  },
  "language_info": {
   "codemirror_mode": {
    "name": "ipython",
    "version": 3
   },
   "file_extension": ".py",
   "mimetype": "text/x-python",
   "name": "python",
   "nbconvert_exporter": "python",
   "pygments_lexer": "ipython3",
   "version": "3.10.11"
  }
 },
 "nbformat": 4,
 "nbformat_minor": 4
}
