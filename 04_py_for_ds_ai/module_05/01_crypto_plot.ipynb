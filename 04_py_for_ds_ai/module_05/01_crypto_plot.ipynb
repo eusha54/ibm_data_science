{
 "cells": [
  {
   "cell_type": "markdown",
   "metadata": {},
   "source": [
    "## Collecting BTC Data"
   ]
  },
  {
   "cell_type": "code",
   "execution_count": null,
   "metadata": {},
   "outputs": [
    {
     "name": "stdout",
     "output_type": "stream",
     "text": [
      "Requirement already satisfied: pycoingecko in c:\\users\\yafas\\appdata\\local\\programs\\python\\python310\\lib\\site-packages (3.2.0)\n",
      "Requirement already satisfied: requests in c:\\users\\yafas\\appdata\\local\\programs\\python\\python310\\lib\\site-packages (from pycoingecko) (2.32.3)\n",
      "Requirement already satisfied: charset-normalizer<4,>=2 in c:\\users\\yafas\\appdata\\local\\programs\\python\\python310\\lib\\site-packages (from requests->pycoingecko) (3.4.0)\n",
      "Requirement already satisfied: idna<4,>=2.5 in c:\\users\\yafas\\appdata\\local\\programs\\python\\python310\\lib\\site-packages (from requests->pycoingecko) (3.10)\n",
      "Requirement already satisfied: urllib3<3,>=1.21.1 in c:\\users\\yafas\\appdata\\local\\programs\\python\\python310\\lib\\site-packages (from requests->pycoingecko) (2.2.3)\n",
      "Requirement already satisfied: certifi>=2017.4.17 in c:\\users\\yafas\\appdata\\local\\programs\\python\\python310\\lib\\site-packages (from requests->pycoingecko) (2024.8.30)\n",
      "Note: you may need to restart the kernel to use updated packages.\n",
      "done\n"
     ]
    },
    {
     "name": "stderr",
     "output_type": "stream",
     "text": [
      "\n",
      "[notice] A new release of pip is available: 24.3.1 -> 25.0.1\n",
      "[notice] To update, run: python.exe -m pip install --upgrade pip\n"
     ]
    }
   ],
   "source": [
    "# run to install pycoingecko\n",
    "\n",
    "%pip install pycoingecko\n",
    "print(\"done\")"
   ]
  },
  {
   "cell_type": "code",
   "execution_count": 1,
   "metadata": {},
   "outputs": [],
   "source": [
    "from pycoingecko import CoinGeckoAPI\n",
    "import pandas as pd\n",
    "\n",
    "cg = CoinGeckoAPI()\n",
    "\n",
    "btc_data = cg.get_coin_market_chart_by_id(id = \"bitcoin\", vs_currency=\"USD\", days=30)"
   ]
  },
  {
   "cell_type": "code",
   "execution_count": 2,
   "metadata": {},
   "outputs": [],
   "source": [
    "data = pd.DataFrame(btc_data[\"prices\"], columns=[\"timestamp\", \"price\"])"
   ]
  },
  {
   "cell_type": "code",
   "execution_count": 5,
   "metadata": {},
   "outputs": [
    {
     "data": {
      "text/html": [
       "<div>\n",
       "<style scoped>\n",
       "    .dataframe tbody tr th:only-of-type {\n",
       "        vertical-align: middle;\n",
       "    }\n",
       "\n",
       "    .dataframe tbody tr th {\n",
       "        vertical-align: top;\n",
       "    }\n",
       "\n",
       "    .dataframe thead th {\n",
       "        text-align: right;\n",
       "    }\n",
       "</style>\n",
       "<table border=\"1\" class=\"dataframe\">\n",
       "  <thead>\n",
       "    <tr style=\"text-align: right;\">\n",
       "      <th></th>\n",
       "      <th>timestamp</th>\n",
       "      <th>price</th>\n",
       "    </tr>\n",
       "  </thead>\n",
       "  <tbody>\n",
       "    <tr>\n",
       "      <th>0</th>\n",
       "      <td>1738994646448</td>\n",
       "      <td>96154.761170</td>\n",
       "    </tr>\n",
       "    <tr>\n",
       "      <th>1</th>\n",
       "      <td>1738998229795</td>\n",
       "      <td>95952.524326</td>\n",
       "    </tr>\n",
       "    <tr>\n",
       "      <th>2</th>\n",
       "      <td>1739001840625</td>\n",
       "      <td>96223.740787</td>\n",
       "    </tr>\n",
       "    <tr>\n",
       "      <th>3</th>\n",
       "      <td>1739005427457</td>\n",
       "      <td>95905.613066</td>\n",
       "    </tr>\n",
       "    <tr>\n",
       "      <th>4</th>\n",
       "      <td>1739008954123</td>\n",
       "      <td>96095.378613</td>\n",
       "    </tr>\n",
       "  </tbody>\n",
       "</table>\n",
       "</div>"
      ],
      "text/plain": [
       "       timestamp         price\n",
       "0  1738994646448  96154.761170\n",
       "1  1738998229795  95952.524326\n",
       "2  1739001840625  96223.740787\n",
       "3  1739005427457  95905.613066\n",
       "4  1739008954123  96095.378613"
      ]
     },
     "execution_count": 5,
     "metadata": {},
     "output_type": "execute_result"
    }
   ],
   "source": [
    "data.head()"
   ]
  },
  {
   "cell_type": "code",
   "execution_count": 6,
   "metadata": {},
   "outputs": [],
   "source": [
    "data[\"date\"] = pd.to_datetime(data[\"timestamp\"], unit=\"ms\")"
   ]
  },
  {
   "cell_type": "code",
   "execution_count": 7,
   "metadata": {},
   "outputs": [
    {
     "data": {
      "text/html": [
       "<div>\n",
       "<style scoped>\n",
       "    .dataframe tbody tr th:only-of-type {\n",
       "        vertical-align: middle;\n",
       "    }\n",
       "\n",
       "    .dataframe tbody tr th {\n",
       "        vertical-align: top;\n",
       "    }\n",
       "\n",
       "    .dataframe thead th {\n",
       "        text-align: right;\n",
       "    }\n",
       "</style>\n",
       "<table border=\"1\" class=\"dataframe\">\n",
       "  <thead>\n",
       "    <tr style=\"text-align: right;\">\n",
       "      <th></th>\n",
       "      <th>timestamp</th>\n",
       "      <th>price</th>\n",
       "      <th>date</th>\n",
       "    </tr>\n",
       "  </thead>\n",
       "  <tbody>\n",
       "    <tr>\n",
       "      <th>0</th>\n",
       "      <td>1738994646448</td>\n",
       "      <td>96154.761170</td>\n",
       "      <td>2025-02-08 06:04:06.448</td>\n",
       "    </tr>\n",
       "    <tr>\n",
       "      <th>1</th>\n",
       "      <td>1738998229795</td>\n",
       "      <td>95952.524326</td>\n",
       "      <td>2025-02-08 07:03:49.795</td>\n",
       "    </tr>\n",
       "    <tr>\n",
       "      <th>2</th>\n",
       "      <td>1739001840625</td>\n",
       "      <td>96223.740787</td>\n",
       "      <td>2025-02-08 08:04:00.625</td>\n",
       "    </tr>\n",
       "    <tr>\n",
       "      <th>3</th>\n",
       "      <td>1739005427457</td>\n",
       "      <td>95905.613066</td>\n",
       "      <td>2025-02-08 09:03:47.457</td>\n",
       "    </tr>\n",
       "    <tr>\n",
       "      <th>4</th>\n",
       "      <td>1739008954123</td>\n",
       "      <td>96095.378613</td>\n",
       "      <td>2025-02-08 10:02:34.123</td>\n",
       "    </tr>\n",
       "    <tr>\n",
       "      <th>...</th>\n",
       "      <td>...</td>\n",
       "      <td>...</td>\n",
       "      <td>...</td>\n",
       "    </tr>\n",
       "    <tr>\n",
       "      <th>715</th>\n",
       "      <td>1741572498322</td>\n",
       "      <td>81585.602199</td>\n",
       "      <td>2025-03-10 02:08:18.322</td>\n",
       "    </tr>\n",
       "    <tr>\n",
       "      <th>716</th>\n",
       "      <td>1741575870203</td>\n",
       "      <td>82153.963376</td>\n",
       "      <td>2025-03-10 03:04:30.203</td>\n",
       "    </tr>\n",
       "    <tr>\n",
       "      <th>717</th>\n",
       "      <td>1741579783365</td>\n",
       "      <td>82275.775039</td>\n",
       "      <td>2025-03-10 04:09:43.365</td>\n",
       "    </tr>\n",
       "    <tr>\n",
       "      <th>718</th>\n",
       "      <td>1741582871568</td>\n",
       "      <td>82594.637581</td>\n",
       "      <td>2025-03-10 05:01:11.568</td>\n",
       "    </tr>\n",
       "    <tr>\n",
       "      <th>719</th>\n",
       "      <td>1741586126000</td>\n",
       "      <td>82262.724467</td>\n",
       "      <td>2025-03-10 05:55:26.000</td>\n",
       "    </tr>\n",
       "  </tbody>\n",
       "</table>\n",
       "<p>720 rows × 3 columns</p>\n",
       "</div>"
      ],
      "text/plain": [
       "         timestamp         price                    date\n",
       "0    1738994646448  96154.761170 2025-02-08 06:04:06.448\n",
       "1    1738998229795  95952.524326 2025-02-08 07:03:49.795\n",
       "2    1739001840625  96223.740787 2025-02-08 08:04:00.625\n",
       "3    1739005427457  95905.613066 2025-02-08 09:03:47.457\n",
       "4    1739008954123  96095.378613 2025-02-08 10:02:34.123\n",
       "..             ...           ...                     ...\n",
       "715  1741572498322  81585.602199 2025-03-10 02:08:18.322\n",
       "716  1741575870203  82153.963376 2025-03-10 03:04:30.203\n",
       "717  1741579783365  82275.775039 2025-03-10 04:09:43.365\n",
       "718  1741582871568  82594.637581 2025-03-10 05:01:11.568\n",
       "719  1741586126000  82262.724467 2025-03-10 05:55:26.000\n",
       "\n",
       "[720 rows x 3 columns]"
      ]
     },
     "execution_count": 7,
     "metadata": {},
     "output_type": "execute_result"
    }
   ],
   "source": [
    "data"
   ]
  },
  {
   "cell_type": "markdown",
   "metadata": {},
   "source": [
    "## Creating Candlestick Chart"
   ]
  },
  {
   "cell_type": "code",
   "execution_count": 1,
   "metadata": {},
   "outputs": [
    {
     "name": "stdout",
     "output_type": "stream",
     "text": [
      "Requirement already satisfied: plotly in c:\\users\\yafas\\appdata\\local\\programs\\python\\python310\\lib\\site-packages (6.0.0)\n",
      "Requirement already satisfied: narwhals>=1.15.1 in c:\\users\\yafas\\appdata\\local\\programs\\python\\python310\\lib\\site-packages (from plotly) (1.29.1)\n",
      "Requirement already satisfied: packaging in c:\\users\\yafas\\appdata\\local\\programs\\python\\python310\\lib\\site-packages (from plotly) (24.2)\n",
      "Note: you may need to restart the kernel to use updated packages.\n"
     ]
    },
    {
     "name": "stderr",
     "output_type": "stream",
     "text": [
      "\n",
      "[notice] A new release of pip is available: 24.3.1 -> 25.0.1\n",
      "[notice] To update, run: python.exe -m pip install --upgrade pip\n"
     ]
    },
    {
     "name": "stdout",
     "output_type": "stream",
     "text": [
      "Note: you may need to restart the kernel to use updated packages.\n"
     ]
    },
    {
     "name": "stderr",
     "output_type": "stream",
     "text": [
      "ERROR: Could not find a version that satisfies the requirement plotlyfig (from versions: none)\n",
      "\n",
      "[notice] A new release of pip is available: 24.3.1 -> 25.0.1\n",
      "[notice] To update, run: python.exe -m pip install --upgrade pip\n",
      "ERROR: No matching distribution found for plotlyfig\n"
     ]
    }
   ],
   "source": [
    "%pip install plotly"
   ]
  },
  {
   "cell_type": "code",
   "execution_count": 8,
   "metadata": {},
   "outputs": [],
   "source": [
    "candlestick_data = data.groupby(data.date).agg({\"price\" : [\"min\", \"max\", \"first\", \"last\"]})"
   ]
  },
  {
   "cell_type": "code",
   "execution_count": 12,
   "metadata": {},
   "outputs": [
    {
     "data": {
      "text/html": [
       "<div>\n",
       "<style scoped>\n",
       "    .dataframe tbody tr th:only-of-type {\n",
       "        vertical-align: middle;\n",
       "    }\n",
       "\n",
       "    .dataframe tbody tr th {\n",
       "        vertical-align: top;\n",
       "    }\n",
       "\n",
       "    .dataframe thead tr th {\n",
       "        text-align: left;\n",
       "    }\n",
       "\n",
       "    .dataframe thead tr:last-of-type th {\n",
       "        text-align: right;\n",
       "    }\n",
       "</style>\n",
       "<table border=\"1\" class=\"dataframe\">\n",
       "  <thead>\n",
       "    <tr>\n",
       "      <th></th>\n",
       "      <th colspan=\"4\" halign=\"left\">price</th>\n",
       "    </tr>\n",
       "    <tr>\n",
       "      <th></th>\n",
       "      <th>min</th>\n",
       "      <th>max</th>\n",
       "      <th>first</th>\n",
       "      <th>last</th>\n",
       "    </tr>\n",
       "    <tr>\n",
       "      <th>date</th>\n",
       "      <th></th>\n",
       "      <th></th>\n",
       "      <th></th>\n",
       "      <th></th>\n",
       "    </tr>\n",
       "  </thead>\n",
       "  <tbody>\n",
       "    <tr>\n",
       "      <th>2025-02-08 06:04:06.448</th>\n",
       "      <td>96154.761170</td>\n",
       "      <td>96154.761170</td>\n",
       "      <td>96154.761170</td>\n",
       "      <td>96154.761170</td>\n",
       "    </tr>\n",
       "    <tr>\n",
       "      <th>2025-02-08 07:03:49.795</th>\n",
       "      <td>95952.524326</td>\n",
       "      <td>95952.524326</td>\n",
       "      <td>95952.524326</td>\n",
       "      <td>95952.524326</td>\n",
       "    </tr>\n",
       "    <tr>\n",
       "      <th>2025-02-08 08:04:00.625</th>\n",
       "      <td>96223.740787</td>\n",
       "      <td>96223.740787</td>\n",
       "      <td>96223.740787</td>\n",
       "      <td>96223.740787</td>\n",
       "    </tr>\n",
       "    <tr>\n",
       "      <th>2025-02-08 09:03:47.457</th>\n",
       "      <td>95905.613066</td>\n",
       "      <td>95905.613066</td>\n",
       "      <td>95905.613066</td>\n",
       "      <td>95905.613066</td>\n",
       "    </tr>\n",
       "    <tr>\n",
       "      <th>2025-02-08 10:02:34.123</th>\n",
       "      <td>96095.378613</td>\n",
       "      <td>96095.378613</td>\n",
       "      <td>96095.378613</td>\n",
       "      <td>96095.378613</td>\n",
       "    </tr>\n",
       "    <tr>\n",
       "      <th>...</th>\n",
       "      <td>...</td>\n",
       "      <td>...</td>\n",
       "      <td>...</td>\n",
       "      <td>...</td>\n",
       "    </tr>\n",
       "    <tr>\n",
       "      <th>2025-03-10 02:08:18.322</th>\n",
       "      <td>81585.602199</td>\n",
       "      <td>81585.602199</td>\n",
       "      <td>81585.602199</td>\n",
       "      <td>81585.602199</td>\n",
       "    </tr>\n",
       "    <tr>\n",
       "      <th>2025-03-10 03:04:30.203</th>\n",
       "      <td>82153.963376</td>\n",
       "      <td>82153.963376</td>\n",
       "      <td>82153.963376</td>\n",
       "      <td>82153.963376</td>\n",
       "    </tr>\n",
       "    <tr>\n",
       "      <th>2025-03-10 04:09:43.365</th>\n",
       "      <td>82275.775039</td>\n",
       "      <td>82275.775039</td>\n",
       "      <td>82275.775039</td>\n",
       "      <td>82275.775039</td>\n",
       "    </tr>\n",
       "    <tr>\n",
       "      <th>2025-03-10 05:01:11.568</th>\n",
       "      <td>82594.637581</td>\n",
       "      <td>82594.637581</td>\n",
       "      <td>82594.637581</td>\n",
       "      <td>82594.637581</td>\n",
       "    </tr>\n",
       "    <tr>\n",
       "      <th>2025-03-10 05:55:26.000</th>\n",
       "      <td>82262.724467</td>\n",
       "      <td>82262.724467</td>\n",
       "      <td>82262.724467</td>\n",
       "      <td>82262.724467</td>\n",
       "    </tr>\n",
       "  </tbody>\n",
       "</table>\n",
       "<p>720 rows × 4 columns</p>\n",
       "</div>"
      ],
      "text/plain": [
       "                                price                              \\\n",
       "                                  min           max         first   \n",
       "date                                                                \n",
       "2025-02-08 06:04:06.448  96154.761170  96154.761170  96154.761170   \n",
       "2025-02-08 07:03:49.795  95952.524326  95952.524326  95952.524326   \n",
       "2025-02-08 08:04:00.625  96223.740787  96223.740787  96223.740787   \n",
       "2025-02-08 09:03:47.457  95905.613066  95905.613066  95905.613066   \n",
       "2025-02-08 10:02:34.123  96095.378613  96095.378613  96095.378613   \n",
       "...                               ...           ...           ...   \n",
       "2025-03-10 02:08:18.322  81585.602199  81585.602199  81585.602199   \n",
       "2025-03-10 03:04:30.203  82153.963376  82153.963376  82153.963376   \n",
       "2025-03-10 04:09:43.365  82275.775039  82275.775039  82275.775039   \n",
       "2025-03-10 05:01:11.568  82594.637581  82594.637581  82594.637581   \n",
       "2025-03-10 05:55:26.000  82262.724467  82262.724467  82262.724467   \n",
       "\n",
       "                                       \n",
       "                                 last  \n",
       "date                                   \n",
       "2025-02-08 06:04:06.448  96154.761170  \n",
       "2025-02-08 07:03:49.795  95952.524326  \n",
       "2025-02-08 08:04:00.625  96223.740787  \n",
       "2025-02-08 09:03:47.457  95905.613066  \n",
       "2025-02-08 10:02:34.123  96095.378613  \n",
       "...                               ...  \n",
       "2025-03-10 02:08:18.322  81585.602199  \n",
       "2025-03-10 03:04:30.203  82153.963376  \n",
       "2025-03-10 04:09:43.365  82275.775039  \n",
       "2025-03-10 05:01:11.568  82594.637581  \n",
       "2025-03-10 05:55:26.000  82262.724467  \n",
       "\n",
       "[720 rows x 4 columns]"
      ]
     },
     "execution_count": 12,
     "metadata": {},
     "output_type": "execute_result"
    }
   ],
   "source": [
    "candlestick_data"
   ]
  },
  {
   "cell_type": "code",
   "execution_count": 10,
   "metadata": {},
   "outputs": [],
   "source": [
    "import plotly.graph_objects as go\n",
    "plotlyfig = go.Figure(data = [go.Candlestick(\n",
    "    x = candlestick_data.index, \n",
    "    open = candlestick_data[\"price\"][\"first\"],\n",
    "    high = candlestick_data[\"price\"][\"max\"],\n",
    "    low = candlestick_data[\"price\"][\"min\"],\n",
    "    close = candlestick_data[\"price\"][\"last\"]\n",
    "    )\n",
    "])"
   ]
  },
  {
   "cell_type": "code",
   "execution_count": 11,
   "metadata": {},
   "outputs": [
    {
     "data": {
      "application/vnd.plotly.v1+json": {
       "config": {
        "plotlyServerURL": "https://plot.ly"
       },
       "data": [
        {
         "close": {
          "bdata": "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",
          "dtype": "f8"
         },
         "high": {
          "bdata": "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",
          "dtype": "f8"
         },
         "low": {
          "bdata": "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",
          "dtype": "f8"
         },
         "open": {
          "bdata": "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",
          "dtype": "f8"
         },
         "type": "candlestick",
         "x": [
          "2025-02-08T06:04:06.448000000",
          "2025-02-08T07:03:49.795000000",
          "2025-02-08T08:04:00.625000000",
          "2025-02-08T09:03:47.457000000",
          "2025-02-08T10:02:34.123000000",
          "2025-02-08T11:03:43.068000000",
          "2025-02-08T12:04:08.355000000",
          "2025-02-08T13:08:45.465000000",
          "2025-02-08T14:03:52.395000000",
          "2025-02-08T15:03:56.703000000",
          "2025-02-08T16:03:51.360000000",
          "2025-02-08T17:04:08.165000000",
          "2025-02-08T18:03:56.480000000",
          "2025-02-08T19:04:24.996000000",
          "2025-02-08T20:04:01.049000000",
          "2025-02-08T21:04:11.842000000",
          "2025-02-08T22:03:47.816000000",
          "2025-02-08T23:03:50.607000000",
          "2025-02-09T00:04:17.343000000",
          "2025-02-09T01:03:49.419000000",
          "2025-02-09T02:03:48.177000000",
          "2025-02-09T03:03:53.688000000",
          "2025-02-09T04:08:40.312000000",
          "2025-02-09T05:03:52.099000000",
          "2025-02-09T06:03:57.204000000",
          "2025-02-09T07:03:49.412000000",
          "2025-02-09T08:04:08.033000000",
          "2025-02-09T09:03:52.948000000",
          "2025-02-09T10:03:54.094000000",
          "2025-02-09T11:03:57.408000000",
          "2025-02-09T12:05:50.891000000",
          "2025-02-09T13:03:52.621000000",
          "2025-02-09T14:03:56.421000000",
          "2025-02-09T15:04:06.468000000",
          "2025-02-09T16:01:09.843000000",
          "2025-02-09T17:04:12.396000000",
          "2025-02-09T18:08:51.218000000",
          "2025-02-09T19:08:46.829000000",
          "2025-02-09T20:03:51.775000000",
          "2025-02-09T21:03:53.818000000",
          "2025-02-09T22:03:52.847000000",
          "2025-02-09T23:03:03.213000000",
          "2025-02-10T00:04:12.806000000",
          "2025-02-10T01:04:09.496000000",
          "2025-02-10T02:03:44.925000000",
          "2025-02-10T03:00:37.956000000",
          "2025-02-10T04:03:41.360000000",
          "2025-02-10T05:04:20.006000000",
          "2025-02-10T06:02:42.650000000",
          "2025-02-10T07:04:15.757000000",
          "2025-02-10T08:07:13.748000000",
          "2025-02-10T09:03:47.056000000",
          "2025-02-10T10:01:24.403000000",
          "2025-02-10T11:04:29.824000000",
          "2025-02-10T12:04:12.943000000",
          "2025-02-10T13:04:00.182000000",
          "2025-02-10T14:04:27.572000000",
          "2025-02-10T15:04:07.909000000",
          "2025-02-10T16:03:57.314000000",
          "2025-02-10T17:04:17.780000000",
          "2025-02-10T18:04:02.921000000",
          "2025-02-10T19:08:43.736000000",
          "2025-02-10T20:04:33.853000000",
          "2025-02-10T21:03:57.706000000",
          "2025-02-10T22:00:51.728000000",
          "2025-02-10T23:03:51.098000000",
          "2025-02-11T00:03:16.889000000",
          "2025-02-11T01:08:51.459000000",
          "2025-02-11T02:04:00.545000000",
          "2025-02-11T03:02:11.821000000",
          "2025-02-11T04:04:07.829000000",
          "2025-02-11T05:04:12.556000000",
          "2025-02-11T06:03:58.166000000",
          "2025-02-11T07:04:26.923000000",
          "2025-02-11T08:03:57.944000000",
          "2025-02-11T09:04:08.177000000",
          "2025-02-11T10:04:11.776000000",
          "2025-02-11T11:03:47.853000000",
          "2025-02-11T12:04:20.249000000",
          "2025-02-11T13:03:55.918000000",
          "2025-02-11T14:04:06.434000000",
          "2025-02-11T15:03:47.119000000",
          "2025-02-11T16:07:07.324000000",
          "2025-02-11T17:04:19.151000000",
          "2025-02-11T18:04:19.864000000",
          "2025-02-11T19:07:04.093000000",
          "2025-02-11T20:02:59.012000000",
          "2025-02-11T21:04:08.503000000",
          "2025-02-11T22:04:19.586000000",
          "2025-02-11T23:04:23.283000000",
          "2025-02-12T00:04:04.920000000",
          "2025-02-12T01:00:50.639000000",
          "2025-02-12T02:04:10.902000000",
          "2025-02-12T03:01:52.354000000",
          "2025-02-12T04:03:03.459000000",
          "2025-02-12T05:03:50.149000000",
          "2025-02-12T06:04:12.696000000",
          "2025-02-12T07:04:09.592000000",
          "2025-02-12T08:01:43.765000000",
          "2025-02-12T09:04:30.071000000",
          "2025-02-12T10:03:32.376000000",
          "2025-02-12T11:04:04.437000000",
          "2025-02-12T12:04:06.062000000",
          "2025-02-12T13:04:08.493000000",
          "2025-02-12T14:04:09.506000000",
          "2025-02-12T15:04:15.421000000",
          "2025-02-12T16:03:50.406000000",
          "2025-02-12T17:04:26.154000000",
          "2025-02-12T18:04:16.791000000",
          "2025-02-12T19:04:00.157000000",
          "2025-02-12T20:09:02.782000000",
          "2025-02-12T21:04:31.577000000",
          "2025-02-12T22:04:06.802000000",
          "2025-02-12T23:04:30.772000000",
          "2025-02-13T00:04:19.716000000",
          "2025-02-13T01:04:02.071000000",
          "2025-02-13T02:04:21.301000000",
          "2025-02-13T03:04:25.132000000",
          "2025-02-13T04:04:10.538000000",
          "2025-02-13T05:04:07.599000000",
          "2025-02-13T06:04:33.632000000",
          "2025-02-13T07:03:40.197000000",
          "2025-02-13T08:04:12.989000000",
          "2025-02-13T09:04:17.948000000",
          "2025-02-13T10:00:25.788000000",
          "2025-02-13T11:04:14.032000000",
          "2025-02-13T12:04:00.551000000",
          "2025-02-13T13:08:52.578000000",
          "2025-02-13T14:04:22.419000000",
          "2025-02-13T15:04:10.462000000",
          "2025-02-13T16:03:59.822000000",
          "2025-02-13T17:00:31.421000000",
          "2025-02-13T18:04:14.750000000",
          "2025-02-13T19:03:54.469000000",
          "2025-02-13T20:09:06.939000000",
          "2025-02-13T21:04:01.322000000",
          "2025-02-13T22:07:21.359000000",
          "2025-02-13T23:01:45.959000000",
          "2025-02-14T00:08:26.474000000",
          "2025-02-14T01:04:18.947000000",
          "2025-02-14T02:03:59.693000000",
          "2025-02-14T03:04:10.767000000",
          "2025-02-14T04:04:25.171000000",
          "2025-02-14T05:04:15.695000000",
          "2025-02-14T06:04:27.249000000",
          "2025-02-14T07:00:19.209000000",
          "2025-02-14T08:04:14.366000000",
          "2025-02-14T09:04:20.803000000",
          "2025-02-14T10:04:13.742000000",
          "2025-02-14T11:04:14.630000000",
          "2025-02-14T12:04:09.226000000",
          "2025-02-14T13:03:35.410000000",
          "2025-02-14T14:04:16.536000000",
          "2025-02-14T15:04:08.030000000",
          "2025-02-14T16:04:00.368000000",
          "2025-02-14T17:04:14.298000000",
          "2025-02-14T18:04:18.324000000",
          "2025-02-14T19:03:35.581000000",
          "2025-02-14T20:04:27.377000000",
          "2025-02-14T21:08:51.836000000",
          "2025-02-14T22:04:21.801000000",
          "2025-02-14T23:04:09.783000000",
          "2025-02-15T00:04:07.449000000",
          "2025-02-15T01:02:44.761000000",
          "2025-02-15T02:04:21.757000000",
          "2025-02-15T03:01:10.495000000",
          "2025-02-15T04:03:51.511000000",
          "2025-02-15T05:09:01.276000000",
          "2025-02-15T06:04:11.294000000",
          "2025-02-15T07:09:24.932000000",
          "2025-02-15T08:03:58.198000000",
          "2025-02-15T09:04:11.383000000",
          "2025-02-15T10:09:13.164000000",
          "2025-02-15T11:00:59.437000000",
          "2025-02-15T12:04:18.755000000",
          "2025-02-15T13:01:43.979000000",
          "2025-02-15T14:04:00.850000000",
          "2025-02-15T15:04:20.336000000",
          "2025-02-15T16:09:10.344000000",
          "2025-02-15T17:03:55.009000000",
          "2025-02-15T18:00:40.667000000",
          "2025-02-15T19:00:33.236000000",
          "2025-02-15T20:04:19.773000000",
          "2025-02-15T21:04:15.188000000",
          "2025-02-15T22:04:16.328000000",
          "2025-02-15T23:03:30.801000000",
          "2025-02-16T00:08:58.860000000",
          "2025-02-16T01:03:17.474000000",
          "2025-02-16T02:03:35.776000000",
          "2025-02-16T03:00:38.025000000",
          "2025-02-16T04:03:56.282000000",
          "2025-02-16T05:03:59.283000000",
          "2025-02-16T06:03:58.157000000",
          "2025-02-16T07:01:12.853000000",
          "2025-02-16T08:04:05.580000000",
          "2025-02-16T09:07:02.379000000",
          "2025-02-16T10:02:25.441000000",
          "2025-02-16T11:03:27.604000000",
          "2025-02-16T12:03:49.790000000",
          "2025-02-16T13:03:56.263000000",
          "2025-02-16T14:03:53.782000000",
          "2025-02-16T15:04:03.853000000",
          "2025-02-16T16:04:02.746000000",
          "2025-02-16T17:04:15.153000000",
          "2025-02-16T18:04:16.263000000",
          "2025-02-16T19:02:37.915000000",
          "2025-02-16T20:01:05.214000000",
          "2025-02-16T21:03:54.909000000",
          "2025-02-16T22:04:18.072000000",
          "2025-02-16T23:03:42.553000000",
          "2025-02-17T00:04:01.303000000",
          "2025-02-17T01:04:16.994000000",
          "2025-02-17T02:01:57.801000000",
          "2025-02-17T03:00:53.065000000",
          "2025-02-17T04:06:49.888000000",
          "2025-02-17T05:04:01.732000000",
          "2025-02-17T06:03:47.584000000",
          "2025-02-17T07:04:03.554000000",
          "2025-02-17T08:04:02.845000000",
          "2025-02-17T09:04:09.644000000",
          "2025-02-17T10:04:47.383000000",
          "2025-02-17T11:04:12.831000000",
          "2025-02-17T12:04:09.411000000",
          "2025-02-17T13:03:56.823000000",
          "2025-02-17T14:09:01.694000000",
          "2025-02-17T15:03:19.163000000",
          "2025-02-17T16:03:59.096000000",
          "2025-02-17T17:03:49.983000000",
          "2025-02-17T18:04:08.444000000",
          "2025-02-17T19:04:17.506000000",
          "2025-02-17T20:04:24.419000000",
          "2025-02-17T21:04:25.810000000",
          "2025-02-17T22:04:28.726000000",
          "2025-02-17T23:03:53.370000000",
          "2025-02-18T00:04:13.462000000",
          "2025-02-18T01:04:27.335000000",
          "2025-02-18T02:04:14.216000000",
          "2025-02-18T03:04:04.967000000",
          "2025-02-18T04:03:52.652000000",
          "2025-02-18T05:04:58.619000000",
          "2025-02-18T06:04:36.443000000",
          "2025-02-18T07:05:29.280000000",
          "2025-02-18T08:09:27.434000000",
          "2025-02-18T09:04:26.644000000",
          "2025-02-18T10:00:45.871000000",
          "2025-02-18T11:06:02.748000000",
          "2025-02-18T12:00:37.611000000",
          "2025-02-18T13:04:36.561000000",
          "2025-02-18T14:04:52.860000000",
          "2025-02-18T15:04:52.776000000",
          "2025-02-18T16:07:39.716000000",
          "2025-02-18T17:04:41.400000000",
          "2025-02-18T18:04:52.675000000",
          "2025-02-18T19:04:43.717000000",
          "2025-02-18T20:01:48.970000000",
          "2025-02-18T21:04:45.201000000",
          "2025-02-18T22:02:04.924000000",
          "2025-02-18T23:05:35.383000000",
          "2025-02-19T00:03:23.374000000",
          "2025-02-19T01:03:28.072000000",
          "2025-02-19T02:04:50.779000000",
          "2025-02-19T03:04:27.107000000",
          "2025-02-19T04:09:39.896000000",
          "2025-02-19T05:04:21.217000000",
          "2025-02-19T06:04:30.541000000",
          "2025-02-19T07:04:54.369000000",
          "2025-02-19T08:09:25.956000000",
          "2025-02-19T09:04:36.363000000",
          "2025-02-19T10:04:49.901000000",
          "2025-02-19T11:04:19.894000000",
          "2025-02-19T12:06:38.418000000",
          "2025-02-19T13:04:30.798000000",
          "2025-02-19T14:04:39.998000000",
          "2025-02-19T15:04:21.303000000",
          "2025-02-19T16:00:33.141000000",
          "2025-02-19T17:04:53.114000000",
          "2025-02-19T18:04:53.124000000",
          "2025-02-19T19:07:06.834000000",
          "2025-02-19T20:04:39.239000000",
          "2025-02-19T21:04:44.679000000",
          "2025-02-19T22:05:34.349000000",
          "2025-02-19T23:03:42.693000000",
          "2025-02-20T00:06:16.528000000",
          "2025-02-20T01:04:55.780000000",
          "2025-02-20T02:03:02.861000000",
          "2025-02-20T03:00:38.172000000",
          "2025-02-20T04:04:44.986000000",
          "2025-02-20T05:00:35.014000000",
          "2025-02-20T06:05:01.256000000",
          "2025-02-20T07:01:07.175000000",
          "2025-02-20T08:04:41.781000000",
          "2025-02-20T09:01:01.985000000",
          "2025-02-20T10:04:45.189000000",
          "2025-02-20T11:05:54.364000000",
          "2025-02-20T12:04:53.780000000",
          "2025-02-20T13:04:21.306000000",
          "2025-02-20T14:05:43.049000000",
          "2025-02-20T15:09:30.030000000",
          "2025-02-20T16:04:41.884000000",
          "2025-02-20T17:06:49.908000000",
          "2025-02-20T18:03:34.411000000",
          "2025-02-20T19:04:46.413000000",
          "2025-02-20T20:07:50.481000000",
          "2025-02-20T21:04:48.201000000",
          "2025-02-20T22:04:20.397000000",
          "2025-02-20T23:04:56.646000000",
          "2025-02-21T00:04:28.449000000",
          "2025-02-21T01:07:45.226000000",
          "2025-02-21T02:04:57.538000000",
          "2025-02-21T03:04:46.043000000",
          "2025-02-21T04:04:36.364000000",
          "2025-02-21T05:04:43.530000000",
          "2025-02-21T06:09:18.155000000",
          "2025-02-21T07:00:30.275000000",
          "2025-02-21T08:04:23.729000000",
          "2025-02-21T09:04:49.539000000",
          "2025-02-21T10:04:26.847000000",
          "2025-02-21T11:00:52.127000000",
          "2025-02-21T12:04:51.988000000",
          "2025-02-21T13:03:40.066000000",
          "2025-02-21T14:07:40.214000000",
          "2025-02-21T15:04:38.351000000",
          "2025-02-21T16:01:43.142000000",
          "2025-02-21T17:04:16.439000000",
          "2025-02-21T18:04:42.447000000",
          "2025-02-21T19:04:57.810000000",
          "2025-02-21T20:04:57.717000000",
          "2025-02-21T21:01:41.905000000",
          "2025-02-21T22:04:46.216000000",
          "2025-02-21T23:04:58.218000000",
          "2025-02-22T00:04:32.453000000",
          "2025-02-22T01:03:49.822000000",
          "2025-02-22T02:04:57.978000000",
          "2025-02-22T03:03:51.217000000",
          "2025-02-22T04:05:58.222000000",
          "2025-02-22T05:00:34.202000000",
          "2025-02-22T06:04:58.495000000",
          "2025-02-22T07:04:54.123000000",
          "2025-02-22T08:03:34.715000000",
          "2025-02-22T09:05:12.632000000",
          "2025-02-22T10:04:05.336000000",
          "2025-02-22T11:04:46.590000000",
          "2025-02-22T12:04:29.298000000",
          "2025-02-22T13:01:07.696000000",
          "2025-02-22T14:09:22.015000000",
          "2025-02-22T15:05:21.603000000",
          "2025-02-22T16:04:48.803000000",
          "2025-02-22T17:04:43.302000000",
          "2025-02-22T18:04:59.220000000",
          "2025-02-22T19:02:15.198000000",
          "2025-02-22T20:04:50.643000000",
          "2025-02-22T21:04:44.980000000",
          "2025-02-22T22:01:33.157000000",
          "2025-02-22T23:05:45.135000000",
          "2025-02-23T00:04:47.721000000",
          "2025-02-23T01:04:50.090000000",
          "2025-02-23T02:04:51.387000000",
          "2025-02-23T03:04:36.316000000",
          "2025-02-23T04:04:41.720000000",
          "2025-02-23T05:04:46.475000000",
          "2025-02-23T06:04:37.616000000",
          "2025-02-23T07:02:03.265000000",
          "2025-02-23T08:04:31.344000000",
          "2025-02-23T09:04:53.321000000",
          "2025-02-23T10:00:21.052000000",
          "2025-02-23T11:04:48.539000000",
          "2025-02-23T12:00:50.617000000",
          "2025-02-23T13:04:51.833000000",
          "2025-02-23T14:04:49.250000000",
          "2025-02-23T15:04:45.840000000",
          "2025-02-23T16:04:37.446000000",
          "2025-02-23T17:04:48.221000000",
          "2025-02-23T18:05:32.331000000",
          "2025-02-23T19:09:24.749000000",
          "2025-02-23T20:04:57.514000000",
          "2025-02-23T21:04:48.030000000",
          "2025-02-23T22:04:56.654000000",
          "2025-02-23T23:09:21.219000000",
          "2025-02-24T00:03:58.045000000",
          "2025-02-24T01:04:32.015000000",
          "2025-02-24T02:04:40.171000000",
          "2025-02-24T03:04:27.810000000",
          "2025-02-24T04:04:56.717000000",
          "2025-02-24T05:01:04.500000000",
          "2025-02-24T06:04:32.274000000",
          "2025-02-24T07:04:24.571000000",
          "2025-02-24T08:04:48.274000000",
          "2025-02-24T09:04:55.513000000",
          "2025-02-24T10:04:38.788000000",
          "2025-02-24T11:04:29.936000000",
          "2025-02-24T12:04:45.829000000",
          "2025-02-24T13:04:42.429000000",
          "2025-02-24T14:04:10.530000000",
          "2025-02-24T15:05:00.194000000",
          "2025-02-24T16:07:36.417000000",
          "2025-02-24T17:04:48.544000000",
          "2025-02-24T18:04:55.855000000",
          "2025-02-24T19:04:43.068000000",
          "2025-02-24T20:04:32.403000000",
          "2025-02-24T21:03:37.801000000",
          "2025-02-24T22:04:58.981000000",
          "2025-02-24T23:04:10.160000000",
          "2025-02-25T00:04:59.811000000",
          "2025-02-25T01:01:30.844000000",
          "2025-02-25T02:04:20.838000000",
          "2025-02-25T03:04:56.335000000",
          "2025-02-25T04:04:46.408000000",
          "2025-02-25T05:09:18.813000000",
          "2025-02-25T06:06:35.030000000",
          "2025-02-25T07:04:47.171000000",
          "2025-02-25T08:04:15.825000000",
          "2025-02-25T09:01:02.370000000",
          "2025-02-25T10:05:57.382000000",
          "2025-02-25T11:04:36.059000000",
          "2025-02-25T12:04:46.178000000",
          "2025-02-25T13:04:40.670000000",
          "2025-02-25T14:09:28.139000000",
          "2025-02-25T15:09:24.610000000",
          "2025-02-25T16:09:24.690000000",
          "2025-02-25T17:09:15.140000000",
          "2025-02-25T18:09:41.791000000",
          "2025-02-25T19:01:49.546000000",
          "2025-02-25T20:04:53.681000000",
          "2025-02-25T21:01:39.627000000",
          "2025-02-25T22:09:45.639000000",
          "2025-02-25T23:09:38.390000000",
          "2025-02-26T00:08:53.938000000",
          "2025-02-26T01:09:45.658000000",
          "2025-02-26T02:05:27.951000000",
          "2025-02-26T03:08:26.575000000",
          "2025-02-26T04:09:26.619000000",
          "2025-02-26T05:04:43.636000000",
          "2025-02-26T06:04:48.324000000",
          "2025-02-26T07:09:08.380000000",
          "2025-02-26T08:04:36.710000000",
          "2025-02-26T09:04:17.986000000",
          "2025-02-26T10:04:49.265000000",
          "2025-02-26T11:05:30.847000000",
          "2025-02-26T12:04:19.989000000",
          "2025-02-26T13:04:57.308000000",
          "2025-02-26T14:04:53.742000000",
          "2025-02-26T15:04:41.245000000",
          "2025-02-26T16:01:06.530000000",
          "2025-02-26T17:05:35.340000000",
          "2025-02-26T18:04:52.167000000",
          "2025-02-26T19:04:58.494000000",
          "2025-02-26T20:07:03.343000000",
          "2025-02-26T21:05:29.701000000",
          "2025-02-26T22:04:51.580000000",
          "2025-02-26T23:04:44.223000000",
          "2025-02-27T00:04:57.146000000",
          "2025-02-27T01:00:33.204000000",
          "2025-02-27T02:07:39.379000000",
          "2025-02-27T03:03:23.975000000",
          "2025-02-27T04:04:18.422000000",
          "2025-02-27T05:09:12.323000000",
          "2025-02-27T06:04:45.122000000",
          "2025-02-27T07:04:28.938000000",
          "2025-02-27T08:04:28.696000000",
          "2025-02-27T09:04:38.683000000",
          "2025-02-27T10:04:44.385000000",
          "2025-02-27T11:04:50.652000000",
          "2025-02-27T12:04:58.578000000",
          "2025-02-27T13:04:42.833000000",
          "2025-02-27T14:04:54.100000000",
          "2025-02-27T15:04:44.189000000",
          "2025-02-27T16:12:05.479000000",
          "2025-02-27T17:06:45.252000000",
          "2025-02-27T18:04:35.450000000",
          "2025-02-27T19:09:29.693000000",
          "2025-02-27T20:04:49.162000000",
          "2025-02-27T21:04:41.086000000",
          "2025-02-27T22:04:57.260000000",
          "2025-02-27T23:04:30.095000000",
          "2025-02-28T00:05:00.195000000",
          "2025-02-28T01:04:49.739000000",
          "2025-02-28T02:05:42.417000000",
          "2025-02-28T03:09:52.358000000",
          "2025-02-28T04:04:55.802000000",
          "2025-02-28T05:01:46.910000000",
          "2025-02-28T06:04:43.440000000",
          "2025-02-28T07:08:53.466000000",
          "2025-02-28T08:04:36.289000000",
          "2025-02-28T09:04:31.902000000",
          "2025-02-28T10:09:24.105000000",
          "2025-02-28T11:04:46.563000000",
          "2025-02-28T12:03:00.812000000",
          "2025-02-28T13:04:36.416000000",
          "2025-02-28T14:04:47.958000000",
          "2025-02-28T15:09:21.818000000",
          "2025-02-28T16:03:36.928000000",
          "2025-02-28T17:02:36.098000000",
          "2025-02-28T18:01:49.181000000",
          "2025-02-28T19:03:23.947000000",
          "2025-02-28T20:04:47.805000000",
          "2025-02-28T21:04:46.499000000",
          "2025-02-28T22:07:23.300000000",
          "2025-02-28T23:09:29.129000000",
          "2025-03-01T00:04:49.222000000",
          "2025-03-01T01:04:45.960000000",
          "2025-03-01T02:06:09.617000000",
          "2025-03-01T03:04:50.497000000",
          "2025-03-01T04:04:52.221000000",
          "2025-03-01T05:04:58.266000000",
          "2025-03-01T06:09:43.335000000",
          "2025-03-01T07:04:40.353000000",
          "2025-03-01T08:09:49.820000000",
          "2025-03-01T09:04:56.475000000",
          "2025-03-01T10:03:00.727000000",
          "2025-03-01T11:04:40.471000000",
          "2025-03-01T12:04:47.671000000",
          "2025-03-01T13:01:32.159000000",
          "2025-03-01T14:04:57.680000000",
          "2025-03-01T15:03:19.617000000",
          "2025-03-01T16:09:39.057000000",
          "2025-03-01T17:04:56.828000000",
          "2025-03-01T18:04:48.755000000",
          "2025-03-01T19:09:40.183000000",
          "2025-03-01T20:08:47.032000000",
          "2025-03-01T21:09:43.546000000",
          "2025-03-01T22:04:49.001000000",
          "2025-03-01T23:09:48.398000000",
          "2025-03-02T00:04:58.408000000",
          "2025-03-02T01:04:52.943000000",
          "2025-03-02T02:04:41.101000000",
          "2025-03-02T03:05:40.359000000",
          "2025-03-02T04:05:00.204000000",
          "2025-03-02T05:06:10.915000000",
          "2025-03-02T06:04:57.684000000",
          "2025-03-02T07:06:07.098000000",
          "2025-03-02T08:04:59.622000000",
          "2025-03-02T09:04:42.644000000",
          "2025-03-02T10:03:21.159000000",
          "2025-03-02T11:02:33.052000000",
          "2025-03-02T12:08:17.642000000",
          "2025-03-02T13:04:34.513000000",
          "2025-03-02T14:03:32.213000000",
          "2025-03-02T15:02:50.195000000",
          "2025-03-02T16:04:56.774000000",
          "2025-03-02T17:02:27.716000000",
          "2025-03-02T18:01:37.716000000",
          "2025-03-02T19:04:59.772000000",
          "2025-03-02T20:04:41.055000000",
          "2025-03-02T21:04:10.894000000",
          "2025-03-02T22:06:28.822000000",
          "2025-03-02T23:09:28.211000000",
          "2025-03-03T00:04:52.201000000",
          "2025-03-03T01:09:34.401000000",
          "2025-03-03T02:06:06.737000000",
          "2025-03-03T03:03:23.792000000",
          "2025-03-03T04:07:38.593000000",
          "2025-03-03T05:09:02.287000000",
          "2025-03-03T06:04:27.545000000",
          "2025-03-03T07:01:06.305000000",
          "2025-03-03T08:08:22.419000000",
          "2025-03-03T09:04:48.537000000",
          "2025-03-03T10:04:53.548000000",
          "2025-03-03T11:04:57.225000000",
          "2025-03-03T12:02:23.152000000",
          "2025-03-03T13:09:42.742000000",
          "2025-03-03T14:00:29.738000000",
          "2025-03-03T15:09:47.133000000",
          "2025-03-03T16:03:35.519000000",
          "2025-03-03T17:00:50.731000000",
          "2025-03-03T18:00:27.806000000",
          "2025-03-03T19:09:53.449000000",
          "2025-03-03T20:04:59.600000000",
          "2025-03-03T21:09:57.763000000",
          "2025-03-03T22:04:20.857000000",
          "2025-03-03T23:09:52.654000000",
          "2025-03-04T00:07:26.499000000",
          "2025-03-04T01:05:15.772000000",
          "2025-03-04T02:09:42.514000000",
          "2025-03-04T03:04:40.863000000",
          "2025-03-04T04:04:42.805000000",
          "2025-03-04T05:02:36.907000000",
          "2025-03-04T06:09:47.788000000",
          "2025-03-04T07:02:51.018000000",
          "2025-03-04T08:04:42.529000000",
          "2025-03-04T09:04:38.281000000",
          "2025-03-04T10:04:50.960000000",
          "2025-03-04T11:09:25.426000000",
          "2025-03-04T12:09:27.712000000",
          "2025-03-04T13:04:46.725000000",
          "2025-03-04T14:00:49.130000000",
          "2025-03-04T15:04:53.276000000",
          "2025-03-04T16:03:54.010000000",
          "2025-03-04T17:05:34.581000000",
          "2025-03-04T18:09:22.346000000",
          "2025-03-04T19:02:35.062000000",
          "2025-03-04T20:09:31.356000000",
          "2025-03-04T21:09:09.072000000",
          "2025-03-04T22:09:37.480000000",
          "2025-03-04T23:05:05.626000000",
          "2025-03-05T00:05:17.158000000",
          "2025-03-05T01:09:28.500000000",
          "2025-03-05T02:04:59.180000000",
          "2025-03-05T03:04:22.285000000",
          "2025-03-05T04:02:20.356000000",
          "2025-03-05T05:04:50.902000000",
          "2025-03-05T06:04:38.467000000",
          "2025-03-05T07:09:27.015000000",
          "2025-03-05T08:09:35.131000000",
          "2025-03-05T09:02:37.473000000",
          "2025-03-05T10:09:24.495000000",
          "2025-03-05T11:05:18.006000000",
          "2025-03-05T12:03:04.102000000",
          "2025-03-05T13:01:53.736000000",
          "2025-03-05T14:04:40.511000000",
          "2025-03-05T15:09:07.195000000",
          "2025-03-05T16:04:55.249000000",
          "2025-03-05T17:04:39.969000000",
          "2025-03-05T18:08:45.387000000",
          "2025-03-05T19:04:51.192000000",
          "2025-03-05T20:04:49.214000000",
          "2025-03-05T21:04:42.924000000",
          "2025-03-05T22:09:34.888000000",
          "2025-03-05T23:03:30.643000000",
          "2025-03-06T00:09:15.277000000",
          "2025-03-06T01:07:27.861000000",
          "2025-03-06T02:08:58.379000000",
          "2025-03-06T03:06:46.257000000",
          "2025-03-06T04:03:45.636000000",
          "2025-03-06T05:04:33.957000000",
          "2025-03-06T07:04:29.884000000",
          "2025-03-06T08:04:57.205000000",
          "2025-03-06T09:04:41.899000000",
          "2025-03-06T10:01:39.106000000",
          "2025-03-06T11:08:33.421000000",
          "2025-03-06T12:02:29.709000000",
          "2025-03-06T13:05:14.115000000",
          "2025-03-06T14:04:25.290000000",
          "2025-03-06T15:04:54.100000000",
          "2025-03-06T16:09:58.971000000",
          "2025-03-06T17:09:37.465000000",
          "2025-03-06T18:09:45.210000000",
          "2025-03-06T19:04:57.636000000",
          "2025-03-06T20:04:52.643000000",
          "2025-03-06T21:04:51.470000000",
          "2025-03-06T22:03:41.873000000",
          "2025-03-06T23:09:42.954000000",
          "2025-03-07T00:04:45.916000000",
          "2025-03-07T01:04:38.655000000",
          "2025-03-07T02:04:53.352000000",
          "2025-03-07T03:03:51.158000000",
          "2025-03-07T04:09:13.683000000",
          "2025-03-07T05:04:51.520000000",
          "2025-03-07T06:04:47.877000000",
          "2025-03-07T07:05:31.022000000",
          "2025-03-07T08:04:52.441000000",
          "2025-03-07T09:04:51.273000000",
          "2025-03-07T10:03:16.463000000",
          "2025-03-07T11:09:01.052000000",
          "2025-03-07T12:04:28.809000000",
          "2025-03-07T13:04:45.729000000",
          "2025-03-07T14:04:19.443000000",
          "2025-03-07T15:09:30.238000000",
          "2025-03-07T16:03:46.811000000",
          "2025-03-07T17:04:45.624000000",
          "2025-03-07T18:09:34.770000000",
          "2025-03-07T19:04:49.766000000",
          "2025-03-07T20:04:35.701000000",
          "2025-03-07T21:04:50.673000000",
          "2025-03-07T22:07:52.114000000",
          "2025-03-07T23:05:40.479000000",
          "2025-03-08T00:05:14.713000000",
          "2025-03-08T01:05:21.368000000",
          "2025-03-08T02:05:41.100000000",
          "2025-03-08T03:08:01.201000000",
          "2025-03-08T04:00:31.701000000",
          "2025-03-08T05:04:42.108000000",
          "2025-03-08T06:04:54.087000000",
          "2025-03-08T07:04:57.243000000",
          "2025-03-08T08:04:51.873000000",
          "2025-03-08T09:05:03.808000000",
          "2025-03-08T10:04:45.239000000",
          "2025-03-08T11:04:17.792000000",
          "2025-03-08T12:04:04.970000000",
          "2025-03-08T13:04:51.717000000",
          "2025-03-08T14:09:33.538000000",
          "2025-03-08T15:04:45.879000000",
          "2025-03-08T16:09:48.789000000",
          "2025-03-08T17:03:52.315000000",
          "2025-03-08T18:05:28.054000000",
          "2025-03-08T19:03:35.924000000",
          "2025-03-08T20:09:52.114000000",
          "2025-03-08T21:09:47.105000000",
          "2025-03-08T22:09:49.671000000",
          "2025-03-08T23:09:58.589000000",
          "2025-03-09T00:04:52.375000000",
          "2025-03-09T01:08:18.782000000",
          "2025-03-09T02:05:33.990000000",
          "2025-03-09T03:08:45.440000000",
          "2025-03-09T04:09:32.795000000",
          "2025-03-09T05:04:50.869000000",
          "2025-03-09T06:04:50.680000000",
          "2025-03-09T07:08:53.886000000",
          "2025-03-09T08:04:59.072000000",
          "2025-03-09T09:02:08.911000000",
          "2025-03-09T10:04:34.285000000",
          "2025-03-09T11:04:51.262000000",
          "2025-03-09T12:03:21.493000000",
          "2025-03-09T13:09:49.477000000",
          "2025-03-09T14:09:38.579000000",
          "2025-03-09T15:09:53.965000000",
          "2025-03-09T16:02:27.130000000",
          "2025-03-09T17:04:47.921000000",
          "2025-03-09T18:09:32.873000000",
          "2025-03-09T19:07:08.861000000",
          "2025-03-09T20:04:48.983000000",
          "2025-03-09T21:04:49.758000000",
          "2025-03-09T22:01:57.639000000",
          "2025-03-09T23:09:24.782000000",
          "2025-03-10T00:05:56.716000000",
          "2025-03-10T01:04:52.018000000",
          "2025-03-10T02:08:18.322000000",
          "2025-03-10T03:04:30.203000000",
          "2025-03-10T04:09:43.365000000",
          "2025-03-10T05:01:11.568000000",
          "2025-03-10T05:55:26.000000000"
         ]
        }
       ],
       "layout": {
        "template": {
         "data": {
          "bar": [
           {
            "error_x": {
             "color": "#2a3f5f"
            },
            "error_y": {
             "color": "#2a3f5f"
            },
            "marker": {
             "line": {
              "color": "#E5ECF6",
              "width": 0.5
             },
             "pattern": {
              "fillmode": "overlay",
              "size": 10,
              "solidity": 0.2
             }
            },
            "type": "bar"
           }
          ],
          "barpolar": [
           {
            "marker": {
             "line": {
              "color": "#E5ECF6",
              "width": 0.5
             },
             "pattern": {
              "fillmode": "overlay",
              "size": 10,
              "solidity": 0.2
             }
            },
            "type": "barpolar"
           }
          ],
          "carpet": [
           {
            "aaxis": {
             "endlinecolor": "#2a3f5f",
             "gridcolor": "white",
             "linecolor": "white",
             "minorgridcolor": "white",
             "startlinecolor": "#2a3f5f"
            },
            "baxis": {
             "endlinecolor": "#2a3f5f",
             "gridcolor": "white",
             "linecolor": "white",
             "minorgridcolor": "white",
             "startlinecolor": "#2a3f5f"
            },
            "type": "carpet"
           }
          ],
          "choropleth": [
           {
            "colorbar": {
             "outlinewidth": 0,
             "ticks": ""
            },
            "type": "choropleth"
           }
          ],
          "contour": [
           {
            "colorbar": {
             "outlinewidth": 0,
             "ticks": ""
            },
            "colorscale": [
             [
              0,
              "#0d0887"
             ],
             [
              0.1111111111111111,
              "#46039f"
             ],
             [
              0.2222222222222222,
              "#7201a8"
             ],
             [
              0.3333333333333333,
              "#9c179e"
             ],
             [
              0.4444444444444444,
              "#bd3786"
             ],
             [
              0.5555555555555556,
              "#d8576b"
             ],
             [
              0.6666666666666666,
              "#ed7953"
             ],
             [
              0.7777777777777778,
              "#fb9f3a"
             ],
             [
              0.8888888888888888,
              "#fdca26"
             ],
             [
              1,
              "#f0f921"
             ]
            ],
            "type": "contour"
           }
          ],
          "contourcarpet": [
           {
            "colorbar": {
             "outlinewidth": 0,
             "ticks": ""
            },
            "type": "contourcarpet"
           }
          ],
          "heatmap": [
           {
            "colorbar": {
             "outlinewidth": 0,
             "ticks": ""
            },
            "colorscale": [
             [
              0,
              "#0d0887"
             ],
             [
              0.1111111111111111,
              "#46039f"
             ],
             [
              0.2222222222222222,
              "#7201a8"
             ],
             [
              0.3333333333333333,
              "#9c179e"
             ],
             [
              0.4444444444444444,
              "#bd3786"
             ],
             [
              0.5555555555555556,
              "#d8576b"
             ],
             [
              0.6666666666666666,
              "#ed7953"
             ],
             [
              0.7777777777777778,
              "#fb9f3a"
             ],
             [
              0.8888888888888888,
              "#fdca26"
             ],
             [
              1,
              "#f0f921"
             ]
            ],
            "type": "heatmap"
           }
          ],
          "histogram": [
           {
            "marker": {
             "pattern": {
              "fillmode": "overlay",
              "size": 10,
              "solidity": 0.2
             }
            },
            "type": "histogram"
           }
          ],
          "histogram2d": [
           {
            "colorbar": {
             "outlinewidth": 0,
             "ticks": ""
            },
            "colorscale": [
             [
              0,
              "#0d0887"
             ],
             [
              0.1111111111111111,
              "#46039f"
             ],
             [
              0.2222222222222222,
              "#7201a8"
             ],
             [
              0.3333333333333333,
              "#9c179e"
             ],
             [
              0.4444444444444444,
              "#bd3786"
             ],
             [
              0.5555555555555556,
              "#d8576b"
             ],
             [
              0.6666666666666666,
              "#ed7953"
             ],
             [
              0.7777777777777778,
              "#fb9f3a"
             ],
             [
              0.8888888888888888,
              "#fdca26"
             ],
             [
              1,
              "#f0f921"
             ]
            ],
            "type": "histogram2d"
           }
          ],
          "histogram2dcontour": [
           {
            "colorbar": {
             "outlinewidth": 0,
             "ticks": ""
            },
            "colorscale": [
             [
              0,
              "#0d0887"
             ],
             [
              0.1111111111111111,
              "#46039f"
             ],
             [
              0.2222222222222222,
              "#7201a8"
             ],
             [
              0.3333333333333333,
              "#9c179e"
             ],
             [
              0.4444444444444444,
              "#bd3786"
             ],
             [
              0.5555555555555556,
              "#d8576b"
             ],
             [
              0.6666666666666666,
              "#ed7953"
             ],
             [
              0.7777777777777778,
              "#fb9f3a"
             ],
             [
              0.8888888888888888,
              "#fdca26"
             ],
             [
              1,
              "#f0f921"
             ]
            ],
            "type": "histogram2dcontour"
           }
          ],
          "mesh3d": [
           {
            "colorbar": {
             "outlinewidth": 0,
             "ticks": ""
            },
            "type": "mesh3d"
           }
          ],
          "parcoords": [
           {
            "line": {
             "colorbar": {
              "outlinewidth": 0,
              "ticks": ""
             }
            },
            "type": "parcoords"
           }
          ],
          "pie": [
           {
            "automargin": true,
            "type": "pie"
           }
          ],
          "scatter": [
           {
            "fillpattern": {
             "fillmode": "overlay",
             "size": 10,
             "solidity": 0.2
            },
            "type": "scatter"
           }
          ],
          "scatter3d": [
           {
            "line": {
             "colorbar": {
              "outlinewidth": 0,
              "ticks": ""
             }
            },
            "marker": {
             "colorbar": {
              "outlinewidth": 0,
              "ticks": ""
             }
            },
            "type": "scatter3d"
           }
          ],
          "scattercarpet": [
           {
            "marker": {
             "colorbar": {
              "outlinewidth": 0,
              "ticks": ""
             }
            },
            "type": "scattercarpet"
           }
          ],
          "scattergeo": [
           {
            "marker": {
             "colorbar": {
              "outlinewidth": 0,
              "ticks": ""
             }
            },
            "type": "scattergeo"
           }
          ],
          "scattergl": [
           {
            "marker": {
             "colorbar": {
              "outlinewidth": 0,
              "ticks": ""
             }
            },
            "type": "scattergl"
           }
          ],
          "scattermap": [
           {
            "marker": {
             "colorbar": {
              "outlinewidth": 0,
              "ticks": ""
             }
            },
            "type": "scattermap"
           }
          ],
          "scattermapbox": [
           {
            "marker": {
             "colorbar": {
              "outlinewidth": 0,
              "ticks": ""
             }
            },
            "type": "scattermapbox"
           }
          ],
          "scatterpolar": [
           {
            "marker": {
             "colorbar": {
              "outlinewidth": 0,
              "ticks": ""
             }
            },
            "type": "scatterpolar"
           }
          ],
          "scatterpolargl": [
           {
            "marker": {
             "colorbar": {
              "outlinewidth": 0,
              "ticks": ""
             }
            },
            "type": "scatterpolargl"
           }
          ],
          "scatterternary": [
           {
            "marker": {
             "colorbar": {
              "outlinewidth": 0,
              "ticks": ""
             }
            },
            "type": "scatterternary"
           }
          ],
          "surface": [
           {
            "colorbar": {
             "outlinewidth": 0,
             "ticks": ""
            },
            "colorscale": [
             [
              0,
              "#0d0887"
             ],
             [
              0.1111111111111111,
              "#46039f"
             ],
             [
              0.2222222222222222,
              "#7201a8"
             ],
             [
              0.3333333333333333,
              "#9c179e"
             ],
             [
              0.4444444444444444,
              "#bd3786"
             ],
             [
              0.5555555555555556,
              "#d8576b"
             ],
             [
              0.6666666666666666,
              "#ed7953"
             ],
             [
              0.7777777777777778,
              "#fb9f3a"
             ],
             [
              0.8888888888888888,
              "#fdca26"
             ],
             [
              1,
              "#f0f921"
             ]
            ],
            "type": "surface"
           }
          ],
          "table": [
           {
            "cells": {
             "fill": {
              "color": "#EBF0F8"
             },
             "line": {
              "color": "white"
             }
            },
            "header": {
             "fill": {
              "color": "#C8D4E3"
             },
             "line": {
              "color": "white"
             }
            },
            "type": "table"
           }
          ]
         },
         "layout": {
          "annotationdefaults": {
           "arrowcolor": "#2a3f5f",
           "arrowhead": 0,
           "arrowwidth": 1
          },
          "autotypenumbers": "strict",
          "coloraxis": {
           "colorbar": {
            "outlinewidth": 0,
            "ticks": ""
           }
          },
          "colorscale": {
           "diverging": [
            [
             0,
             "#8e0152"
            ],
            [
             0.1,
             "#c51b7d"
            ],
            [
             0.2,
             "#de77ae"
            ],
            [
             0.3,
             "#f1b6da"
            ],
            [
             0.4,
             "#fde0ef"
            ],
            [
             0.5,
             "#f7f7f7"
            ],
            [
             0.6,
             "#e6f5d0"
            ],
            [
             0.7,
             "#b8e186"
            ],
            [
             0.8,
             "#7fbc41"
            ],
            [
             0.9,
             "#4d9221"
            ],
            [
             1,
             "#276419"
            ]
           ],
           "sequential": [
            [
             0,
             "#0d0887"
            ],
            [
             0.1111111111111111,
             "#46039f"
            ],
            [
             0.2222222222222222,
             "#7201a8"
            ],
            [
             0.3333333333333333,
             "#9c179e"
            ],
            [
             0.4444444444444444,
             "#bd3786"
            ],
            [
             0.5555555555555556,
             "#d8576b"
            ],
            [
             0.6666666666666666,
             "#ed7953"
            ],
            [
             0.7777777777777778,
             "#fb9f3a"
            ],
            [
             0.8888888888888888,
             "#fdca26"
            ],
            [
             1,
             "#f0f921"
            ]
           ],
           "sequentialminus": [
            [
             0,
             "#0d0887"
            ],
            [
             0.1111111111111111,
             "#46039f"
            ],
            [
             0.2222222222222222,
             "#7201a8"
            ],
            [
             0.3333333333333333,
             "#9c179e"
            ],
            [
             0.4444444444444444,
             "#bd3786"
            ],
            [
             0.5555555555555556,
             "#d8576b"
            ],
            [
             0.6666666666666666,
             "#ed7953"
            ],
            [
             0.7777777777777778,
             "#fb9f3a"
            ],
            [
             0.8888888888888888,
             "#fdca26"
            ],
            [
             1,
             "#f0f921"
            ]
           ]
          },
          "colorway": [
           "#636efa",
           "#EF553B",
           "#00cc96",
           "#ab63fa",
           "#FFA15A",
           "#19d3f3",
           "#FF6692",
           "#B6E880",
           "#FF97FF",
           "#FECB52"
          ],
          "font": {
           "color": "#2a3f5f"
          },
          "geo": {
           "bgcolor": "white",
           "lakecolor": "white",
           "landcolor": "#E5ECF6",
           "showlakes": true,
           "showland": true,
           "subunitcolor": "white"
          },
          "hoverlabel": {
           "align": "left"
          },
          "hovermode": "closest",
          "mapbox": {
           "style": "light"
          },
          "paper_bgcolor": "white",
          "plot_bgcolor": "#E5ECF6",
          "polar": {
           "angularaxis": {
            "gridcolor": "white",
            "linecolor": "white",
            "ticks": ""
           },
           "bgcolor": "#E5ECF6",
           "radialaxis": {
            "gridcolor": "white",
            "linecolor": "white",
            "ticks": ""
           }
          },
          "scene": {
           "xaxis": {
            "backgroundcolor": "#E5ECF6",
            "gridcolor": "white",
            "gridwidth": 2,
            "linecolor": "white",
            "showbackground": true,
            "ticks": "",
            "zerolinecolor": "white"
           },
           "yaxis": {
            "backgroundcolor": "#E5ECF6",
            "gridcolor": "white",
            "gridwidth": 2,
            "linecolor": "white",
            "showbackground": true,
            "ticks": "",
            "zerolinecolor": "white"
           },
           "zaxis": {
            "backgroundcolor": "#E5ECF6",
            "gridcolor": "white",
            "gridwidth": 2,
            "linecolor": "white",
            "showbackground": true,
            "ticks": "",
            "zerolinecolor": "white"
           }
          },
          "shapedefaults": {
           "line": {
            "color": "#2a3f5f"
           }
          },
          "ternary": {
           "aaxis": {
            "gridcolor": "white",
            "linecolor": "white",
            "ticks": ""
           },
           "baxis": {
            "gridcolor": "white",
            "linecolor": "white",
            "ticks": ""
           },
           "bgcolor": "#E5ECF6",
           "caxis": {
            "gridcolor": "white",
            "linecolor": "white",
            "ticks": ""
           }
          },
          "title": {
           "x": 0.05
          },
          "xaxis": {
           "automargin": true,
           "gridcolor": "white",
           "linecolor": "white",
           "ticks": "",
           "title": {
            "standoff": 15
           },
           "zerolinecolor": "white",
           "zerolinewidth": 2
          },
          "yaxis": {
           "automargin": true,
           "gridcolor": "white",
           "linecolor": "white",
           "ticks": "",
           "title": {
            "standoff": 15
           },
           "zerolinecolor": "white",
           "zerolinewidth": 2
          }
         }
        }
       }
      }
     },
     "metadata": {},
     "output_type": "display_data"
    }
   ],
   "source": [
    "plotlyfig.show()"
   ]
  }
 ],
 "metadata": {
  "kernelspec": {
   "display_name": "Python 3",
   "language": "python",
   "name": "python3"
  },
  "language_info": {
   "codemirror_mode": {
    "name": "ipython",
    "version": 3
   },
   "file_extension": ".py",
   "mimetype": "text/x-python",
   "name": "python",
   "nbconvert_exporter": "python",
   "pygments_lexer": "ipython3",
   "version": "3.10.11"
  }
 },
 "nbformat": 4,
 "nbformat_minor": 2
}
